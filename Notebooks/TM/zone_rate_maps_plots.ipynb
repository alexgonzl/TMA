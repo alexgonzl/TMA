{
 "cells": [
  {
   "cell_type": "markdown",
   "id": "60e943e8-4673-4ef1-8da7-75c9f6fad742",
   "metadata": {},
   "source": [
    "# plots of individual units"
   ]
  },
  {
   "cell_type": "code",
   "execution_count": 1,
   "id": "3a04f6e4-38fb-4bfb-aaf5-7502996fcc0b",
   "metadata": {},
   "outputs": [],
   "source": [
    "%matplotlib inline\n",
    "import numpy as np\n",
    "from scipy.stats import ttest_ind, ttest_1samp\n",
    "import pandas as pd\n",
    "from importlib import reload\n",
    "from joblib import delayed, Parallel\n",
    "\n",
    "import matplotlib.pyplot as plt\n",
    "import seaborn as sns\n",
    "\n",
    "\n",
    "import TreeMazeAnalyses2,Analyses.tree_maze_functions as tmf\n",
    "import TreeMazeAnalyses2.Analyses.experiment_info as ei\n",
    "import TreeMazeAnalyses2.Analyses.plot_functions as pf\n",
    "\n",
    "import ipywidgets as widgets\n",
    "from ipywidgets import interact, fixed, interact_manual\n",
    "\n",
    "import warnings\n",
    "warnings.filterwarnings(\"ignore\", category=DeprecationWarning)\n",
    "warnings.filterwarnings(\"ignore\", category=UserWarning)"
   ]
  },
  {
   "cell_type": "code",
   "execution_count": 2,
   "id": "7679dc4b-f03d-46a6-baee-8c77cd81aa6f",
   "metadata": {},
   "outputs": [],
   "source": [
    "ei = reload(ei)\n",
    "info = ei.SummaryInfo()"
   ]
  },
  {
   "cell_type": "code",
   "execution_count": 3,
   "id": "5c5eb8d0-7b66-4777-8c77-284cc2e29b59",
   "metadata": {},
   "outputs": [],
   "source": [
    "seg_rates = info.get_bal_conds_seg_rates()\n",
    "zrc = info.get_zone_rates_remap()\n",
    "remap_measures = zrc.columns[10:]\n",
    "id_vars = ['unit_id', 'subject', 'session', 'session_unit_id', 'unit_type']\n",
    "test_vars = [metric for metric in remap_measures if (('corr' in metric) & (len(metric.split('-'))<=3))]\n",
    "null_vars = [metric for metric in remap_measures if (('Even' in metric) & ('corr' in metric) & (len(metric.split('-'))<=3)) ]\n",
    "z_vars = [metric for metric in remap_measures if (('z' in metric) & (len(metric.split('-'))>3))]"
   ]
  },
  {
   "cell_type": "code",
   "execution_count": 4,
   "id": "d9af880a-bd36-4a09-864e-9f0d212e16fb",
   "metadata": {},
   "outputs": [
    {
     "data": {
      "application/vnd.jupyter.widget-view+json": {
       "model_id": "c88924fadb994321a04735db93b3c48e",
       "version_major": 2,
       "version_minor": 0
      },
      "text/plain": [
       "interactive(children=(Dropdown(description='subject', options=('Li', 'Ne', 'Cl', 'Al', 'Ca'), value='Li'), Dro…"
      ]
     },
     "metadata": {},
     "output_type": "display_data"
    }
   ],
   "source": [
    "sw = info.select_session()"
   ]
  },
  {
   "cell_type": "code",
   "execution_count": 5,
   "id": "71a459b0-5ae3-4b4e-be4f-aeef8c11fbec",
   "metadata": {},
   "outputs": [
    {
     "name": "stdout",
     "output_type": "stream",
     "text": [
      "\n",
      "Session Information for subject Li, session Li_T3g_052818\n",
      "Number of curated units: 2\n",
      "Methods listed below can be executed with get_{method}(), eg. get_spikes():\n",
      "  -> track_data. Executed = True\n",
      "  -> spikes. Executed = True\n",
      "  -> binned_spikes. Executed = True\n",
      "  -> fr. Executed = True\n",
      "  -> pos_zones. Executed = True\n",
      "  -> event_table. Executed = True\n",
      "  -> trial_zone_rates. Executed = False\n",
      "  -> bigseg_comps. Executed = True\n",
      "  -> zone_rates_comps. Executed = True\n",
      "  -> zone_rates_remap. Executed = True\n",
      "  -> pop_zone_rates_remap. Executed = True\n",
      "  -> bal_conds_seg_rates. Executed = True\n",
      "  -> bal_conds_seg_boot_rates. Executed = nan\n",
      "  -> zone_encoder. Executed = True\n",
      "  -> zone_decoder. Executed = True\n",
      "\n",
      "To run all analyses use run_analyses().\n",
      "\n"
     ]
    }
   ],
   "source": [
    "session_info = sw.result\n",
    "print(session_info)"
   ]
  },
  {
   "cell_type": "code",
   "execution_count": 6,
   "id": "25b5f087-bf4f-4b06-a31b-e545a59d4323",
   "metadata": {},
   "outputs": [
    {
     "name": "stdout",
     "output_type": "stream",
     "text": [
      "CPU times: user 5.7 s, sys: 137 ms, total: 5.84 s\n",
      "Wall time: 1.88 s\n"
     ]
    }
   ],
   "source": [
    "%%time\n",
    "tmf = reload(tmf)\n",
    "ta = tmf.TrialAnalyses(session_info)\n",
    "tree_maze = tmf.TreeMazeZones()"
   ]
  },
  {
   "cell_type": "code",
   "execution_count": 7,
   "id": "5241f408-8328-4225-a054-cf0fe65722f6",
   "metadata": {},
   "outputs": [
    {
     "data": {
      "text/html": [
       "<div>\n",
       "<style scoped>\n",
       "    .dataframe tbody tr th:only-of-type {\n",
       "        vertical-align: middle;\n",
       "    }\n",
       "\n",
       "    .dataframe tbody tr th {\n",
       "        vertical-align: top;\n",
       "    }\n",
       "\n",
       "    .dataframe thead th {\n",
       "        text-align: right;\n",
       "    }\n",
       "</style>\n",
       "<table border=\"1\" class=\"dataframe\">\n",
       "  <thead>\n",
       "    <tr style=\"text-align: right;\">\n",
       "      <th></th>\n",
       "      <th>t0</th>\n",
       "      <th>tD</th>\n",
       "      <th>tE</th>\n",
       "      <th>tE_1</th>\n",
       "      <th>tE_2</th>\n",
       "      <th>tR</th>\n",
       "      <th>dur</th>\n",
       "      <th>cue</th>\n",
       "      <th>dec</th>\n",
       "      <th>correct</th>\n",
       "      <th>long</th>\n",
       "      <th>goal</th>\n",
       "      <th>grw</th>\n",
       "      <th>sw</th>\n",
       "      <th>vsw</th>\n",
       "    </tr>\n",
       "  </thead>\n",
       "  <tbody>\n",
       "    <tr>\n",
       "      <th>0</th>\n",
       "      <td>439</td>\n",
       "      <td>1157</td>\n",
       "      <td>1360</td>\n",
       "      <td>1360</td>\n",
       "      <td>1490</td>\n",
       "      <td>1929</td>\n",
       "      <td>921</td>\n",
       "      <td>R</td>\n",
       "      <td>L</td>\n",
       "      <td>0.0</td>\n",
       "      <td>NaN</td>\n",
       "      <td>NaN</td>\n",
       "      <td>0</td>\n",
       "      <td>0</td>\n",
       "      <td>0</td>\n",
       "    </tr>\n",
       "    <tr>\n",
       "      <th>1</th>\n",
       "      <td>1935</td>\n",
       "      <td>2638</td>\n",
       "      <td>3014</td>\n",
       "      <td>3014</td>\n",
       "      <td>3610</td>\n",
       "      <td>3807</td>\n",
       "      <td>1079</td>\n",
       "      <td>R</td>\n",
       "      <td>R</td>\n",
       "      <td>1.0</td>\n",
       "      <td>0.0</td>\n",
       "      <td>1.0</td>\n",
       "      <td>1</td>\n",
       "      <td>0</td>\n",
       "      <td>0</td>\n",
       "    </tr>\n",
       "    <tr>\n",
       "      <th>2</th>\n",
       "      <td>3813</td>\n",
       "      <td>4089</td>\n",
       "      <td>4438</td>\n",
       "      <td>4438</td>\n",
       "      <td>4554</td>\n",
       "      <td>5288</td>\n",
       "      <td>624</td>\n",
       "      <td>R</td>\n",
       "      <td>L</td>\n",
       "      <td>0.0</td>\n",
       "      <td>NaN</td>\n",
       "      <td>NaN</td>\n",
       "      <td>0</td>\n",
       "      <td>0</td>\n",
       "      <td>0</td>\n",
       "    </tr>\n",
       "    <tr>\n",
       "      <th>3</th>\n",
       "      <td>5294</td>\n",
       "      <td>5818</td>\n",
       "      <td>6077</td>\n",
       "      <td>6077</td>\n",
       "      <td>6609</td>\n",
       "      <td>7335</td>\n",
       "      <td>783</td>\n",
       "      <td>R</td>\n",
       "      <td>L</td>\n",
       "      <td>0.0</td>\n",
       "      <td>NaN</td>\n",
       "      <td>NaN</td>\n",
       "      <td>0</td>\n",
       "      <td>0</td>\n",
       "      <td>0</td>\n",
       "    </tr>\n",
       "    <tr>\n",
       "      <th>4</th>\n",
       "      <td>7342</td>\n",
       "      <td>7551</td>\n",
       "      <td>8050</td>\n",
       "      <td>7897</td>\n",
       "      <td>8050</td>\n",
       "      <td>8426</td>\n",
       "      <td>708</td>\n",
       "      <td>L</td>\n",
       "      <td>L</td>\n",
       "      <td>1.0</td>\n",
       "      <td>1.0</td>\n",
       "      <td>4.0</td>\n",
       "      <td>1</td>\n",
       "      <td>1</td>\n",
       "      <td>0</td>\n",
       "    </tr>\n",
       "    <tr>\n",
       "      <th>...</th>\n",
       "      <td>...</td>\n",
       "      <td>...</td>\n",
       "      <td>...</td>\n",
       "      <td>...</td>\n",
       "      <td>...</td>\n",
       "      <td>...</td>\n",
       "      <td>...</td>\n",
       "      <td>...</td>\n",
       "      <td>...</td>\n",
       "      <td>...</td>\n",
       "      <td>...</td>\n",
       "      <td>...</td>\n",
       "      <td>...</td>\n",
       "      <td>...</td>\n",
       "      <td>...</td>\n",
       "    </tr>\n",
       "    <tr>\n",
       "      <th>56</th>\n",
       "      <td>57296</td>\n",
       "      <td>57510</td>\n",
       "      <td>58091</td>\n",
       "      <td>57754</td>\n",
       "      <td>58091</td>\n",
       "      <td>58521</td>\n",
       "      <td>795</td>\n",
       "      <td>L</td>\n",
       "      <td>L</td>\n",
       "      <td>1.0</td>\n",
       "      <td>1.0</td>\n",
       "      <td>3.0</td>\n",
       "      <td>1</td>\n",
       "      <td>0</td>\n",
       "      <td>0</td>\n",
       "    </tr>\n",
       "    <tr>\n",
       "      <th>57</th>\n",
       "      <td>58528</td>\n",
       "      <td>58772</td>\n",
       "      <td>59139</td>\n",
       "      <td>58960</td>\n",
       "      <td>59139</td>\n",
       "      <td>59497</td>\n",
       "      <td>611</td>\n",
       "      <td>R</td>\n",
       "      <td>R</td>\n",
       "      <td>1.0</td>\n",
       "      <td>1.0</td>\n",
       "      <td>1.0</td>\n",
       "      <td>1</td>\n",
       "      <td>1</td>\n",
       "      <td>1</td>\n",
       "    </tr>\n",
       "    <tr>\n",
       "      <th>58</th>\n",
       "      <td>59504</td>\n",
       "      <td>64470</td>\n",
       "      <td>64758</td>\n",
       "      <td>64758</td>\n",
       "      <td>64758</td>\n",
       "      <td>65571</td>\n",
       "      <td>5253</td>\n",
       "      <td>L</td>\n",
       "      <td>R</td>\n",
       "      <td>0.0</td>\n",
       "      <td>NaN</td>\n",
       "      <td>NaN</td>\n",
       "      <td>0</td>\n",
       "      <td>1</td>\n",
       "      <td>1</td>\n",
       "    </tr>\n",
       "    <tr>\n",
       "      <th>59</th>\n",
       "      <td>65578</td>\n",
       "      <td>66115</td>\n",
       "      <td>66381</td>\n",
       "      <td>66381</td>\n",
       "      <td>67403</td>\n",
       "      <td>67618</td>\n",
       "      <td>803</td>\n",
       "      <td>L</td>\n",
       "      <td>L</td>\n",
       "      <td>1.0</td>\n",
       "      <td>0.0</td>\n",
       "      <td>3.0</td>\n",
       "      <td>1</td>\n",
       "      <td>0</td>\n",
       "      <td>0</td>\n",
       "    </tr>\n",
       "    <tr>\n",
       "      <th>60</th>\n",
       "      <td>67624</td>\n",
       "      <td>67876</td>\n",
       "      <td>76234</td>\n",
       "      <td>76234</td>\n",
       "      <td>76234</td>\n",
       "      <td>76234</td>\n",
       "      <td>8609</td>\n",
       "      <td>R</td>\n",
       "      <td>R</td>\n",
       "      <td>NaN</td>\n",
       "      <td>1.0</td>\n",
       "      <td>NaN</td>\n",
       "      <td>0</td>\n",
       "      <td>1</td>\n",
       "      <td>1</td>\n",
       "    </tr>\n",
       "  </tbody>\n",
       "</table>\n",
       "<p>61 rows × 15 columns</p>\n",
       "</div>"
      ],
      "text/plain": [
       "       t0     tD     tE   tE_1   tE_2     tR   dur cue dec  correct  long  \\\n",
       "0     439   1157   1360   1360   1490   1929   921   R   L      0.0   NaN   \n",
       "1    1935   2638   3014   3014   3610   3807  1079   R   R      1.0   0.0   \n",
       "2    3813   4089   4438   4438   4554   5288   624   R   L      0.0   NaN   \n",
       "3    5294   5818   6077   6077   6609   7335   783   R   L      0.0   NaN   \n",
       "4    7342   7551   8050   7897   8050   8426   708   L   L      1.0   1.0   \n",
       "..    ...    ...    ...    ...    ...    ...   ...  ..  ..      ...   ...   \n",
       "56  57296  57510  58091  57754  58091  58521   795   L   L      1.0   1.0   \n",
       "57  58528  58772  59139  58960  59139  59497   611   R   R      1.0   1.0   \n",
       "58  59504  64470  64758  64758  64758  65571  5253   L   R      0.0   NaN   \n",
       "59  65578  66115  66381  66381  67403  67618   803   L   L      1.0   0.0   \n",
       "60  67624  67876  76234  76234  76234  76234  8609   R   R      NaN   1.0   \n",
       "\n",
       "    goal  grw  sw  vsw  \n",
       "0    NaN    0   0    0  \n",
       "1    1.0    1   0    0  \n",
       "2    NaN    0   0    0  \n",
       "3    NaN    0   0    0  \n",
       "4    4.0    1   1    0  \n",
       "..   ...  ...  ..  ...  \n",
       "56   3.0    1   0    0  \n",
       "57   1.0    1   1    1  \n",
       "58   NaN    0   1    1  \n",
       "59   3.0    1   0    0  \n",
       "60   NaN    0   1    1  \n",
       "\n",
       "[61 rows x 15 columns]"
      ]
     },
     "execution_count": 7,
     "metadata": {},
     "output_type": "execute_result"
    }
   ],
   "source": [
    "ta.trial_table"
   ]
  },
  {
   "cell_type": "markdown",
   "id": "e19b102b-4c0f-4c0e-9202-6b00ad99ceb2",
   "metadata": {},
   "source": [
    "## Load session specific quantities"
   ]
  },
  {
   "cell_type": "code",
   "execution_count": 8,
   "id": "cacf9459-3a20-4424-ae05-d02ee4725c6c",
   "metadata": {
    "tags": []
   },
   "outputs": [
    {
     "ename": "NameError",
     "evalue": "name 'session' is not defined",
     "output_type": "error",
     "traceback": [
      "\u001b[0;31m---------------------------------------------------------------------------\u001b[0m",
      "\u001b[0;31mNameError\u001b[0m                                 Traceback (most recent call last)",
      "Input \u001b[0;32mIn [8]\u001b[0m, in \u001b[0;36m<cell line: 1>\u001b[0;34m()\u001b[0m\n\u001b[0;32m----> 1\u001b[0m zrc[zrc\u001b[38;5;241m.\u001b[39msession\u001b[38;5;241m==\u001b[39m\u001b[43msession\u001b[49m]\u001b[38;5;241m.\u001b[39msort_values(z_vars[\u001b[38;5;241m0\u001b[39m]) [ id_vars \u001b[38;5;241m+\u001b[39m [z_vars[\u001b[38;5;241m0\u001b[39m]]]\n",
      "\u001b[0;31mNameError\u001b[0m: name 'session' is not defined"
     ]
    }
   ],
   "source": [
    "zrc[zrc.session==session].sort_values(z_vars[0]) [ id_vars + [z_vars[0]]] "
   ]
  },
  {
   "cell_type": "code",
   "execution_count": 9,
   "id": "7ead7060-bcc3-45bf-b73f-474fecc84afe",
   "metadata": {},
   "outputs": [],
   "source": [
    "zone_rates = ta.get_avg_trial_zone_rates()\n",
    "fr_maps_trials = ta.get_trial_rate_maps(occ_rate_mask=True)\n",
    "bal_cond_bigseg_rates = session_info.get_bal_conds_seg_rates()"
   ]
  },
  {
   "cell_type": "code",
   "execution_count": 10,
   "id": "eafcc815-df2c-4395-8d37-4f5ba1c041f2",
   "metadata": {},
   "outputs": [
    {
     "data": {
      "text/html": [
       "<div>\n",
       "<style scoped>\n",
       "    .dataframe tbody tr th:only-of-type {\n",
       "        vertical-align: middle;\n",
       "    }\n",
       "\n",
       "    .dataframe tbody tr th {\n",
       "        vertical-align: top;\n",
       "    }\n",
       "\n",
       "    .dataframe thead th {\n",
       "        text-align: right;\n",
       "    }\n",
       "</style>\n",
       "<table border=\"1\" class=\"dataframe\">\n",
       "  <thead>\n",
       "    <tr style=\"text-align: right;\">\n",
       "      <th></th>\n",
       "      <th>CR_bo-left-m</th>\n",
       "      <th>CR_bo-left-n</th>\n",
       "      <th>CL_bo-left-m</th>\n",
       "      <th>CL_bo-left-n</th>\n",
       "      <th>Co_bo-left-m</th>\n",
       "      <th>Co_bo-left-n</th>\n",
       "      <th>Inco_bo-left-m</th>\n",
       "      <th>Inco_bo-left-n</th>\n",
       "      <th>Co_bi-left-m</th>\n",
       "      <th>Co_bi-left-n</th>\n",
       "      <th>...</th>\n",
       "      <th>CR_bo-CL_bo-right-t</th>\n",
       "      <th>CR_bo-CL_bo-right-p</th>\n",
       "      <th>Co_bo-Inco_bo-right-t</th>\n",
       "      <th>Co_bo-Inco_bo-right-p</th>\n",
       "      <th>Co_bi-Inco_bi-right-t</th>\n",
       "      <th>Co_bi-Inco_bi-right-p</th>\n",
       "      <th>Even_bo-Odd_bo-right-t</th>\n",
       "      <th>Even_bo-Odd_bo-right-p</th>\n",
       "      <th>Even_bi-Odd_bi-right-t</th>\n",
       "      <th>Even_bi-Odd_bi-right-p</th>\n",
       "    </tr>\n",
       "  </thead>\n",
       "  <tbody>\n",
       "    <tr>\n",
       "      <th>0</th>\n",
       "      <td>1.557546</td>\n",
       "      <td>15.2</td>\n",
       "      <td>1.737068</td>\n",
       "      <td>13.0</td>\n",
       "      <td>1.731303</td>\n",
       "      <td>21.0</td>\n",
       "      <td>1.571547</td>\n",
       "      <td>7.99</td>\n",
       "      <td>3.178401</td>\n",
       "      <td>21.0</td>\n",
       "      <td>...</td>\n",
       "      <td>-0.074674</td>\n",
       "      <td>0.484361</td>\n",
       "      <td>-0.055014</td>\n",
       "      <td>0.989928</td>\n",
       "      <td>1.994807</td>\n",
       "      <td>0.0</td>\n",
       "      <td>-1.974652</td>\n",
       "      <td>0.000000</td>\n",
       "      <td>0.589448</td>\n",
       "      <td>2.161290e-01</td>\n",
       "    </tr>\n",
       "    <tr>\n",
       "      <th>1</th>\n",
       "      <td>1.544121</td>\n",
       "      <td>15.2</td>\n",
       "      <td>1.723232</td>\n",
       "      <td>13.0</td>\n",
       "      <td>1.726945</td>\n",
       "      <td>21.0</td>\n",
       "      <td>1.548450</td>\n",
       "      <td>7.99</td>\n",
       "      <td>3.044099</td>\n",
       "      <td>21.0</td>\n",
       "      <td>...</td>\n",
       "      <td>-0.627631</td>\n",
       "      <td>0.022049</td>\n",
       "      <td>-0.576331</td>\n",
       "      <td>0.585474</td>\n",
       "      <td>1.971708</td>\n",
       "      <td>0.0</td>\n",
       "      <td>-0.953063</td>\n",
       "      <td>0.000007</td>\n",
       "      <td>-1.194884</td>\n",
       "      <td>1.938127e-10</td>\n",
       "    </tr>\n",
       "  </tbody>\n",
       "</table>\n",
       "<p>2 rows × 90 columns</p>\n",
       "</div>"
      ],
      "text/plain": [
       "   CR_bo-left-m  CR_bo-left-n  CL_bo-left-m  CL_bo-left-n  Co_bo-left-m  \\\n",
       "0      1.557546          15.2      1.737068          13.0      1.731303   \n",
       "1      1.544121          15.2      1.723232          13.0      1.726945   \n",
       "\n",
       "   Co_bo-left-n  Inco_bo-left-m  Inco_bo-left-n  Co_bi-left-m  Co_bi-left-n  \\\n",
       "0          21.0        1.571547            7.99      3.178401          21.0   \n",
       "1          21.0        1.548450            7.99      3.044099          21.0   \n",
       "\n",
       "   ...  CR_bo-CL_bo-right-t  CR_bo-CL_bo-right-p  Co_bo-Inco_bo-right-t  \\\n",
       "0  ...            -0.074674             0.484361              -0.055014   \n",
       "1  ...            -0.627631             0.022049              -0.576331   \n",
       "\n",
       "   Co_bo-Inco_bo-right-p  Co_bi-Inco_bi-right-t  Co_bi-Inco_bi-right-p  \\\n",
       "0               0.989928               1.994807                    0.0   \n",
       "1               0.585474               1.971708                    0.0   \n",
       "\n",
       "   Even_bo-Odd_bo-right-t  Even_bo-Odd_bo-right-p  Even_bi-Odd_bi-right-t  \\\n",
       "0               -1.974652                0.000000                0.589448   \n",
       "1               -0.953063                0.000007               -1.194884   \n",
       "\n",
       "   Even_bi-Odd_bi-right-p  \n",
       "0            2.161290e-01  \n",
       "1            1.938127e-10  \n",
       "\n",
       "[2 rows x 90 columns]"
      ]
     },
     "execution_count": 10,
     "metadata": {},
     "output_type": "execute_result"
    }
   ],
   "source": [
    "bal_cond_bigseg_rates.head()"
   ]
  },
  {
   "cell_type": "markdown",
   "id": "e4c6abbe-c22f-4f6d-8ce9-306f93b5e7bb",
   "metadata": {
    "tags": []
   },
   "source": [
    "### bootstrap quantitites"
   ]
  },
  {
   "cell_type": "code",
   "execution_count": 10,
   "id": "d012a3a5-c06e-43bb-aafc-19e9d17ac623",
   "metadata": {},
   "outputs": [
    {
     "name": "stdout",
     "output_type": "stream",
     "text": [
      "CPU times: user 35.2 s, sys: 0 ns, total: 35.2 s\n",
      "Wall time: 46.2 s\n"
     ]
    }
   ],
   "source": [
    "%%time\n",
    "boot_subseg_rates = ta.get_avg_seg_rates_boot(segment_type='subseg', n_boot=50)\n",
    "boot_bigseg_rates = ta.get_avg_seg_rates_boot(segment_type='bigseg', n_boot=50)"
   ]
  },
  {
   "cell_type": "code",
   "execution_count": 11,
   "id": "04bd97f4-8219-43e1-b15d-59f1a7102d74",
   "metadata": {
    "tags": []
   },
   "outputs": [
    {
     "data": {
      "text/html": [
       "<div>\n",
       "<style scoped>\n",
       "    .dataframe tbody tr th:only-of-type {\n",
       "        vertical-align: middle;\n",
       "    }\n",
       "\n",
       "    .dataframe tbody tr th {\n",
       "        vertical-align: top;\n",
       "    }\n",
       "\n",
       "    .dataframe thead th {\n",
       "        text-align: right;\n",
       "    }\n",
       "</style>\n",
       "<table border=\"1\" class=\"dataframe\">\n",
       "  <thead>\n",
       "    <tr style=\"text-align: right;\">\n",
       "      <th></th>\n",
       "      <th>boot</th>\n",
       "      <th>cond</th>\n",
       "      <th>unit</th>\n",
       "      <th>seg</th>\n",
       "      <th>m</th>\n",
       "    </tr>\n",
       "  </thead>\n",
       "  <tbody>\n",
       "    <tr>\n",
       "      <th>0</th>\n",
       "      <td>0</td>\n",
       "      <td>CR_bo</td>\n",
       "      <td>0</td>\n",
       "      <td>left</td>\n",
       "      <td>3.637282</td>\n",
       "    </tr>\n",
       "    <tr>\n",
       "      <th>1</th>\n",
       "      <td>0</td>\n",
       "      <td>CR_bo</td>\n",
       "      <td>1</td>\n",
       "      <td>left</td>\n",
       "      <td>6.873106</td>\n",
       "    </tr>\n",
       "    <tr>\n",
       "      <th>2</th>\n",
       "      <td>0</td>\n",
       "      <td>CR_bo</td>\n",
       "      <td>2</td>\n",
       "      <td>left</td>\n",
       "      <td>2.197301</td>\n",
       "    </tr>\n",
       "    <tr>\n",
       "      <th>3</th>\n",
       "      <td>0</td>\n",
       "      <td>CR_bo</td>\n",
       "      <td>3</td>\n",
       "      <td>left</td>\n",
       "      <td>5.273711</td>\n",
       "    </tr>\n",
       "    <tr>\n",
       "      <th>4</th>\n",
       "      <td>0</td>\n",
       "      <td>CR_bo</td>\n",
       "      <td>4</td>\n",
       "      <td>left</td>\n",
       "      <td>5.993457</td>\n",
       "    </tr>\n",
       "  </tbody>\n",
       "</table>\n",
       "</div>"
      ],
      "text/plain": [
       "  boot   cond unit   seg         m\n",
       "0    0  CR_bo    0  left  3.637282\n",
       "1    0  CR_bo    1  left  6.873106\n",
       "2    0  CR_bo    2  left  2.197301\n",
       "3    0  CR_bo    3  left  5.273711\n",
       "4    0  CR_bo    4  left  5.993457"
      ]
     },
     "execution_count": 11,
     "metadata": {},
     "output_type": "execute_result"
    }
   ],
   "source": [
    "boot_bigseg_rates.head()"
   ]
  },
  {
   "cell_type": "code",
   "execution_count": 12,
   "id": "2582013a-f61c-4e6c-b6bb-45e38ae4d486",
   "metadata": {},
   "outputs": [
    {
     "name": "stdout",
     "output_type": "stream",
     "text": [
      "CPU times: user 16.9 s, sys: 0 ns, total: 16.9 s\n",
      "Wall time: 36.5 s\n"
     ]
    }
   ],
   "source": [
    "%%time\n",
    "cond_pairs = ta.bal_cond_pairs\n",
    "with Parallel(n_jobs=5) as parallel:\n",
    "    boot_corrs = {}\n",
    "    for cond_pair in cond_pairs:\n",
    "        boot_corrs[cond_pair] = ta.zone_rate_maps_bal_conds_boot_corr(bal_cond_pair=cond_pair, parallel=parallel)"
   ]
  },
  {
   "cell_type": "markdown",
   "id": "2b138e89-9db7-4dc5-b19d-7698541f04cf",
   "metadata": {},
   "source": [
    "## plot all trials"
   ]
  },
  {
   "cell_type": "code",
   "execution_count": 22,
   "id": "60db70b6-922f-4ab7-ae69-a85d0addf24d",
   "metadata": {},
   "outputs": [],
   "source": [
    "def plot_trial_track_spikes(trial_analyses, unit=0, ax=None):\n",
    "    \n",
    "    lw = 0.1 # line width\n",
    "    la = 0.3 # line alpha\n",
    "    lc = '0.5' # line color\n",
    "    \n",
    "    ss = 1 # scatter scale\n",
    "    sc = 'r' # scatter color \n",
    "    sa = 0.1 # scatter alpha\n",
    "    \n",
    "    if ax is None:\n",
    "        f,ax = plt.subplots()\n",
    "    else:\n",
    "        f = ax.figure\n",
    "        \n",
    "    x,y, _ = trial_analyses.get_trial_track_pos()\n",
    "    invalid_samps = ta.pz_invalid_samps\n",
    "    spk = trial_analyses.get_trial_neural_data(data_type='spikes')\n",
    "    \n",
    "    for tr in range(trial_analyses.n_trials):\n",
    "        ax.plot(x[tr], y[tr], linewidth=lw, alpha=la, color=lc, zorder=-1)\n",
    "        ax.scatter(x[tr], y[tr], s=spk[unit,tr]*ss, color=sc, alpha=sa, linewidth=0)\n",
    "\n",
    "    ax.axis(\"square\")\n",
    "    ax.axis(\"off\")\n",
    "    ax.set_ylim(trial_analyses.y_edges[0], trial_analyses.y_edges[-1])\n",
    "    ax.set_xlim(trial_analyses.x_edges[0], trial_analyses.x_edges[-1])\n",
    "    \n",
    "    return ax\n",
    "\n",
    "def plot_trial_rate_map(trial_analyses, unit=0, ax=None):\n",
    "    cmap = 'viridis'\n",
    "    \n",
    "    if ax is None:\n",
    "        f,ax = plt.subplots()\n",
    "    else:\n",
    "        f = ax.figure    \n",
    "    \n",
    "    ax = sns.heatmap(fr_maps_trials[unit], cbar=False, square=True, cmap=cmap, ax=ax)\n",
    "    ax.invert_yaxis()\n",
    "    ax.axis(\"off\")\n",
    "    \n",
    "    data = fr_maps_trials[unit].flatten()\n",
    "    data_colors, color_array = pf.get_colors_from_data(data, cmap=cmap)\n",
    "    \n",
    "    ax_p = ax.get_position()\n",
    "    w, h = ax_p.width, ax_p.height\n",
    "    x0,y0 = ax_p.x0, ax_p.y0\n",
    "\n",
    "    cax_p = [x0+w*0.85, y0+h*0.05, w*0.05, h*0.15]\n",
    "    cax = f.add_axes(cax_p)\n",
    "\n",
    "    pf.get_color_bar_axis(cax, color_array, color_map=cmap, label='FR')\n",
    "\n",
    "    return ax\n",
    "\n",
    "def plot_zone_rates(zone_rates, ax=None, min_value=0, max_value=None, label='FR', color_map='viridis', div=False):\n",
    "    if ax is None:\n",
    "        f,ax = plt.subplots()\n",
    "    else:\n",
    "        f = ax.figure\n",
    "    \n",
    "    tree_maze.plot_zone_activity(zone_rates,  ax=ax, min_value=min_value, max_value=max_value, color_map=color_map, label=label)"
   ]
  },
  {
   "cell_type": "code",
   "execution_count": 28,
   "id": "d0cfb0f9-c99c-4ae3-99b1-d452f5ff0c07",
   "metadata": {},
   "outputs": [
    {
     "data": {
      "application/vnd.jupyter.widget-view+json": {
       "model_id": "5711e58444d34b568d0d58e36bcb445b",
       "version_major": 2,
       "version_minor": 0
      },
      "text/plain": [
       "interactive(children=(Dropdown(description='unit', options=(0, 1, 2, 3, 4, 5, 6, 7, 8, 9, 10), value=0), Outpu…"
      ]
     },
     "metadata": {},
     "output_type": "display_data"
    },
    {
     "data": {
      "application/vnd.jupyter.widget-view+json": {
       "model_id": "e83f12e1b2eb4906bd09856a2e90043b",
       "version_major": 2,
       "version_minor": 0
      },
      "text/plain": [
       "Button(description='Save Figure', style=ButtonStyle())"
      ]
     },
     "metadata": {},
     "output_type": "display_data"
    }
   ],
   "source": [
    "unit_widget = widgets.IntSlider(value=0, max=ta.n_units-1)\n",
    "save_button = widgets.Button(description='Save Figure')\n",
    "\n",
    "def plot_maps(unit=np.arange(ta.n_units)):\n",
    "    f,ax = plt.subplots(1,3,figsize=(6,2),dpi=400)\n",
    "    plot_trial_track_spikes(ta, unit=unit, ax=ax[0])\n",
    "    plot_trial_rate_map(ta,unit=unit, ax=ax[1])\n",
    "    plot_zone_rates(zone_rates.loc[unit], ax=ax[2], color_map = 'YlOrRd')\n",
    "    return f\n",
    "\n",
    "def savefig(*args):\n",
    "    f = f1.result\n",
    "    p = info.paths['figures']\n",
    "    figname = f\"all-trials-{session_info.session}-{f1.children[0].value}.png\"   \n",
    "    f.savefig(p/figname, dpi=500, bbox_inches='tight')\n",
    "    \n",
    "f1 = widgets.interactive(plot_maps, {'unit': unit_widget})\n",
    "save_button.on_click(savefig)\n",
    "display(f1, save_button)"
   ]
  },
  {
   "cell_type": "code",
   "execution_count": null,
   "id": "b43c5b1b-4e3e-4f3b-8172-fbef8211cd07",
   "metadata": {},
   "outputs": [],
   "source": []
  },
  {
   "cell_type": "markdown",
   "id": "f23035bf-8be0-4f68-ad1a-ec8d00a07384",
   "metadata": {},
   "source": [
    "## plot segment rates bootstraps"
   ]
  },
  {
   "cell_type": "code",
   "execution_count": 163,
   "id": "b470b3b6-d404-42ae-8d9f-86714724c57c",
   "metadata": {},
   "outputs": [],
   "source": [
    "dfm = boot_subseg_rates.groupby(['cond', 'unit', 'seg']).median()\n",
    "dfm = dfm.reset_index()"
   ]
  },
  {
   "cell_type": "code",
   "execution_count": 164,
   "id": "2ac4cca2-b680-4d94-99e8-e07dcc9d8c89",
   "metadata": {
    "tags": []
   },
   "outputs": [
    {
     "data": {
      "application/vnd.jupyter.widget-view+json": {
       "model_id": "fea5ef1b3aed45bc833b50399ae915ec",
       "version_major": 2,
       "version_minor": 0
      },
      "text/plain": [
       "interactive(children=(Dropdown(description='unit', options=(0, 1, 2, 3, 4, 5, 6, 7, 8, 9, 10, 11, 12, 13, 14, …"
      ]
     },
     "metadata": {},
     "output_type": "display_data"
    },
    {
     "data": {
      "application/vnd.jupyter.widget-view+json": {
       "model_id": "a1578a17d1e5463388f62736d5450d4e",
       "version_major": 2,
       "version_minor": 0
      },
      "text/plain": [
       "Button(description='Save Figure', style=ButtonStyle())"
      ]
     },
     "metadata": {},
     "output_type": "display_data"
    }
   ],
   "source": [
    "def savefig(*args):\n",
    "    f = f2.result\n",
    "    p = info.paths['figures']\n",
    "    figname = f\"zone_rates-{session_info.session}-{f2.children[0].value}-{f2.children[1].value}.png\"   \n",
    "    f.savefig(p/figname, dpi=500, bbox_inches='tight')\n",
    "    \n",
    "def plot_zr_conds(unit=np.arange(ta.n_units), cond_pair=cond_pairs):\n",
    "    \n",
    "    conds = cond_pair.split('-')\n",
    "    if cond_pair == 'CR_bo-CL_bo':\n",
    "        conds = conds[::-1]\n",
    "        \n",
    "    f,ax = plt.subplots(1,2,figsize=(4,2),dpi=400)\n",
    "   \n",
    "    max_val = dfm[(dfm.cond.isin(conds)) & (dfm.unit==unit)].m.max()\n",
    "    \n",
    "    for ii, cond in enumerate(conds):\n",
    "        zr = dfm[(dfm.cond==cond) & (dfm.unit==unit)][['m','seg']]\n",
    "        zr = zr.pivot_table(columns='seg', aggfunc= lambda x: x)\n",
    "        zr = zr.reset_index().drop('index', axis=1)\n",
    "        \n",
    "        plot_zone_rates(zr.loc[0], ax=ax[ii], max_value=max_val)\n",
    "        \n",
    "        ax[ii].set_title(cond.split('_')[0])\n",
    "    return f\n",
    "\n",
    "cond_pairs_widget = widgets.Dropdown(options=cond_pairs)\n",
    "\n",
    "f2 = widgets.interactive(plot_zr_conds, {'unit': unit_widget,'cond_pair':cond_pairs_widget })\n",
    "save_button.on_click(savefig)\n",
    "display(f2, save_button)\n"
   ]
  },
  {
   "cell_type": "code",
   "execution_count": 89,
   "id": "4637f6f6-b8fa-41f8-92bf-352fb263b4db",
   "metadata": {},
   "outputs": [
    {
     "data": {
      "text/plain": [
       "['CL_bo', 'CR_bo']"
      ]
     },
     "execution_count": 89,
     "metadata": {},
     "output_type": "execute_result"
    }
   ],
   "source": [
    "cond_pairs[0].split('-')[::-1]"
   ]
  },
  {
   "cell_type": "code",
   "execution_count": 145,
   "id": "b91e352a-de4b-4396-951f-185ba9306285",
   "metadata": {},
   "outputs": [
    {
     "data": {
      "application/vnd.jupyter.widget-view+json": {
       "model_id": "e8e8655549754ab49512ea232a7f6ade",
       "version_major": 2,
       "version_minor": 0
      },
      "text/plain": [
       "interactive(children=(Dropdown(description='unit', options=(0, 1, 2, 3, 4, 5, 6, 7, 8, 9, 10, 11, 12, 13, 14, …"
      ]
     },
     "metadata": {},
     "output_type": "display_data"
    },
    {
     "data": {
      "application/vnd.jupyter.widget-view+json": {
       "model_id": "12142ab987d644bf9564e80667840aa5",
       "version_major": 2,
       "version_minor": 0
      },
      "text/plain": [
       "Button(description='Save Figure', style=ButtonStyle())"
      ]
     },
     "metadata": {},
     "output_type": "display_data"
    }
   ],
   "source": [
    "def savefig(*args):\n",
    "    f = f3.result\n",
    "    p = info.paths['figures']\n",
    "    figname = f\"boot_corrs-{session_info.session}-{f3.children[0].value}-{f3.children[1].value}.png\"   \n",
    "    f.savefig(p/figname, dpi=500, bbox_inches='tight')\n",
    "    \n",
    "def plot_boot_corrs(unit=np.arange(ta.n_units), cond_pair=cond_pairs,):\n",
    "    \n",
    "    null_pair = ta.test_null_bal_cond_pairs[cond_pair]\n",
    "\n",
    "    test_boots = boot_corrs[cond_pair].loc[unit]\n",
    "    null_boots = boot_corrs[null_pair].loc[unit]\n",
    "    \n",
    "    f, ax = plt.subplots(figsize=(1,1),dpi=400)\n",
    "    sns.kdeplot(data=test_boots, fill=False, color='r', linewidth=2, ax=ax, label=cond_pair)\n",
    "    sns.kdeplot(data=null_boots, fill=False, color='0.5', linewidth=2, ax=ax, label=null_pair)\n",
    "    ax.set_xlim([-0.2,1])\n",
    "    ax.set_xlabel(r\"$\\tau$\")\n",
    "   # ax.legend(handlelength = 0.25, handletextpad=0.5, bbox_to_anchor=[-0,0], loc='lower left', frameon=False, fontsize=7)\n",
    "    \n",
    "    return f\n",
    "\n",
    "cond_pairs_widget = widgets.Dropdown(options=cond_pairs)\n",
    "\n",
    "f3 = widgets.interactive(plot_boot_corrs, {'unit': unit_widget,'cond_pair':cond_pairs_widget })\n",
    "save_button.on_click(savefig)\n",
    "display(f3, save_button)\n"
   ]
  },
  {
   "cell_type": "code",
   "execution_count": 281,
   "id": "96c76ead-2964-4801-bc1d-4c297d45ba59",
   "metadata": {},
   "outputs": [
    {
     "data": {
      "text/plain": [
       "array([-2.33932016, -3.90215603, -4.68906125, -4.44077086])"
      ]
     },
     "execution_count": 281,
     "metadata": {},
     "output_type": "execute_result"
    }
   ],
   "source": [
    "zrc[ (zrc.session_unit_id.isin([3,5,19,27])) & (zrc.session==session_info.session) ][z_vars[0]].values"
   ]
  },
  {
   "cell_type": "code",
   "execution_count": 247,
   "id": "a4bb52c1-09f1-4556-9513-27dd94108494",
   "metadata": {},
   "outputs": [],
   "source": [
    "\n",
    "cond_pair = cond_pairs[0]\n",
    "null_pair = ta.test_null_bal_cond_pairs[cond_pair]\n",
    "\n",
    "test_boots = boot_corrs[cond_pair].loc[unit]\n",
    "null_boots = boot_corrs[null_pair].loc[unit]\n",
    "\n",
    "boot_df = pd.DataFrame( np.array ((test_boots, null_boots)).T, columns=[cond_pair, null_pair] )\n",
    "boot_df = boot_df.melt(var_name='cond_pair', value_name='corr')\n"
   ]
  },
  {
   "cell_type": "code",
   "execution_count": 234,
   "id": "fd7c4679-6791-423e-ba94-3e797763c5df",
   "metadata": {},
   "outputs": [
    {
     "data": {
      "text/plain": [
       "0     0.627530\n",
       "1     0.619433\n",
       "2     0.676113\n",
       "3     0.608637\n",
       "4     0.543860\n",
       "        ...   \n",
       "95    0.627530\n",
       "96    0.646424\n",
       "97    0.570850\n",
       "98    0.665317\n",
       "99    0.662618\n",
       "Name: 0, Length: 100, dtype: float64"
      ]
     },
     "execution_count": 234,
     "metadata": {},
     "output_type": "execute_result"
    }
   ],
   "source": [
    "test_boots"
   ]
  },
  {
   "cell_type": "code",
   "execution_count": 282,
   "id": "9c2e6311-fc9d-49bd-b474-2e2d5ed1e8d9",
   "metadata": {},
   "outputs": [
    {
     "data": {
      "text/html": [
       "<div>\n",
       "<style scoped>\n",
       "    .dataframe tbody tr th:only-of-type {\n",
       "        vertical-align: middle;\n",
       "    }\n",
       "\n",
       "    .dataframe tbody tr th {\n",
       "        vertical-align: top;\n",
       "    }\n",
       "\n",
       "    .dataframe thead th {\n",
       "        text-align: right;\n",
       "    }\n",
       "</style>\n",
       "<table border=\"1\" class=\"dataframe\">\n",
       "  <thead>\n",
       "    <tr style=\"text-align: right;\">\n",
       "      <th></th>\n",
       "      <th>boot</th>\n",
       "      <th>cond</th>\n",
       "      <th>unit</th>\n",
       "      <th>seg</th>\n",
       "      <th>m</th>\n",
       "    </tr>\n",
       "  </thead>\n",
       "  <tbody>\n",
       "    <tr>\n",
       "      <th>0</th>\n",
       "      <td>0</td>\n",
       "      <td>CR_bo</td>\n",
       "      <td>0</td>\n",
       "      <td>left</td>\n",
       "      <td>14.873397</td>\n",
       "    </tr>\n",
       "    <tr>\n",
       "      <th>1</th>\n",
       "      <td>0</td>\n",
       "      <td>CR_bo</td>\n",
       "      <td>1</td>\n",
       "      <td>left</td>\n",
       "      <td>9.128395</td>\n",
       "    </tr>\n",
       "    <tr>\n",
       "      <th>2</th>\n",
       "      <td>0</td>\n",
       "      <td>CR_bo</td>\n",
       "      <td>2</td>\n",
       "      <td>left</td>\n",
       "      <td>18.248957</td>\n",
       "    </tr>\n",
       "    <tr>\n",
       "      <th>3</th>\n",
       "      <td>0</td>\n",
       "      <td>CR_bo</td>\n",
       "      <td>3</td>\n",
       "      <td>left</td>\n",
       "      <td>19.502219</td>\n",
       "    </tr>\n",
       "    <tr>\n",
       "      <th>4</th>\n",
       "      <td>0</td>\n",
       "      <td>CR_bo</td>\n",
       "      <td>4</td>\n",
       "      <td>left</td>\n",
       "      <td>15.039575</td>\n",
       "    </tr>\n",
       "    <tr>\n",
       "      <th>...</th>\n",
       "      <td>...</td>\n",
       "      <td>...</td>\n",
       "      <td>...</td>\n",
       "      <td>...</td>\n",
       "      <td>...</td>\n",
       "    </tr>\n",
       "    <tr>\n",
       "      <th>44995</th>\n",
       "      <td>49</td>\n",
       "      <td>Odd_bi</td>\n",
       "      <td>25</td>\n",
       "      <td>right</td>\n",
       "      <td>5.987235</td>\n",
       "    </tr>\n",
       "    <tr>\n",
       "      <th>44996</th>\n",
       "      <td>49</td>\n",
       "      <td>Odd_bi</td>\n",
       "      <td>26</td>\n",
       "      <td>right</td>\n",
       "      <td>5.694151</td>\n",
       "    </tr>\n",
       "    <tr>\n",
       "      <th>44997</th>\n",
       "      <td>49</td>\n",
       "      <td>Odd_bi</td>\n",
       "      <td>27</td>\n",
       "      <td>right</td>\n",
       "      <td>5.445853</td>\n",
       "    </tr>\n",
       "    <tr>\n",
       "      <th>44998</th>\n",
       "      <td>49</td>\n",
       "      <td>Odd_bi</td>\n",
       "      <td>28</td>\n",
       "      <td>right</td>\n",
       "      <td>0.852974</td>\n",
       "    </tr>\n",
       "    <tr>\n",
       "      <th>44999</th>\n",
       "      <td>49</td>\n",
       "      <td>Odd_bi</td>\n",
       "      <td>29</td>\n",
       "      <td>right</td>\n",
       "      <td>2.668297</td>\n",
       "    </tr>\n",
       "  </tbody>\n",
       "</table>\n",
       "<p>45000 rows × 5 columns</p>\n",
       "</div>"
      ],
      "text/plain": [
       "      boot    cond unit    seg          m\n",
       "0        0   CR_bo    0   left  14.873397\n",
       "1        0   CR_bo    1   left   9.128395\n",
       "2        0   CR_bo    2   left  18.248957\n",
       "3        0   CR_bo    3   left  19.502219\n",
       "4        0   CR_bo    4   left  15.039575\n",
       "...    ...     ...  ...    ...        ...\n",
       "44995   49  Odd_bi   25  right   5.987235\n",
       "44996   49  Odd_bi   26  right   5.694151\n",
       "44997   49  Odd_bi   27  right   5.445853\n",
       "44998   49  Odd_bi   28  right   0.852974\n",
       "44999   49  Odd_bi   29  right   2.668297\n",
       "\n",
       "[45000 rows x 5 columns]"
      ]
     },
     "execution_count": 282,
     "metadata": {},
     "output_type": "execute_result"
    }
   ],
   "source": [
    "boot_bigseg_rates"
   ]
  },
  {
   "cell_type": "code",
   "execution_count": null,
   "id": "91543e04-8cf6-4ed2-9f1f-61752593d801",
   "metadata": {},
   "outputs": [],
   "source": [
    "cond_pair = ta.bal_cond_pairs[0].split('-')\n",
    "\n",
    "ax=sns.violinplot(data=df[ (df.unit==0) & (df.cond.isin(cond_pair))], x='seg', hue='cond', y='m', split=True, inner='quartile', hue_order=[cond_pair[1], cond_pair[0]], palette=['green','purple'], alpha=0.7, saturation=1)\n",
    "plt.setp(ax.collections, alpha=.7)"
   ]
  },
  {
   "cell_type": "code",
   "execution_count": 154,
   "id": "41f89551-42a7-4ac2-ab26-4c3df8839ab4",
   "metadata": {},
   "outputs": [
    {
     "ename": "SyntaxError",
     "evalue": "unmatched ']' (3725056251.py, line 1)",
     "output_type": "error",
     "traceback": [
      "\u001b[0;36m  File \u001b[0;32m\"/tmp/ipykernel_18658/3725056251.py\"\u001b[0;36m, line \u001b[0;32m1\u001b[0m\n\u001b[0;31m    a = dfm[(dfm.cond.isin( ['CL_bo', 'CR_bo'])) & (dfm.unit==0)]]\u001b[0m\n\u001b[0m                                                                 ^\u001b[0m\n\u001b[0;31mSyntaxError\u001b[0m\u001b[0;31m:\u001b[0m unmatched ']'\n"
     ]
    }
   ],
   "source": [
    "a = dfm[(dfm.cond.isin( ['CL_bo', 'CR_bo'])) & (dfm.unit==0)]\n",
    "a.head().m.max("
   ]
  },
  {
   "cell_type": "code",
   "execution_count": 155,
   "id": "a0944cbc-942c-4a9d-b450-57b82fd7f0a7",
   "metadata": {},
   "outputs": [
    {
     "data": {
      "text/html": [
       "<div>\n",
       "<style scoped>\n",
       "    .dataframe tbody tr th:only-of-type {\n",
       "        vertical-align: middle;\n",
       "    }\n",
       "\n",
       "    .dataframe tbody tr th {\n",
       "        vertical-align: top;\n",
       "    }\n",
       "\n",
       "    .dataframe thead th {\n",
       "        text-align: right;\n",
       "    }\n",
       "</style>\n",
       "<table border=\"1\" class=\"dataframe\">\n",
       "  <thead>\n",
       "    <tr style=\"text-align: right;\">\n",
       "      <th></th>\n",
       "      <th>boot</th>\n",
       "      <th>cond</th>\n",
       "      <th>unit</th>\n",
       "      <th>seg</th>\n",
       "      <th>m</th>\n",
       "    </tr>\n",
       "  </thead>\n",
       "  <tbody>\n",
       "    <tr>\n",
       "      <th>0</th>\n",
       "      <td>0</td>\n",
       "      <td>CR_bo</td>\n",
       "      <td>0</td>\n",
       "      <td>H</td>\n",
       "      <td>32.735157</td>\n",
       "    </tr>\n",
       "    <tr>\n",
       "      <th>1</th>\n",
       "      <td>0</td>\n",
       "      <td>CR_bo</td>\n",
       "      <td>1</td>\n",
       "      <td>H</td>\n",
       "      <td>36.220822</td>\n",
       "    </tr>\n",
       "    <tr>\n",
       "      <th>2</th>\n",
       "      <td>0</td>\n",
       "      <td>CR_bo</td>\n",
       "      <td>2</td>\n",
       "      <td>H</td>\n",
       "      <td>46.683986</td>\n",
       "    </tr>\n",
       "    <tr>\n",
       "      <th>3</th>\n",
       "      <td>0</td>\n",
       "      <td>CR_bo</td>\n",
       "      <td>3</td>\n",
       "      <td>H</td>\n",
       "      <td>0.898082</td>\n",
       "    </tr>\n",
       "    <tr>\n",
       "      <th>4</th>\n",
       "      <td>0</td>\n",
       "      <td>CR_bo</td>\n",
       "      <td>4</td>\n",
       "      <td>H</td>\n",
       "      <td>5.990283</td>\n",
       "    </tr>\n",
       "    <tr>\n",
       "      <th>...</th>\n",
       "      <td>...</td>\n",
       "      <td>...</td>\n",
       "      <td>...</td>\n",
       "      <td>...</td>\n",
       "      <td>...</td>\n",
       "    </tr>\n",
       "    <tr>\n",
       "      <th>389995</th>\n",
       "      <td>49</td>\n",
       "      <td>Odd_bi</td>\n",
       "      <td>15</td>\n",
       "      <td>G4</td>\n",
       "      <td>1.746129</td>\n",
       "    </tr>\n",
       "    <tr>\n",
       "      <th>389996</th>\n",
       "      <td>49</td>\n",
       "      <td>Odd_bi</td>\n",
       "      <td>16</td>\n",
       "      <td>G4</td>\n",
       "      <td>0.200968</td>\n",
       "    </tr>\n",
       "    <tr>\n",
       "      <th>389997</th>\n",
       "      <td>49</td>\n",
       "      <td>Odd_bi</td>\n",
       "      <td>17</td>\n",
       "      <td>G4</td>\n",
       "      <td>5.620847</td>\n",
       "    </tr>\n",
       "    <tr>\n",
       "      <th>389998</th>\n",
       "      <td>49</td>\n",
       "      <td>Odd_bi</td>\n",
       "      <td>18</td>\n",
       "      <td>G4</td>\n",
       "      <td>5.094654</td>\n",
       "    </tr>\n",
       "    <tr>\n",
       "      <th>389999</th>\n",
       "      <td>49</td>\n",
       "      <td>Odd_bi</td>\n",
       "      <td>19</td>\n",
       "      <td>G4</td>\n",
       "      <td>2.386232</td>\n",
       "    </tr>\n",
       "  </tbody>\n",
       "</table>\n",
       "<p>390000 rows × 5 columns</p>\n",
       "</div>"
      ],
      "text/plain": [
       "       boot    cond unit seg          m\n",
       "0         0   CR_bo    0   H  32.735157\n",
       "1         0   CR_bo    1   H  36.220822\n",
       "2         0   CR_bo    2   H  46.683986\n",
       "3         0   CR_bo    3   H   0.898082\n",
       "4         0   CR_bo    4   H   5.990283\n",
       "...     ...     ...  ...  ..        ...\n",
       "389995   49  Odd_bi   15  G4   1.746129\n",
       "389996   49  Odd_bi   16  G4   0.200968\n",
       "389997   49  Odd_bi   17  G4   5.620847\n",
       "389998   49  Odd_bi   18  G4   5.094654\n",
       "389999   49  Odd_bi   19  G4   2.386232\n",
       "\n",
       "[390000 rows x 5 columns]"
      ]
     },
     "execution_count": 155,
     "metadata": {},
     "output_type": "execute_result"
    }
   ],
   "source": [
    "df[(df.cond1) & (df.unit==0)]"
   ]
  },
  {
   "cell_type": "code",
   "execution_count": 287,
   "id": "b8f20922-0f54-4506-bab3-400e2ef9ac0f",
   "metadata": {},
   "outputs": [
    {
     "data": {
      "application/vnd.jupyter.widget-view+json": {
       "model_id": "59ac3f18b3cb4177a83092b6e1c64093",
       "version_major": 2,
       "version_minor": 0
      },
      "text/plain": [
       "interactive(children=(Dropdown(description='unit', options=(0, 1, 2, 3, 4, 5, 6, 7, 8, 9, 10, 11, 12, 13, 14, …"
      ]
     },
     "metadata": {},
     "output_type": "display_data"
    },
    {
     "data": {
      "application/vnd.jupyter.widget-view+json": {
       "model_id": "59274ef98218463c85a48bd3f9c5c612",
       "version_major": 2,
       "version_minor": 0
      },
      "text/plain": [
       "Button(description='Save Figure', style=ButtonStyle())"
      ]
     },
     "metadata": {},
     "output_type": "display_data"
    }
   ],
   "source": [
    "def savefig(*args):\n",
    "    f = f4.result\n",
    "    p = info.paths['figures']\n",
    "    figname = f\"boot_bigsegs-{session_info.session}-{f4.children[0].value}-{f3.children[1].value}.png\"   \n",
    "    f.savefig(p/figname, dpi=500, bbox_inches='tight')\n",
    "    \n",
    "def plot_boot_segs(unit=np.arange(ta.n_units), cond_pair=cond_pairs):\n",
    "    conds = cond_pair.split('-')\n",
    "    \n",
    "    f, ax = plt.subplots(figsize=(3,3),dpi=400)\n",
    "    ax=sns.violinplot(data=boot_bigseg_rates[ (boot_bigseg_rates.unit==unit) & (boot_bigseg_rates.cond.isin(conds))], \n",
    "                      x='seg', hue='cond', y='m', split=True, inner='quartile', \n",
    "                      hue_order=[conds[1], conds[0]], palette=['green','purple'], \n",
    "                      alpha=0.7, saturation=1, legend=False)\n",
    "    plt.setp(ax.collections, alpha=.7)\n",
    "    ax.get_legend().remove()\n",
    "    ax.set_ylabel('FR [spikes/s]')\n",
    "    ax.set_xlabel('Segment')\n",
    "    \n",
    "    return f\n",
    "\n",
    "cond_pairs_widget = widgets.Dropdown(options=cond_pairs)\n",
    "\n",
    "f4 = widgets.interactive(plot_boot_segs, {'unit': unit_widget,'cond_pair':cond_pairs_widget })\n",
    "save_button.on_click(savefig)\n",
    "display(f4, save_button)"
   ]
  },
  {
   "cell_type": "code",
   "execution_count": 283,
   "id": "3b5dabf2-3559-42ab-851d-bac5a9e2d8da",
   "metadata": {},
   "outputs": [
    {
     "data": {
      "text/html": [
       "<div>\n",
       "<style scoped>\n",
       "    .dataframe tbody tr th:only-of-type {\n",
       "        vertical-align: middle;\n",
       "    }\n",
       "\n",
       "    .dataframe tbody tr th {\n",
       "        vertical-align: top;\n",
       "    }\n",
       "\n",
       "    .dataframe thead th {\n",
       "        text-align: right;\n",
       "    }\n",
       "</style>\n",
       "<table border=\"1\" class=\"dataframe\">\n",
       "  <thead>\n",
       "    <tr style=\"text-align: right;\">\n",
       "      <th></th>\n",
       "      <th>boot</th>\n",
       "      <th>cond</th>\n",
       "      <th>unit</th>\n",
       "      <th>seg</th>\n",
       "      <th>m</th>\n",
       "    </tr>\n",
       "  </thead>\n",
       "  <tbody>\n",
       "    <tr>\n",
       "      <th>0</th>\n",
       "      <td>0</td>\n",
       "      <td>CR_bo</td>\n",
       "      <td>0</td>\n",
       "      <td>left</td>\n",
       "      <td>14.873397</td>\n",
       "    </tr>\n",
       "    <tr>\n",
       "      <th>1</th>\n",
       "      <td>0</td>\n",
       "      <td>CR_bo</td>\n",
       "      <td>1</td>\n",
       "      <td>left</td>\n",
       "      <td>9.128395</td>\n",
       "    </tr>\n",
       "    <tr>\n",
       "      <th>2</th>\n",
       "      <td>0</td>\n",
       "      <td>CR_bo</td>\n",
       "      <td>2</td>\n",
       "      <td>left</td>\n",
       "      <td>18.248957</td>\n",
       "    </tr>\n",
       "    <tr>\n",
       "      <th>3</th>\n",
       "      <td>0</td>\n",
       "      <td>CR_bo</td>\n",
       "      <td>3</td>\n",
       "      <td>left</td>\n",
       "      <td>19.502219</td>\n",
       "    </tr>\n",
       "    <tr>\n",
       "      <th>4</th>\n",
       "      <td>0</td>\n",
       "      <td>CR_bo</td>\n",
       "      <td>4</td>\n",
       "      <td>left</td>\n",
       "      <td>15.039575</td>\n",
       "    </tr>\n",
       "    <tr>\n",
       "      <th>...</th>\n",
       "      <td>...</td>\n",
       "      <td>...</td>\n",
       "      <td>...</td>\n",
       "      <td>...</td>\n",
       "      <td>...</td>\n",
       "    </tr>\n",
       "    <tr>\n",
       "      <th>44995</th>\n",
       "      <td>49</td>\n",
       "      <td>Odd_bi</td>\n",
       "      <td>25</td>\n",
       "      <td>right</td>\n",
       "      <td>5.987235</td>\n",
       "    </tr>\n",
       "    <tr>\n",
       "      <th>44996</th>\n",
       "      <td>49</td>\n",
       "      <td>Odd_bi</td>\n",
       "      <td>26</td>\n",
       "      <td>right</td>\n",
       "      <td>5.694151</td>\n",
       "    </tr>\n",
       "    <tr>\n",
       "      <th>44997</th>\n",
       "      <td>49</td>\n",
       "      <td>Odd_bi</td>\n",
       "      <td>27</td>\n",
       "      <td>right</td>\n",
       "      <td>5.445853</td>\n",
       "    </tr>\n",
       "    <tr>\n",
       "      <th>44998</th>\n",
       "      <td>49</td>\n",
       "      <td>Odd_bi</td>\n",
       "      <td>28</td>\n",
       "      <td>right</td>\n",
       "      <td>0.852974</td>\n",
       "    </tr>\n",
       "    <tr>\n",
       "      <th>44999</th>\n",
       "      <td>49</td>\n",
       "      <td>Odd_bi</td>\n",
       "      <td>29</td>\n",
       "      <td>right</td>\n",
       "      <td>2.668297</td>\n",
       "    </tr>\n",
       "  </tbody>\n",
       "</table>\n",
       "<p>45000 rows × 5 columns</p>\n",
       "</div>"
      ],
      "text/plain": [
       "      boot    cond unit    seg          m\n",
       "0        0   CR_bo    0   left  14.873397\n",
       "1        0   CR_bo    1   left   9.128395\n",
       "2        0   CR_bo    2   left  18.248957\n",
       "3        0   CR_bo    3   left  19.502219\n",
       "4        0   CR_bo    4   left  15.039575\n",
       "...    ...     ...  ...    ...        ...\n",
       "44995   49  Odd_bi   25  right   5.987235\n",
       "44996   49  Odd_bi   26  right   5.694151\n",
       "44997   49  Odd_bi   27  right   5.445853\n",
       "44998   49  Odd_bi   28  right   0.852974\n",
       "44999   49  Odd_bi   29  right   2.668297\n",
       "\n",
       "[45000 rows x 5 columns]"
      ]
     },
     "execution_count": 283,
     "metadata": {},
     "output_type": "execute_result"
    }
   ],
   "source": [
    "boot_bigseg_rates"
   ]
  }
 ],
 "metadata": {
  "kernelspec": {
   "display_name": "Python 3 (ipykernel)",
   "language": "python",
   "name": "python3"
  },
  "language_info": {
   "codemirror_mode": {
    "name": "ipython",
    "version": 3
   },
   "file_extension": ".py",
   "mimetype": "text/x-python",
   "name": "python",
   "nbconvert_exporter": "python",
   "pygments_lexer": "ipython3",
   "version": "3.9.7"
  },
  "widgets": {
   "application/vnd.jupyter.widget-state+json": {
    "state": {},
    "version_major": 2,
    "version_minor": 0
   }
  }
 },
 "nbformat": 4,
 "nbformat_minor": 5
}
