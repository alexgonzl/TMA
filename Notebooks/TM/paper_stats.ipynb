{
 "cells": [
  {
   "cell_type": "code",
   "execution_count": 3,
   "id": "83cb2bb4-84e3-47cf-897a-55f5ac894d0e",
   "metadata": {},
   "outputs": [],
   "source": [
    "%matplotlib inline\n",
    "\n",
    "from pathlib import Path\n",
    "from importlib import reload\n",
    "import time\n",
    "import traceback\n",
    "\n",
    "import numpy as np\n",
    "import pandas as pd\n",
    "import scipy.stats as stats\n",
    "pd.set_option('display.max_rows', 50)\n",
    "\n",
    "import matplotlib as mpl\n",
    "import matplotlib.pyplot as plt\n",
    "import seaborn as sns\n",
    "sns.set(style='whitegrid', palette='muted')\n",
    "\n",
    "import TreeMazeAnalyses2.Analyses.experiment_info as ei\n",
    "import TreeMazeAnalyses2.Utils.robust_stats as rs\n",
    "import TreeMazeAnalyses2.Analyses.spatial_functions as sf\n",
    "import TreeMazeAnalyses2.Analyses.open_field_functions as of\n",
    "import TreeMazeAnalyses2.Analyses.tree_maze_functions as tmf\n",
    "import TreeMazeAnalyses2.Analyses.plot_functions as pf\n",
    "import TreeMazeAnalyses2.Analyses.paper_stats as ps\n",
    "\n",
    "\n",
    "import ipywidgets as widgets\n",
    "from ipywidgets import interact, fixed, interact_manual\n",
    "\n",
    "import statsmodels.stats as stats\n",
    "import statsmodels.api as sm\n",
    "import statsmodels.formula.api as smf\n",
    "\n",
    "import warnings\n",
    "from statsmodels.tools.sm_exceptions import ConvergenceWarning\n",
    "warnings.filterwarnings(\"ignore\", category=DeprecationWarning)\n",
    "warnings.filterwarnings(\"ignore\", category=FutureWarning)\n",
    "warnings.filterwarnings(\"ignore\", category=ConvergenceWarning)"
   ]
  },
  {
   "cell_type": "code",
   "execution_count": 4,
   "id": "f13b0828-3881-45b5-a803-d316b2ff6bb1",
   "metadata": {},
   "outputs": [],
   "source": [
    "ei = reload(ei)\n",
    "info = ei.SummaryInfo()"
   ]
  },
  {
   "cell_type": "markdown",
   "id": "a24ea774-3ffb-485e-9b11-188d5ffdb28c",
   "metadata": {},
   "source": [
    "## Cue coding by segment"
   ]
  },
  {
   "cell_type": "code",
   "execution_count": 236,
   "id": "e3549c60-1a63-48cd-b0ec-b4c8f28e2a2c",
   "metadata": {},
   "outputs": [
    {
     "data": {
      "application/vnd.jupyter.widget-view+json": {
       "model_id": "a9b8bae8e041455abdee70100fbfef7b",
       "version_major": 2,
       "version_minor": 0
      },
      "text/plain": [
       "interactive(children=(Dropdown(description='unit_type', options=('all', 'cell', 'mua'), value='all'), Dropdown…"
      ]
     },
     "metadata": {},
     "output_type": "display_data"
    }
   ],
   "source": [
    "ei = reload(ei)\n",
    "info = ei.SummaryInfo()\n",
    "\n",
    "o = info.print_paper_stats(which='seg_rates')"
   ]
  },
  {
   "cell_type": "code",
   "execution_count": 183,
   "id": "58eae198-4505-4e6e-bec0-43906d7cfc6a",
   "metadata": {},
   "outputs": [
    {
     "data": {
      "application/vnd.jupyter.widget-view+json": {
       "model_id": "8b347a4ae1e44c69b750c4fe385d655b",
       "version_major": 2,
       "version_minor": 0
      },
      "text/plain": [
       "interactive(children=(Dropdown(description='unit_type', options=('all', 'cell', 'mua'), value='all'), Dropdown…"
      ]
     },
     "metadata": {},
     "output_type": "display_data"
    }
   ],
   "source": [
    "ps = reload(ps)\n",
    "lmm_stats = ps.LMM_Stats(info).segment_rates()"
   ]
  },
  {
   "cell_type": "code",
   "execution_count": 248,
   "id": "73c7d79e-f8be-4c00-83d8-cb520629d7e2",
   "metadata": {},
   "outputs": [
    {
     "data": {
      "application/vnd.jupyter.widget-view+json": {
       "model_id": "2fd836b933af4d218bf3e91db616bf18",
       "version_major": 2,
       "version_minor": 0
      },
      "text/plain": [
       "interactive(children=(Dropdown(description='unit_type', options=('all', 'cell', 'mua'), value='all'), Dropdown…"
      ]
     },
     "metadata": {},
     "output_type": "display_data"
    }
   ],
   "source": [
    "ps = reload(ps)\n",
    "lmm_stats = ps.LMM_Stats(info).remap_scores()"
   ]
  },
  {
   "cell_type": "code",
   "execution_count": 249,
   "id": "df91f81e-6401-44e6-a942-881f5e196280",
   "metadata": {},
   "outputs": [
    {
     "data": {
      "application/vnd.jupyter.widget-view+json": {
       "model_id": "81e99a19ecdd46e398c69433f1926ec1",
       "version_major": 2,
       "version_minor": 0
      },
      "text/plain": [
       "interactive(children=(Dropdown(description='unit_type', options=('all', 'cell', 'mua'), value='all'), Dropdown…"
      ]
     },
     "metadata": {},
     "output_type": "display_data"
    }
   ],
   "source": [
    "ps = reload(ps)\n",
    "lmm_stats = ps.LMM_Stats(info).unit_remap_to_beh()"
   ]
  },
  {
   "cell_type": "code",
   "execution_count": 202,
   "id": "32b43f69-a829-4acb-8a12-200204c2146c",
   "metadata": {},
   "outputs": [
    {
     "data": {
      "application/vnd.jupyter.widget-view+json": {
       "model_id": "6a1e6c6555ab423c94b319db9be5c62a",
       "version_major": 2,
       "version_minor": 0
      },
      "text/plain": [
       "interactive(children=(Dropdown(description='unit_type', options=('all', 'cells', 'muas'), value='all'), Dropdo…"
      ]
     },
     "metadata": {},
     "output_type": "display_data"
    }
   ],
   "source": [
    "ps = reload(ps)\n",
    "lmm_stats = ps.LMM_Stats(info).pop_remap_to_beh()"
   ]
  },
  {
   "cell_type": "code",
   "execution_count": 235,
   "id": "70c0df11-0433-471f-9c00-19707632bb3f",
   "metadata": {},
   "outputs": [
    {
     "data": {
      "application/vnd.jupyter.widget-view+json": {
       "model_id": "082faa058a8f43e1b045acd9daa5669f",
       "version_major": 2,
       "version_minor": 0
      },
      "text/plain": [
       "interactive(children=(Dropdown(description='unit_type', options=('all', 'cell', 'mua'), value='all'), Dropdown…"
      ]
     },
     "metadata": {},
     "output_type": "display_data"
    }
   ],
   "source": [
    "ps = reload(ps)\n",
    "lmm_stats = ps.LMM_Stats(info).zone_encoder_scores()"
   ]
  },
  {
   "cell_type": "code",
   "execution_count": 339,
   "id": "98bfdabd-a8cb-4273-887a-4dc26519e5ea",
   "metadata": {},
   "outputs": [
    {
     "data": {
      "application/vnd.jupyter.widget-view+json": {
       "model_id": "3102d18d60ab45a28bcff89abb350d1b",
       "version_major": 2,
       "version_minor": 0
      },
      "text/plain": [
       "interactive(children=(Dropdown(description='unit_type', options=('all', 'cell', 'mua'), value='all'), Dropdown…"
      ]
     },
     "metadata": {},
     "output_type": "display_data"
    }
   ],
   "source": [
    "ps = reload(ps)\n",
    "lmm_stats = ps.LMM_Stats(info).open_field_models()"
   ]
  },
  {
   "cell_type": "code",
   "execution_count": 55,
   "id": "585bc635-3b90-4b77-ae87-c08e98c0f241",
   "metadata": {
    "tags": []
   },
   "outputs": [
    {
     "data": {
      "application/vnd.jupyter.widget-view+json": {
       "model_id": "f8cb09fb1d1d41a0aa02333044ba5e01",
       "version_major": 2,
       "version_minor": 0
      },
      "text/plain": [
       "interactive(children=(Dropdown(description='score_group', options=('of_coef', 'of_metrics', 'tm_remap', 'tm_en…"
      ]
     },
     "metadata": {},
     "output_type": "display_data"
    }
   ],
   "source": [
    "ps = reload(ps)\n",
    "lmm_stats = ps.LMM_Stats(info).of_cluster_TM_comps()"
   ]
  },
  {
   "cell_type": "code",
   "execution_count": 26,
   "id": "0b2a3a92-3fe6-4537-9b75-c9c4bb659e00",
   "metadata": {},
   "outputs": [],
   "source": [
    "cluster_table = info.get_matched_of_cell_clusters()\n",
    "match_table = info.get_unit_match_table()\n",
    "cm_table = match_table[['match_cl_id', 'subject', 'session_T3', 'session_OF']].copy()\n",
    "cm_table[['cluster', 'umap_1', 'umap_2']] = cluster_table.loc[cm_table['match_cl_id'], ['Cluster','UMAP-1','UMAP-2']].values\n",
    "cm_table['cluster'] = cm_table.cluster.astype(pd.api.types.CategoricalDtype())\n",
    "\n",
    "scores = info.get_combined_scores_matched_units(mean_multi_matches=False)"
   ]
  },
  {
   "cell_type": "code",
   "execution_count": 50,
   "id": "adc57b72-1d27-47ab-b949-4a2575fe66e2",
   "metadata": {},
   "outputs": [
    {
     "data": {
      "text/html": [
       "<div>\n",
       "<style scoped>\n",
       "    .dataframe tbody tr th:only-of-type {\n",
       "        vertical-align: middle;\n",
       "    }\n",
       "\n",
       "    .dataframe tbody tr th {\n",
       "        vertical-align: top;\n",
       "    }\n",
       "\n",
       "    .dataframe thead th {\n",
       "        text-align: right;\n",
       "    }\n",
       "</style>\n",
       "<table border=\"1\" class=\"dataframe\">\n",
       "  <thead>\n",
       "    <tr style=\"text-align: right;\">\n",
       "      <th></th>\n",
       "      <th>cluster</th>\n",
       "      <th>subject</th>\n",
       "      <th>match_cl_id</th>\n",
       "      <th>session_TM</th>\n",
       "      <th>session_OF</th>\n",
       "      <th>tm_enc_r2</th>\n",
       "      <th>score</th>\n",
       "    </tr>\n",
       "  </thead>\n",
       "  <tbody>\n",
       "    <tr>\n",
       "      <th>0</th>\n",
       "      <td>0.0</td>\n",
       "      <td>Li</td>\n",
       "      <td>0</td>\n",
       "      <td>Li_T3g_061318</td>\n",
       "      <td>Li_OF_061318</td>\n",
       "      <td>rate_cue</td>\n",
       "      <td>0.043149</td>\n",
       "    </tr>\n",
       "    <tr>\n",
       "      <th>1</th>\n",
       "      <td>1.0</td>\n",
       "      <td>Li</td>\n",
       "      <td>1</td>\n",
       "      <td>Li_T3g_061518</td>\n",
       "      <td>Li_OF_062618</td>\n",
       "      <td>rate_cue</td>\n",
       "      <td>0.023974</td>\n",
       "    </tr>\n",
       "    <tr>\n",
       "      <th>2</th>\n",
       "      <td>1.0</td>\n",
       "      <td>Li</td>\n",
       "      <td>1</td>\n",
       "      <td>Li_T3g_061818</td>\n",
       "      <td>Li_OF_062618</td>\n",
       "      <td>rate_cue</td>\n",
       "      <td>0.026001</td>\n",
       "    </tr>\n",
       "    <tr>\n",
       "      <th>3</th>\n",
       "      <td>2.0</td>\n",
       "      <td>Li</td>\n",
       "      <td>2</td>\n",
       "      <td>Li_T3g_061818</td>\n",
       "      <td>Li_OF_061818</td>\n",
       "      <td>rate_cue</td>\n",
       "      <td>0.024433</td>\n",
       "    </tr>\n",
       "    <tr>\n",
       "      <th>4</th>\n",
       "      <td>2.0</td>\n",
       "      <td>Li</td>\n",
       "      <td>2</td>\n",
       "      <td>Li_T3g_061818</td>\n",
       "      <td>Li_OF_062618</td>\n",
       "      <td>rate_cue</td>\n",
       "      <td>0.024433</td>\n",
       "    </tr>\n",
       "    <tr>\n",
       "      <th>...</th>\n",
       "      <td>...</td>\n",
       "      <td>...</td>\n",
       "      <td>...</td>\n",
       "      <td>...</td>\n",
       "      <td>...</td>\n",
       "      <td>...</td>\n",
       "      <td>...</td>\n",
       "    </tr>\n",
       "    <tr>\n",
       "      <th>743</th>\n",
       "      <td>2.0</td>\n",
       "      <td>Cl</td>\n",
       "      <td>206</td>\n",
       "      <td>Cl_T3g_120918</td>\n",
       "      <td>Cl_OF_120918</td>\n",
       "      <td>global_rw</td>\n",
       "      <td>0.369734</td>\n",
       "    </tr>\n",
       "    <tr>\n",
       "      <th>744</th>\n",
       "      <td>1.0</td>\n",
       "      <td>Cl</td>\n",
       "      <td>208</td>\n",
       "      <td>Cl_T3g_121118</td>\n",
       "      <td>Cl_OF_121018</td>\n",
       "      <td>global_rw</td>\n",
       "      <td>0.284363</td>\n",
       "    </tr>\n",
       "    <tr>\n",
       "      <th>745</th>\n",
       "      <td>2.0</td>\n",
       "      <td>Ca</td>\n",
       "      <td>212</td>\n",
       "      <td>Ca_T3g_030519</td>\n",
       "      <td>Ca_OF_030419</td>\n",
       "      <td>global_rw</td>\n",
       "      <td>-0.102196</td>\n",
       "    </tr>\n",
       "    <tr>\n",
       "      <th>746</th>\n",
       "      <td>2.0</td>\n",
       "      <td>Ca</td>\n",
       "      <td>212</td>\n",
       "      <td>Ca_T3g_030519</td>\n",
       "      <td>Ca_OF_030519</td>\n",
       "      <td>global_rw</td>\n",
       "      <td>-0.102196</td>\n",
       "    </tr>\n",
       "    <tr>\n",
       "      <th>747</th>\n",
       "      <td>1.0</td>\n",
       "      <td>Ca</td>\n",
       "      <td>215</td>\n",
       "      <td>Ca_T3g_031219</td>\n",
       "      <td>Ca_OF_031219</td>\n",
       "      <td>global_rw</td>\n",
       "      <td>-0.024333</td>\n",
       "    </tr>\n",
       "  </tbody>\n",
       "</table>\n",
       "<p>748 rows × 7 columns</p>\n",
       "</div>"
      ],
      "text/plain": [
       "    cluster subject  match_cl_id     session_TM    session_OF  tm_enc_r2  \\\n",
       "0       0.0      Li            0  Li_T3g_061318  Li_OF_061318   rate_cue   \n",
       "1       1.0      Li            1  Li_T3g_061518  Li_OF_062618   rate_cue   \n",
       "2       1.0      Li            1  Li_T3g_061818  Li_OF_062618   rate_cue   \n",
       "3       2.0      Li            2  Li_T3g_061818  Li_OF_061818   rate_cue   \n",
       "4       2.0      Li            2  Li_T3g_061818  Li_OF_062618   rate_cue   \n",
       "..      ...     ...          ...            ...           ...        ...   \n",
       "743     2.0      Cl          206  Cl_T3g_120918  Cl_OF_120918  global_rw   \n",
       "744     1.0      Cl          208  Cl_T3g_121118  Cl_OF_121018  global_rw   \n",
       "745     2.0      Ca          212  Ca_T3g_030519  Ca_OF_030419  global_rw   \n",
       "746     2.0      Ca          212  Ca_T3g_030519  Ca_OF_030519  global_rw   \n",
       "747     1.0      Ca          215  Ca_T3g_031219  Ca_OF_031219  global_rw   \n",
       "\n",
       "        score  \n",
       "0    0.043149  \n",
       "1    0.023974  \n",
       "2    0.026001  \n",
       "3    0.024433  \n",
       "4    0.024433  \n",
       "..        ...  \n",
       "743  0.369734  \n",
       "744  0.284363  \n",
       "745 -0.102196  \n",
       "746 -0.102196  \n",
       "747 -0.024333  \n",
       "\n",
       "[748 rows x 7 columns]"
      ]
     },
     "execution_count": 50,
     "metadata": {},
     "output_type": "execute_result"
    }
   ],
   "source": [
    "score_group='tm_enc_r2'\n",
    "cluster_type ='cluster'\n",
    "of_vars = ['speed', 'hd', 'pos']\n",
    "if score_group == 'of_coef':\n",
    "    score_columns = [f\"OF-{m}-agg_sdp_coef\" for m in of_vars]\n",
    "    abbreviations = of_vars\n",
    "elif score_group == 'of_metrics':\n",
    "    score_columns = [f'OF-metric_score_{m}' for m in of_vars]\n",
    "    abbreviations = of_vars\n",
    "elif score_group == 'tm_remap':\n",
    "    score_columns = ['TM-remap_cue', 'TM-remap_rw']\n",
    "    abbreviations = ['cue', 'rw']\n",
    "elif score_group == 'tm_enc_r2':\n",
    "    score_columns = ['TM-rate_cue', 'TM-global_cue', 'TM-rate_rw', 'TM-global_rw', ]\n",
    "    abbreviations = [s.split('-')[1] for s in score_columns]\n",
    "elif score_group == 'tm_enc_delta':\n",
    "    score_columns = ['TM-enc_uz_cue', 'TM-enc_uz_rw']\n",
    "    abbreviations = ['cue', 'rw']\n",
    "else:\n",
    "    raise ValueError\n",
    "\n",
    "df = scores[score_columns].copy()\n",
    "df[['match_cl_id', 'subject', 'session_TM', 'session_OF']] = cm_table[['match_cl_id', 'subject',\n",
    "                                                                          'session_T3', 'session_OF']].copy()\n",
    "df[cluster_type] = cm_table[cluster_type].copy()\n",
    "df.dropna(inplace=True)\n",
    "df.reset_index(drop=True, inplace=True)\n",
    "\n",
    "\n",
    "df=df.rename(columns={b:a for a,b in zip(abbreviations,score_columns) })\n",
    "df = df.melt(id_vars=[cluster_type, 'subject', 'match_cl_id', 'session_TM', 'session_OF'], value_name='score', var_name=score_group)\n",
    "df"
   ]
  },
  {
   "cell_type": "code",
   "execution_count": 52,
   "id": "f1b49163-6c95-4eab-be84-7f69da6f0d0d",
   "metadata": {},
   "outputs": [
    {
     "data": {
      "text/plain": [
       "0       True\n",
       "1       True\n",
       "2       True\n",
       "3       True\n",
       "4       True\n",
       "       ...  \n",
       "743    False\n",
       "744    False\n",
       "745    False\n",
       "746    False\n",
       "747    False\n",
       "Name: tm_enc_r2, Length: 748, dtype: bool"
      ]
     },
     "execution_count": 52,
     "metadata": {},
     "output_type": "execute_result"
    }
   ],
   "source": [
    "df.tm_enc_r2.apply(lambda x:(x.split('_')[1]))=='cue'"
   ]
  },
  {
   "cell_type": "code",
   "execution_count": 42,
   "id": "1221af35-9ca2-40d9-9099-870ed0edd00c",
   "metadata": {},
   "outputs": [
    {
     "data": {
      "text/html": [
       "<table class=\"simpletable\">\n",
       "<tr>\n",
       "       <td>Model:</td>       <td>MixedLM</td> <td>Dependent Variable:</td>   <td>score</td> \n",
       "</tr>\n",
       "<tr>\n",
       "  <td>No. Observations:</td>   <td>921</td>         <td>Method:</td>         <td>REML</td>  \n",
       "</tr>\n",
       "<tr>\n",
       "     <td>No. Groups:</td>       <td>6</td>          <td>Scale:</td>         <td>0.0355</td> \n",
       "</tr>\n",
       "<tr>\n",
       "  <td>Min. group size:</td>     <td>3</td>      <td>Log-Likelihood:</td>   <td>184.4140</td>\n",
       "</tr>\n",
       "<tr>\n",
       "  <td>Max. group size:</td>    <td>480</td>       <td>Converged:</td>         <td>Yes</td>  \n",
       "</tr>\n",
       "<tr>\n",
       "  <td>Mean group size:</td>   <td>153.5</td>           <td></td>               <td></td>    \n",
       "</tr>\n",
       "</table>\n",
       "<table class=\"simpletable\">\n",
       "<tr>\n",
       "                 <td></td>                  <th>Coef.</th> <th>Std.Err.</th>    <th>z</th>    <th>P>|z|</th> <th>[0.025</th> <th>0.975]</th>\n",
       "</tr>\n",
       "<tr>\n",
       "  <th>Intercept</th>                        <td>0.698</td>   <td>0.078</td>   <td>8.981</td>  <td>0.000</td>  <td>0.545</td>  <td>0.850</td>\n",
       "</tr>\n",
       "<tr>\n",
       "  <th>of_coef[T.pos]</th>                   <td>0.410</td>   <td>0.023</td>  <td>17.682</td>  <td>0.000</td>  <td>0.365</td>  <td>0.456</td>\n",
       "</tr>\n",
       "<tr>\n",
       "  <th>of_coef[T.speed]</th>                <td>-1.441</td>   <td>0.023</td>  <td>-62.142</td> <td>0.000</td> <td>-1.487</td> <td>-1.396</td>\n",
       "</tr>\n",
       "<tr>\n",
       "  <th>cluster[T.1.0]</th>                  <td>-0.458</td>   <td>0.029</td>  <td>-15.892</td> <td>0.000</td> <td>-0.514</td> <td>-0.401</td>\n",
       "</tr>\n",
       "<tr>\n",
       "  <th>cluster[T.2.0]</th>                  <td>-0.936</td>   <td>0.030</td>  <td>-31.012</td> <td>0.000</td> <td>-0.995</td> <td>-0.877</td>\n",
       "</tr>\n",
       "<tr>\n",
       "  <th>of_coef[T.pos]:cluster[T.1.0]</th>    <td>0.333</td>   <td>0.036</td>   <td>9.240</td>  <td>0.000</td>  <td>0.263</td>  <td>0.404</td>\n",
       "</tr>\n",
       "<tr>\n",
       "  <th>of_coef[T.speed]:cluster[T.1.0]</th>  <td>1.026</td>   <td>0.036</td>  <td>28.455</td>  <td>0.000</td>  <td>0.956</td>  <td>1.097</td>\n",
       "</tr>\n",
       "<tr>\n",
       "  <th>of_coef[T.pos]:cluster[T.2.0]</th>    <td>0.732</td>   <td>0.037</td>  <td>19.548</td>  <td>0.000</td>  <td>0.659</td>  <td>0.806</td>\n",
       "</tr>\n",
       "<tr>\n",
       "  <th>of_coef[T.speed]:cluster[T.2.0]</th>  <td>2.053</td>   <td>0.037</td>  <td>54.802</td>  <td>0.000</td>  <td>1.980</td>  <td>2.127</td>\n",
       "</tr>\n",
       "<tr>\n",
       "  <th>subject Var</th>                      <td>0.031</td>     <td></td>        <td></td>       <td></td>       <td></td>       <td></td>   \n",
       "</tr>\n",
       "<tr>\n",
       "  <th>match_id Var</th>                     <td>0.001</td>     <td></td>        <td></td>       <td></td>       <td></td>       <td></td>   \n",
       "</tr>\n",
       "<tr>\n",
       "  <th>session_OF Var</th>                   <td>0.000</td>     <td></td>        <td></td>       <td></td>       <td></td>       <td></td>   \n",
       "</tr>\n",
       "<tr>\n",
       "  <th>session_TM Var</th>                   <td>0.000</td>     <td></td>        <td></td>       <td></td>       <td></td>       <td></td>   \n",
       "</tr>\n",
       "</table>"
      ],
      "text/plain": [
       "<class 'statsmodels.iolib.summary2.Summary'>\n",
       "\"\"\"\n",
       "                   Mixed Linear Model Regression Results\n",
       "===========================================================================\n",
       "Model:                   MixedLM        Dependent Variable:        score   \n",
       "No. Observations:        921            Method:                    REML    \n",
       "No. Groups:              6              Scale:                     0.0355  \n",
       "Min. group size:         3              Log-Likelihood:            184.4140\n",
       "Max. group size:         480            Converged:                 Yes     \n",
       "Mean group size:         153.5                                             \n",
       "---------------------------------------------------------------------------\n",
       "                                Coef.  Std.Err.    z    P>|z| [0.025 0.975]\n",
       "---------------------------------------------------------------------------\n",
       "Intercept                        0.698    0.078   8.981 0.000  0.545  0.850\n",
       "of_coef[T.pos]                   0.410    0.023  17.682 0.000  0.365  0.456\n",
       "of_coef[T.speed]                -1.441    0.023 -62.142 0.000 -1.487 -1.396\n",
       "cluster[T.1.0]                  -0.458    0.029 -15.892 0.000 -0.514 -0.401\n",
       "cluster[T.2.0]                  -0.936    0.030 -31.012 0.000 -0.995 -0.877\n",
       "of_coef[T.pos]:cluster[T.1.0]    0.333    0.036   9.240 0.000  0.263  0.404\n",
       "of_coef[T.speed]:cluster[T.1.0]  1.026    0.036  28.455 0.000  0.956  1.097\n",
       "of_coef[T.pos]:cluster[T.2.0]    0.732    0.037  19.548 0.000  0.659  0.806\n",
       "of_coef[T.speed]:cluster[T.2.0]  2.053    0.037  54.802 0.000  1.980  2.127\n",
       "subject Var                      0.031                                     \n",
       "match_id Var                     0.001                                     \n",
       "session_OF Var                   0.000                                     \n",
       "session_TM Var                   0.000                                     \n",
       "===========================================================================\n",
       "\n",
       "\"\"\""
      ]
     },
     "execution_count": 42,
     "metadata": {},
     "output_type": "execute_result"
    }
   ],
   "source": [
    "vc = {'session_TM': f\"0+C(session_TM)\",\n",
    "              'session_OF': f\"0+C(session_OF)\",\n",
    "              'match_id': f\"0+C(match_cl_id)\"\n",
    "              }\n",
    "\n",
    "model_full = smf.mixedlm(formula=f\"score ~ 1 + {score_group}*{cluster_type}\",\n",
    "                  groups='subject', re_formula='1', vc_formula=vc, data=df).fit()\n",
    "model_full.summary()"
   ]
  },
  {
   "cell_type": "code",
   "execution_count": 44,
   "id": "588eee79-7714-4269-89d8-3f8458e4d69b",
   "metadata": {},
   "outputs": [
    {
     "data": {
      "text/plain": [
       "<class 'statsmodels.stats.contrast.WaldTestResults'>\n",
       "                        chi2         P>chi2  df constraint\n",
       "Intercept          80.665369   2.673670e-19              1\n",
       "of_coef          7030.784360   0.000000e+00              2\n",
       "cluster           962.079584  1.222004e-209              2\n",
       "of_coef:cluster  3143.449000   0.000000e+00              4"
      ]
     },
     "execution_count": 44,
     "metadata": {},
     "output_type": "execute_result"
    }
   ],
   "source": [
    "model_full.wald_test_terms()"
   ]
  },
  {
   "cell_type": "code",
   "execution_count": 15,
   "id": "041941ce-6c34-46ad-842f-7d5996d02a32",
   "metadata": {},
   "outputs": [
    {
     "data": {
      "text/html": [
       "<div>\n",
       "<style scoped>\n",
       "    .dataframe tbody tr th:only-of-type {\n",
       "        vertical-align: middle;\n",
       "    }\n",
       "\n",
       "    .dataframe tbody tr th {\n",
       "        vertical-align: top;\n",
       "    }\n",
       "\n",
       "    .dataframe thead th {\n",
       "        text-align: right;\n",
       "    }\n",
       "</style>\n",
       "<table border=\"1\" class=\"dataframe\">\n",
       "  <thead>\n",
       "    <tr style=\"text-align: right;\">\n",
       "      <th></th>\n",
       "      <th>UMAP-1</th>\n",
       "      <th>UMAP-2</th>\n",
       "      <th>Cluster</th>\n",
       "    </tr>\n",
       "  </thead>\n",
       "  <tbody>\n",
       "    <tr>\n",
       "      <th>0</th>\n",
       "      <td>-3.854654</td>\n",
       "      <td>2.271504</td>\n",
       "      <td>0</td>\n",
       "    </tr>\n",
       "    <tr>\n",
       "      <th>0</th>\n",
       "      <td>-3.854654</td>\n",
       "      <td>2.271504</td>\n",
       "      <td>0</td>\n",
       "    </tr>\n",
       "    <tr>\n",
       "      <th>1</th>\n",
       "      <td>2.951423</td>\n",
       "      <td>0.263405</td>\n",
       "      <td>1</td>\n",
       "    </tr>\n",
       "    <tr>\n",
       "      <th>1</th>\n",
       "      <td>2.951423</td>\n",
       "      <td>0.263405</td>\n",
       "      <td>1</td>\n",
       "    </tr>\n",
       "    <tr>\n",
       "      <th>2</th>\n",
       "      <td>9.045257</td>\n",
       "      <td>-0.002619</td>\n",
       "      <td>2</td>\n",
       "    </tr>\n",
       "    <tr>\n",
       "      <th>...</th>\n",
       "      <td>...</td>\n",
       "      <td>...</td>\n",
       "      <td>...</td>\n",
       "    </tr>\n",
       "    <tr>\n",
       "      <th>213</th>\n",
       "      <td>8.037321</td>\n",
       "      <td>-0.146413</td>\n",
       "      <td>2</td>\n",
       "    </tr>\n",
       "    <tr>\n",
       "      <th>214</th>\n",
       "      <td>5.244091</td>\n",
       "      <td>0.836049</td>\n",
       "      <td>1</td>\n",
       "    </tr>\n",
       "    <tr>\n",
       "      <th>214</th>\n",
       "      <td>5.244091</td>\n",
       "      <td>0.836049</td>\n",
       "      <td>1</td>\n",
       "    </tr>\n",
       "    <tr>\n",
       "      <th>215</th>\n",
       "      <td>3.908710</td>\n",
       "      <td>1.039502</td>\n",
       "      <td>1</td>\n",
       "    </tr>\n",
       "    <tr>\n",
       "      <th>216</th>\n",
       "      <td>-3.283478</td>\n",
       "      <td>3.804898</td>\n",
       "      <td>0</td>\n",
       "    </tr>\n",
       "  </tbody>\n",
       "</table>\n",
       "<p>307 rows × 3 columns</p>\n",
       "</div>"
      ],
      "text/plain": [
       "       UMAP-1    UMAP-2  Cluster\n",
       "0   -3.854654  2.271504        0\n",
       "0   -3.854654  2.271504        0\n",
       "1    2.951423  0.263405        1\n",
       "1    2.951423  0.263405        1\n",
       "2    9.045257 -0.002619        2\n",
       "..        ...       ...      ...\n",
       "213  8.037321 -0.146413        2\n",
       "214  5.244091  0.836049        1\n",
       "214  5.244091  0.836049        1\n",
       "215  3.908710  1.039502        1\n",
       "216 -3.283478  3.804898        0\n",
       "\n",
       "[307 rows x 3 columns]"
      ]
     },
     "execution_count": 15,
     "metadata": {},
     "output_type": "execute_result"
    }
   ],
   "source": [
    "cluster_table.loc[cm_table['match_cl_id']]\n",
    "# cm_table[['cluster', 'umap_1', 'umap_2']] = cm\n",
    "# cluster_table."
   ]
  },
  {
   "cell_type": "code",
   "execution_count": null,
   "id": "21654400-f430-42f2-8678-e6f42c5a1469",
   "metadata": {},
   "outputs": [],
   "source": []
  },
  {
   "cell_type": "code",
   "execution_count": 9,
   "id": "e3d622ac-f87d-4bd3-8b09-8533b0e09d25",
   "metadata": {},
   "outputs": [
    {
     "data": {
      "text/html": [
       "<div>\n",
       "<style scoped>\n",
       "    .dataframe tbody tr th:only-of-type {\n",
       "        vertical-align: middle;\n",
       "    }\n",
       "\n",
       "    .dataframe tbody tr th {\n",
       "        vertical-align: top;\n",
       "    }\n",
       "\n",
       "    .dataframe thead th {\n",
       "        text-align: right;\n",
       "    }\n",
       "</style>\n",
       "<table border=\"1\" class=\"dataframe\">\n",
       "  <thead>\n",
       "    <tr style=\"text-align: right;\">\n",
       "      <th></th>\n",
       "      <th>match_cl_id</th>\n",
       "      <th>subject</th>\n",
       "      <th>session_T3</th>\n",
       "      <th>session_OF</th>\n",
       "      <th>cl_id_T3</th>\n",
       "      <th>cl_id_OF</th>\n",
       "      <th>cl_name_T3</th>\n",
       "      <th>cl_name_OF</th>\n",
       "      <th>session_cl_id_T3</th>\n",
       "      <th>session_cl_id_OF</th>\n",
       "      <th>match_pair_number</th>\n",
       "    </tr>\n",
       "  </thead>\n",
       "  <tbody>\n",
       "    <tr>\n",
       "      <th>0</th>\n",
       "      <td>0</td>\n",
       "      <td>Li</td>\n",
       "      <td>Li_T3i_061218_0001</td>\n",
       "      <td>Li_OF_061318</td>\n",
       "      <td>438</td>\n",
       "      <td>458</td>\n",
       "      <td>Li_T3i_061218_0001-tt3_d17.5_cl10</td>\n",
       "      <td>Li_OF_061318-tt3_d17.5_cl1</td>\n",
       "      <td>0</td>\n",
       "      <td>1</td>\n",
       "      <td>0</td>\n",
       "    </tr>\n",
       "    <tr>\n",
       "      <th>1</th>\n",
       "      <td>0</td>\n",
       "      <td>Li</td>\n",
       "      <td>Li_T3g_061318</td>\n",
       "      <td>Li_OF_061318</td>\n",
       "      <td>476</td>\n",
       "      <td>458</td>\n",
       "      <td>Li_T3g_061318-tt3_d17.5_cl5</td>\n",
       "      <td>Li_OF_061318-tt3_d17.5_cl1</td>\n",
       "      <td>0</td>\n",
       "      <td>1</td>\n",
       "      <td>1</td>\n",
       "    </tr>\n",
       "    <tr>\n",
       "      <th>2</th>\n",
       "      <td>1</td>\n",
       "      <td>Li</td>\n",
       "      <td>Li_T3g_061518</td>\n",
       "      <td>Li_OF_062618</td>\n",
       "      <td>563</td>\n",
       "      <td>778</td>\n",
       "      <td>Li_T3g_061518-tt3_d17.75_cl1</td>\n",
       "      <td>Li_OF_062618-tt3_d17.75_cl15</td>\n",
       "      <td>0</td>\n",
       "      <td>1</td>\n",
       "      <td>0</td>\n",
       "    </tr>\n",
       "    <tr>\n",
       "      <th>3</th>\n",
       "      <td>1</td>\n",
       "      <td>Li</td>\n",
       "      <td>Li_T3g_061818</td>\n",
       "      <td>Li_OF_062618</td>\n",
       "      <td>614</td>\n",
       "      <td>778</td>\n",
       "      <td>Li_T3g_061818-tt3_d17.75_cl7</td>\n",
       "      <td>Li_OF_062618-tt3_d17.75_cl15</td>\n",
       "      <td>1</td>\n",
       "      <td>1</td>\n",
       "      <td>1</td>\n",
       "    </tr>\n",
       "    <tr>\n",
       "      <th>4</th>\n",
       "      <td>2</td>\n",
       "      <td>Li</td>\n",
       "      <td>Li_T3g_061818</td>\n",
       "      <td>Li_OF_061818</td>\n",
       "      <td>613</td>\n",
       "      <td>587</td>\n",
       "      <td>Li_T3g_061818-tt3_d17.75_cl6</td>\n",
       "      <td>Li_OF_061818-tt3_d17.75_cl14</td>\n",
       "      <td>0</td>\n",
       "      <td>1</td>\n",
       "      <td>0</td>\n",
       "    </tr>\n",
       "    <tr>\n",
       "      <th>...</th>\n",
       "      <td>...</td>\n",
       "      <td>...</td>\n",
       "      <td>...</td>\n",
       "      <td>...</td>\n",
       "      <td>...</td>\n",
       "      <td>...</td>\n",
       "      <td>...</td>\n",
       "      <td>...</td>\n",
       "      <td>...</td>\n",
       "      <td>...</td>\n",
       "      <td>...</td>\n",
       "    </tr>\n",
       "    <tr>\n",
       "      <th>302</th>\n",
       "      <td>213</td>\n",
       "      <td>Ca</td>\n",
       "      <td>Ca_T3g_030619</td>\n",
       "      <td>Ca_OF_030619</td>\n",
       "      <td>4287</td>\n",
       "      <td>4279</td>\n",
       "      <td>Ca_T3g_030619-tt11_d15.5_cl10</td>\n",
       "      <td>Ca_OF_030619-tt11_d15.5_cl10</td>\n",
       "      <td>0</td>\n",
       "      <td>0</td>\n",
       "      <td>0</td>\n",
       "    </tr>\n",
       "    <tr>\n",
       "      <th>303</th>\n",
       "      <td>214</td>\n",
       "      <td>Ca</td>\n",
       "      <td>Ca_T3g_030619</td>\n",
       "      <td>Ca_OF_030619</td>\n",
       "      <td>4288</td>\n",
       "      <td>4280</td>\n",
       "      <td>Ca_T3g_030619-tt11_d15.5_cl12</td>\n",
       "      <td>Ca_OF_030619-tt11_d15.5_cl13</td>\n",
       "      <td>1</td>\n",
       "      <td>1</td>\n",
       "      <td>0</td>\n",
       "    </tr>\n",
       "    <tr>\n",
       "      <th>304</th>\n",
       "      <td>214</td>\n",
       "      <td>Ca</td>\n",
       "      <td>Ca_T3g_030719</td>\n",
       "      <td>Ca_OF_030619</td>\n",
       "      <td>4296</td>\n",
       "      <td>4280</td>\n",
       "      <td>Ca_T3g_030719-tt11_d15.5_cl9</td>\n",
       "      <td>Ca_OF_030619-tt11_d15.5_cl13</td>\n",
       "      <td>0</td>\n",
       "      <td>1</td>\n",
       "      <td>1</td>\n",
       "    </tr>\n",
       "    <tr>\n",
       "      <th>305</th>\n",
       "      <td>215</td>\n",
       "      <td>Ca</td>\n",
       "      <td>Ca_T3g_031219</td>\n",
       "      <td>Ca_OF_031219</td>\n",
       "      <td>4310</td>\n",
       "      <td>4313</td>\n",
       "      <td>Ca_T3g_031219-tt11_d16.25_cl2</td>\n",
       "      <td>Ca_OF_031219-tt11_d16.25_cl4</td>\n",
       "      <td>0</td>\n",
       "      <td>0</td>\n",
       "      <td>0</td>\n",
       "    </tr>\n",
       "    <tr>\n",
       "      <th>306</th>\n",
       "      <td>216</td>\n",
       "      <td>Mi</td>\n",
       "      <td>Mi_T3g_011020</td>\n",
       "      <td>Mi_OF_011020</td>\n",
       "      <td>4420</td>\n",
       "      <td>4415</td>\n",
       "      <td>Mi_T3g_011020-tt12_d15.375_cl0</td>\n",
       "      <td>Mi_OF_011020-tt12_d15.375_cl0</td>\n",
       "      <td>2</td>\n",
       "      <td>0</td>\n",
       "      <td>0</td>\n",
       "    </tr>\n",
       "  </tbody>\n",
       "</table>\n",
       "<p>307 rows × 11 columns</p>\n",
       "</div>"
      ],
      "text/plain": [
       "     match_cl_id subject          session_T3    session_OF  cl_id_T3  \\\n",
       "0              0      Li  Li_T3i_061218_0001  Li_OF_061318       438   \n",
       "1              0      Li       Li_T3g_061318  Li_OF_061318       476   \n",
       "2              1      Li       Li_T3g_061518  Li_OF_062618       563   \n",
       "3              1      Li       Li_T3g_061818  Li_OF_062618       614   \n",
       "4              2      Li       Li_T3g_061818  Li_OF_061818       613   \n",
       "..           ...     ...                 ...           ...       ...   \n",
       "302          213      Ca       Ca_T3g_030619  Ca_OF_030619      4287   \n",
       "303          214      Ca       Ca_T3g_030619  Ca_OF_030619      4288   \n",
       "304          214      Ca       Ca_T3g_030719  Ca_OF_030619      4296   \n",
       "305          215      Ca       Ca_T3g_031219  Ca_OF_031219      4310   \n",
       "306          216      Mi       Mi_T3g_011020  Mi_OF_011020      4420   \n",
       "\n",
       "     cl_id_OF                         cl_name_T3  \\\n",
       "0         458  Li_T3i_061218_0001-tt3_d17.5_cl10   \n",
       "1         458        Li_T3g_061318-tt3_d17.5_cl5   \n",
       "2         778       Li_T3g_061518-tt3_d17.75_cl1   \n",
       "3         778       Li_T3g_061818-tt3_d17.75_cl7   \n",
       "4         587       Li_T3g_061818-tt3_d17.75_cl6   \n",
       "..        ...                                ...   \n",
       "302      4279      Ca_T3g_030619-tt11_d15.5_cl10   \n",
       "303      4280      Ca_T3g_030619-tt11_d15.5_cl12   \n",
       "304      4280       Ca_T3g_030719-tt11_d15.5_cl9   \n",
       "305      4313      Ca_T3g_031219-tt11_d16.25_cl2   \n",
       "306      4415     Mi_T3g_011020-tt12_d15.375_cl0   \n",
       "\n",
       "                        cl_name_OF  session_cl_id_T3  session_cl_id_OF  \\\n",
       "0       Li_OF_061318-tt3_d17.5_cl1                 0                 1   \n",
       "1       Li_OF_061318-tt3_d17.5_cl1                 0                 1   \n",
       "2     Li_OF_062618-tt3_d17.75_cl15                 0                 1   \n",
       "3     Li_OF_062618-tt3_d17.75_cl15                 1                 1   \n",
       "4     Li_OF_061818-tt3_d17.75_cl14                 0                 1   \n",
       "..                             ...               ...               ...   \n",
       "302   Ca_OF_030619-tt11_d15.5_cl10                 0                 0   \n",
       "303   Ca_OF_030619-tt11_d15.5_cl13                 1                 1   \n",
       "304   Ca_OF_030619-tt11_d15.5_cl13                 0                 1   \n",
       "305   Ca_OF_031219-tt11_d16.25_cl4                 0                 0   \n",
       "306  Mi_OF_011020-tt12_d15.375_cl0                 2                 0   \n",
       "\n",
       "     match_pair_number  \n",
       "0                    0  \n",
       "1                    1  \n",
       "2                    0  \n",
       "3                    1  \n",
       "4                    0  \n",
       "..                 ...  \n",
       "302                  0  \n",
       "303                  0  \n",
       "304                  1  \n",
       "305                  0  \n",
       "306                  0  \n",
       "\n",
       "[307 rows x 11 columns]"
      ]
     },
     "execution_count": 9,
     "metadata": {},
     "output_type": "execute_result"
    }
   ],
   "source": [
    "match_table"
   ]
  },
  {
   "cell_type": "code",
   "execution_count": 308,
   "id": "f38ef630-9b24-428f-954f-1d6520b64660",
   "metadata": {},
   "outputs": [
    {
     "data": {
      "text/html": [
       "<div>\n",
       "<style scoped>\n",
       "    .dataframe tbody tr th:only-of-type {\n",
       "        vertical-align: middle;\n",
       "    }\n",
       "\n",
       "    .dataframe tbody tr th {\n",
       "        vertical-align: top;\n",
       "    }\n",
       "\n",
       "    .dataframe thead th {\n",
       "        text-align: right;\n",
       "    }\n",
       "</style>\n",
       "<table border=\"1\" class=\"dataframe\">\n",
       "  <thead>\n",
       "    <tr style=\"text-align: right;\">\n",
       "      <th></th>\n",
       "      <th>unit_id</th>\n",
       "      <th>model</th>\n",
       "      <th>subject</th>\n",
       "      <th>session</th>\n",
       "      <th>split</th>\n",
       "      <th>value</th>\n",
       "      <th>unit_type</th>\n",
       "      <th>speed</th>\n",
       "      <th>hd</th>\n",
       "      <th>pos</th>\n",
       "      <th>agg_sdp</th>\n",
       "      <th>best_model</th>\n",
       "    </tr>\n",
       "  </thead>\n",
       "  <tbody>\n",
       "    <tr>\n",
       "      <th>0</th>\n",
       "      <td>0</td>\n",
       "      <td>speed</td>\n",
       "      <td>Li</td>\n",
       "      <td>Li_OF_052818</td>\n",
       "      <td>test</td>\n",
       "      <td>0.009095</td>\n",
       "      <td>cell</td>\n",
       "      <td>1</td>\n",
       "      <td>0</td>\n",
       "      <td>0</td>\n",
       "      <td>0</td>\n",
       "      <td>agg_sdp</td>\n",
       "    </tr>\n",
       "    <tr>\n",
       "      <th>1</th>\n",
       "      <td>1</td>\n",
       "      <td>speed</td>\n",
       "      <td>Li</td>\n",
       "      <td>Li_OF_052818</td>\n",
       "      <td>test</td>\n",
       "      <td>-0.016607</td>\n",
       "      <td>cell</td>\n",
       "      <td>1</td>\n",
       "      <td>0</td>\n",
       "      <td>0</td>\n",
       "      <td>0</td>\n",
       "      <td>hd</td>\n",
       "    </tr>\n",
       "    <tr>\n",
       "      <th>2</th>\n",
       "      <td>2</td>\n",
       "      <td>speed</td>\n",
       "      <td>Li</td>\n",
       "      <td>Li_OF_052818</td>\n",
       "      <td>test</td>\n",
       "      <td>-0.009073</td>\n",
       "      <td>cell</td>\n",
       "      <td>1</td>\n",
       "      <td>0</td>\n",
       "      <td>0</td>\n",
       "      <td>0</td>\n",
       "      <td>agg_sdp</td>\n",
       "    </tr>\n",
       "    <tr>\n",
       "      <th>3</th>\n",
       "      <td>0</td>\n",
       "      <td>hd</td>\n",
       "      <td>Li</td>\n",
       "      <td>Li_OF_052818</td>\n",
       "      <td>test</td>\n",
       "      <td>-0.031859</td>\n",
       "      <td>cell</td>\n",
       "      <td>0</td>\n",
       "      <td>1</td>\n",
       "      <td>0</td>\n",
       "      <td>0</td>\n",
       "      <td>agg_sdp</td>\n",
       "    </tr>\n",
       "    <tr>\n",
       "      <th>4</th>\n",
       "      <td>1</td>\n",
       "      <td>hd</td>\n",
       "      <td>Li</td>\n",
       "      <td>Li_OF_052818</td>\n",
       "      <td>test</td>\n",
       "      <td>0.019848</td>\n",
       "      <td>cell</td>\n",
       "      <td>0</td>\n",
       "      <td>1</td>\n",
       "      <td>0</td>\n",
       "      <td>0</td>\n",
       "      <td>hd</td>\n",
       "    </tr>\n",
       "    <tr>\n",
       "      <th>...</th>\n",
       "      <td>...</td>\n",
       "      <td>...</td>\n",
       "      <td>...</td>\n",
       "      <td>...</td>\n",
       "      <td>...</td>\n",
       "      <td>...</td>\n",
       "      <td>...</td>\n",
       "      <td>...</td>\n",
       "      <td>...</td>\n",
       "      <td>...</td>\n",
       "      <td>...</td>\n",
       "      <td>...</td>\n",
       "    </tr>\n",
       "    <tr>\n",
       "      <th>2711</th>\n",
       "      <td>2217</td>\n",
       "      <td>agg_sdp</td>\n",
       "      <td>Mi</td>\n",
       "      <td>Mi_OF_021720</td>\n",
       "      <td>test</td>\n",
       "      <td>0.041835</td>\n",
       "      <td>cell</td>\n",
       "      <td>0</td>\n",
       "      <td>0</td>\n",
       "      <td>0</td>\n",
       "      <td>1</td>\n",
       "      <td>speed</td>\n",
       "    </tr>\n",
       "    <tr>\n",
       "      <th>2712</th>\n",
       "      <td>2219</td>\n",
       "      <td>speed</td>\n",
       "      <td>Mi</td>\n",
       "      <td>Mi_OF_021820</td>\n",
       "      <td>test</td>\n",
       "      <td>0.041633</td>\n",
       "      <td>cell</td>\n",
       "      <td>1</td>\n",
       "      <td>0</td>\n",
       "      <td>0</td>\n",
       "      <td>0</td>\n",
       "      <td>speed</td>\n",
       "    </tr>\n",
       "    <tr>\n",
       "      <th>2713</th>\n",
       "      <td>2219</td>\n",
       "      <td>hd</td>\n",
       "      <td>Mi</td>\n",
       "      <td>Mi_OF_021820</td>\n",
       "      <td>test</td>\n",
       "      <td>-0.001531</td>\n",
       "      <td>cell</td>\n",
       "      <td>0</td>\n",
       "      <td>1</td>\n",
       "      <td>0</td>\n",
       "      <td>0</td>\n",
       "      <td>speed</td>\n",
       "    </tr>\n",
       "    <tr>\n",
       "      <th>2714</th>\n",
       "      <td>2219</td>\n",
       "      <td>pos</td>\n",
       "      <td>Mi</td>\n",
       "      <td>Mi_OF_021820</td>\n",
       "      <td>test</td>\n",
       "      <td>0.007160</td>\n",
       "      <td>cell</td>\n",
       "      <td>0</td>\n",
       "      <td>0</td>\n",
       "      <td>1</td>\n",
       "      <td>0</td>\n",
       "      <td>speed</td>\n",
       "    </tr>\n",
       "    <tr>\n",
       "      <th>2715</th>\n",
       "      <td>2219</td>\n",
       "      <td>agg_sdp</td>\n",
       "      <td>Mi</td>\n",
       "      <td>Mi_OF_021820</td>\n",
       "      <td>test</td>\n",
       "      <td>0.036608</td>\n",
       "      <td>cell</td>\n",
       "      <td>0</td>\n",
       "      <td>0</td>\n",
       "      <td>0</td>\n",
       "      <td>1</td>\n",
       "      <td>speed</td>\n",
       "    </tr>\n",
       "  </tbody>\n",
       "</table>\n",
       "<p>2716 rows × 12 columns</p>\n",
       "</div>"
      ],
      "text/plain": [
       "      unit_id    model subject       session split     value unit_type  speed  \\\n",
       "0           0    speed      Li  Li_OF_052818  test  0.009095      cell      1   \n",
       "1           1    speed      Li  Li_OF_052818  test -0.016607      cell      1   \n",
       "2           2    speed      Li  Li_OF_052818  test -0.009073      cell      1   \n",
       "3           0       hd      Li  Li_OF_052818  test -0.031859      cell      0   \n",
       "4           1       hd      Li  Li_OF_052818  test  0.019848      cell      0   \n",
       "...       ...      ...     ...           ...   ...       ...       ...    ...   \n",
       "2711     2217  agg_sdp      Mi  Mi_OF_021720  test  0.041835      cell      0   \n",
       "2712     2219    speed      Mi  Mi_OF_021820  test  0.041633      cell      1   \n",
       "2713     2219       hd      Mi  Mi_OF_021820  test -0.001531      cell      0   \n",
       "2714     2219      pos      Mi  Mi_OF_021820  test  0.007160      cell      0   \n",
       "2715     2219  agg_sdp      Mi  Mi_OF_021820  test  0.036608      cell      0   \n",
       "\n",
       "      hd  pos  agg_sdp best_model  \n",
       "0      0    0        0    agg_sdp  \n",
       "1      0    0        0         hd  \n",
       "2      0    0        0    agg_sdp  \n",
       "3      1    0        0    agg_sdp  \n",
       "4      1    0        0         hd  \n",
       "...   ..  ...      ...        ...  \n",
       "2711   0    0        1      speed  \n",
       "2712   0    0        0      speed  \n",
       "2713   1    0        0      speed  \n",
       "2714   0    1        0      speed  \n",
       "2715   0    0        1      speed  \n",
       "\n",
       "[2716 rows x 12 columns]"
      ]
     },
     "execution_count": 308,
     "metadata": {},
     "output_type": "execute_result"
    }
   ],
   "source": [
    "test_mpdel = 'agg_sdp'\n",
    "unit_type = 'cell'\n",
    "score_type = 'r2'\n",
    "_, scores = info.get_of_results(model_analyses='new')\n",
    "\n",
    "exclude_units = scores[(scores.value <= -1) & (scores.metric == 'r2')].unit_id.unique()\n",
    "exclude_units = np.union1d(exclude_units, scores[scores.unit_type == 'mua'].unit_id.unique())\n",
    "valid_untis = np.setdiff1d(scores.unit_id.unique(), exclude_units)\n",
    "\n",
    "df = scores[scores.unit_id.isin(valid_untis)].copy()\n",
    "if unit_type != 'all':\n",
    "    df = df[df.unit_type == unit_type]\n",
    "df = df.loc[(df.metric == score_type) & (df.split == 'test'),\n",
    "            ['unit_id', 'model', 'subject', 'session', 'split', 'value', 'unit_type']].copy()\n",
    "df.dropna(inplace=True)\n",
    "df.reset_index(drop=True, inplace=True)\n",
    "\n",
    "\n",
    "models = df.model.unique()\n",
    "for m in models:\n",
    "    df[m] = 0\n",
    "    df.loc[df.model == m, m] = 1\n",
    "\n",
    "df['best_model'] = 'na'\n",
    "for unit in df.unit_id.unique():\n",
    "    idx = df.unit_id==unit\n",
    "    df.loc[idx, 'best_model'] = df[idx].sort_values('value', ascending=False).model.iloc[0]\n",
    "\n"
   ]
  },
  {
   "cell_type": "code",
   "execution_count": 313,
   "id": "afccd16e-8da2-4dbb-9130-f2c1a6281e7c",
   "metadata": {},
   "outputs": [
    {
     "data": {
      "text/plain": [
       "(agg_sdp    445.0\n",
       " speed       85.0\n",
       " hd          75.0\n",
       " pos         74.0\n",
       " Name: best_model, dtype: float64,\n",
       " 679,\n",
       " 679)"
      ]
     },
     "execution_count": 313,
     "metadata": {},
     "output_type": "execute_result"
    }
   ],
   "source": [
    "df.best_model.value_counts()/4, len(df.unit_id.unique()), 445+85+75+74\n"
   ]
  },
  {
   "cell_type": "code",
   "execution_count": 331,
   "id": "683ab45e-9be6-4060-93d4-4cad19bd57dc",
   "metadata": {},
   "outputs": [
    {
     "name": "stdout",
     "output_type": "stream",
     "text": [
      "[[-1.  0.  0.  1.  0.  0.  0.]\n",
      " [ 0. -1.  0.  1.  0.  0.  0.]\n",
      " [ 0.  0. -1.  1.  0.  0.  0.]]\n",
      "Joint Hypothesis Test: agg_sdp>all other models.\n",
      "<Wald test (chi2): statistic=[[653.0076245]], p-value=3.245329172875376e-141, df_denom=3>\n"
     ]
    }
   ],
   "source": [
    "models = ['speed', 'hd', 'pos', 'agg_sdp']\n",
    "test_model='agg_sdp'\n",
    "r = lmm_stats.result\n",
    "p = r.params.index\n",
    "\n",
    "A = np.zeros((len(p), len(p)))\n",
    "t_idx = np.nan\n",
    "for ii, m in enumerate(models):\n",
    "    if m==test_model:\n",
    "        A[:, p == test_model] = 1\n",
    "        t_idx=ii\n",
    "    if m != test_model:\n",
    "        A[ii, p == m] = -1\n",
    "A = A[:len(models)]\n",
    "A = np.delete(A,t_idx,0)\n",
    "\n",
    "print(f\"Joint Hypothesis Test: {test_model}!=all other models.\")\n",
    "print(r.wald_test(A))"
   ]
  },
  {
   "cell_type": "code",
   "execution_count": 332,
   "id": "84f55d1f-5f19-4fcf-a57a-9d6d3e0a2054",
   "metadata": {},
   "outputs": [
    {
     "data": {
      "text/plain": [
       "<class 'statsmodels.stats.contrast.ContrastResults'>\n",
       "                             Test for Constraints                             \n",
       "==============================================================================\n",
       "                 coef    std err          z      P>|z|      [0.025      0.975]\n",
       "------------------------------------------------------------------------------\n",
       "c0             0.0887      0.004     24.315      0.000       0.082       0.096\n",
       "c1             0.0692      0.004     18.959      0.000       0.062       0.076\n",
       "c2             0.0517      0.004     14.170      0.000       0.045       0.059\n",
       "=============================================================================="
      ]
     },
     "execution_count": 332,
     "metadata": {},
     "output_type": "execute_result"
    }
   ],
   "source": [
    "r.t_test(A[:,:4])"
   ]
  },
  {
   "cell_type": "code",
   "execution_count": 336,
   "id": "262b9b36-970d-4d42-9f73-9c6bab935f02",
   "metadata": {},
   "outputs": [
    {
     "data": {
      "text/plain": [
       "array(['speed', 'hd', 'pos', 'agg_sdp', 'subject Var', 'session Var',\n",
       "       'unit_id Var'], dtype=object)"
      ]
     },
     "execution_count": 336,
     "metadata": {},
     "output_type": "execute_result"
    }
   ],
   "source": []
  },
  {
   "cell_type": "code",
   "execution_count": 288,
   "id": "2ba2aa45-78a4-4ef8-a2e8-2a61f304aede",
   "metadata": {},
   "outputs": [
    {
     "data": {
      "text/plain": [
       "array([[-1.,  0.,  0.,  1.,  0.,  0.,  0.],\n",
       "       [ 0.,  0.,  0.,  1.,  0.,  0.,  0.],\n",
       "       [ 0.,  0.,  0.,  1.,  0.,  0.,  0.]])"
      ]
     },
     "execution_count": 288,
     "metadata": {},
     "output_type": "execute_result"
    }
   ],
   "source": [
    "ii=0\n",
    "m = 'speed'\n",
    "A[ii, p == m] = -1\n",
    "A"
   ]
  },
  {
   "cell_type": "code",
   "execution_count": 279,
   "id": "8e1f75a4-339b-419d-a546-79cecc5a86d5",
   "metadata": {},
   "outputs": [
    {
     "data": {
      "text/plain": [
       "array([[0., 0., 0., 0., 0., 0., 0.],\n",
       "       [0., 0., 0., 0., 0., 0., 0.],\n",
       "       [0., 0., 0., 0., 0., 0., 0.],\n",
       "       [0., 0., 0., 0., 0., 0., 0.],\n",
       "       [0., 0., 0., 0., 0., 0., 0.],\n",
       "       [0., 0., 0., 0., 0., 0., 0.],\n",
       "       [0., 0., 0., 0., 0., 0., 0.]])"
      ]
     },
     "execution_count": 279,
     "metadata": {},
     "output_type": "execute_result"
    }
   ],
   "source": [
    "A = np.zeros((len(p), len(p)))\n",
    "A[:, p == test_model] = 1\n",
    "A"
   ]
  },
  {
   "cell_type": "code",
   "execution_count": 206,
   "id": "1816e80e-e363-4693-8831-c15548a08543",
   "metadata": {},
   "outputs": [
    {
     "data": {
      "text/html": [
       "<div>\n",
       "<style scoped>\n",
       "    .dataframe tbody tr th:only-of-type {\n",
       "        vertical-align: middle;\n",
       "    }\n",
       "\n",
       "    .dataframe tbody tr th {\n",
       "        vertical-align: top;\n",
       "    }\n",
       "\n",
       "    .dataframe thead th {\n",
       "        text-align: right;\n",
       "    }\n",
       "</style>\n",
       "<table border=\"1\" class=\"dataframe\">\n",
       "  <thead>\n",
       "    <tr style=\"text-align: right;\">\n",
       "      <th></th>\n",
       "      <th>session_unit_id</th>\n",
       "      <th>expt</th>\n",
       "      <th>comp</th>\n",
       "      <th>mean_test</th>\n",
       "      <th>mean_null</th>\n",
       "      <th>test_cond</th>\n",
       "      <th>null_cond</th>\n",
       "      <th>uz</th>\n",
       "      <th>md</th>\n",
       "      <th>subject</th>\n",
       "      <th>session</th>\n",
       "      <th>session_pct_cov</th>\n",
       "      <th>unit_type</th>\n",
       "      <th>tt</th>\n",
       "      <th>tt_cl</th>\n",
       "      <th>cl_name</th>\n",
       "      <th>task</th>\n",
       "      <th>unit_id</th>\n",
       "    </tr>\n",
       "  </thead>\n",
       "  <tbody>\n",
       "    <tr>\n",
       "      <th>6</th>\n",
       "      <td>0</td>\n",
       "      <td>cue</td>\n",
       "      <td>fixed_v_none</td>\n",
       "      <td>8.488033e-02</td>\n",
       "      <td>8.048627e-02</td>\n",
       "      <td>fixed</td>\n",
       "      <td>none</td>\n",
       "      <td>0.151186</td>\n",
       "      <td>0.003671</td>\n",
       "      <td>Li</td>\n",
       "      <td>Li_T3g_052818</td>\n",
       "      <td>NaN</td>\n",
       "      <td>mua</td>\n",
       "      <td>2</td>\n",
       "      <td>11</td>\n",
       "      <td>Li_T3g_052818-tt2_d16.5_cl11</td>\n",
       "      <td>T3g</td>\n",
       "      <td>0</td>\n",
       "    </tr>\n",
       "    <tr>\n",
       "      <th>7</th>\n",
       "      <td>1</td>\n",
       "      <td>cue</td>\n",
       "      <td>fixed_v_none</td>\n",
       "      <td>2.149854e-02</td>\n",
       "      <td>1.896742e-02</td>\n",
       "      <td>fixed</td>\n",
       "      <td>none</td>\n",
       "      <td>0.302372</td>\n",
       "      <td>0.002760</td>\n",
       "      <td>Li</td>\n",
       "      <td>Li_T3g_052818</td>\n",
       "      <td>NaN</td>\n",
       "      <td>mua</td>\n",
       "      <td>2</td>\n",
       "      <td>14</td>\n",
       "      <td>Li_T3g_052818-tt2_d16.5_cl14</td>\n",
       "      <td>T3g</td>\n",
       "      <td>1</td>\n",
       "    </tr>\n",
       "    <tr>\n",
       "      <th>8</th>\n",
       "      <td>0</td>\n",
       "      <td>cue</td>\n",
       "      <td>none_v_inter</td>\n",
       "      <td>8.048627e-02</td>\n",
       "      <td>7.670648e-02</td>\n",
       "      <td>none</td>\n",
       "      <td>inter</td>\n",
       "      <td>0.377964</td>\n",
       "      <td>0.004767</td>\n",
       "      <td>Li</td>\n",
       "      <td>Li_T3g_052818</td>\n",
       "      <td>NaN</td>\n",
       "      <td>mua</td>\n",
       "      <td>2</td>\n",
       "      <td>11</td>\n",
       "      <td>Li_T3g_052818-tt2_d16.5_cl11</td>\n",
       "      <td>T3g</td>\n",
       "      <td>0</td>\n",
       "    </tr>\n",
       "    <tr>\n",
       "      <th>9</th>\n",
       "      <td>1</td>\n",
       "      <td>cue</td>\n",
       "      <td>none_v_inter</td>\n",
       "      <td>1.896742e-02</td>\n",
       "      <td>1.173904e-02</td>\n",
       "      <td>none</td>\n",
       "      <td>inter</td>\n",
       "      <td>0.226779</td>\n",
       "      <td>0.001907</td>\n",
       "      <td>Li</td>\n",
       "      <td>Li_T3g_052818</td>\n",
       "      <td>NaN</td>\n",
       "      <td>mua</td>\n",
       "      <td>2</td>\n",
       "      <td>14</td>\n",
       "      <td>Li_T3g_052818-tt2_d16.5_cl14</td>\n",
       "      <td>T3g</td>\n",
       "      <td>1</td>\n",
       "    </tr>\n",
       "    <tr>\n",
       "      <th>10</th>\n",
       "      <td>0</td>\n",
       "      <td>cue</td>\n",
       "      <td>inter_v_fixed</td>\n",
       "      <td>7.670648e-02</td>\n",
       "      <td>8.488033e-02</td>\n",
       "      <td>inter</td>\n",
       "      <td>fixed</td>\n",
       "      <td>-0.529150</td>\n",
       "      <td>-0.009694</td>\n",
       "      <td>Li</td>\n",
       "      <td>Li_T3g_052818</td>\n",
       "      <td>NaN</td>\n",
       "      <td>mua</td>\n",
       "      <td>2</td>\n",
       "      <td>11</td>\n",
       "      <td>Li_T3g_052818-tt2_d16.5_cl11</td>\n",
       "      <td>T3g</td>\n",
       "      <td>0</td>\n",
       "    </tr>\n",
       "    <tr>\n",
       "      <th>...</th>\n",
       "      <td>...</td>\n",
       "      <td>...</td>\n",
       "      <td>...</td>\n",
       "      <td>...</td>\n",
       "      <td>...</td>\n",
       "      <td>...</td>\n",
       "      <td>...</td>\n",
       "      <td>...</td>\n",
       "      <td>...</td>\n",
       "      <td>...</td>\n",
       "      <td>...</td>\n",
       "      <td>...</td>\n",
       "      <td>...</td>\n",
       "      <td>...</td>\n",
       "      <td>...</td>\n",
       "      <td>...</td>\n",
       "      <td>...</td>\n",
       "      <td>...</td>\n",
       "    </tr>\n",
       "    <tr>\n",
       "      <th>18868</th>\n",
       "      <td>0</td>\n",
       "      <td>cue</td>\n",
       "      <td>none_v_inter</td>\n",
       "      <td>-4.492172e-03</td>\n",
       "      <td>-2.251613e+24</td>\n",
       "      <td>none</td>\n",
       "      <td>inter</td>\n",
       "      <td>1.209486</td>\n",
       "      <td>0.007241</td>\n",
       "      <td>Ca</td>\n",
       "      <td>Ca_T3g_041919</td>\n",
       "      <td>NaN</td>\n",
       "      <td>mua</td>\n",
       "      <td>11</td>\n",
       "      <td>13</td>\n",
       "      <td>Ca_T3g_041919-tt11_d19.25_cl13</td>\n",
       "      <td>T3g</td>\n",
       "      <td>1572</td>\n",
       "    </tr>\n",
       "    <tr>\n",
       "      <th>18869</th>\n",
       "      <td>0</td>\n",
       "      <td>cue</td>\n",
       "      <td>inter_v_fixed</td>\n",
       "      <td>-2.251613e+24</td>\n",
       "      <td>7.077245e-04</td>\n",
       "      <td>inter</td>\n",
       "      <td>fixed</td>\n",
       "      <td>-2.041008</td>\n",
       "      <td>-0.010643</td>\n",
       "      <td>Ca</td>\n",
       "      <td>Ca_T3g_041919</td>\n",
       "      <td>NaN</td>\n",
       "      <td>mua</td>\n",
       "      <td>11</td>\n",
       "      <td>13</td>\n",
       "      <td>Ca_T3g_041919-tt11_d19.25_cl13</td>\n",
       "      <td>T3g</td>\n",
       "      <td>1572</td>\n",
       "    </tr>\n",
       "    <tr>\n",
       "      <th>18879</th>\n",
       "      <td>0</td>\n",
       "      <td>cue</td>\n",
       "      <td>fixed_v_none</td>\n",
       "      <td>8.747529e-03</td>\n",
       "      <td>4.314727e-04</td>\n",
       "      <td>fixed</td>\n",
       "      <td>none</td>\n",
       "      <td>1.209486</td>\n",
       "      <td>0.004987</td>\n",
       "      <td>Ca</td>\n",
       "      <td>Ca_T3g_042319</td>\n",
       "      <td>NaN</td>\n",
       "      <td>mua</td>\n",
       "      <td>11</td>\n",
       "      <td>10</td>\n",
       "      <td>Ca_T3g_042319-tt11_d19.75_cl10</td>\n",
       "      <td>T3g</td>\n",
       "      <td>1573</td>\n",
       "    </tr>\n",
       "    <tr>\n",
       "      <th>18880</th>\n",
       "      <td>0</td>\n",
       "      <td>cue</td>\n",
       "      <td>none_v_inter</td>\n",
       "      <td>4.314727e-04</td>\n",
       "      <td>-1.655826e+21</td>\n",
       "      <td>none</td>\n",
       "      <td>inter</td>\n",
       "      <td>1.436265</td>\n",
       "      <td>0.006846</td>\n",
       "      <td>Ca</td>\n",
       "      <td>Ca_T3g_042319</td>\n",
       "      <td>NaN</td>\n",
       "      <td>mua</td>\n",
       "      <td>11</td>\n",
       "      <td>10</td>\n",
       "      <td>Ca_T3g_042319-tt11_d19.75_cl10</td>\n",
       "      <td>T3g</td>\n",
       "      <td>1573</td>\n",
       "    </tr>\n",
       "    <tr>\n",
       "      <th>18881</th>\n",
       "      <td>0</td>\n",
       "      <td>cue</td>\n",
       "      <td>inter_v_fixed</td>\n",
       "      <td>-1.655826e+21</td>\n",
       "      <td>8.747529e-03</td>\n",
       "      <td>inter</td>\n",
       "      <td>fixed</td>\n",
       "      <td>-2.041008</td>\n",
       "      <td>-0.013443</td>\n",
       "      <td>Ca</td>\n",
       "      <td>Ca_T3g_042319</td>\n",
       "      <td>NaN</td>\n",
       "      <td>mua</td>\n",
       "      <td>11</td>\n",
       "      <td>10</td>\n",
       "      <td>Ca_T3g_042319-tt11_d19.75_cl10</td>\n",
       "      <td>T3g</td>\n",
       "      <td>1573</td>\n",
       "    </tr>\n",
       "  </tbody>\n",
       "</table>\n",
       "<p>4722 rows × 18 columns</p>\n",
       "</div>"
      ],
      "text/plain": [
       "       session_unit_id expt           comp     mean_test     mean_null  \\\n",
       "6                    0  cue   fixed_v_none  8.488033e-02  8.048627e-02   \n",
       "7                    1  cue   fixed_v_none  2.149854e-02  1.896742e-02   \n",
       "8                    0  cue   none_v_inter  8.048627e-02  7.670648e-02   \n",
       "9                    1  cue   none_v_inter  1.896742e-02  1.173904e-02   \n",
       "10                   0  cue  inter_v_fixed  7.670648e-02  8.488033e-02   \n",
       "...                ...  ...            ...           ...           ...   \n",
       "18868                0  cue   none_v_inter -4.492172e-03 -2.251613e+24   \n",
       "18869                0  cue  inter_v_fixed -2.251613e+24  7.077245e-04   \n",
       "18879                0  cue   fixed_v_none  8.747529e-03  4.314727e-04   \n",
       "18880                0  cue   none_v_inter  4.314727e-04 -1.655826e+21   \n",
       "18881                0  cue  inter_v_fixed -1.655826e+21  8.747529e-03   \n",
       "\n",
       "      test_cond null_cond        uz        md subject        session  \\\n",
       "6         fixed      none  0.151186  0.003671      Li  Li_T3g_052818   \n",
       "7         fixed      none  0.302372  0.002760      Li  Li_T3g_052818   \n",
       "8          none     inter  0.377964  0.004767      Li  Li_T3g_052818   \n",
       "9          none     inter  0.226779  0.001907      Li  Li_T3g_052818   \n",
       "10        inter     fixed -0.529150 -0.009694      Li  Li_T3g_052818   \n",
       "...         ...       ...       ...       ...     ...            ...   \n",
       "18868      none     inter  1.209486  0.007241      Ca  Ca_T3g_041919   \n",
       "18869     inter     fixed -2.041008 -0.010643      Ca  Ca_T3g_041919   \n",
       "18879     fixed      none  1.209486  0.004987      Ca  Ca_T3g_042319   \n",
       "18880      none     inter  1.436265  0.006846      Ca  Ca_T3g_042319   \n",
       "18881     inter     fixed -2.041008 -0.013443      Ca  Ca_T3g_042319   \n",
       "\n",
       "       session_pct_cov unit_type  tt  tt_cl                         cl_name  \\\n",
       "6                  NaN       mua   2     11    Li_T3g_052818-tt2_d16.5_cl11   \n",
       "7                  NaN       mua   2     14    Li_T3g_052818-tt2_d16.5_cl14   \n",
       "8                  NaN       mua   2     11    Li_T3g_052818-tt2_d16.5_cl11   \n",
       "9                  NaN       mua   2     14    Li_T3g_052818-tt2_d16.5_cl14   \n",
       "10                 NaN       mua   2     11    Li_T3g_052818-tt2_d16.5_cl11   \n",
       "...                ...       ...  ..    ...                             ...   \n",
       "18868              NaN       mua  11     13  Ca_T3g_041919-tt11_d19.25_cl13   \n",
       "18869              NaN       mua  11     13  Ca_T3g_041919-tt11_d19.25_cl13   \n",
       "18879              NaN       mua  11     10  Ca_T3g_042319-tt11_d19.75_cl10   \n",
       "18880              NaN       mua  11     10  Ca_T3g_042319-tt11_d19.75_cl10   \n",
       "18881              NaN       mua  11     10  Ca_T3g_042319-tt11_d19.75_cl10   \n",
       "\n",
       "      task  unit_id  \n",
       "6      T3g        0  \n",
       "7      T3g        1  \n",
       "8      T3g        0  \n",
       "9      T3g        1  \n",
       "10     T3g        0  \n",
       "...    ...      ...  \n",
       "18868  T3g     1572  \n",
       "18869  T3g     1572  \n",
       "18879  T3g     1573  \n",
       "18880  T3g     1573  \n",
       "18881  T3g     1573  \n",
       "\n",
       "[4722 rows x 18 columns]"
      ]
     },
     "execution_count": 206,
     "metadata": {},
     "output_type": "execute_result"
    }
   ],
   "source": [
    "df[df.expt=='cue']"
   ]
  },
  {
   "cell_type": "code",
   "execution_count": 200,
   "id": "5bb0a121-aa18-41c4-bb5c-a581a7776e95",
   "metadata": {},
   "outputs": [
    {
     "data": {
      "text/html": [
       "<div>\n",
       "<style scoped>\n",
       "    .dataframe tbody tr th:only-of-type {\n",
       "        vertical-align: middle;\n",
       "    }\n",
       "\n",
       "    .dataframe tbody tr th {\n",
       "        vertical-align: top;\n",
       "    }\n",
       "\n",
       "    .dataframe thead th {\n",
       "        text-align: right;\n",
       "    }\n",
       "</style>\n",
       "<table border=\"1\" class=\"dataframe\">\n",
       "  <thead>\n",
       "    <tr style=\"text-align: right;\">\n",
       "      <th></th>\n",
       "      <th>subject</th>\n",
       "      <th>session</th>\n",
       "      <th>session_pct_cov</th>\n",
       "      <th>session_valid</th>\n",
       "      <th>n_session_all</th>\n",
       "      <th>n_session_cells</th>\n",
       "      <th>n_session_muas</th>\n",
       "      <th>pop_type</th>\n",
       "      <th>CR_bo-CL_bo-corr_m</th>\n",
       "      <th>CR_bo-CL_bo-corr_z</th>\n",
       "      <th>...</th>\n",
       "      <th>CR_bo-CL_bo-Even_bo-Odd_bo-corr_zt</th>\n",
       "      <th>CR_bo-CL_bo-Even_bo-Odd_bo-corr_ztp</th>\n",
       "      <th>Co_bo-Inco_bo-Even_bo-Odd_bo-corr_zm</th>\n",
       "      <th>Co_bo-Inco_bo-Even_bo-Odd_bo-corr_zp</th>\n",
       "      <th>Co_bo-Inco_bo-Even_bo-Odd_bo-corr_zt</th>\n",
       "      <th>Co_bo-Inco_bo-Even_bo-Odd_bo-corr_ztp</th>\n",
       "      <th>Co_bi-Inco_bi-Even_bi-Odd_bi-corr_zm</th>\n",
       "      <th>Co_bi-Inco_bi-Even_bi-Odd_bi-corr_zp</th>\n",
       "      <th>Co_bi-Inco_bi-Even_bi-Odd_bi-corr_zt</th>\n",
       "      <th>Co_bi-Inco_bi-Even_bi-Odd_bi-corr_ztp</th>\n",
       "    </tr>\n",
       "  </thead>\n",
       "  <tbody>\n",
       "    <tr>\n",
       "      <th>0</th>\n",
       "      <td>Li</td>\n",
       "      <td>Li_T3g_052818</td>\n",
       "      <td>0</td>\n",
       "      <td>0</td>\n",
       "      <td>2</td>\n",
       "      <td>0</td>\n",
       "      <td>2</td>\n",
       "      <td>cells</td>\n",
       "      <td>NaN</td>\n",
       "      <td>NaN</td>\n",
       "      <td>...</td>\n",
       "      <td>NaN</td>\n",
       "      <td>NaN</td>\n",
       "      <td>NaN</td>\n",
       "      <td>1.000000e+00</td>\n",
       "      <td>NaN</td>\n",
       "      <td>NaN</td>\n",
       "      <td>NaN</td>\n",
       "      <td>1.000000e+00</td>\n",
       "      <td>NaN</td>\n",
       "      <td>NaN</td>\n",
       "    </tr>\n",
       "    <tr>\n",
       "      <th>1</th>\n",
       "      <td>Li</td>\n",
       "      <td>Li_T3g_052818</td>\n",
       "      <td>0</td>\n",
       "      <td>0</td>\n",
       "      <td>2</td>\n",
       "      <td>0</td>\n",
       "      <td>2</td>\n",
       "      <td>muas</td>\n",
       "      <td>0.235092</td>\n",
       "      <td>0.382072</td>\n",
       "      <td>...</td>\n",
       "      <td>-1.435433</td>\n",
       "      <td>1.543158e-01</td>\n",
       "      <td>0.130228</td>\n",
       "      <td>6.147307e-59</td>\n",
       "      <td>1.050551</td>\n",
       "      <td>2.960224e-01</td>\n",
       "      <td>-0.543050</td>\n",
       "      <td>6.274768e-130</td>\n",
       "      <td>-2.716187</td>\n",
       "      <td>7.794561e-03</td>\n",
       "    </tr>\n",
       "    <tr>\n",
       "      <th>2</th>\n",
       "      <td>Li</td>\n",
       "      <td>Li_T3g_052818</td>\n",
       "      <td>0</td>\n",
       "      <td>0</td>\n",
       "      <td>2</td>\n",
       "      <td>0</td>\n",
       "      <td>2</td>\n",
       "      <td>all</td>\n",
       "      <td>0.235092</td>\n",
       "      <td>0.382072</td>\n",
       "      <td>...</td>\n",
       "      <td>-1.435433</td>\n",
       "      <td>1.543158e-01</td>\n",
       "      <td>0.130228</td>\n",
       "      <td>6.147307e-59</td>\n",
       "      <td>1.050551</td>\n",
       "      <td>2.960224e-01</td>\n",
       "      <td>-0.543050</td>\n",
       "      <td>6.274768e-130</td>\n",
       "      <td>-2.716187</td>\n",
       "      <td>7.794561e-03</td>\n",
       "    </tr>\n",
       "    <tr>\n",
       "      <th>3</th>\n",
       "      <td>Li</td>\n",
       "      <td>Li_T3g_052918</td>\n",
       "      <td>0</td>\n",
       "      <td>0</td>\n",
       "      <td>14</td>\n",
       "      <td>6</td>\n",
       "      <td>8</td>\n",
       "      <td>cells</td>\n",
       "      <td>0.707729</td>\n",
       "      <td>1.455152</td>\n",
       "      <td>...</td>\n",
       "      <td>-23.319510</td>\n",
       "      <td>5.281613e-42</td>\n",
       "      <td>-5.729448</td>\n",
       "      <td>0.000000e+00</td>\n",
       "      <td>-30.469076</td>\n",
       "      <td>4.247630e-52</td>\n",
       "      <td>-8.083766</td>\n",
       "      <td>0.000000e+00</td>\n",
       "      <td>-45.138985</td>\n",
       "      <td>7.524665e-68</td>\n",
       "    </tr>\n",
       "    <tr>\n",
       "      <th>4</th>\n",
       "      <td>Li</td>\n",
       "      <td>Li_T3g_052918</td>\n",
       "      <td>0</td>\n",
       "      <td>0</td>\n",
       "      <td>14</td>\n",
       "      <td>6</td>\n",
       "      <td>8</td>\n",
       "      <td>muas</td>\n",
       "      <td>0.656034</td>\n",
       "      <td>1.284937</td>\n",
       "      <td>...</td>\n",
       "      <td>-19.137712</td>\n",
       "      <td>4.866298e-35</td>\n",
       "      <td>-3.993051</td>\n",
       "      <td>0.000000e+00</td>\n",
       "      <td>-27.501583</td>\n",
       "      <td>3.735268e-48</td>\n",
       "      <td>-7.018437</td>\n",
       "      <td>0.000000e+00</td>\n",
       "      <td>-43.732122</td>\n",
       "      <td>1.491006e-66</td>\n",
       "    </tr>\n",
       "  </tbody>\n",
       "</table>\n",
       "<p>5 rows × 30 columns</p>\n",
       "</div>"
      ],
      "text/plain": [
       "  subject        session  session_pct_cov  session_valid  n_session_all  \\\n",
       "0      Li  Li_T3g_052818                0              0              2   \n",
       "1      Li  Li_T3g_052818                0              0              2   \n",
       "2      Li  Li_T3g_052818                0              0              2   \n",
       "3      Li  Li_T3g_052918                0              0             14   \n",
       "4      Li  Li_T3g_052918                0              0             14   \n",
       "\n",
       "   n_session_cells  n_session_muas pop_type  CR_bo-CL_bo-corr_m  \\\n",
       "0                0               2    cells                 NaN   \n",
       "1                0               2     muas            0.235092   \n",
       "2                0               2      all            0.235092   \n",
       "3                6               8    cells            0.707729   \n",
       "4                6               8     muas            0.656034   \n",
       "\n",
       "   CR_bo-CL_bo-corr_z  ...  CR_bo-CL_bo-Even_bo-Odd_bo-corr_zt  \\\n",
       "0                 NaN  ...                                 NaN   \n",
       "1            0.382072  ...                           -1.435433   \n",
       "2            0.382072  ...                           -1.435433   \n",
       "3            1.455152  ...                          -23.319510   \n",
       "4            1.284937  ...                          -19.137712   \n",
       "\n",
       "   CR_bo-CL_bo-Even_bo-Odd_bo-corr_ztp  Co_bo-Inco_bo-Even_bo-Odd_bo-corr_zm  \\\n",
       "0                                  NaN                                   NaN   \n",
       "1                         1.543158e-01                              0.130228   \n",
       "2                         1.543158e-01                              0.130228   \n",
       "3                         5.281613e-42                             -5.729448   \n",
       "4                         4.866298e-35                             -3.993051   \n",
       "\n",
       "   Co_bo-Inco_bo-Even_bo-Odd_bo-corr_zp  Co_bo-Inco_bo-Even_bo-Odd_bo-corr_zt  \\\n",
       "0                          1.000000e+00                                   NaN   \n",
       "1                          6.147307e-59                              1.050551   \n",
       "2                          6.147307e-59                              1.050551   \n",
       "3                          0.000000e+00                            -30.469076   \n",
       "4                          0.000000e+00                            -27.501583   \n",
       "\n",
       "   Co_bo-Inco_bo-Even_bo-Odd_bo-corr_ztp  \\\n",
       "0                                    NaN   \n",
       "1                           2.960224e-01   \n",
       "2                           2.960224e-01   \n",
       "3                           4.247630e-52   \n",
       "4                           3.735268e-48   \n",
       "\n",
       "   Co_bi-Inco_bi-Even_bi-Odd_bi-corr_zm  Co_bi-Inco_bi-Even_bi-Odd_bi-corr_zp  \\\n",
       "0                                   NaN                          1.000000e+00   \n",
       "1                             -0.543050                         6.274768e-130   \n",
       "2                             -0.543050                         6.274768e-130   \n",
       "3                             -8.083766                          0.000000e+00   \n",
       "4                             -7.018437                          0.000000e+00   \n",
       "\n",
       "   Co_bi-Inco_bi-Even_bi-Odd_bi-corr_zt  Co_bi-Inco_bi-Even_bi-Odd_bi-corr_ztp  \n",
       "0                                   NaN                                    NaN  \n",
       "1                             -2.716187                           7.794561e-03  \n",
       "2                             -2.716187                           7.794561e-03  \n",
       "3                            -45.138985                           7.524665e-68  \n",
       "4                            -43.732122                           1.491006e-66  \n",
       "\n",
       "[5 rows x 30 columns]"
      ]
     },
     "execution_count": 200,
     "metadata": {},
     "output_type": "execute_result"
    }
   ],
   "source": [
    "r = info.get_pop_zone_rates_remap()\n",
    "r.head()"
   ]
  },
  {
   "cell_type": "code",
   "execution_count": 198,
   "id": "73f9b673-c326-4b22-826d-4fc34c4fc844",
   "metadata": {},
   "outputs": [
    {
     "data": {
      "text/plain": [
       "Cl    277\n",
       "Li    179\n",
       "Ne     70\n",
       "Al     22\n",
       "Ca     20\n",
       "Name: subject, dtype: int64"
      ]
     },
     "execution_count": 198,
     "metadata": {},
     "output_type": "execute_result"
    }
   ],
   "source": [
    "r = info.get_zone_rates_remap()\n",
    "\n",
    "r.subject[(r.unit_type=='cell') & ()].value_counts()"
   ]
  },
  {
   "cell_type": "code",
   "execution_count": 120,
   "id": "177e2bdd-1dc0-4192-8a35-e287609d6254",
   "metadata": {},
   "outputs": [
    {
     "data": {
      "text/html": [
       "<div>\n",
       "<style scoped>\n",
       "    .dataframe tbody tr th:only-of-type {\n",
       "        vertical-align: middle;\n",
       "    }\n",
       "\n",
       "    .dataframe tbody tr th {\n",
       "        vertical-align: top;\n",
       "    }\n",
       "\n",
       "    .dataframe thead th {\n",
       "        text-align: right;\n",
       "    }\n",
       "</style>\n",
       "<table border=\"1\" class=\"dataframe\">\n",
       "  <thead>\n",
       "    <tr style=\"text-align: right;\">\n",
       "      <th></th>\n",
       "      <th>unit_id</th>\n",
       "      <th>subject</th>\n",
       "      <th>session</th>\n",
       "      <th>session_pct_cov</th>\n",
       "      <th>session_valid</th>\n",
       "      <th>session_unit_id</th>\n",
       "      <th>unit_type</th>\n",
       "      <th>tt</th>\n",
       "      <th>tt_cl</th>\n",
       "      <th>cl_name</th>\n",
       "      <th>...</th>\n",
       "      <th>CR_bo-CL_bo-Even_bo-Odd_bo-corr_zt</th>\n",
       "      <th>CR_bo-CL_bo-Even_bo-Odd_bo-corr_ztp</th>\n",
       "      <th>Co_bo-Inco_bo-Even_bo-Odd_bo-corr_zm</th>\n",
       "      <th>Co_bo-Inco_bo-Even_bo-Odd_bo-corr_zp</th>\n",
       "      <th>Co_bo-Inco_bo-Even_bo-Odd_bo-corr_zt</th>\n",
       "      <th>Co_bo-Inco_bo-Even_bo-Odd_bo-corr_ztp</th>\n",
       "      <th>Co_bi-Inco_bi-Even_bi-Odd_bi-corr_zm</th>\n",
       "      <th>Co_bi-Inco_bi-Even_bi-Odd_bi-corr_zp</th>\n",
       "      <th>Co_bi-Inco_bi-Even_bi-Odd_bi-corr_zt</th>\n",
       "      <th>Co_bi-Inco_bi-Even_bi-Odd_bi-corr_ztp</th>\n",
       "    </tr>\n",
       "  </thead>\n",
       "  <tbody>\n",
       "    <tr>\n",
       "      <th>0</th>\n",
       "      <td>0</td>\n",
       "      <td>Li</td>\n",
       "      <td>Li_T3g_052818</td>\n",
       "      <td>0</td>\n",
       "      <td>0</td>\n",
       "      <td>0</td>\n",
       "      <td>mua</td>\n",
       "      <td>2</td>\n",
       "      <td>11</td>\n",
       "      <td>Li_T3g_052818-tt2_d16.5_cl11</td>\n",
       "      <td>...</td>\n",
       "      <td>-9.249211</td>\n",
       "      <td>4.749767e-15</td>\n",
       "      <td>-1.171844</td>\n",
       "      <td>5.430137e-104</td>\n",
       "      <td>-8.401179</td>\n",
       "      <td>3.291964e-13</td>\n",
       "      <td>-0.389703</td>\n",
       "      <td>2.703985e-82</td>\n",
       "      <td>-2.559436</td>\n",
       "      <td>1.199701e-02</td>\n",
       "    </tr>\n",
       "    <tr>\n",
       "      <th>1</th>\n",
       "      <td>1</td>\n",
       "      <td>Li</td>\n",
       "      <td>Li_T3g_052818</td>\n",
       "      <td>0</td>\n",
       "      <td>0</td>\n",
       "      <td>1</td>\n",
       "      <td>mua</td>\n",
       "      <td>2</td>\n",
       "      <td>14</td>\n",
       "      <td>Li_T3g_052818-tt2_d16.5_cl14</td>\n",
       "      <td>...</td>\n",
       "      <td>-0.812344</td>\n",
       "      <td>4.185431e-01</td>\n",
       "      <td>-0.388775</td>\n",
       "      <td>3.556820e-55</td>\n",
       "      <td>-3.359558</td>\n",
       "      <td>1.109696e-03</td>\n",
       "      <td>0.648024</td>\n",
       "      <td>1.742926e-75</td>\n",
       "      <td>4.899106</td>\n",
       "      <td>3.758786e-06</td>\n",
       "    </tr>\n",
       "    <tr>\n",
       "      <th>2</th>\n",
       "      <td>2</td>\n",
       "      <td>Li</td>\n",
       "      <td>Li_T3g_052918</td>\n",
       "      <td>0</td>\n",
       "      <td>0</td>\n",
       "      <td>0</td>\n",
       "      <td>cell</td>\n",
       "      <td>2</td>\n",
       "      <td>18</td>\n",
       "      <td>Li_T3g_052918-tt2_d16.5_cl18</td>\n",
       "      <td>...</td>\n",
       "      <td>-15.624468</td>\n",
       "      <td>1.796110e-28</td>\n",
       "      <td>-1.674764</td>\n",
       "      <td>3.351046e-96</td>\n",
       "      <td>-18.986483</td>\n",
       "      <td>9.036139e-35</td>\n",
       "      <td>-1.920430</td>\n",
       "      <td>2.931200e-121</td>\n",
       "      <td>-20.125812</td>\n",
       "      <td>9.141833e-37</td>\n",
       "    </tr>\n",
       "    <tr>\n",
       "      <th>3</th>\n",
       "      <td>3</td>\n",
       "      <td>Li</td>\n",
       "      <td>Li_T3g_052918</td>\n",
       "      <td>0</td>\n",
       "      <td>0</td>\n",
       "      <td>1</td>\n",
       "      <td>cell</td>\n",
       "      <td>8</td>\n",
       "      <td>0</td>\n",
       "      <td>Li_T3g_052918-tt8_d16.25_cl0</td>\n",
       "      <td>...</td>\n",
       "      <td>-4.285178</td>\n",
       "      <td>4.239197e-05</td>\n",
       "      <td>-0.455051</td>\n",
       "      <td>1.030678e-57</td>\n",
       "      <td>-3.245751</td>\n",
       "      <td>1.598732e-03</td>\n",
       "      <td>-1.123101</td>\n",
       "      <td>1.066193e-71</td>\n",
       "      <td>-9.454595</td>\n",
       "      <td>1.694033e-15</td>\n",
       "    </tr>\n",
       "    <tr>\n",
       "      <th>4</th>\n",
       "      <td>4</td>\n",
       "      <td>Li</td>\n",
       "      <td>Li_T3g_052918</td>\n",
       "      <td>0</td>\n",
       "      <td>0</td>\n",
       "      <td>2</td>\n",
       "      <td>cell</td>\n",
       "      <td>8</td>\n",
       "      <td>12</td>\n",
       "      <td>Li_T3g_052918-tt8_d16.25_cl12</td>\n",
       "      <td>...</td>\n",
       "      <td>-14.796472</td>\n",
       "      <td>7.948183e-27</td>\n",
       "      <td>-1.338269</td>\n",
       "      <td>2.843717e-78</td>\n",
       "      <td>-12.483734</td>\n",
       "      <td>4.792029e-22</td>\n",
       "      <td>-3.906965</td>\n",
       "      <td>0.000000e+00</td>\n",
       "      <td>-30.301465</td>\n",
       "      <td>6.959452e-52</td>\n",
       "    </tr>\n",
       "  </tbody>\n",
       "</table>\n",
       "<p>5 rows × 53 columns</p>\n",
       "</div>"
      ],
      "text/plain": [
       "   unit_id subject        session  session_pct_cov  session_valid  \\\n",
       "0        0      Li  Li_T3g_052818                0              0   \n",
       "1        1      Li  Li_T3g_052818                0              0   \n",
       "2        2      Li  Li_T3g_052918                0              0   \n",
       "3        3      Li  Li_T3g_052918                0              0   \n",
       "4        4      Li  Li_T3g_052918                0              0   \n",
       "\n",
       "   session_unit_id unit_type  tt  tt_cl                        cl_name  ...  \\\n",
       "0                0       mua   2     11   Li_T3g_052818-tt2_d16.5_cl11  ...   \n",
       "1                1       mua   2     14   Li_T3g_052818-tt2_d16.5_cl14  ...   \n",
       "2                0      cell   2     18   Li_T3g_052918-tt2_d16.5_cl18  ...   \n",
       "3                1      cell   8      0   Li_T3g_052918-tt8_d16.25_cl0  ...   \n",
       "4                2      cell   8     12  Li_T3g_052918-tt8_d16.25_cl12  ...   \n",
       "\n",
       "   CR_bo-CL_bo-Even_bo-Odd_bo-corr_zt  CR_bo-CL_bo-Even_bo-Odd_bo-corr_ztp  \\\n",
       "0                           -9.249211                         4.749767e-15   \n",
       "1                           -0.812344                         4.185431e-01   \n",
       "2                          -15.624468                         1.796110e-28   \n",
       "3                           -4.285178                         4.239197e-05   \n",
       "4                          -14.796472                         7.948183e-27   \n",
       "\n",
       "   Co_bo-Inco_bo-Even_bo-Odd_bo-corr_zm  Co_bo-Inco_bo-Even_bo-Odd_bo-corr_zp  \\\n",
       "0                             -1.171844                         5.430137e-104   \n",
       "1                             -0.388775                          3.556820e-55   \n",
       "2                             -1.674764                          3.351046e-96   \n",
       "3                             -0.455051                          1.030678e-57   \n",
       "4                             -1.338269                          2.843717e-78   \n",
       "\n",
       "   Co_bo-Inco_bo-Even_bo-Odd_bo-corr_zt  \\\n",
       "0                             -8.401179   \n",
       "1                             -3.359558   \n",
       "2                            -18.986483   \n",
       "3                             -3.245751   \n",
       "4                            -12.483734   \n",
       "\n",
       "   Co_bo-Inco_bo-Even_bo-Odd_bo-corr_ztp  \\\n",
       "0                           3.291964e-13   \n",
       "1                           1.109696e-03   \n",
       "2                           9.036139e-35   \n",
       "3                           1.598732e-03   \n",
       "4                           4.792029e-22   \n",
       "\n",
       "   Co_bi-Inco_bi-Even_bi-Odd_bi-corr_zm  Co_bi-Inco_bi-Even_bi-Odd_bi-corr_zp  \\\n",
       "0                             -0.389703                          2.703985e-82   \n",
       "1                              0.648024                          1.742926e-75   \n",
       "2                             -1.920430                         2.931200e-121   \n",
       "3                             -1.123101                          1.066193e-71   \n",
       "4                             -3.906965                          0.000000e+00   \n",
       "\n",
       "   Co_bi-Inco_bi-Even_bi-Odd_bi-corr_zt  Co_bi-Inco_bi-Even_bi-Odd_bi-corr_ztp  \n",
       "0                             -2.559436                           1.199701e-02  \n",
       "1                              4.899106                           3.758786e-06  \n",
       "2                            -20.125812                           9.141833e-37  \n",
       "3                             -9.454595                           1.694033e-15  \n",
       "4                            -30.301465                           6.959452e-52  \n",
       "\n",
       "[5 rows x 53 columns]"
      ]
     },
     "execution_count": 120,
     "metadata": {},
     "output_type": "execute_result"
    }
   ],
   "source": [
    "r = info.get_zone_rates_remap()\n",
    "r.head()"
   ]
  },
  {
   "cell_type": "code",
   "execution_count": 185,
   "id": "e8f59446-525e-4d80-a189-1448ec0de310",
   "metadata": {},
   "outputs": [
    {
     "ename": "ValueError",
     "evalue": "non-broadcastable output operand with shape (1,) doesn't match the broadcast shape (3,)",
     "output_type": "error",
     "traceback": [
      "\u001b[0;31m---------------------------------------------------------------------------\u001b[0m",
      "\u001b[0;31mValueError\u001b[0m                                Traceback (most recent call last)",
      "Input \u001b[0;32mIn [185]\u001b[0m, in \u001b[0;36m<cell line: 37>\u001b[0;34m()\u001b[0m\n\u001b[1;32m     32\u001b[0m     full_formula \u001b[38;5;241m=\u001b[39m \u001b[38;5;124m\"\u001b[39m\u001b[38;5;124mscore ~ 1\u001b[39m\u001b[38;5;124m\"\u001b[39m\n\u001b[1;32m     34\u001b[0m free \u001b[38;5;241m=\u001b[39m sm\u001b[38;5;241m.\u001b[39mregression\u001b[38;5;241m.\u001b[39mmixed_linear_model\u001b[38;5;241m.\u001b[39mMixedLMParams\u001b[38;5;241m.\u001b[39mfrom_components(\n\u001b[1;32m     35\u001b[0m     np\u001b[38;5;241m.\u001b[39mones(\u001b[38;5;241m3\u001b[39m), np\u001b[38;5;241m.\u001b[39meye(\u001b[38;5;241m3\u001b[39m))\n\u001b[0;32m---> 37\u001b[0m m_full \u001b[38;5;241m=\u001b[39m \u001b[43msmf\u001b[49m\u001b[38;5;241;43m.\u001b[39;49m\u001b[43mmixedlm\u001b[49m\u001b[43m(\u001b[49m\u001b[43mformula\u001b[49m\u001b[38;5;241;43m=\u001b[39;49m\u001b[43mfull_formula\u001b[49m\u001b[43m,\u001b[49m\n\u001b[1;32m     38\u001b[0m \u001b[43m                     \u001b[49m\u001b[43mgroups\u001b[49m\u001b[38;5;241;43m=\u001b[39;49m\u001b[38;5;124;43m'\u001b[39;49m\u001b[38;5;124;43msubject\u001b[39;49m\u001b[38;5;124;43m'\u001b[39;49m\u001b[43m,\u001b[49m\u001b[43m \u001b[49m\u001b[43mre_formula\u001b[49m\u001b[38;5;241;43m=\u001b[39;49m\u001b[38;5;124;43m\"\u001b[39;49m\u001b[38;5;124;43m1\u001b[39;49m\u001b[38;5;124;43m\"\u001b[39;49m\u001b[43m,\u001b[49m\u001b[43m \u001b[49m\u001b[43mvc_formula\u001b[49m\u001b[38;5;241;43m=\u001b[39;49m\u001b[43mvc_formula\u001b[49m\u001b[43m,\u001b[49m\n\u001b[1;32m     39\u001b[0m \u001b[43m                     \u001b[49m\u001b[43mdata\u001b[49m\u001b[38;5;241;43m=\u001b[39;49m\u001b[43mdf\u001b[49m\u001b[43m)\u001b[49m\u001b[38;5;241;43m.\u001b[39;49m\u001b[43mfit\u001b[49m\u001b[43m(\u001b[49m\u001b[43mfree\u001b[49m\u001b[38;5;241;43m=\u001b[39;49m\u001b[43mfree\u001b[49m\u001b[43m)\u001b[49m\n\u001b[1;32m     41\u001b[0m \u001b[38;5;28mprint\u001b[39m(m_full\u001b[38;5;241m.\u001b[39mwald_test_terms())\n\u001b[1;32m     42\u001b[0m m_full\u001b[38;5;241m.\u001b[39msummary()\n",
      "File \u001b[0;32m~/anaconda3/envs/tm_analyses/lib/python3.9/site-packages/statsmodels/regression/mixed_linear_model.py:2191\u001b[0m, in \u001b[0;36mMixedLM.fit\u001b[0;34m(self, start_params, reml, niter_sa, do_cg, fe_pen, cov_pen, free, full_output, method, **fit_kwargs)\u001b[0m\n\u001b[1;32m   2189\u001b[0m \u001b[38;5;66;03m# Try optimizing one or more times\u001b[39;00m\n\u001b[1;32m   2190\u001b[0m \u001b[38;5;28;01mfor\u001b[39;00m j \u001b[38;5;129;01min\u001b[39;00m \u001b[38;5;28mrange\u001b[39m(\u001b[38;5;28mlen\u001b[39m(method)):\n\u001b[0;32m-> 2191\u001b[0m     rslt \u001b[38;5;241m=\u001b[39m \u001b[38;5;28;43msuper\u001b[39;49m\u001b[43m(\u001b[49m\u001b[43mMixedLM\u001b[49m\u001b[43m,\u001b[49m\u001b[43m \u001b[49m\u001b[38;5;28;43mself\u001b[39;49m\u001b[43m)\u001b[49m\u001b[38;5;241;43m.\u001b[39;49m\u001b[43mfit\u001b[49m\u001b[43m(\u001b[49m\u001b[43mstart_params\u001b[49m\u001b[38;5;241;43m=\u001b[39;49m\u001b[43mpacked\u001b[49m\u001b[43m,\u001b[49m\n\u001b[1;32m   2192\u001b[0m \u001b[43m                                    \u001b[49m\u001b[43mskip_hessian\u001b[49m\u001b[38;5;241;43m=\u001b[39;49m\u001b[38;5;28;43;01mTrue\u001b[39;49;00m\u001b[43m,\u001b[49m\n\u001b[1;32m   2193\u001b[0m \u001b[43m                                    \u001b[49m\u001b[43mmethod\u001b[49m\u001b[38;5;241;43m=\u001b[39;49m\u001b[43mmethod\u001b[49m\u001b[43m[\u001b[49m\u001b[43mj\u001b[49m\u001b[43m]\u001b[49m\u001b[43m,\u001b[49m\n\u001b[1;32m   2194\u001b[0m \u001b[43m                                    \u001b[49m\u001b[38;5;241;43m*\u001b[39;49m\u001b[38;5;241;43m*\u001b[39;49m\u001b[43mfit_kwargs\u001b[49m\u001b[43m)\u001b[49m\n\u001b[1;32m   2195\u001b[0m     \u001b[38;5;28;01mif\u001b[39;00m rslt\u001b[38;5;241m.\u001b[39mmle_retvals[\u001b[38;5;124m'\u001b[39m\u001b[38;5;124mconverged\u001b[39m\u001b[38;5;124m'\u001b[39m]:\n\u001b[1;32m   2196\u001b[0m         \u001b[38;5;28;01mbreak\u001b[39;00m\n",
      "File \u001b[0;32m~/anaconda3/envs/tm_analyses/lib/python3.9/site-packages/statsmodels/base/model.py:563\u001b[0m, in \u001b[0;36mLikelihoodModel.fit\u001b[0;34m(self, start_params, method, maxiter, full_output, disp, fargs, callback, retall, skip_hessian, **kwargs)\u001b[0m\n\u001b[1;32m    560\u001b[0m     \u001b[38;5;28;01mdel\u001b[39;00m kwargs[\u001b[38;5;124m\"\u001b[39m\u001b[38;5;124muse_t\u001b[39m\u001b[38;5;124m\"\u001b[39m]\n\u001b[1;32m    562\u001b[0m optimizer \u001b[38;5;241m=\u001b[39m Optimizer()\n\u001b[0;32m--> 563\u001b[0m xopt, retvals, optim_settings \u001b[38;5;241m=\u001b[39m \u001b[43moptimizer\u001b[49m\u001b[38;5;241;43m.\u001b[39;49m\u001b[43m_fit\u001b[49m\u001b[43m(\u001b[49m\u001b[43mf\u001b[49m\u001b[43m,\u001b[49m\u001b[43m \u001b[49m\u001b[43mscore\u001b[49m\u001b[43m,\u001b[49m\u001b[43m \u001b[49m\u001b[43mstart_params\u001b[49m\u001b[43m,\u001b[49m\n\u001b[1;32m    564\u001b[0m \u001b[43m                                               \u001b[49m\u001b[43mfargs\u001b[49m\u001b[43m,\u001b[49m\u001b[43m \u001b[49m\u001b[43mkwargs\u001b[49m\u001b[43m,\u001b[49m\n\u001b[1;32m    565\u001b[0m \u001b[43m                                               \u001b[49m\u001b[43mhessian\u001b[49m\u001b[38;5;241;43m=\u001b[39;49m\u001b[43mhess\u001b[49m\u001b[43m,\u001b[49m\n\u001b[1;32m    566\u001b[0m \u001b[43m                                               \u001b[49m\u001b[43mmethod\u001b[49m\u001b[38;5;241;43m=\u001b[39;49m\u001b[43mmethod\u001b[49m\u001b[43m,\u001b[49m\n\u001b[1;32m    567\u001b[0m \u001b[43m                                               \u001b[49m\u001b[43mdisp\u001b[49m\u001b[38;5;241;43m=\u001b[39;49m\u001b[43mdisp\u001b[49m\u001b[43m,\u001b[49m\n\u001b[1;32m    568\u001b[0m \u001b[43m                                               \u001b[49m\u001b[43mmaxiter\u001b[49m\u001b[38;5;241;43m=\u001b[39;49m\u001b[43mmaxiter\u001b[49m\u001b[43m,\u001b[49m\n\u001b[1;32m    569\u001b[0m \u001b[43m                                               \u001b[49m\u001b[43mcallback\u001b[49m\u001b[38;5;241;43m=\u001b[39;49m\u001b[43mcallback\u001b[49m\u001b[43m,\u001b[49m\n\u001b[1;32m    570\u001b[0m \u001b[43m                                               \u001b[49m\u001b[43mretall\u001b[49m\u001b[38;5;241;43m=\u001b[39;49m\u001b[43mretall\u001b[49m\u001b[43m,\u001b[49m\n\u001b[1;32m    571\u001b[0m \u001b[43m                                               \u001b[49m\u001b[43mfull_output\u001b[49m\u001b[38;5;241;43m=\u001b[39;49m\u001b[43mfull_output\u001b[49m\u001b[43m)\u001b[49m\n\u001b[1;32m    572\u001b[0m \u001b[38;5;66;03m# Restore cov_type, cov_kwds and use_t\u001b[39;00m\n\u001b[1;32m    573\u001b[0m optim_settings\u001b[38;5;241m.\u001b[39mupdate(kwds)\n",
      "File \u001b[0;32m~/anaconda3/envs/tm_analyses/lib/python3.9/site-packages/statsmodels/base/optimizer.py:241\u001b[0m, in \u001b[0;36mOptimizer._fit\u001b[0;34m(self, objective, gradient, start_params, fargs, kwargs, hessian, method, maxiter, full_output, disp, callback, retall)\u001b[0m\n\u001b[1;32m    238\u001b[0m     fit_funcs\u001b[38;5;241m.\u001b[39mupdate(extra_fit_funcs)\n\u001b[1;32m    240\u001b[0m func \u001b[38;5;241m=\u001b[39m fit_funcs[method]\n\u001b[0;32m--> 241\u001b[0m xopt, retvals \u001b[38;5;241m=\u001b[39m \u001b[43mfunc\u001b[49m\u001b[43m(\u001b[49m\u001b[43mobjective\u001b[49m\u001b[43m,\u001b[49m\u001b[43m \u001b[49m\u001b[43mgradient\u001b[49m\u001b[43m,\u001b[49m\u001b[43m \u001b[49m\u001b[43mstart_params\u001b[49m\u001b[43m,\u001b[49m\u001b[43m \u001b[49m\u001b[43mfargs\u001b[49m\u001b[43m,\u001b[49m\u001b[43m \u001b[49m\u001b[43mkwargs\u001b[49m\u001b[43m,\u001b[49m\n\u001b[1;32m    242\u001b[0m \u001b[43m                     \u001b[49m\u001b[43mdisp\u001b[49m\u001b[38;5;241;43m=\u001b[39;49m\u001b[43mdisp\u001b[49m\u001b[43m,\u001b[49m\u001b[43m \u001b[49m\u001b[43mmaxiter\u001b[49m\u001b[38;5;241;43m=\u001b[39;49m\u001b[43mmaxiter\u001b[49m\u001b[43m,\u001b[49m\u001b[43m \u001b[49m\u001b[43mcallback\u001b[49m\u001b[38;5;241;43m=\u001b[39;49m\u001b[43mcallback\u001b[49m\u001b[43m,\u001b[49m\n\u001b[1;32m    243\u001b[0m \u001b[43m                     \u001b[49m\u001b[43mretall\u001b[49m\u001b[38;5;241;43m=\u001b[39;49m\u001b[43mretall\u001b[49m\u001b[43m,\u001b[49m\u001b[43m \u001b[49m\u001b[43mfull_output\u001b[49m\u001b[38;5;241;43m=\u001b[39;49m\u001b[43mfull_output\u001b[49m\u001b[43m,\u001b[49m\n\u001b[1;32m    244\u001b[0m \u001b[43m                     \u001b[49m\u001b[43mhess\u001b[49m\u001b[38;5;241;43m=\u001b[39;49m\u001b[43mhessian\u001b[49m\u001b[43m)\u001b[49m\n\u001b[1;32m    246\u001b[0m optim_settings \u001b[38;5;241m=\u001b[39m {\u001b[38;5;124m'\u001b[39m\u001b[38;5;124moptimizer\u001b[39m\u001b[38;5;124m'\u001b[39m: method, \u001b[38;5;124m'\u001b[39m\u001b[38;5;124mstart_params\u001b[39m\u001b[38;5;124m'\u001b[39m: start_params,\n\u001b[1;32m    247\u001b[0m                   \u001b[38;5;124m'\u001b[39m\u001b[38;5;124mmaxiter\u001b[39m\u001b[38;5;124m'\u001b[39m: maxiter, \u001b[38;5;124m'\u001b[39m\u001b[38;5;124mfull_output\u001b[39m\u001b[38;5;124m'\u001b[39m: full_output,\n\u001b[1;32m    248\u001b[0m                   \u001b[38;5;124m'\u001b[39m\u001b[38;5;124mdisp\u001b[39m\u001b[38;5;124m'\u001b[39m: disp, \u001b[38;5;124m'\u001b[39m\u001b[38;5;124mfargs\u001b[39m\u001b[38;5;124m'\u001b[39m: fargs, \u001b[38;5;124m'\u001b[39m\u001b[38;5;124mcallback\u001b[39m\u001b[38;5;124m'\u001b[39m: callback,\n\u001b[1;32m    249\u001b[0m                   \u001b[38;5;124m'\u001b[39m\u001b[38;5;124mretall\u001b[39m\u001b[38;5;124m'\u001b[39m: retall, \u001b[38;5;124m\"\u001b[39m\u001b[38;5;124mextra_fit_funcs\u001b[39m\u001b[38;5;124m\"\u001b[39m: extra_fit_funcs}\n\u001b[1;32m    250\u001b[0m optim_settings\u001b[38;5;241m.\u001b[39mupdate(kwargs)\n",
      "File \u001b[0;32m~/anaconda3/envs/tm_analyses/lib/python3.9/site-packages/statsmodels/base/optimizer.py:529\u001b[0m, in \u001b[0;36m_fit_bfgs\u001b[0;34m(f, score, start_params, fargs, kwargs, disp, maxiter, callback, retall, full_output, hess)\u001b[0m\n\u001b[1;32m    527\u001b[0m norm \u001b[38;5;241m=\u001b[39m kwargs\u001b[38;5;241m.\u001b[39msetdefault(\u001b[38;5;124m'\u001b[39m\u001b[38;5;124mnorm\u001b[39m\u001b[38;5;124m'\u001b[39m, np\u001b[38;5;241m.\u001b[39mInf)\n\u001b[1;32m    528\u001b[0m epsilon \u001b[38;5;241m=\u001b[39m kwargs\u001b[38;5;241m.\u001b[39msetdefault(\u001b[38;5;124m'\u001b[39m\u001b[38;5;124mepsilon\u001b[39m\u001b[38;5;124m'\u001b[39m, \u001b[38;5;241m1.4901161193847656e-08\u001b[39m)\n\u001b[0;32m--> 529\u001b[0m retvals \u001b[38;5;241m=\u001b[39m \u001b[43moptimize\u001b[49m\u001b[38;5;241;43m.\u001b[39;49m\u001b[43mfmin_bfgs\u001b[49m\u001b[43m(\u001b[49m\u001b[43mf\u001b[49m\u001b[43m,\u001b[49m\u001b[43m \u001b[49m\u001b[43mstart_params\u001b[49m\u001b[43m,\u001b[49m\u001b[43m \u001b[49m\u001b[43mscore\u001b[49m\u001b[43m,\u001b[49m\u001b[43m \u001b[49m\u001b[43margs\u001b[49m\u001b[38;5;241;43m=\u001b[39;49m\u001b[43mfargs\u001b[49m\u001b[43m,\u001b[49m\n\u001b[1;32m    530\u001b[0m \u001b[43m                             \u001b[49m\u001b[43mgtol\u001b[49m\u001b[38;5;241;43m=\u001b[39;49m\u001b[43mgtol\u001b[49m\u001b[43m,\u001b[49m\u001b[43m \u001b[49m\u001b[43mnorm\u001b[49m\u001b[38;5;241;43m=\u001b[39;49m\u001b[43mnorm\u001b[49m\u001b[43m,\u001b[49m\u001b[43m \u001b[49m\u001b[43mepsilon\u001b[49m\u001b[38;5;241;43m=\u001b[39;49m\u001b[43mepsilon\u001b[49m\u001b[43m,\u001b[49m\n\u001b[1;32m    531\u001b[0m \u001b[43m                             \u001b[49m\u001b[43mmaxiter\u001b[49m\u001b[38;5;241;43m=\u001b[39;49m\u001b[43mmaxiter\u001b[49m\u001b[43m,\u001b[49m\u001b[43m \u001b[49m\u001b[43mfull_output\u001b[49m\u001b[38;5;241;43m=\u001b[39;49m\u001b[43mfull_output\u001b[49m\u001b[43m,\u001b[49m\n\u001b[1;32m    532\u001b[0m \u001b[43m                             \u001b[49m\u001b[43mdisp\u001b[49m\u001b[38;5;241;43m=\u001b[39;49m\u001b[43mdisp\u001b[49m\u001b[43m,\u001b[49m\u001b[43m \u001b[49m\u001b[43mretall\u001b[49m\u001b[38;5;241;43m=\u001b[39;49m\u001b[43mretall\u001b[49m\u001b[43m,\u001b[49m\u001b[43m \u001b[49m\u001b[43mcallback\u001b[49m\u001b[38;5;241;43m=\u001b[39;49m\u001b[43mcallback\u001b[49m\u001b[43m)\u001b[49m\n\u001b[1;32m    533\u001b[0m \u001b[38;5;28;01mif\u001b[39;00m full_output:\n\u001b[1;32m    534\u001b[0m     \u001b[38;5;28;01mif\u001b[39;00m \u001b[38;5;129;01mnot\u001b[39;00m retall:\n",
      "File \u001b[0;32m~/anaconda3/envs/tm_analyses/lib/python3.9/site-packages/scipy/optimize/optimize.py:1143\u001b[0m, in \u001b[0;36mfmin_bfgs\u001b[0;34m(f, x0, fprime, args, gtol, norm, epsilon, maxiter, full_output, disp, retall, callback)\u001b[0m\n\u001b[1;32m   1037\u001b[0m \u001b[38;5;124;03m\"\"\"\u001b[39;00m\n\u001b[1;32m   1038\u001b[0m \u001b[38;5;124;03mMinimize a function using the BFGS algorithm.\u001b[39;00m\n\u001b[1;32m   1039\u001b[0m \n\u001b[0;32m   (...)\u001b[0m\n\u001b[1;32m   1134\u001b[0m \n\u001b[1;32m   1135\u001b[0m \u001b[38;5;124;03m\"\"\"\u001b[39;00m\n\u001b[1;32m   1136\u001b[0m opts \u001b[38;5;241m=\u001b[39m {\u001b[38;5;124m'\u001b[39m\u001b[38;5;124mgtol\u001b[39m\u001b[38;5;124m'\u001b[39m: gtol,\n\u001b[1;32m   1137\u001b[0m         \u001b[38;5;124m'\u001b[39m\u001b[38;5;124mnorm\u001b[39m\u001b[38;5;124m'\u001b[39m: norm,\n\u001b[1;32m   1138\u001b[0m         \u001b[38;5;124m'\u001b[39m\u001b[38;5;124meps\u001b[39m\u001b[38;5;124m'\u001b[39m: epsilon,\n\u001b[1;32m   1139\u001b[0m         \u001b[38;5;124m'\u001b[39m\u001b[38;5;124mdisp\u001b[39m\u001b[38;5;124m'\u001b[39m: disp,\n\u001b[1;32m   1140\u001b[0m         \u001b[38;5;124m'\u001b[39m\u001b[38;5;124mmaxiter\u001b[39m\u001b[38;5;124m'\u001b[39m: maxiter,\n\u001b[1;32m   1141\u001b[0m         \u001b[38;5;124m'\u001b[39m\u001b[38;5;124mreturn_all\u001b[39m\u001b[38;5;124m'\u001b[39m: retall}\n\u001b[0;32m-> 1143\u001b[0m res \u001b[38;5;241m=\u001b[39m \u001b[43m_minimize_bfgs\u001b[49m\u001b[43m(\u001b[49m\u001b[43mf\u001b[49m\u001b[43m,\u001b[49m\u001b[43m \u001b[49m\u001b[43mx0\u001b[49m\u001b[43m,\u001b[49m\u001b[43m \u001b[49m\u001b[43margs\u001b[49m\u001b[43m,\u001b[49m\u001b[43m \u001b[49m\u001b[43mfprime\u001b[49m\u001b[43m,\u001b[49m\u001b[43m \u001b[49m\u001b[43mcallback\u001b[49m\u001b[38;5;241;43m=\u001b[39;49m\u001b[43mcallback\u001b[49m\u001b[43m,\u001b[49m\u001b[43m \u001b[49m\u001b[38;5;241;43m*\u001b[39;49m\u001b[38;5;241;43m*\u001b[39;49m\u001b[43mopts\u001b[49m\u001b[43m)\u001b[49m\n\u001b[1;32m   1145\u001b[0m \u001b[38;5;28;01mif\u001b[39;00m full_output:\n\u001b[1;32m   1146\u001b[0m     retlist \u001b[38;5;241m=\u001b[39m (res[\u001b[38;5;124m'\u001b[39m\u001b[38;5;124mx\u001b[39m\u001b[38;5;124m'\u001b[39m], res[\u001b[38;5;124m'\u001b[39m\u001b[38;5;124mfun\u001b[39m\u001b[38;5;124m'\u001b[39m], res[\u001b[38;5;124m'\u001b[39m\u001b[38;5;124mjac\u001b[39m\u001b[38;5;124m'\u001b[39m], res[\u001b[38;5;124m'\u001b[39m\u001b[38;5;124mhess_inv\u001b[39m\u001b[38;5;124m'\u001b[39m],\n\u001b[1;32m   1147\u001b[0m                res[\u001b[38;5;124m'\u001b[39m\u001b[38;5;124mnfev\u001b[39m\u001b[38;5;124m'\u001b[39m], res[\u001b[38;5;124m'\u001b[39m\u001b[38;5;124mnjev\u001b[39m\u001b[38;5;124m'\u001b[39m], res[\u001b[38;5;124m'\u001b[39m\u001b[38;5;124mstatus\u001b[39m\u001b[38;5;124m'\u001b[39m])\n",
      "File \u001b[0;32m~/anaconda3/envs/tm_analyses/lib/python3.9/site-packages/scipy/optimize/optimize.py:1201\u001b[0m, in \u001b[0;36m_minimize_bfgs\u001b[0;34m(fun, x0, args, jac, callback, gtol, norm, eps, maxiter, disp, return_all, finite_diff_rel_step, **unknown_options)\u001b[0m\n\u001b[1;32m   1198\u001b[0m \u001b[38;5;28;01mif\u001b[39;00m maxiter \u001b[38;5;129;01mis\u001b[39;00m \u001b[38;5;28;01mNone\u001b[39;00m:\n\u001b[1;32m   1199\u001b[0m     maxiter \u001b[38;5;241m=\u001b[39m \u001b[38;5;28mlen\u001b[39m(x0) \u001b[38;5;241m*\u001b[39m \u001b[38;5;241m200\u001b[39m\n\u001b[0;32m-> 1201\u001b[0m sf \u001b[38;5;241m=\u001b[39m \u001b[43m_prepare_scalar_function\u001b[49m\u001b[43m(\u001b[49m\u001b[43mfun\u001b[49m\u001b[43m,\u001b[49m\u001b[43m \u001b[49m\u001b[43mx0\u001b[49m\u001b[43m,\u001b[49m\u001b[43m \u001b[49m\u001b[43mjac\u001b[49m\u001b[43m,\u001b[49m\u001b[43m \u001b[49m\u001b[43margs\u001b[49m\u001b[38;5;241;43m=\u001b[39;49m\u001b[43margs\u001b[49m\u001b[43m,\u001b[49m\u001b[43m \u001b[49m\u001b[43mepsilon\u001b[49m\u001b[38;5;241;43m=\u001b[39;49m\u001b[43meps\u001b[49m\u001b[43m,\u001b[49m\n\u001b[1;32m   1202\u001b[0m \u001b[43m                              \u001b[49m\u001b[43mfinite_diff_rel_step\u001b[49m\u001b[38;5;241;43m=\u001b[39;49m\u001b[43mfinite_diff_rel_step\u001b[49m\u001b[43m)\u001b[49m\n\u001b[1;32m   1204\u001b[0m f \u001b[38;5;241m=\u001b[39m sf\u001b[38;5;241m.\u001b[39mfun\n\u001b[1;32m   1205\u001b[0m myfprime \u001b[38;5;241m=\u001b[39m sf\u001b[38;5;241m.\u001b[39mgrad\n",
      "File \u001b[0;32m~/anaconda3/envs/tm_analyses/lib/python3.9/site-packages/scipy/optimize/optimize.py:261\u001b[0m, in \u001b[0;36m_prepare_scalar_function\u001b[0;34m(fun, x0, jac, args, bounds, epsilon, finite_diff_rel_step, hess)\u001b[0m\n\u001b[1;32m    257\u001b[0m     bounds \u001b[38;5;241m=\u001b[39m (\u001b[38;5;241m-\u001b[39mnp\u001b[38;5;241m.\u001b[39minf, np\u001b[38;5;241m.\u001b[39minf)\n\u001b[1;32m    259\u001b[0m \u001b[38;5;66;03m# ScalarFunction caches. Reuse of fun(x) during grad\u001b[39;00m\n\u001b[1;32m    260\u001b[0m \u001b[38;5;66;03m# calculation reduces overall function evaluations.\u001b[39;00m\n\u001b[0;32m--> 261\u001b[0m sf \u001b[38;5;241m=\u001b[39m \u001b[43mScalarFunction\u001b[49m\u001b[43m(\u001b[49m\u001b[43mfun\u001b[49m\u001b[43m,\u001b[49m\u001b[43m \u001b[49m\u001b[43mx0\u001b[49m\u001b[43m,\u001b[49m\u001b[43m \u001b[49m\u001b[43margs\u001b[49m\u001b[43m,\u001b[49m\u001b[43m \u001b[49m\u001b[43mgrad\u001b[49m\u001b[43m,\u001b[49m\u001b[43m \u001b[49m\u001b[43mhess\u001b[49m\u001b[43m,\u001b[49m\n\u001b[1;32m    262\u001b[0m \u001b[43m                    \u001b[49m\u001b[43mfinite_diff_rel_step\u001b[49m\u001b[43m,\u001b[49m\u001b[43m \u001b[49m\u001b[43mbounds\u001b[49m\u001b[43m,\u001b[49m\u001b[43m \u001b[49m\u001b[43mepsilon\u001b[49m\u001b[38;5;241;43m=\u001b[39;49m\u001b[43mepsilon\u001b[49m\u001b[43m)\u001b[49m\n\u001b[1;32m    264\u001b[0m \u001b[38;5;28;01mreturn\u001b[39;00m sf\n",
      "File \u001b[0;32m~/anaconda3/envs/tm_analyses/lib/python3.9/site-packages/scipy/optimize/_differentiable_functions.py:159\u001b[0m, in \u001b[0;36mScalarFunction.__init__\u001b[0;34m(self, fun, x0, args, grad, hess, finite_diff_rel_step, finite_diff_bounds, epsilon)\u001b[0m\n\u001b[1;32m    155\u001b[0m         \u001b[38;5;28mself\u001b[39m\u001b[38;5;241m.\u001b[39mg \u001b[38;5;241m=\u001b[39m approx_derivative(fun_wrapped, \u001b[38;5;28mself\u001b[39m\u001b[38;5;241m.\u001b[39mx, f0\u001b[38;5;241m=\u001b[39m\u001b[38;5;28mself\u001b[39m\u001b[38;5;241m.\u001b[39mf,\n\u001b[1;32m    156\u001b[0m                                    \u001b[38;5;241m*\u001b[39m\u001b[38;5;241m*\u001b[39mfinite_diff_options)\n\u001b[1;32m    158\u001b[0m \u001b[38;5;28mself\u001b[39m\u001b[38;5;241m.\u001b[39m_update_grad_impl \u001b[38;5;241m=\u001b[39m update_grad\n\u001b[0;32m--> 159\u001b[0m \u001b[38;5;28;43mself\u001b[39;49m\u001b[38;5;241;43m.\u001b[39;49m\u001b[43m_update_grad\u001b[49m\u001b[43m(\u001b[49m\u001b[43m)\u001b[49m\n\u001b[1;32m    161\u001b[0m \u001b[38;5;66;03m# Hessian Evaluation\u001b[39;00m\n\u001b[1;32m    162\u001b[0m \u001b[38;5;28;01mif\u001b[39;00m callable(hess):\n",
      "File \u001b[0;32m~/anaconda3/envs/tm_analyses/lib/python3.9/site-packages/scipy/optimize/_differentiable_functions.py:238\u001b[0m, in \u001b[0;36mScalarFunction._update_grad\u001b[0;34m(self)\u001b[0m\n\u001b[1;32m    236\u001b[0m \u001b[38;5;28;01mdef\u001b[39;00m \u001b[38;5;21m_update_grad\u001b[39m(\u001b[38;5;28mself\u001b[39m):\n\u001b[1;32m    237\u001b[0m     \u001b[38;5;28;01mif\u001b[39;00m \u001b[38;5;129;01mnot\u001b[39;00m \u001b[38;5;28mself\u001b[39m\u001b[38;5;241m.\u001b[39mg_updated:\n\u001b[0;32m--> 238\u001b[0m         \u001b[38;5;28;43mself\u001b[39;49m\u001b[38;5;241;43m.\u001b[39;49m\u001b[43m_update_grad_impl\u001b[49m\u001b[43m(\u001b[49m\u001b[43m)\u001b[49m\n\u001b[1;32m    239\u001b[0m         \u001b[38;5;28mself\u001b[39m\u001b[38;5;241m.\u001b[39mg_updated \u001b[38;5;241m=\u001b[39m \u001b[38;5;28;01mTrue\u001b[39;00m\n",
      "File \u001b[0;32m~/anaconda3/envs/tm_analyses/lib/python3.9/site-packages/scipy/optimize/_differentiable_functions.py:149\u001b[0m, in \u001b[0;36mScalarFunction.__init__.<locals>.update_grad\u001b[0;34m()\u001b[0m\n\u001b[1;32m    148\u001b[0m \u001b[38;5;28;01mdef\u001b[39;00m \u001b[38;5;21mupdate_grad\u001b[39m():\n\u001b[0;32m--> 149\u001b[0m     \u001b[38;5;28mself\u001b[39m\u001b[38;5;241m.\u001b[39mg \u001b[38;5;241m=\u001b[39m \u001b[43mgrad_wrapped\u001b[49m\u001b[43m(\u001b[49m\u001b[38;5;28;43mself\u001b[39;49m\u001b[38;5;241;43m.\u001b[39;49m\u001b[43mx\u001b[49m\u001b[43m)\u001b[49m\n",
      "File \u001b[0;32m~/anaconda3/envs/tm_analyses/lib/python3.9/site-packages/scipy/optimize/_differentiable_functions.py:146\u001b[0m, in \u001b[0;36mScalarFunction.__init__.<locals>.grad_wrapped\u001b[0;34m(x)\u001b[0m\n\u001b[1;32m    144\u001b[0m \u001b[38;5;28;01mdef\u001b[39;00m \u001b[38;5;21mgrad_wrapped\u001b[39m(x):\n\u001b[1;32m    145\u001b[0m     \u001b[38;5;28mself\u001b[39m\u001b[38;5;241m.\u001b[39mngev \u001b[38;5;241m+\u001b[39m\u001b[38;5;241m=\u001b[39m \u001b[38;5;241m1\u001b[39m\n\u001b[0;32m--> 146\u001b[0m     \u001b[38;5;28;01mreturn\u001b[39;00m np\u001b[38;5;241m.\u001b[39matleast_1d(\u001b[43mgrad\u001b[49m\u001b[43m(\u001b[49m\u001b[43mnp\u001b[49m\u001b[38;5;241;43m.\u001b[39;49m\u001b[43mcopy\u001b[49m\u001b[43m(\u001b[49m\u001b[43mx\u001b[49m\u001b[43m)\u001b[49m\u001b[43m,\u001b[49m\u001b[43m \u001b[49m\u001b[38;5;241;43m*\u001b[39;49m\u001b[43margs\u001b[49m\u001b[43m)\u001b[49m)\n",
      "File \u001b[0;32m~/anaconda3/envs/tm_analyses/lib/python3.9/site-packages/statsmodels/base/model.py:542\u001b[0m, in \u001b[0;36mLikelihoodModel.fit.<locals>.score\u001b[0;34m(params, *args)\u001b[0m\n\u001b[1;32m    541\u001b[0m \u001b[38;5;28;01mdef\u001b[39;00m \u001b[38;5;21mscore\u001b[39m(params, \u001b[38;5;241m*\u001b[39margs):\n\u001b[0;32m--> 542\u001b[0m     \u001b[38;5;28;01mreturn\u001b[39;00m \u001b[38;5;241m-\u001b[39m\u001b[38;5;28;43mself\u001b[39;49m\u001b[38;5;241;43m.\u001b[39;49m\u001b[43mscore\u001b[49m\u001b[43m(\u001b[49m\u001b[43mparams\u001b[49m\u001b[43m,\u001b[49m\u001b[43m \u001b[49m\u001b[38;5;241;43m*\u001b[39;49m\u001b[43margs\u001b[49m\u001b[43m)\u001b[49m \u001b[38;5;241m/\u001b[39m nobs\n",
      "File \u001b[0;32m~/anaconda3/envs/tm_analyses/lib/python3.9/site-packages/statsmodels/regression/mixed_linear_model.py:1644\u001b[0m, in \u001b[0;36mMixedLM.score\u001b[0;34m(self, params, profile_fe)\u001b[0m\n\u001b[1;32m   1640\u001b[0m     score_fe, score_re, score_vc \u001b[38;5;241m=\u001b[39m \u001b[38;5;28mself\u001b[39m\u001b[38;5;241m.\u001b[39mscore_full(\n\u001b[1;32m   1641\u001b[0m         params, calc_fe\u001b[38;5;241m=\u001b[39m\u001b[38;5;129;01mnot\u001b[39;00m profile_fe)\n\u001b[1;32m   1643\u001b[0m \u001b[38;5;28;01mif\u001b[39;00m \u001b[38;5;28mself\u001b[39m\u001b[38;5;241m.\u001b[39m_freepat \u001b[38;5;129;01mis\u001b[39;00m \u001b[38;5;129;01mnot\u001b[39;00m \u001b[38;5;28;01mNone\u001b[39;00m:\n\u001b[0;32m-> 1644\u001b[0m     score_fe \u001b[38;5;241m*\u001b[39m\u001b[38;5;241m=\u001b[39m \u001b[38;5;28mself\u001b[39m\u001b[38;5;241m.\u001b[39m_freepat\u001b[38;5;241m.\u001b[39mfe_params\n\u001b[1;32m   1645\u001b[0m     score_re \u001b[38;5;241m*\u001b[39m\u001b[38;5;241m=\u001b[39m \u001b[38;5;28mself\u001b[39m\u001b[38;5;241m.\u001b[39m_freepat\u001b[38;5;241m.\u001b[39mcov_re[\u001b[38;5;28mself\u001b[39m\u001b[38;5;241m.\u001b[39m_freepat\u001b[38;5;241m.\u001b[39m_ix]\n\u001b[1;32m   1646\u001b[0m     score_vc \u001b[38;5;241m*\u001b[39m\u001b[38;5;241m=\u001b[39m \u001b[38;5;28mself\u001b[39m\u001b[38;5;241m.\u001b[39m_freepat\u001b[38;5;241m.\u001b[39mvcomp\n",
      "\u001b[0;31mValueError\u001b[0m: non-broadcastable output operand with shape (1,) doesn't match the broadcast shape (3,)"
     ]
    }
   ],
   "source": [
    "comp_type = 'cue'\n",
    "unit_type ='cell'\n",
    "metric_type = 'zm'\n",
    "if comp_type == 'cue':\n",
    "    comp = 'CR_bo-CL_bo-Even_bo-Odd_bo-corr_'+metric_type\n",
    "elif comp_type == 'rw':\n",
    "    comp = 'Co_bi-Inco_bi-Even_bi-Odd_bi-corr_'+metric_type\n",
    "else:\n",
    "    raise ValueError\n",
    "\n",
    "if unit_type == 'all':\n",
    "    df = r.copy()\n",
    "elif unit_type in ['cell', 'mua']:\n",
    "    df = r[(r.unit_type == unit_type)].copy()\n",
    "else:\n",
    "    raise ValueError\n",
    "\n",
    "df['task'] = df.session.apply(lambda x: x.split('_')[1])\n",
    "df['score'] = df[comp]\n",
    "df = df[['subject', 'session', 'task', 'unit_type', 'score']]\n",
    "df.dropna(inplace=True)\n",
    "df = df.reset_index()\n",
    "\n",
    "vc_formula = {\n",
    "   'task': \"1+C(task)\",\n",
    "    'session': \"1+C(session)\"\n",
    "}\n",
    "\n",
    "if unit_type == 'all':\n",
    "    full_formula = \"score ~ 1 + unit_type\"\n",
    "else:\n",
    "    full_formula = \"score ~ 1\"\n",
    "\n",
    "free = sm.regression.mixed_linear_model.MixedLMParams.from_components(\n",
    "    np.ones(3), np.eye(3))\n",
    "\n",
    "m_full = smf.mixedlm(formula=full_formula,\n",
    "                     groups='subject', re_formula=\"1\", vc_formula=vc_formula,\n",
    "                     data=df).fit(free=free)\n",
    "\n",
    "print(m_full.wald_test_terms())\n",
    "m_full.summary()"
   ]
  },
  {
   "cell_type": "code",
   "execution_count": 184,
   "id": "6566de2a-4b79-47d9-abe0-fefc35242d65",
   "metadata": {},
   "outputs": [
    {
     "data": {
      "text/plain": [
       "True"
      ]
     },
     "execution_count": 184,
     "metadata": {},
     "output_type": "execute_result"
    }
   ],
   "source": [
    "m_full.converged"
   ]
  },
  {
   "cell_type": "code",
   "execution_count": 179,
   "id": "e0f853f8-dd68-46e0-b151-0702aa175f10",
   "metadata": {},
   "outputs": [
    {
     "data": {
      "text/plain": [
       "<AxesSubplot:xlabel='subject', ylabel='resid'>"
      ]
     },
     "execution_count": 179,
     "metadata": {},
     "output_type": "execute_result"
    },
    {
     "data": {
      "image/png": "[encoded data removed]",
      "text/plain": [
       "<Figure size 432x288 with 1 Axes>"
      ]
     },
     "metadata": {},
     "output_type": "display_data"
    }
   ],
   "source": [
    "df['resid'] = m_full.resid\n",
    "sns.stripplot(x='subject', y='resid', hue='task', data=df)"
   ]
  },
  {
   "cell_type": "code",
   "execution_count": 181,
   "id": "9980cd52-817e-4ae9-a11b-fea32a263c48",
   "metadata": {},
   "outputs": [
    {
     "data": {
      "text/html": [
       "<div>\n",
       "<style scoped>\n",
       "    .dataframe tbody tr th:only-of-type {\n",
       "        vertical-align: middle;\n",
       "    }\n",
       "\n",
       "    .dataframe tbody tr th {\n",
       "        vertical-align: top;\n",
       "    }\n",
       "\n",
       "    .dataframe thead th {\n",
       "        text-align: right;\n",
       "    }\n",
       "</style>\n",
       "<table border=\"1\" class=\"dataframe\">\n",
       "  <thead>\n",
       "    <tr style=\"text-align: right;\">\n",
       "      <th></th>\n",
       "      <th>Intercept</th>\n",
       "      <th>subject Var</th>\n",
       "      <th>session Var</th>\n",
       "      <th>task Var</th>\n",
       "    </tr>\n",
       "  </thead>\n",
       "  <tbody>\n",
       "    <tr>\n",
       "      <th>Intercept</th>\n",
       "      <td>0.086715</td>\n",
       "      <td>-0.041312</td>\n",
       "      <td>0.001097</td>\n",
       "      <td>-0.003594</td>\n",
       "    </tr>\n",
       "    <tr>\n",
       "      <th>subject Var</th>\n",
       "      <td>-0.041312</td>\n",
       "      <td>-0.640751</td>\n",
       "      <td>-0.006730</td>\n",
       "      <td>-0.043911</td>\n",
       "    </tr>\n",
       "    <tr>\n",
       "      <th>session Var</th>\n",
       "      <td>0.001097</td>\n",
       "      <td>-0.006730</td>\n",
       "      <td>0.009238</td>\n",
       "      <td>-0.003350</td>\n",
       "    </tr>\n",
       "    <tr>\n",
       "      <th>task Var</th>\n",
       "      <td>-0.003594</td>\n",
       "      <td>-0.043911</td>\n",
       "      <td>-0.003350</td>\n",
       "      <td>0.036045</td>\n",
       "    </tr>\n",
       "  </tbody>\n",
       "</table>\n",
       "</div>"
      ],
      "text/plain": [
       "             Intercept  subject Var  session Var  task Var\n",
       "Intercept     0.086715    -0.041312     0.001097 -0.003594\n",
       "subject Var  -0.041312    -0.640751    -0.006730 -0.043911\n",
       "session Var   0.001097    -0.006730     0.009238 -0.003350\n",
       "task Var     -0.003594    -0.043911    -0.003350  0.036045"
      ]
     },
     "execution_count": 181,
     "metadata": {},
     "output_type": "execute_result"
    }
   ],
   "source": [
    "m_full.cov_params()"
   ]
  },
  {
   "cell_type": "code",
   "execution_count": null,
   "id": "2f1483a5-a3a7-4aa2-ae2b-afedb4fa9580",
   "metadata": {},
   "outputs": [],
   "source": []
  },
  {
   "cell_type": "code",
   "execution_count": null,
   "id": "5cbb2392-dec1-4b48-9c14-ba42ee234338",
   "metadata": {},
   "outputs": [],
   "source": [
    "m_full."
   ]
  },
  {
   "cell_type": "code",
   "execution_count": 152,
   "id": "e1102478-f8af-4138-a3b9-01dd22c2d84f",
   "metadata": {},
   "outputs": [
    {
     "data": {
      "text/plain": [
       "\u001b[0;31mSignature:\u001b[0m\n",
       "\u001b[0mdf\u001b[0m\u001b[0;34m.\u001b[0m\u001b[0mdropna\u001b[0m\u001b[0;34m(\u001b[0m\u001b[0;34m\u001b[0m\n",
       "\u001b[0;34m\u001b[0m    \u001b[0maxis\u001b[0m\u001b[0;34m:\u001b[0m \u001b[0;34m'Axis'\u001b[0m \u001b[0;34m=\u001b[0m \u001b[0;36m0\u001b[0m\u001b[0;34m,\u001b[0m\u001b[0;34m\u001b[0m\n",
       "\u001b[0;34m\u001b[0m    \u001b[0mhow\u001b[0m\u001b[0;34m:\u001b[0m \u001b[0;34m'str'\u001b[0m \u001b[0;34m=\u001b[0m \u001b[0;34m'any'\u001b[0m\u001b[0;34m,\u001b[0m\u001b[0;34m\u001b[0m\n",
       "\u001b[0;34m\u001b[0m    \u001b[0mthresh\u001b[0m\u001b[0;34m=\u001b[0m\u001b[0;32mNone\u001b[0m\u001b[0;34m,\u001b[0m\u001b[0;34m\u001b[0m\n",
       "\u001b[0;34m\u001b[0m    \u001b[0msubset\u001b[0m\u001b[0;34m=\u001b[0m\u001b[0;32mNone\u001b[0m\u001b[0;34m,\u001b[0m\u001b[0;34m\u001b[0m\n",
       "\u001b[0;34m\u001b[0m    \u001b[0minplace\u001b[0m\u001b[0;34m:\u001b[0m \u001b[0;34m'bool'\u001b[0m \u001b[0;34m=\u001b[0m \u001b[0;32mFalse\u001b[0m\u001b[0;34m,\u001b[0m\u001b[0;34m\u001b[0m\n",
       "\u001b[0;34m\u001b[0m\u001b[0;34m)\u001b[0m\u001b[0;34m\u001b[0m\u001b[0;34m\u001b[0m\u001b[0m\n",
       "\u001b[0;31mDocstring:\u001b[0m\n",
       "Remove missing values.\n",
       "\n",
       "See the :ref:`User Guide <missing_data>` for more on which values are\n",
       "considered missing, and how to work with missing data.\n",
       "\n",
       "Parameters\n",
       "----------\n",
       "axis : {0 or 'index', 1 or 'columns'}, default 0\n",
       "    Determine if rows or columns which contain missing values are\n",
       "    removed.\n",
       "\n",
       "    * 0, or 'index' : Drop rows which contain missing values.\n",
       "    * 1, or 'columns' : Drop columns which contain missing value.\n",
       "\n",
       "    .. versionchanged:: 1.0.0\n",
       "\n",
       "       Pass tuple or list to drop on multiple axes.\n",
       "       Only a single axis is allowed.\n",
       "\n",
       "how : {'any', 'all'}, default 'any'\n",
       "    Determine if row or column is removed from DataFrame, when we have\n",
       "    at least one NA or all NA.\n",
       "\n",
       "    * 'any' : If any NA values are present, drop that row or column.\n",
       "    * 'all' : If all values are NA, drop that row or column.\n",
       "\n",
       "thresh : int, optional\n",
       "    Require that many non-NA values.\n",
       "subset : array-like, optional\n",
       "    Labels along other axis to consider, e.g. if you are dropping rows\n",
       "    these would be a list of columns to include.\n",
       "inplace : bool, default False\n",
       "    If True, do operation inplace and return None.\n",
       "\n",
       "Returns\n",
       "-------\n",
       "DataFrame or None\n",
       "    DataFrame with NA entries dropped from it or None if ``inplace=True``.\n",
       "\n",
       "See Also\n",
       "--------\n",
       "DataFrame.isna: Indicate missing values.\n",
       "DataFrame.notna : Indicate existing (non-missing) values.\n",
       "DataFrame.fillna : Replace missing values.\n",
       "Series.dropna : Drop missing values.\n",
       "Index.dropna : Drop missing indices.\n",
       "\n",
       "Examples\n",
       "--------\n",
       ">>> df = pd.DataFrame({\"name\": ['Alfred', 'Batman', 'Catwoman'],\n",
       "...                    \"toy\": [np.nan, 'Batmobile', 'Bullwhip'],\n",
       "...                    \"born\": [pd.NaT, pd.Timestamp(\"1940-04-25\"),\n",
       "...                             pd.NaT]})\n",
       ">>> df\n",
       "       name        toy       born\n",
       "0    Alfred        NaN        NaT\n",
       "1    Batman  Batmobile 1940-04-25\n",
       "2  Catwoman   Bullwhip        NaT\n",
       "\n",
       "Drop the rows where at least one element is missing.\n",
       "\n",
       ">>> df.dropna()\n",
       "     name        toy       born\n",
       "1  Batman  Batmobile 1940-04-25\n",
       "\n",
       "Drop the columns where at least one element is missing.\n",
       "\n",
       ">>> df.dropna(axis='columns')\n",
       "       name\n",
       "0    Alfred\n",
       "1    Batman\n",
       "2  Catwoman\n",
       "\n",
       "Drop the rows where all elements are missing.\n",
       "\n",
       ">>> df.dropna(how='all')\n",
       "       name        toy       born\n",
       "0    Alfred        NaN        NaT\n",
       "1    Batman  Batmobile 1940-04-25\n",
       "2  Catwoman   Bullwhip        NaT\n",
       "\n",
       "Keep only the rows with at least 2 non-NA values.\n",
       "\n",
       ">>> df.dropna(thresh=2)\n",
       "       name        toy       born\n",
       "1    Batman  Batmobile 1940-04-25\n",
       "2  Catwoman   Bullwhip        NaT\n",
       "\n",
       "Define in which columns to look for missing values.\n",
       "\n",
       ">>> df.dropna(subset=['name', 'toy'])\n",
       "       name        toy       born\n",
       "1    Batman  Batmobile 1940-04-25\n",
       "2  Catwoman   Bullwhip        NaT\n",
       "\n",
       "Keep the DataFrame with valid entries in the same variable.\n",
       "\n",
       ">>> df.dropna(inplace=True)\n",
       ">>> df\n",
       "     name        toy       born\n",
       "1  Batman  Batmobile 1940-04-25\n",
       "\u001b[0;31mFile:\u001b[0m      ~/anaconda3/envs/tm_analyses/lib/python3.9/site-packages/pandas/core/frame.py\n",
       "\u001b[0;31mType:\u001b[0m      method\n"
      ]
     },
     "metadata": {},
     "output_type": "display_data"
    }
   ],
   "source": [
    "df.dropna?"
   ]
  },
  {
   "cell_type": "code",
   "execution_count": 151,
   "id": "46be26f9-8b72-4d2c-afd3-7289e5021c34",
   "metadata": {},
   "outputs": [
    {
     "data": {
      "text/plain": [
       "index        0\n",
       "subject      0\n",
       "session      0\n",
       "task         0\n",
       "unit_type    0\n",
       "score        9\n",
       "dtype: int64"
      ]
     },
     "execution_count": 151,
     "metadata": {},
     "output_type": "execute_result"
    }
   ],
   "source": [
    "df.isna().sum()"
   ]
  },
  {
   "cell_type": "code",
   "execution_count": 142,
   "id": "bc45df1e-9654-41a6-8693-4ffe1ac3a6eb",
   "metadata": {},
   "outputs": [
    {
     "data": {
      "text/html": [
       "<div>\n",
       "<style scoped>\n",
       "    .dataframe tbody tr th:only-of-type {\n",
       "        vertical-align: middle;\n",
       "    }\n",
       "\n",
       "    .dataframe tbody tr th {\n",
       "        vertical-align: top;\n",
       "    }\n",
       "\n",
       "    .dataframe thead th {\n",
       "        text-align: right;\n",
       "    }\n",
       "</style>\n",
       "<table border=\"1\" class=\"dataframe\">\n",
       "  <thead>\n",
       "    <tr style=\"text-align: right;\">\n",
       "      <th></th>\n",
       "      <th>index</th>\n",
       "      <th>subject</th>\n",
       "      <th>session</th>\n",
       "      <th>task</th>\n",
       "      <th>unit_type</th>\n",
       "      <th>score</th>\n",
       "    </tr>\n",
       "  </thead>\n",
       "  <tbody>\n",
       "    <tr>\n",
       "      <th>0</th>\n",
       "      <td>2</td>\n",
       "      <td>Li</td>\n",
       "      <td>Li_T3g_052918</td>\n",
       "      <td>T3g</td>\n",
       "      <td>cell</td>\n",
       "      <td>-20.125812</td>\n",
       "    </tr>\n",
       "    <tr>\n",
       "      <th>1</th>\n",
       "      <td>3</td>\n",
       "      <td>Li</td>\n",
       "      <td>Li_T3g_052918</td>\n",
       "      <td>T3g</td>\n",
       "      <td>cell</td>\n",
       "      <td>-9.454595</td>\n",
       "    </tr>\n",
       "    <tr>\n",
       "      <th>2</th>\n",
       "      <td>4</td>\n",
       "      <td>Li</td>\n",
       "      <td>Li_T3g_052918</td>\n",
       "      <td>T3g</td>\n",
       "      <td>cell</td>\n",
       "      <td>-30.301465</td>\n",
       "    </tr>\n",
       "    <tr>\n",
       "      <th>3</th>\n",
       "      <td>5</td>\n",
       "      <td>Li</td>\n",
       "      <td>Li_T3g_052918</td>\n",
       "      <td>T3g</td>\n",
       "      <td>cell</td>\n",
       "      <td>-19.573431</td>\n",
       "    </tr>\n",
       "    <tr>\n",
       "      <th>4</th>\n",
       "      <td>6</td>\n",
       "      <td>Li</td>\n",
       "      <td>Li_T3g_052918</td>\n",
       "      <td>T3g</td>\n",
       "      <td>cell</td>\n",
       "      <td>-15.460217</td>\n",
       "    </tr>\n",
       "    <tr>\n",
       "      <th>...</th>\n",
       "      <td>...</td>\n",
       "      <td>...</td>\n",
       "      <td>...</td>\n",
       "      <td>...</td>\n",
       "      <td>...</td>\n",
       "      <td>...</td>\n",
       "    </tr>\n",
       "    <tr>\n",
       "      <th>563</th>\n",
       "      <td>1926</td>\n",
       "      <td>Ca</td>\n",
       "      <td>Ca_T3g_030719</td>\n",
       "      <td>T3g</td>\n",
       "      <td>cell</td>\n",
       "      <td>2.160435</td>\n",
       "    </tr>\n",
       "    <tr>\n",
       "      <th>564</th>\n",
       "      <td>1930</td>\n",
       "      <td>Ca</td>\n",
       "      <td>Ca_T3g_030819</td>\n",
       "      <td>T3g</td>\n",
       "      <td>cell</td>\n",
       "      <td>-0.084745</td>\n",
       "    </tr>\n",
       "    <tr>\n",
       "      <th>565</th>\n",
       "      <td>1936</td>\n",
       "      <td>Ca</td>\n",
       "      <td>Ca_T3g_031219</td>\n",
       "      <td>T3g</td>\n",
       "      <td>cell</td>\n",
       "      <td>0.062290</td>\n",
       "    </tr>\n",
       "    <tr>\n",
       "      <th>566</th>\n",
       "      <td>1978</td>\n",
       "      <td>Ca</td>\n",
       "      <td>Ca_T3g_032119</td>\n",
       "      <td>T3g</td>\n",
       "      <td>cell</td>\n",
       "      <td>-11.456815</td>\n",
       "    </tr>\n",
       "    <tr>\n",
       "      <th>567</th>\n",
       "      <td>1979</td>\n",
       "      <td>Ca</td>\n",
       "      <td>Ca_T3g_032119</td>\n",
       "      <td>T3g</td>\n",
       "      <td>cell</td>\n",
       "      <td>-30.724400</td>\n",
       "    </tr>\n",
       "  </tbody>\n",
       "</table>\n",
       "<p>568 rows × 6 columns</p>\n",
       "</div>"
      ],
      "text/plain": [
       "     index subject        session task unit_type      score\n",
       "0        2      Li  Li_T3g_052918  T3g      cell -20.125812\n",
       "1        3      Li  Li_T3g_052918  T3g      cell  -9.454595\n",
       "2        4      Li  Li_T3g_052918  T3g      cell -30.301465\n",
       "3        5      Li  Li_T3g_052918  T3g      cell -19.573431\n",
       "4        6      Li  Li_T3g_052918  T3g      cell -15.460217\n",
       "..     ...     ...            ...  ...       ...        ...\n",
       "563   1926      Ca  Ca_T3g_030719  T3g      cell   2.160435\n",
       "564   1930      Ca  Ca_T3g_030819  T3g      cell  -0.084745\n",
       "565   1936      Ca  Ca_T3g_031219  T3g      cell   0.062290\n",
       "566   1978      Ca  Ca_T3g_032119  T3g      cell -11.456815\n",
       "567   1979      Ca  Ca_T3g_032119  T3g      cell -30.724400\n",
       "\n",
       "[568 rows x 6 columns]"
      ]
     },
     "execution_count": 142,
     "metadata": {},
     "output_type": "execute_result"
    }
   ],
   "source": [
    "df"
   ]
  },
  {
   "cell_type": "code",
   "execution_count": 95,
   "id": "69f0ae09-4965-4e70-aba4-58b7855ae4f5",
   "metadata": {},
   "outputs": [
    {
     "data": {
      "application/vnd.jupyter.widget-view+json": {
       "model_id": "b523f10128804a10b6e17d868af8c482",
       "version_major": 2,
       "version_minor": 0
      },
      "text/plain": [
       "interactive(children=(Dropdown(description='unit_type', options=('all', 'cell', 'mua'), value='all'), Dropdown…"
      ]
     },
     "metadata": {},
     "output_type": "display_data"
    }
   ],
   "source": [
    "ps = reload(ps)\n",
    "lmm_stats = ps.LMM_Stats(info).remap_scores()"
   ]
  },
  {
   "cell_type": "code",
   "execution_count": null,
   "id": "0ffb8450-6d27-42c3-8b64-4dbb38776c55",
   "metadata": {},
   "outputs": [],
   "source": []
  },
  {
   "cell_type": "code",
   "execution_count": 97,
   "id": "7e773775-4c18-40e2-a676-6f7d4300a480",
   "metadata": {},
   "outputs": [
    {
     "name": "stdout",
     "output_type": "stream",
     "text": [
      "          Mixed Linear Model Regression Results\n",
      "=========================================================\n",
      "Model:             MixedLM Dependent Variable: score     \n",
      "No. Observations:  1695    Method:             REML      \n",
      "No. Groups:        5       Scale:              1.9016    \n",
      "Min. group size:   60      Log-Likelihood:     -2975.2254\n",
      "Max. group size:   822     Converged:          No        \n",
      "Mean group size:   339.0                                 \n",
      "---------------------------------------------------------\n",
      "               Coef.  Std.Err.   z    P>|z| [0.025 0.975]\n",
      "---------------------------------------------------------\n",
      "segment[left]   0.510    0.315  1.621 0.105 -0.107  1.126\n",
      "segment[stem]   0.232    0.315  0.739 0.460 -0.384  0.849\n",
      "segment[right] -0.264    0.315 -0.840 0.401 -0.881  0.352\n",
      "subject Var     0.367                                    \n",
      "session Var     0.034    0.015                           \n",
      "task Var        0.093    0.232                           \n",
      "=========================================================\n",
      "\n",
      "             chi2        P>chi2  df constraint\n",
      "segment  91.63712  9.747472e-20              3\n",
      "\n",
      "Interactions\n",
      "c0: left>stem\n",
      "c1: stem>right\n",
      "c2: right>left\n",
      "                             Test for Constraints                             \n",
      "==============================================================================\n",
      "                 coef    std err          z      P>|z|      [0.025      0.975]\n",
      "------------------------------------------------------------------------------\n",
      "c0             0.2775      0.082      3.382      0.001       0.117       0.438\n",
      "c1            -0.4965      0.082     -6.052      0.000      -0.657      -0.336\n",
      "c2            -0.7740      0.082     -9.434      0.000      -0.935      -0.613\n",
      "==============================================================================\n"
     ]
    }
   ],
   "source": [
    "comp_type = 'cue'\n",
    "unit_type='cell'\n",
    "metric_type = 'uz_val'\n",
    "\n",
    "seg_rates = info.get_segment_rate_comps()\n",
    "if unit_type == 'all':\n",
    "    df = seg_rates[seg_rates.comp==comp_type].copy()\n",
    "elif unit_type in ['cell', 'mua']:\n",
    "    df = seg_rates[ (seg_rates.comp==comp_type) & (seg_rates.unit_type==unit_type)].copy()\n",
    "\n",
    "df['score'] = df[metric_type]\n",
    "\n",
    "vc_formula={}\n",
    "if comp_type=='rw':\n",
    "    vc_formula['task'] = \"1+C(task)\"\n",
    "else:\n",
    "    vc_formula['task'] = \"1+C(task)\"\n",
    "\n",
    "vc_formula['session'] = \"0+C(session)\"\n",
    "\n",
    "if unit_type=='all':\n",
    "    mdf = smf.mixedlm(formula=\"score ~ 0 + segment + unit_type\", \n",
    "                      groups='subject', re_formula=\"1\", vc_formula=vc_formula,\n",
    "                      data=df).fit()\n",
    "    r_mat = np.array([[1,-1,0, 0],[0,-1,1, 0],[-1,0,1, 0]])\n",
    "else:\n",
    "    mdf = smf.mixedlm(formula=\"score ~ 0 + segment\", groups='subject',\n",
    "                      re_formula=\"1\", vc_formula=vc_formula, data=df).fit()\n",
    "    r_mat = np.array([[1,-1,0],[0,-1,1],[-1,0,1]])\n",
    "\n",
    "\n",
    "print(mdf.summary())\n",
    "print(mdf.wald_test_terms())\n",
    "\n",
    "print()\n",
    "print(\"Interactions\")\n",
    "print('c0: left>stem')\n",
    "print('c1: stem>right')\n",
    "print('c2: right>left')\n",
    "print(mdf.t_test(r_mat))"
   ]
  },
  {
   "cell_type": "code",
   "execution_count": 116,
   "id": "9662b93e-baea-4ecb-97ae-c32f0388c736",
   "metadata": {},
   "outputs": [
    {
     "name": "stdout",
     "output_type": "stream",
     "text": [
      "          Mixed Linear Model Regression Results\n",
      "=========================================================\n",
      "Model:             MixedLM Dependent Variable: score     \n",
      "No. Observations:  1695    Method:             REML      \n",
      "No. Groups:        5       Scale:              1.9029    \n",
      "Min. group size:   60      Log-Likelihood:     -2975.6438\n",
      "Max. group size:   822     Converged:          Yes       \n",
      "Mean group size:   339.0                                 \n",
      "---------------------------------------------------------\n",
      "               Coef.  Std.Err.   z    P>|z| [0.025 0.975]\n",
      "---------------------------------------------------------\n",
      "segment[left]   0.469    0.241  1.947 0.052 -0.003  0.942\n",
      "segment[stem]   0.192    0.241  0.796 0.426 -0.281  0.664\n",
      "segment[right] -0.305    0.241 -1.265 0.206 -0.777  0.168\n",
      "subject Var     0.104                                    \n",
      "session Var     0.030    0.014                           \n",
      "task Var        0.240                                    \n",
      "=========================================================\n",
      "\n"
     ]
    }
   ],
   "source": [
    "comp_type = 'cue'\n",
    "unit_type='cell'\n",
    "metric_type = 'uz_val'\n",
    "\n",
    "vc_formula = {}\n",
    "vc_formula['task'] = \"0+C(task)\"\n",
    "vc_formula['session'] = \"0+C(session)\"\n",
    "mdf = smf.mixedlm(formula=\"score ~ 0 + segment\", groups='subject',\n",
    "                  re_formula=\"1\", vc_formula=vc_formula, data=df).fit()\n",
    "\n",
    "print(mdf.summary())"
   ]
  },
  {
   "cell_type": "code",
   "execution_count": 114,
   "id": "332b0f0e-a65c-48bc-8ea5-e4d6dc793538",
   "metadata": {},
   "outputs": [
    {
     "data": {
      "text/plain": [
       "{'Al': subject                               0.066016\n",
       " session[C(session)[Al_T3g_092618]]    0.019873\n",
       " session[C(session)[Al_T3g_092718]]   -0.046560\n",
       " session[C(session)[Al_T3g_092818]]    0.000865\n",
       " session[C(session)[Al_T3g_101018]]   -0.023411\n",
       " session[C(session)[Al_T3g_111418]]    0.068327\n",
       " task[C(task)[T3g]]                    0.151806\n",
       " dtype: float64,\n",
       " 'Ca': subject                              -0.060634\n",
       " session[C(session)[Ca_T3g_030419]]   -0.137180\n",
       " session[C(session)[Ca_T3g_030519]]    0.012507\n",
       " session[C(session)[Ca_T3g_030619]]    0.101509\n",
       " session[C(session)[Ca_T3g_030719]]   -0.003557\n",
       " session[C(session)[Ca_T3g_030819]]   -0.012013\n",
       " session[C(session)[Ca_T3g_031219]]    0.011131\n",
       " session[C(session)[Ca_T3g_032119]]    0.010066\n",
       " task[C(task)[T3g]]                   -0.139430\n",
       " dtype: float64,\n",
       " 'Cl': subject                               0.049390\n",
       " session[C(session)[Cl_T3g_010218]]   -0.140506\n",
       " session[C(session)[Cl_T3g_010318]]    0.068087\n",
       " session[C(session)[Cl_T3g_010619]]    0.020379\n",
       " session[C(session)[Cl_T3g_010819]]    0.002634\n",
       " session[C(session)[Cl_T3g_010919]]    0.169591\n",
       " session[C(session)[Cl_T3g_011419]]   -0.055024\n",
       " session[C(session)[Cl_T3g_011519]]   -0.093249\n",
       " session[C(session)[Cl_T3g_011619]]    0.042792\n",
       " session[C(session)[Cl_T3g_012419]]   -0.012497\n",
       " session[C(session)[Cl_T3g_012519]]   -0.110420\n",
       " session[C(session)[Cl_T3g_012819]]    0.038366\n",
       " session[C(session)[Cl_T3g_012919]]    0.071794\n",
       " session[C(session)[Cl_T3g_013019]]    0.143247\n",
       " session[C(session)[Cl_T3g_020419]]   -0.037396\n",
       " session[C(session)[Cl_T3g_020519]]    0.066153\n",
       " session[C(session)[Cl_T3g_020619]]   -0.041523\n",
       " session[C(session)[Cl_T3g_020719]]    0.023725\n",
       " session[C(session)[Cl_T3g_021419]]   -0.031648\n",
       " session[C(session)[Cl_T3g_021719]]    0.062203\n",
       " session[C(session)[Cl_T3g_112318]]    0.024050\n",
       " session[C(session)[Cl_T3g_112818]]    0.030652\n",
       " session[C(session)[Cl_T3g_112918]]   -0.312558\n",
       " session[C(session)[Cl_T3g_113018]]    0.185834\n",
       " session[C(session)[Cl_T3g_120318]]    0.064397\n",
       " session[C(session)[Cl_T3g_120418]]   -0.062890\n",
       " session[C(session)[Cl_T3g_120518]]   -0.014452\n",
       " session[C(session)[Cl_T3g_120618]]   -0.215547\n",
       " session[C(session)[Cl_T3g_120718]]   -0.182204\n",
       " session[C(session)[Cl_T3g_120918]]    0.040566\n",
       " session[C(session)[Cl_T3g_121118]]    0.033374\n",
       " session[C(session)[Cl_T3g_121218]]   -0.071690\n",
       " session[C(session)[Cl_T3g_121418]]    0.043656\n",
       " session[C(session)[Cl_T3g_121718]]    0.060789\n",
       " session[C(session)[Cl_T3g_121818]]    0.024555\n",
       " session[C(session)[Cl_T3g_122118]]    0.047389\n",
       " session[C(session)[Cl_T3g_122218]]    0.078065\n",
       " session[C(session)[Cl_T3g_122818]]    0.090462\n",
       " session[C(session)[Cl_T3g_123118]]   -0.041515\n",
       " session[C(session)[Cl_T3i_021319]]    0.007696\n",
       " session[C(session)[Cl_T3i_021419]]   -0.037792\n",
       " session[C(session)[Cl_T3i_021519]]    0.034744\n",
       " task[C(task)[T3g]]                    0.076625\n",
       " task[C(task)[T3i]]                    0.036948\n",
       " dtype: float64,\n",
       " 'Li': subject                               0.006913\n",
       " session[C(session)[Li_T3g_052918]]    0.044561\n",
       " session[C(session)[Li_T3g_053018]]    0.002104\n",
       " session[C(session)[Li_T3g_053118]]    0.018325\n",
       " session[C(session)[Li_T3g_060118]]    0.066798\n",
       " session[C(session)[Li_T3g_060418]]    0.007924\n",
       " session[C(session)[Li_T3g_061318]]   -0.052122\n",
       " session[C(session)[Li_T3g_061418]]    0.017118\n",
       " session[C(session)[Li_T3g_061518]]   -0.023352\n",
       " session[C(session)[Li_T3g_061818]]   -0.037006\n",
       " session[C(session)[Li_T3g_062018]]    0.075902\n",
       " session[C(session)[Li_T3g_062518]]   -0.027541\n",
       " session[C(session)[Li_T3g_062618]]    0.103165\n",
       " session[C(session)[Li_T3g_062718]]   -0.057164\n",
       " session[C(session)[Li_T3g_062818]]    0.029308\n",
       " session[C(session)[Li_T3g_062918]]   -0.025917\n",
       " session[C(session)[Li_T3g_070218]]   -0.033750\n",
       " session[C(session)[Li_T3g_070618]]    0.002038\n",
       " session[C(session)[Li_T3g_070918]]    0.032299\n",
       " session[C(session)[Li_T3g_071018]]    0.057486\n",
       " session[C(session)[Li_T3g_071118]]   -0.038920\n",
       " session[C(session)[Li_T3g_072518]]   -0.032208\n",
       " session[C(session)[Li_T3g_072618]]   -0.028894\n",
       " session[C(session)[Li_T3g_073018]]   -0.069567\n",
       " session[C(session)[Li_T3g_080118]]   -0.137162\n",
       " session[C(session)[Li_T3g_080318]]    0.105722\n",
       " session[C(session)[Li_T3i_060518]]    0.054078\n",
       " session[C(session)[Li_T3i_060618]]   -0.054282\n",
       " session[C(session)[Li_T3i_061118]]    0.003058\n",
       " task[C(task)[T3g]]                   -0.006789\n",
       " task[C(task)[T3i]]                    0.022687\n",
       " dtype: float64,\n",
       " 'Ne': subject                              -0.061685\n",
       " session[C(session)[NE_T3g_052818]]   -0.006044\n",
       " session[C(session)[NE_T3g_052918]]   -0.036803\n",
       " session[C(session)[NE_T3g_053118]]   -0.075979\n",
       " session[C(session)[NE_T3g_061218]]   -0.024863\n",
       " session[C(session)[NE_T3g_061318]]   -0.044039\n",
       " session[C(session)[NE_T3g_061418]]   -0.039409\n",
       " session[C(session)[NE_T3g_061518]]   -0.019141\n",
       " session[C(session)[NE_T3g_061818]]    0.178916\n",
       " session[C(session)[NE_T3g_062518]]    0.014530\n",
       " session[C(session)[NE_T3g_062618]]   -0.028601\n",
       " session[C(session)[NE_T3g_070518]]    0.046038\n",
       " session[C(session)[NE_T3g_070618]]   -0.012311\n",
       " session[C(session)[NE_T3g_071018]]    0.063063\n",
       " session[C(session)[NE_T3g_072518]]   -0.095667\n",
       " session[C(session)[NE_T3i_060618]]    0.023932\n",
       " session[C(session)[NE_T3i_061118]]   -0.094775\n",
       " session[C(session)[NE_T3i_062918]]   -0.001705\n",
       " session[C(session)[NE_T3i_070218]]   -0.006604\n",
       " session[C(session)[NE_T3i_070518]]    0.006951\n",
       " session[C(session)[NE_T3i_071018]]    0.035364\n",
       " session[C(session)[Ne_T3g_060118]]    0.099304\n",
       " task[C(task)[T3g]]                    0.151004\n",
       " task[C(task)[T3i]]                   -0.292850\n",
       " dtype: float64}"
      ]
     },
     "execution_count": 114,
     "metadata": {},
     "output_type": "execute_result"
    }
   ],
   "source": [
    "#mdf.random_effects_cov.keys()\n",
    "mdf.random_effects"
   ]
  },
  {
   "cell_type": "code",
   "execution_count": 103,
   "id": "9040b53f-280d-4721-bcba-303e74015fb4",
   "metadata": {},
   "outputs": [
    {
     "name": "stdout",
     "output_type": "stream",
     "text": [
      "          Mixed Linear Model Regression Results\n",
      "=========================================================\n",
      "Model:             MixedLM Dependent Variable: score     \n",
      "No. Observations:  1695    Method:             REML      \n",
      "No. Groups:        5       Scale:              1.9029    \n",
      "Min. group size:   60      Log-Likelihood:     -2975.6438\n",
      "Max. group size:   822     Converged:          Yes       \n",
      "Mean group size:   339.0                                 \n",
      "---------------------------------------------------------\n",
      "               Coef.  Std.Err.   z    P>|z| [0.025 0.975]\n",
      "---------------------------------------------------------\n",
      "segment[left]   0.469    0.241  1.947 0.052 -0.003  0.942\n",
      "segment[stem]   0.192    0.241  0.796 0.426 -0.281  0.664\n",
      "segment[right] -0.305    0.241 -1.265 0.206 -0.777  0.168\n",
      "subject Var     0.104                                    \n",
      "session Var     0.030    0.014                           \n",
      "task Var        0.240                                    \n",
      "=========================================================\n",
      "\n"
     ]
    }
   ],
   "source": [
    "comp_type = 'cue'\n",
    "unit_type='cell'\n",
    "metric_type = 'uz_val'\n",
    "\n",
    "vc_formula = {}\n",
    "vc_formula['task'] = \"0+C(task)\"\n",
    "vc_formula['session'] = \"0+C(session)\"\n",
    "mdf = smf.mixedlm(formula=\"score ~ 0 + segment\", groups='subject',\n",
    "                  re_formula=\"1\", vc_formula=vc_formula, data=df).fit()\n",
    "\n",
    "print(mdf.summary())"
   ]
  },
  {
   "cell_type": "code",
   "execution_count": 60,
   "id": "743a3555-5f32-4196-9dc2-b0cecdfca0bf",
   "metadata": {},
   "outputs": [
    {
     "data": {
      "text/plain": [
       "array([8.56871095e-02, 3.55285598e-12, 1.64704276e-07])"
      ]
     },
     "execution_count": 60,
     "metadata": {},
     "output_type": "execute_result"
    }
   ],
   "source": [
    "o = mdf.t_test(r_mat)\n",
    "o.pvalue"
   ]
  },
  {
   "cell_type": "code",
   "execution_count": 53,
   "id": "5641ab6c-e238-4b66-91cf-bf875eaed432",
   "metadata": {},
   "outputs": [
    {
     "data": {
      "text/plain": [
       "segment[left]     0.279542\n",
       "segment[stem]     0.279542\n",
       "segment[right]    0.279542\n",
       "dtype: float64"
      ]
     },
     "execution_count": 53,
     "metadata": {},
     "output_type": "execute_result"
    }
   ],
   "source": [
    "mdf.bse_fe"
   ]
  },
  {
   "cell_type": "code",
   "execution_count": 62,
   "id": "7ae832b9-e7c2-4441-8cde-ab5ec45a9c96",
   "metadata": {},
   "outputs": [
    {
     "name": "stdout",
     "output_type": "stream",
     "text": [
      "[[ 1. -1.  0.  0.  0.  0.]\n",
      " [ 0. -1.  1.  0.  0.  0.]]\n"
     ]
    },
    {
     "data": {
      "text/plain": [
       "<class 'statsmodels.stats.contrast.ContrastResults'>\n",
       "<Wald test (chi2): statistic=[[52.47935964]], p-value=4.020238771371506e-12, df_denom=2>"
      ]
     },
     "execution_count": 62,
     "metadata": {},
     "output_type": "execute_result"
    }
   ],
   "source": [
    "\n",
    "r_mat_joint = np.zeros((2, len(mdf.params)))\n",
    "r_mat_joint[0,[0,1]]=1,-1\n",
    "r_mat_joint[1,[1,2]]=-1,1\n",
    "#r_mat_joint[2,[0,2]]=1,-1\n",
    "print(r_mat_joint)\n",
    "\n",
    "mdf.wald_test(r_mat_joint)\n",
    "\n"
   ]
  },
  {
   "cell_type": "code",
   "execution_count": 49,
   "id": "f0d9e368-2069-47cc-a4ea-8e06af99018d",
   "metadata": {},
   "outputs": [
    {
     "data": {
      "text/plain": [
       "segment[left]    -0.510714\n",
       "segment[stem]    -0.338160\n",
       "segment[right]   -1.036360\n",
       "subject Var       0.110990\n",
       "session Var       0.089444\n",
       "task Var          0.018655\n",
       "dtype: float64"
      ]
     },
     "execution_count": 49,
     "metadata": {},
     "output_type": "execute_result"
    }
   ],
   "source": [
    "mdf.params"
   ]
  },
  {
   "cell_type": "code",
   "execution_count": 48,
   "id": "34729958-e122-4516-80aa-74ebefaaa575",
   "metadata": {},
   "outputs": [
    {
     "data": {
      "text/plain": [
       "array([[ 1., -1.,  0.,  0.,  0.,  0.],\n",
       "       [ 0., -1.,  1.,  0.,  0.,  0.],\n",
       "       [ 1.,  0., -1.,  0.,  0.,  0.]])"
      ]
     },
     "execution_count": 48,
     "metadata": {},
     "output_type": "execute_result"
    }
   ],
   "source": [
    "r_mat_joint"
   ]
  },
  {
   "cell_type": "code",
   "execution_count": 44,
   "id": "69127a24-dc19-49cd-8a11-741554bea682",
   "metadata": {},
   "outputs": [
    {
     "data": {
      "text/plain": [
       "segment[left]    -0.510714\n",
       "segment[stem]    -0.338160\n",
       "segment[right]   -1.036360\n",
       "subject Var       0.110990\n",
       "session Var       0.089444\n",
       "task Var          0.018655\n",
       "dtype: float64"
      ]
     },
     "execution_count": 44,
     "metadata": {},
     "output_type": "execute_result"
    }
   ],
   "source": [
    "mdf.params"
   ]
  },
  {
   "cell_type": "code",
   "execution_count": 43,
   "id": "6c5c3820-ab6b-48b8-917c-a347bdb2582f",
   "metadata": {},
   "outputs": [
    {
     "ename": "ValueError",
     "evalue": "wrong shape for coefs",
     "output_type": "error",
     "traceback": [
      "\u001b[0;31m---------------------------------------------------------------------------\u001b[0m",
      "\u001b[0;31mValueError\u001b[0m                                Traceback (most recent call last)",
      "Input \u001b[0;32mIn [43]\u001b[0m, in \u001b[0;36m<cell line: 1>\u001b[0;34m()\u001b[0m\n\u001b[0;32m----> 1\u001b[0m \u001b[43mmdf\u001b[49m\u001b[38;5;241;43m.\u001b[39;49m\u001b[43mwald_test\u001b[49m\u001b[43m(\u001b[49m\u001b[43mr_mat\u001b[49m\u001b[43m)\u001b[49m\n",
      "File \u001b[0;32m~/anaconda3/envs/tm_analyses/lib/python3.9/site-packages/statsmodels/base/model.py:1833\u001b[0m, in \u001b[0;36mLikelihoodModelResults.wald_test\u001b[0;34m(self, r_matrix, cov_p, invcov, use_f, df_constraints)\u001b[0m\n\u001b[1;32m   1831\u001b[0m names \u001b[38;5;241m=\u001b[39m \u001b[38;5;28mself\u001b[39m\u001b[38;5;241m.\u001b[39mmodel\u001b[38;5;241m.\u001b[39mdata\u001b[38;5;241m.\u001b[39mcov_names\n\u001b[1;32m   1832\u001b[0m params \u001b[38;5;241m=\u001b[39m \u001b[38;5;28mself\u001b[39m\u001b[38;5;241m.\u001b[39mparams\u001b[38;5;241m.\u001b[39mravel()\n\u001b[0;32m-> 1833\u001b[0m LC \u001b[38;5;241m=\u001b[39m \u001b[43mDesignInfo\u001b[49m\u001b[43m(\u001b[49m\u001b[43mnames\u001b[49m\u001b[43m)\u001b[49m\u001b[38;5;241;43m.\u001b[39;49m\u001b[43mlinear_constraint\u001b[49m\u001b[43m(\u001b[49m\u001b[43mr_matrix\u001b[49m\u001b[43m)\u001b[49m\n\u001b[1;32m   1834\u001b[0m r_matrix, q_matrix \u001b[38;5;241m=\u001b[39m LC\u001b[38;5;241m.\u001b[39mcoefs, LC\u001b[38;5;241m.\u001b[39mconstants\n\u001b[1;32m   1836\u001b[0m \u001b[38;5;28;01mif\u001b[39;00m (\u001b[38;5;28mself\u001b[39m\u001b[38;5;241m.\u001b[39mnormalized_cov_params \u001b[38;5;129;01mis\u001b[39;00m \u001b[38;5;28;01mNone\u001b[39;00m \u001b[38;5;129;01mand\u001b[39;00m cov_p \u001b[38;5;129;01mis\u001b[39;00m \u001b[38;5;28;01mNone\u001b[39;00m \u001b[38;5;129;01mand\u001b[39;00m\n\u001b[1;32m   1837\u001b[0m         invcov \u001b[38;5;129;01mis\u001b[39;00m \u001b[38;5;28;01mNone\u001b[39;00m \u001b[38;5;129;01mand\u001b[39;00m \u001b[38;5;129;01mnot\u001b[39;00m \u001b[38;5;28mhasattr\u001b[39m(\u001b[38;5;28mself\u001b[39m, \u001b[38;5;124m'\u001b[39m\u001b[38;5;124mcov_params_default\u001b[39m\u001b[38;5;124m'\u001b[39m)):\n",
      "File \u001b[0;32m~/anaconda3/envs/tm_analyses/lib/python3.9/site-packages/patsy/design_info.py:536\u001b[0m, in \u001b[0;36mDesignInfo.linear_constraint\u001b[0;34m(self, constraint_likes)\u001b[0m\n\u001b[1;32m    487\u001b[0m \u001b[38;5;28;01mdef\u001b[39;00m \u001b[38;5;21mlinear_constraint\u001b[39m(\u001b[38;5;28mself\u001b[39m, constraint_likes):\n\u001b[1;32m    488\u001b[0m     \u001b[38;5;124;03m\"\"\"Construct a linear constraint in matrix form from a (possibly\u001b[39;00m\n\u001b[1;32m    489\u001b[0m \u001b[38;5;124;03m    symbolic) description.\u001b[39;00m\n\u001b[1;32m    490\u001b[0m \n\u001b[0;32m   (...)\u001b[0m\n\u001b[1;32m    534\u001b[0m \u001b[38;5;124;03m      di.linear_constraint(\"x1 = x2 = 3\")\u001b[39;00m\n\u001b[1;32m    535\u001b[0m \u001b[38;5;124;03m    \"\"\"\u001b[39;00m\n\u001b[0;32m--> 536\u001b[0m     \u001b[38;5;28;01mreturn\u001b[39;00m \u001b[43mlinear_constraint\u001b[49m\u001b[43m(\u001b[49m\u001b[43mconstraint_likes\u001b[49m\u001b[43m,\u001b[49m\u001b[43m \u001b[49m\u001b[38;5;28;43mself\u001b[39;49m\u001b[38;5;241;43m.\u001b[39;49m\u001b[43mcolumn_names\u001b[49m\u001b[43m)\u001b[49m\n",
      "File \u001b[0;32m~/anaconda3/envs/tm_analyses/lib/python3.9/site-packages/patsy/constraint.py:419\u001b[0m, in \u001b[0;36mlinear_constraint\u001b[0;34m(constraint_like, variable_names)\u001b[0m\n\u001b[1;32m    417\u001b[0m \u001b[38;5;66;03m# assume a raw ndarray\u001b[39;00m\n\u001b[1;32m    418\u001b[0m coefs \u001b[38;5;241m=\u001b[39m np\u001b[38;5;241m.\u001b[39masarray(constraint_like, dtype\u001b[38;5;241m=\u001b[39m\u001b[38;5;28mfloat\u001b[39m)\n\u001b[0;32m--> 419\u001b[0m \u001b[38;5;28;01mreturn\u001b[39;00m \u001b[43mLinearConstraint\u001b[49m\u001b[43m(\u001b[49m\u001b[43mvariable_names\u001b[49m\u001b[43m,\u001b[49m\u001b[43m \u001b[49m\u001b[43mcoefs\u001b[49m\u001b[43m)\u001b[49m\n",
      "File \u001b[0;32m~/anaconda3/envs/tm_analyses/lib/python3.9/site-packages/patsy/constraint.py:60\u001b[0m, in \u001b[0;36mLinearConstraint.__init__\u001b[0;34m(self, variable_names, coefs, constants)\u001b[0m\n\u001b[1;32m     58\u001b[0m     \u001b[38;5;28;01mraise\u001b[39;00m \u001b[38;5;167;01mValueError\u001b[39;00m(\u001b[38;5;124m\"\u001b[39m\u001b[38;5;124mconstants is not (convertible to) a column matrix\u001b[39m\u001b[38;5;124m\"\u001b[39m)\n\u001b[1;32m     59\u001b[0m \u001b[38;5;28;01mif\u001b[39;00m \u001b[38;5;28mself\u001b[39m\u001b[38;5;241m.\u001b[39mcoefs\u001b[38;5;241m.\u001b[39mndim \u001b[38;5;241m!=\u001b[39m \u001b[38;5;241m2\u001b[39m \u001b[38;5;129;01mor\u001b[39;00m \u001b[38;5;28mself\u001b[39m\u001b[38;5;241m.\u001b[39mcoefs\u001b[38;5;241m.\u001b[39mshape[\u001b[38;5;241m1\u001b[39m] \u001b[38;5;241m!=\u001b[39m \u001b[38;5;28mlen\u001b[39m(variable_names):\n\u001b[0;32m---> 60\u001b[0m     \u001b[38;5;28;01mraise\u001b[39;00m \u001b[38;5;167;01mValueError\u001b[39;00m(\u001b[38;5;124m\"\u001b[39m\u001b[38;5;124mwrong shape for coefs\u001b[39m\u001b[38;5;124m\"\u001b[39m)\n\u001b[1;32m     61\u001b[0m \u001b[38;5;28;01mif\u001b[39;00m \u001b[38;5;28mself\u001b[39m\u001b[38;5;241m.\u001b[39mcoefs\u001b[38;5;241m.\u001b[39mshape[\u001b[38;5;241m0\u001b[39m] \u001b[38;5;241m==\u001b[39m \u001b[38;5;241m0\u001b[39m:\n\u001b[1;32m     62\u001b[0m     \u001b[38;5;28;01mraise\u001b[39;00m \u001b[38;5;167;01mValueError\u001b[39;00m(\u001b[38;5;124m\"\u001b[39m\u001b[38;5;124mmust have at least one row in constraint matrix\u001b[39m\u001b[38;5;124m\"\u001b[39m)\n",
      "\u001b[0;31mValueError\u001b[0m: wrong shape for coefs"
     ]
    }
   ],
   "source": [
    "mdf.wald_test(r_mat)"
   ]
  },
  {
   "cell_type": "code",
   "execution_count": 26,
   "id": "41a59b78-b2f3-4b42-8700-b1f3e65f0585",
   "metadata": {},
   "outputs": [],
   "source": [
    "def lmm_res_segment_rates(unit_type, metric_type, comp_type):\n",
    "    \"\"\"creates a model that test the hypothesis that there's a difference in the way segments are coded.\n",
    "    :param: unit_type. str. ['all', 'cell', 'mua']\n",
    "    :param: metric_type. str. ['uz_val', 't']\n",
    "    :param: comp_type. str. ['cue', 'rw']\n",
    "    \"\"\"\n",
    "    \n",
    "    seg_rates = info.get_segment_rate_comps()\n",
    "    if unit_type == 'all':\n",
    "        df = seg_rates[seg_rates.comp==comp_type].copy()\n",
    "    elif unit_type in ['cell', 'mua']:\n",
    "        df = seg_rates[ (seg_rates.comp==comp_type) & (seg_rates.unit_type==unit_type)].copy()\n",
    "    \n",
    "    df['score'] = df[metric_type]\n",
    "\n",
    "    vc_formula={}\n",
    "    if comp_type=='rw':\n",
    "        vc_formula['task'] = \"0+C(task)\"\n",
    "    else:\n",
    "        vc_formula['task'] = \"1+C(task)\"\n",
    "    \n",
    "    vc_formula['session'] = \"0+C(session)\"\n",
    "\n",
    "    if unit_type=='all':\n",
    "        mdf = smf.mixedlm(formula=\"score ~ 0 + segment + unit_type\", \n",
    "                          groups='subject', re_formula=\"1\", vc_formula=vc_formula,\n",
    "                          data=df).fit()\n",
    "        r_mat = np.array([[1,-1,0, 0],[0,-1,1, 0],[-1,0,1, 0]])\n",
    "    else:\n",
    "        mdf = smf.mixedlm(formula=\"score ~ 0 + segment\", groups='subject',\n",
    "                          re_formula=\"1\", vc_formula=vc_formula, data=df).fit()\n",
    "        r_mat = np.array([[1,-1,0],[0,-1,1],[-1,0,1]])\n",
    "\n",
    "    print(mdf.summary())\n",
    "    print(mdf.wald_test_terms())\n",
    "\n",
    "    print()\n",
    "    print(\"Interactions\")\n",
    "    print('c0: left>stem')\n",
    "    print('c1: stem>right')\n",
    "    print('c2: right>left')\n",
    "    print(mdf.t_test(r_mat))\n"
   ]
  },
  {
   "cell_type": "code",
   "execution_count": 27,
   "id": "6162998d-58f8-4d0e-9db9-d6f2b06ad34e",
   "metadata": {},
   "outputs": [
    {
     "data": {
      "application/vnd.jupyter.widget-view+json": {
       "model_id": "fa6e57b4dc114e81b2570e07c48aa10d",
       "version_major": 2,
       "version_minor": 0
      },
      "text/plain": [
       "interactive(children=(Dropdown(description='unit_type', options=('all', 'cell', 'mua'), value='all'), Dropdown…"
      ]
     },
     "metadata": {},
     "output_type": "display_data"
    },
    {
     "data": {
      "text/plain": [
       "<function __main__.lmm_res_segment_rates(unit_type, metric_type, comp_type)>"
      ]
     },
     "execution_count": 27,
     "metadata": {},
     "output_type": "execute_result"
    }
   ],
   "source": [
    "interact(lmm_res_segment_rates, unit_type=['all', 'cell', 'mua'], metric_type=['uz_val', 't_val'], comp_type=['cue', 'rw'] )"
   ]
  },
  {
   "cell_type": "code",
   "execution_count": null,
   "id": "78577cd9-b37d-4171-b9b9-144546f814b3",
   "metadata": {},
   "outputs": [],
   "source": []
  }
 ],
 "metadata": {
  "kernelspec": {
   "display_name": "Python 3 (ipykernel)",
   "language": "python",
   "name": "python3"
  },
  "language_info": {
   "codemirror_mode": {
    "name": "ipython",
    "version": 3
   },
   "file_extension": ".py",
   "mimetype": "text/x-python",
   "name": "python",
   "nbconvert_exporter": "python",
   "pygments_lexer": "ipython3",
   "version": "3.9.7"
  },
  "widgets": {
   "application/vnd.jupyter.widget-state+json": {
    "state": {
     "02354523337541b78b131bd0102475ab": {
      "model_module": "@jupyter-widgets/controls",
      "model_module_version": "1.5.0",
      "model_name": "DropdownModel",
      "state": {
       "_options_labels": [
        "main",
        "interaction"
       ],
       "description": "test_type",
       "index": 0,
       "layout": "IPY_MODEL_c904656b3c254fb0b7ef52d615e5ce13",
       "style": "IPY_MODEL_55dc4b3ce3d24701b4aad0bb0a4b76ba"
      }
     },
     "04b4fd3e92db4786ae9dbab8b83e0234": {
      "model_module": "@jupyter-widgets/controls",
      "model_module_version": "1.5.0",
      "model_name": "DropdownModel",
      "state": {
       "_options_labels": [
        "cluster",
        "umap_1",
        "umap_2"
       ],
       "description": "cluster_type",
       "index": 0,
       "layout": "IPY_MODEL_ba60e47b57344703a654c6a04bd6fbe3",
       "style": "IPY_MODEL_cc8c1211b99f4956929c74017efa67fc"
      }
     },
     "0ab3da88037e47ef886e1e7e49c56a6c": {
      "model_module": "@jupyter-widgets/base",
      "model_module_version": "1.2.0",
      "model_name": "LayoutModel",
      "state": {}
     },
     "100e54b5e0c0446abe5c0d8f7669fb21": {
      "model_module": "@jupyter-widgets/controls",
      "model_module_version": "1.5.0",
      "model_name": "DropdownModel",
      "state": {
       "_options_labels": [
        "of_coef",
        "of_metrics",
        "tm_remap",
        "tm_enc_r2",
        "tm_enc_delta"
       ],
       "description": "score_group",
       "index": 0,
       "layout": "IPY_MODEL_2ce8b0c229564fccbf06fa78b2f264b2",
       "style": "IPY_MODEL_9edecfe9f4434f4ca4ff03825a678de7"
      }
     },
     "102323435a3b49c0a56bd89af4bfc587": {
      "model_module": "@jupyter-widgets/base",
      "model_module_version": "1.2.0",
      "model_name": "LayoutModel",
      "state": {}
     },
     "130efd3dc67a4f5a8b393c4e0b78c90b": {
      "model_module": "@jupyter-widgets/controls",
      "model_module_version": "1.5.0",
      "model_name": "DropdownModel",
      "state": {
       "_options_labels": [
        "of_coef",
        "of_metrics",
        "tm_remap",
        "tm_enc_r2",
        "tm_enc_delta"
       ],
       "description": "score_group",
       "index": 3,
       "layout": "IPY_MODEL_9063ea66b3e341a09dca32df904b4b1b",
       "style": "IPY_MODEL_2f238a4b85c54369800386690fbbaae0"
      }
     },
     "17c2a0b32dea427f8beddc8d9fc3f6aa": {
      "model_module": "@jupyter-widgets/base",
      "model_module_version": "1.2.0",
      "model_name": "LayoutModel",
      "state": {}
     },
     "18b9bfe3a0f44e299538d64b6aa46163": {
      "model_module": "@jupyter-widgets/controls",
      "model_module_version": "1.5.0",
      "model_name": "DescriptionStyleModel",
      "state": {
       "description_width": ""
      }
     },
     "19694538271742e2a482b1c4df8e5cad": {
      "model_module": "@jupyter-widgets/base",
      "model_module_version": "1.2.0",
      "model_name": "LayoutModel",
      "state": {}
     },
     "19e44f16e23f468bb3b984729183bae6": {
      "model_module": "@jupyter-widgets/controls",
      "model_module_version": "1.5.0",
      "model_name": "DescriptionStyleModel",
      "state": {
       "description_width": ""
      }
     },
     "1c9677f8932b40fab8b530d8d25db6e0": {
      "model_module": "@jupyter-widgets/controls",
      "model_module_version": "1.5.0",
      "model_name": "DescriptionStyleModel",
      "state": {
       "description_width": ""
      }
     },
     "1df99dd2afeb49d09b8cd197b660f6a1": {
      "model_module": "@jupyter-widgets/base",
      "model_module_version": "1.2.0",
      "model_name": "LayoutModel",
      "state": {}
     },
     "20f18709019249cb9b16669fbcf1c8de": {
      "model_module": "@jupyter-widgets/controls",
      "model_module_version": "1.5.0",
      "model_name": "DescriptionStyleModel",
      "state": {
       "description_width": ""
      }
     },
     "22c59468c4214b68b8da19d480901dee": {
      "model_module": "@jupyter-widgets/controls",
      "model_module_version": "1.5.0",
      "model_name": "DropdownModel",
      "state": {
       "_options_labels": [
        "clusters",
        "umap_1",
        "umap_2"
       ],
       "description": "cluster_type",
       "index": 0,
       "layout": "IPY_MODEL_5edc45477fb8467fa789c94e82097e42",
       "style": "IPY_MODEL_252329b5a7054b1ab22b98b03a2da691"
      }
     },
     "23651f0621ee43ccabf37208d147e92c": {
      "model_module": "@jupyter-widgets/base",
      "model_module_version": "1.2.0",
      "model_name": "LayoutModel",
      "state": {}
     },
     "252329b5a7054b1ab22b98b03a2da691": {
      "model_module": "@jupyter-widgets/controls",
      "model_module_version": "1.5.0",
      "model_name": "DescriptionStyleModel",
      "state": {
       "description_width": ""
      }
     },
     "26e0c3dd243d41d9bf851d3215bcc6e6": {
      "model_module": "@jupyter-widgets/controls",
      "model_module_version": "1.5.0",
      "model_name": "DescriptionStyleModel",
      "state": {
       "description_width": ""
      }
     },
     "283023280f5c47729fca7b91771a1e94": {
      "model_module": "@jupyter-widgets/base",
      "model_module_version": "1.2.0",
      "model_name": "LayoutModel",
      "state": {}
     },
     "2ce8b0c229564fccbf06fa78b2f264b2": {
      "model_module": "@jupyter-widgets/base",
      "model_module_version": "1.2.0",
      "model_name": "LayoutModel",
      "state": {}
     },
     "2f238a4b85c54369800386690fbbaae0": {
      "model_module": "@jupyter-widgets/controls",
      "model_module_version": "1.5.0",
      "model_name": "DescriptionStyleModel",
      "state": {
       "description_width": ""
      }
     },
     "3253744b08c341d4a27745fa11e58ae1": {
      "model_module": "@jupyter-widgets/controls",
      "model_module_version": "1.5.0",
      "model_name": "VBoxModel",
      "state": {
       "_dom_classes": [
        "widget-interact"
       ],
       "children": [
        "IPY_MODEL_8344ee35ab64453384e16faac5074832",
        "IPY_MODEL_04b4fd3e92db4786ae9dbab8b83e0234",
        "IPY_MODEL_4d590fbdb0174db1953e5928308bd287",
        "IPY_MODEL_b8e921b95a3f489db7c21bc717f8fbc1"
       ],
       "layout": "IPY_MODEL_d3de7fe892a14c4eb1cab634fb0c5c68"
      }
     },
     "3509d4093f5c4a1299965aebeee50b1a": {
      "model_module": "@jupyter-widgets/output",
      "model_module_version": "1.0.0",
      "model_name": "OutputModel",
      "state": {
       "layout": "IPY_MODEL_874da39e1cbc4edb93aae40caf1b5b26",
       "outputs": [
        {
         "name": "stdout",
         "output_type": "stream",
         "text": "              Mixed Linear Model Regression Results\n=================================================================\nModel:                 MixedLM    Dependent Variable:    score   \nNo. Observations:      748        Method:                REML    \nNo. Groups:            4          Scale:                 0.0036  \nMin. group size:       12         Log-Likelihood:        821.2960\nMax. group size:       340        Converged:             Yes     \nMean group size:       187.0                                     \n-----------------------------------------------------------------\n                       Coef.  Std.Err.   z    P>|z| [0.025 0.975]\n-----------------------------------------------------------------\nIntercept               0.116    0.039  3.017 0.003  0.041  0.192\ntm_enc_r2[T.global_rw] -0.011    0.006 -1.739 0.082 -0.023  0.001\ntm_enc_r2[T.rate_cue]   0.016    0.006  2.560 0.010  0.004  0.028\ntm_enc_r2[T.rate_rw]    0.015    0.006  2.400 0.016  0.003  0.027\ncluster                -0.006    0.002 -3.032 0.002 -0.009 -0.002\nsubject Var             0.004    0.071                           \nmatch_id Var            0.008    0.023                           \nsession_OF Var          0.000                                    \nsession_TM Var          0.002    0.016                           \n=================================================================\n\n                chi2    P>chi2  df constraint\nIntercept   9.105295  0.002549              1\ntm_enc_r2  25.487014  0.000012              3\ncluster     9.194876  0.002427              1\n\nLRT = 9.80; Chi2_p=1.75e-03\nFull Model ML converged = True\nNull Model ML converged = True\n"
        }
       ]
      }
     },
     "3e529e5c26d6406d93d87c52812a3f1d": {
      "model_module": "@jupyter-widgets/base",
      "model_module_version": "1.2.0",
      "model_name": "LayoutModel",
      "state": {}
     },
     "3f256117b00e48b7b436c643dfb583e3": {
      "model_module": "@jupyter-widgets/controls",
      "model_module_version": "1.5.0",
      "model_name": "DropdownModel",
      "state": {
       "_options_labels": [
        "cluster",
        "umap_1",
        "umap_2"
       ],
       "description": "cluster_type",
       "index": 0,
       "layout": "IPY_MODEL_3e529e5c26d6406d93d87c52812a3f1d",
       "style": "IPY_MODEL_780afcdc79a24ea2ade4161a4a40d1e1"
      }
     },
     "42b5e26b3dda414384cd19eac9aa9226": {
      "model_module": "@jupyter-widgets/controls",
      "model_module_version": "1.5.0",
      "model_name": "DescriptionStyleModel",
      "state": {
       "description_width": ""
      }
     },
     "4aae0dd5e76f4eaeaf0a26a3badde3f3": {
      "model_module": "@jupyter-widgets/output",
      "model_module_version": "1.0.0",
      "model_name": "OutputModel",
      "state": {
       "layout": "IPY_MODEL_6aef7366f45c426fa80a27d9ede61913",
       "outputs": [
        {
         "name": "stdout",
         "output_type": "stream",
         "text": "               Mixed Linear Model Regression Results\n====================================================================\nModel:                  MixedLM     Dependent Variable:     score   \nNo. Observations:       921         Method:                 REML    \nNo. Groups:             6           Scale:                  0.0221  \nMin. group size:        3           Log-Likelihood:         400.7007\nMax. group size:        480         Converged:              Yes     \nMean group size:        153.5                                       \n--------------------------------------------------------------------\n                         Coef.  Std.Err.    z    P>|z| [0.025 0.975]\n--------------------------------------------------------------------\nIntercept                 0.447    0.060   7.407 0.000  0.328  0.565\nof_coef[T.pos]            0.602    0.013  47.427 0.000  0.577  0.627\nof_coef[T.speed]         -0.888    0.013 -69.919 0.000 -0.913 -0.863\ncluster                  -0.068    0.002 -40.622 0.000 -0.071 -0.065\nof_coef[T.pos]:cluster    0.052    0.002  25.133 0.000  0.048  0.056\nof_coef[T.speed]:cluster  0.151    0.002  73.612 0.000  0.147  0.155\nsubject Var               0.019                                     \nmatch_id Var              0.001                                     \nsession_OF Var            0.000                                     \nsession_TM Var            0.000                                     \n====================================================================\n\n                         chi2        P>chi2  df constraint\nIntercept           54.867758  1.289186e-13              1\nof_coef          13938.781583  0.000000e+00              2\ncluster           1650.129611  0.000000e+00              1\nof_coef:cluster   5600.454758  0.000000e+00              2\n\n"
        },
        {
         "ename": "ValueError",
         "evalue": "invalid start_params",
         "output_type": "error",
         "traceback": [
          "\u001b[0;31m---------------------------------------------------------------------------\u001b[0m",
          "\u001b[0;31mValueError\u001b[0m                                Traceback (most recent call last)",
          "File \u001b[0;32m~/anaconda3/envs/tm_analyses/lib/python3.9/site-packages/ipywidgets/widgets/interaction.py:257\u001b[0m, in \u001b[0;36minteractive.update\u001b[0;34m(self, *args)\u001b[0m\n\u001b[1;32m    255\u001b[0m     value \u001b[38;5;241m=\u001b[39m widget\u001b[38;5;241m.\u001b[39mget_interact_value()\n\u001b[1;32m    256\u001b[0m     \u001b[38;5;28mself\u001b[39m\u001b[38;5;241m.\u001b[39mkwargs[widget\u001b[38;5;241m.\u001b[39m_kwarg] \u001b[38;5;241m=\u001b[39m value\n\u001b[0;32m--> 257\u001b[0m \u001b[38;5;28mself\u001b[39m\u001b[38;5;241m.\u001b[39mresult \u001b[38;5;241m=\u001b[39m \u001b[38;5;28;43mself\u001b[39;49m\u001b[38;5;241;43m.\u001b[39;49m\u001b[43mf\u001b[49m\u001b[43m(\u001b[49m\u001b[38;5;241;43m*\u001b[39;49m\u001b[38;5;241;43m*\u001b[39;49m\u001b[38;5;28;43mself\u001b[39;49m\u001b[38;5;241;43m.\u001b[39;49m\u001b[43mkwargs\u001b[49m\u001b[43m)\u001b[49m\n\u001b[1;32m    258\u001b[0m show_inline_matplotlib_plots()\n\u001b[1;32m    259\u001b[0m \u001b[38;5;28;01mif\u001b[39;00m \u001b[38;5;28mself\u001b[39m\u001b[38;5;241m.\u001b[39mauto_display \u001b[38;5;129;01mand\u001b[39;00m \u001b[38;5;28mself\u001b[39m\u001b[38;5;241m.\u001b[39mresult \u001b[38;5;129;01mis\u001b[39;00m \u001b[38;5;129;01mnot\u001b[39;00m \u001b[38;5;28;01mNone\u001b[39;00m:\n",
          "File \u001b[0;32m~/Documents/TreeMazeAnalyses2/Analyses/paper_stats.py:558\u001b[0m, in \u001b[0;36mLMM_Stats._of_cluster_TM_comps\u001b[0;34m(scores, cm_table, score_group, cluster_type, test_type)\u001b[0m\n\u001b[1;32m    555\u001b[0m \u001b[38;5;28mprint\u001b[39m(m_full\u001b[38;5;241m.\u001b[39mwald_test_terms())\n\u001b[1;32m    556\u001b[0m \u001b[38;5;28mprint\u001b[39m()\n\u001b[0;32m--> 558\u001b[0m m_full_ML \u001b[38;5;241m=\u001b[39m \u001b[43msmf\u001b[49m\u001b[38;5;241;43m.\u001b[39;49m\u001b[43mmixedlm\u001b[49m\u001b[43m(\u001b[49m\u001b[43mformula\u001b[49m\u001b[38;5;241;43m=\u001b[39;49m\u001b[43mfull_formula\u001b[49m\u001b[43m,\u001b[49m\n\u001b[1;32m    559\u001b[0m \u001b[43m                        \u001b[49m\u001b[43mgroups\u001b[49m\u001b[38;5;241;43m=\u001b[39;49m\u001b[38;5;124;43m'\u001b[39;49m\u001b[38;5;124;43msubject\u001b[39;49m\u001b[38;5;124;43m'\u001b[39;49m\u001b[43m,\u001b[49m\u001b[43m \u001b[49m\u001b[43mre_formula\u001b[49m\u001b[38;5;241;43m=\u001b[39;49m\u001b[38;5;124;43m\"\u001b[39;49m\u001b[38;5;124;43m1\u001b[39;49m\u001b[38;5;124;43m\"\u001b[39;49m\u001b[43m,\u001b[49m\u001b[43m \u001b[49m\u001b[43mvc_formula\u001b[49m\u001b[38;5;241;43m=\u001b[39;49m\u001b[43mvc\u001b[49m\u001b[43m,\u001b[49m\n\u001b[1;32m    560\u001b[0m \u001b[43m                        \u001b[49m\u001b[43mdata\u001b[49m\u001b[38;5;241;43m=\u001b[39;49m\u001b[43mdf\u001b[49m\u001b[43m)\u001b[49m\u001b[38;5;241;43m.\u001b[39;49m\u001b[43mfit\u001b[49m\u001b[43m(\u001b[49m\u001b[43mreml\u001b[49m\u001b[38;5;241;43m=\u001b[39;49m\u001b[38;5;28;43;01mFalse\u001b[39;49;00m\u001b[43m,\u001b[49m\u001b[43m \u001b[49m\u001b[43mstart_params\u001b[49m\u001b[38;5;241;43m=\u001b[39;49m\u001b[43mm_full\u001b[49m\u001b[38;5;241;43m.\u001b[39;49m\u001b[43mparams\u001b[49m\u001b[43m)\u001b[49m\n\u001b[1;32m    561\u001b[0m m_null_ML \u001b[38;5;241m=\u001b[39m smf\u001b[38;5;241m.\u001b[39mmixedlm(formula\u001b[38;5;241m=\u001b[39mnull_formula,\n\u001b[1;32m    562\u001b[0m                         groups\u001b[38;5;241m=\u001b[39m\u001b[38;5;124m'\u001b[39m\u001b[38;5;124msubject\u001b[39m\u001b[38;5;124m'\u001b[39m, re_formula\u001b[38;5;241m=\u001b[39m\u001b[38;5;124m\"\u001b[39m\u001b[38;5;124m1\u001b[39m\u001b[38;5;124m\"\u001b[39m, vc_formula\u001b[38;5;241m=\u001b[39mvc,\n\u001b[1;32m    563\u001b[0m                         data\u001b[38;5;241m=\u001b[39mdf)\u001b[38;5;241m.\u001b[39mfit(reml\u001b[38;5;241m=\u001b[39m\u001b[38;5;28;01mFalse\u001b[39;00m)\n\u001b[1;32m    565\u001b[0m lrt, chi2_p \u001b[38;5;241m=\u001b[39m LRT(m_full_ML, m_null_ML)\n",
          "File \u001b[0;32m~/anaconda3/envs/tm_analyses/lib/python3.9/site-packages/statsmodels/regression/mixed_linear_model.py:2178\u001b[0m, in \u001b[0;36mMixedLM.fit\u001b[0;34m(self, start_params, reml, niter_sa, do_cg, fe_pen, cov_pen, free, full_output, method, **fit_kwargs)\u001b[0m\n\u001b[1;32m   2174\u001b[0m             params \u001b[38;5;241m=\u001b[39m MixedLMParams\u001b[38;5;241m.\u001b[39mfrom_packed(\n\u001b[1;32m   2175\u001b[0m                 start_params, \u001b[38;5;28mself\u001b[39m\u001b[38;5;241m.\u001b[39mk_fe, \u001b[38;5;28mself\u001b[39m\u001b[38;5;241m.\u001b[39mk_re, \u001b[38;5;28mself\u001b[39m\u001b[38;5;241m.\u001b[39muse_sqrt,\n\u001b[1;32m   2176\u001b[0m                 has_fe\u001b[38;5;241m=\u001b[39m\u001b[38;5;28;01mFalse\u001b[39;00m)\n\u001b[1;32m   2177\u001b[0m         \u001b[38;5;28;01melse\u001b[39;00m:\n\u001b[0;32m-> 2178\u001b[0m             \u001b[38;5;28;01mraise\u001b[39;00m \u001b[38;5;167;01mValueError\u001b[39;00m(\u001b[38;5;124m\"\u001b[39m\u001b[38;5;124minvalid start_params\u001b[39m\u001b[38;5;124m\"\u001b[39m)\n\u001b[1;32m   2180\u001b[0m \u001b[38;5;28;01mif\u001b[39;00m do_cg:\n\u001b[1;32m   2181\u001b[0m     fit_kwargs[\u001b[38;5;124m\"\u001b[39m\u001b[38;5;124mretall\u001b[39m\u001b[38;5;124m\"\u001b[39m] \u001b[38;5;241m=\u001b[39m hist \u001b[38;5;129;01mis\u001b[39;00m \u001b[38;5;129;01mnot\u001b[39;00m \u001b[38;5;28;01mNone\u001b[39;00m\n",
          "\u001b[0;31mValueError\u001b[0m: invalid start_params"
         ]
        }
       ]
      }
     },
     "4d590fbdb0174db1953e5928308bd287": {
      "model_module": "@jupyter-widgets/controls",
      "model_module_version": "1.5.0",
      "model_name": "DropdownModel",
      "state": {
       "_options_labels": [
        "main",
        "interaction"
       ],
       "description": "test_type",
       "index": 0,
       "layout": "IPY_MODEL_50de11192b344d6aa9357a4f6fd65c07",
       "style": "IPY_MODEL_6f16901b83964990a19c8df2d4c28630"
      }
     },
     "4da0905552734f41a4ddcf0cd1d469b1": {
      "model_module": "@jupyter-widgets/base",
      "model_module_version": "1.2.0",
      "model_name": "LayoutModel",
      "state": {}
     },
     "50de11192b344d6aa9357a4f6fd65c07": {
      "model_module": "@jupyter-widgets/base",
      "model_module_version": "1.2.0",
      "model_name": "LayoutModel",
      "state": {}
     },
     "544d64cd19b3438b86d95499f0b52a29": {
      "model_module": "@jupyter-widgets/controls",
      "model_module_version": "1.5.0",
      "model_name": "DropdownModel",
      "state": {
       "_options_labels": [
        "main",
        "interaction"
       ],
       "description": "test_type",
       "index": 0,
       "layout": "IPY_MODEL_d2d2b8b7c4604e57b6fec58e0a04f5e7",
       "style": "IPY_MODEL_e7de8bc0451f4bffaa925333342ed36d"
      }
     },
     "54afff21ae2245b08852742d6eafe7e5": {
      "model_module": "@jupyter-widgets/base",
      "model_module_version": "1.2.0",
      "model_name": "LayoutModel",
      "state": {}
     },
     "55dc4b3ce3d24701b4aad0bb0a4b76ba": {
      "model_module": "@jupyter-widgets/controls",
      "model_module_version": "1.5.0",
      "model_name": "DescriptionStyleModel",
      "state": {
       "description_width": ""
      }
     },
     "59a2199c580748d3b2ae1282033283ce": {
      "model_module": "@jupyter-widgets/output",
      "model_module_version": "1.0.0",
      "model_name": "OutputModel",
      "state": {
       "layout": "IPY_MODEL_0ab3da88037e47ef886e1e7e49c56a6c",
       "outputs": [
        {
         "name": "stdout",
         "output_type": "stream",
         "text": "          Mixed Linear Model Regression Results\n=========================================================\nModel:              MixedLM Dependent Variable: score    \nNo. Observations:   530     Method:             REML     \nNo. Groups:         5       Scale:              0.5746   \nMin. group size:    2       Log-Likelihood:     -733.8561\nMax. group size:    278     Converged:          Yes      \nMean group size:    106.0                                \n---------------------------------------------------------\n               Coef.  Std.Err.   z    P>|z| [0.025 0.975]\n---------------------------------------------------------\nIntercept      -0.931    0.269 -3.465 0.001 -1.458 -0.405\ntm_remap[T.rw] -0.227    0.066 -3.451 0.001 -0.356 -0.098\ncluster         0.022    0.011  1.978 0.048  0.000  0.043\nsubject Var     0.207    0.415                           \nmatch_id Var    0.357                                    \nsession_OF Var  0.002                                    \nsession_TM Var  0.232                                    \n=========================================================\n\n                chi2    P>chi2  df constraint\nIntercept  12.002851  0.000531              1\ntm_remap   11.906305  0.000559              1\ncluster     3.911050  0.047970              1\n\nLRT = 3.71; Chi2_p=5.41e-02\nFull Model ML converged = True\nNull Model ML converged = False\n"
        }
       ]
      }
     },
     "5bb9d89afe4b4874bce59f1779de423a": {
      "model_module": "@jupyter-widgets/controls",
      "model_module_version": "1.5.0",
      "model_name": "DescriptionStyleModel",
      "state": {
       "description_width": ""
      }
     },
     "5edc45477fb8467fa789c94e82097e42": {
      "model_module": "@jupyter-widgets/base",
      "model_module_version": "1.2.0",
      "model_name": "LayoutModel",
      "state": {}
     },
     "60aa285be4114d1fa9060032c81fdfa0": {
      "model_module": "@jupyter-widgets/base",
      "model_module_version": "1.2.0",
      "model_name": "LayoutModel",
      "state": {}
     },
     "62ba8cf3f0a2448cbb5658b586cdca4f": {
      "model_module": "@jupyter-widgets/controls",
      "model_module_version": "1.5.0",
      "model_name": "DescriptionStyleModel",
      "state": {
       "description_width": ""
      }
     },
     "63101c16eb564b64a3b91a88c1a0fc52": {
      "model_module": "@jupyter-widgets/output",
      "model_module_version": "1.0.0",
      "model_name": "OutputModel",
      "state": {
       "layout": "IPY_MODEL_102323435a3b49c0a56bd89af4bfc587",
       "outputs": [
        {
         "name": "stdout",
         "output_type": "stream",
         "text": "           Mixed Linear Model Regression Results\n============================================================\nModel:               MixedLM  Dependent Variable:  score    \nNo. Observations:    921      Method:              REML     \nNo. Groups:          6        Scale:               0.1572   \nMin. group size:     3        Log-Likelihood:      -493.7016\nMax. group size:     480      Converged:           No       \nMean group size:     153.5                                  \n------------------------------------------------------------\n                 Coef.  Std.Err.    z    P>|z| [0.025 0.975]\n------------------------------------------------------------\nIntercept         0.312    0.162   1.922 0.055 -0.006  0.631\nof_coef[T.pos]    0.707    0.032  22.085 0.000  0.644  0.769\nof_coef[T.speed] -0.582    0.032 -18.184 0.000 -0.645 -0.519\ncluster[T.1.0]   -0.005    0.043  -0.106 0.915 -0.089  0.080\ncluster[T.2.0]   -0.008    0.045  -0.168 0.866 -0.097  0.081\nsubject Var       0.138                                     \nmatch_id Var      0.007                                     \nsession_OF Var    0.000                                     \nsession_TM Var    0.001                                     \n============================================================\n\n                  chi2    P>chi2  df constraint\nIntercept     3.695143  0.054571              1\nof_coef    1626.680360  0.000000              2\ncluster       0.028337  0.985931              2\n\nLRT = 56.03; Chi2_p=6.81e-13\nFull Model ML converged = True\nNull Model ML converged = False\n"
        }
       ]
      }
     },
     "64ac974205f9462abbf3082ba03cdc37": {
      "model_module": "@jupyter-widgets/output",
      "model_module_version": "1.0.0",
      "model_name": "OutputModel",
      "state": {
       "layout": "IPY_MODEL_b73c588e933243f493dd84353a2695a8",
       "outputs": [
        {
         "ename": "KeyError",
         "evalue": "'clusters'",
         "output_type": "error",
         "traceback": [
          "\u001b[0;31m---------------------------------------------------------------------------\u001b[0m",
          "\u001b[0;31mKeyError\u001b[0m                                  Traceback (most recent call last)",
          "File \u001b[0;32m~/anaconda3/envs/tm_analyses/lib/python3.9/site-packages/pandas/core/indexes/base.py:3361\u001b[0m, in \u001b[0;36mIndex.get_loc\u001b[0;34m(self, key, method, tolerance)\u001b[0m\n\u001b[1;32m   3360\u001b[0m \u001b[38;5;28;01mtry\u001b[39;00m:\n\u001b[0;32m-> 3361\u001b[0m     \u001b[38;5;28;01mreturn\u001b[39;00m \u001b[38;5;28;43mself\u001b[39;49m\u001b[38;5;241;43m.\u001b[39;49m\u001b[43m_engine\u001b[49m\u001b[38;5;241;43m.\u001b[39;49m\u001b[43mget_loc\u001b[49m\u001b[43m(\u001b[49m\u001b[43mcasted_key\u001b[49m\u001b[43m)\u001b[49m\n\u001b[1;32m   3362\u001b[0m \u001b[38;5;28;01mexcept\u001b[39;00m \u001b[38;5;167;01mKeyError\u001b[39;00m \u001b[38;5;28;01mas\u001b[39;00m err:\n",
          "File \u001b[0;32m~/anaconda3/envs/tm_analyses/lib/python3.9/site-packages/pandas/_libs/index.pyx:76\u001b[0m, in \u001b[0;36mpandas._libs.index.IndexEngine.get_loc\u001b[0;34m()\u001b[0m\n",
          "File \u001b[0;32m~/anaconda3/envs/tm_analyses/lib/python3.9/site-packages/pandas/_libs/index.pyx:108\u001b[0m, in \u001b[0;36mpandas._libs.index.IndexEngine.get_loc\u001b[0;34m()\u001b[0m\n",
          "File \u001b[0;32mpandas/_libs/hashtable_class_helper.pxi:5198\u001b[0m, in \u001b[0;36mpandas._libs.hashtable.PyObjectHashTable.get_item\u001b[0;34m()\u001b[0m\n",
          "File \u001b[0;32mpandas/_libs/hashtable_class_helper.pxi:5206\u001b[0m, in \u001b[0;36mpandas._libs.hashtable.PyObjectHashTable.get_item\u001b[0;34m()\u001b[0m\n",
          "\u001b[0;31mKeyError\u001b[0m: 'clusters'",
          "\nThe above exception was the direct cause of the following exception:\n",
          "\u001b[0;31mKeyError\u001b[0m                                  Traceback (most recent call last)",
          "File \u001b[0;32m~/anaconda3/envs/tm_analyses/lib/python3.9/site-packages/ipywidgets/widgets/interaction.py:257\u001b[0m, in \u001b[0;36minteractive.update\u001b[0;34m(self, *args)\u001b[0m\n\u001b[1;32m    255\u001b[0m     value \u001b[38;5;241m=\u001b[39m widget\u001b[38;5;241m.\u001b[39mget_interact_value()\n\u001b[1;32m    256\u001b[0m     \u001b[38;5;28mself\u001b[39m\u001b[38;5;241m.\u001b[39mkwargs[widget\u001b[38;5;241m.\u001b[39m_kwarg] \u001b[38;5;241m=\u001b[39m value\n\u001b[0;32m--> 257\u001b[0m \u001b[38;5;28mself\u001b[39m\u001b[38;5;241m.\u001b[39mresult \u001b[38;5;241m=\u001b[39m \u001b[38;5;28;43mself\u001b[39;49m\u001b[38;5;241;43m.\u001b[39;49m\u001b[43mf\u001b[49m\u001b[43m(\u001b[49m\u001b[38;5;241;43m*\u001b[39;49m\u001b[38;5;241;43m*\u001b[39;49m\u001b[38;5;28;43mself\u001b[39;49m\u001b[38;5;241;43m.\u001b[39;49m\u001b[43mkwargs\u001b[49m\u001b[43m)\u001b[49m\n\u001b[1;32m    258\u001b[0m show_inline_matplotlib_plots()\n\u001b[1;32m    259\u001b[0m \u001b[38;5;28;01mif\u001b[39;00m \u001b[38;5;28mself\u001b[39m\u001b[38;5;241m.\u001b[39mauto_display \u001b[38;5;129;01mand\u001b[39;00m \u001b[38;5;28mself\u001b[39m\u001b[38;5;241m.\u001b[39mresult \u001b[38;5;129;01mis\u001b[39;00m \u001b[38;5;129;01mnot\u001b[39;00m \u001b[38;5;28;01mNone\u001b[39;00m:\n",
          "File \u001b[0;32m~/Documents/TreeMazeAnalyses2/Analyses/paper_stats.py:532\u001b[0m, in \u001b[0;36mLMM_Stats._of_cluster_TM_comps\u001b[0;34m(scores, cm_table, score_group, cluster_type, test_type)\u001b[0m\n\u001b[1;32m    529\u001b[0m df \u001b[38;5;241m=\u001b[39m scores[score_columns]\u001b[38;5;241m.\u001b[39mcopy()\n\u001b[1;32m    530\u001b[0m df[[\u001b[38;5;124m'\u001b[39m\u001b[38;5;124mmatch_cl_id\u001b[39m\u001b[38;5;124m'\u001b[39m, \u001b[38;5;124m'\u001b[39m\u001b[38;5;124msubject\u001b[39m\u001b[38;5;124m'\u001b[39m, \u001b[38;5;124m'\u001b[39m\u001b[38;5;124msession_TM\u001b[39m\u001b[38;5;124m'\u001b[39m, \u001b[38;5;124m'\u001b[39m\u001b[38;5;124msession_OF\u001b[39m\u001b[38;5;124m'\u001b[39m]] \u001b[38;5;241m=\u001b[39m cm_table[[\u001b[38;5;124m'\u001b[39m\u001b[38;5;124mmatch_cl_id\u001b[39m\u001b[38;5;124m'\u001b[39m, \u001b[38;5;124m'\u001b[39m\u001b[38;5;124msubject\u001b[39m\u001b[38;5;124m'\u001b[39m,\n\u001b[1;32m    531\u001b[0m                                                                        \u001b[38;5;124m'\u001b[39m\u001b[38;5;124msession_T3\u001b[39m\u001b[38;5;124m'\u001b[39m, \u001b[38;5;124m'\u001b[39m\u001b[38;5;124msession_OF\u001b[39m\u001b[38;5;124m'\u001b[39m]]\u001b[38;5;241m.\u001b[39mcopy()\n\u001b[0;32m--> 532\u001b[0m df[cluster_type] \u001b[38;5;241m=\u001b[39m \u001b[43mcm_table\u001b[49m\u001b[43m[\u001b[49m\u001b[43mcluster_type\u001b[49m\u001b[43m]\u001b[49m\u001b[38;5;241m.\u001b[39mcopy()\n\u001b[1;32m    533\u001b[0m df\u001b[38;5;241m.\u001b[39mdropna(inplace\u001b[38;5;241m=\u001b[39m\u001b[38;5;28;01mTrue\u001b[39;00m)\n\u001b[1;32m    534\u001b[0m df\u001b[38;5;241m.\u001b[39mreset_index(drop\u001b[38;5;241m=\u001b[39m\u001b[38;5;28;01mTrue\u001b[39;00m, inplace\u001b[38;5;241m=\u001b[39m\u001b[38;5;28;01mTrue\u001b[39;00m)\n",
          "File \u001b[0;32m~/anaconda3/envs/tm_analyses/lib/python3.9/site-packages/pandas/core/frame.py:3458\u001b[0m, in \u001b[0;36mDataFrame.__getitem__\u001b[0;34m(self, key)\u001b[0m\n\u001b[1;32m   3456\u001b[0m \u001b[38;5;28;01mif\u001b[39;00m \u001b[38;5;28mself\u001b[39m\u001b[38;5;241m.\u001b[39mcolumns\u001b[38;5;241m.\u001b[39mnlevels \u001b[38;5;241m>\u001b[39m \u001b[38;5;241m1\u001b[39m:\n\u001b[1;32m   3457\u001b[0m     \u001b[38;5;28;01mreturn\u001b[39;00m \u001b[38;5;28mself\u001b[39m\u001b[38;5;241m.\u001b[39m_getitem_multilevel(key)\n\u001b[0;32m-> 3458\u001b[0m indexer \u001b[38;5;241m=\u001b[39m \u001b[38;5;28;43mself\u001b[39;49m\u001b[38;5;241;43m.\u001b[39;49m\u001b[43mcolumns\u001b[49m\u001b[38;5;241;43m.\u001b[39;49m\u001b[43mget_loc\u001b[49m\u001b[43m(\u001b[49m\u001b[43mkey\u001b[49m\u001b[43m)\u001b[49m\n\u001b[1;32m   3459\u001b[0m \u001b[38;5;28;01mif\u001b[39;00m is_integer(indexer):\n\u001b[1;32m   3460\u001b[0m     indexer \u001b[38;5;241m=\u001b[39m [indexer]\n",
          "File \u001b[0;32m~/anaconda3/envs/tm_analyses/lib/python3.9/site-packages/pandas/core/indexes/base.py:3363\u001b[0m, in \u001b[0;36mIndex.get_loc\u001b[0;34m(self, key, method, tolerance)\u001b[0m\n\u001b[1;32m   3361\u001b[0m         \u001b[38;5;28;01mreturn\u001b[39;00m \u001b[38;5;28mself\u001b[39m\u001b[38;5;241m.\u001b[39m_engine\u001b[38;5;241m.\u001b[39mget_loc(casted_key)\n\u001b[1;32m   3362\u001b[0m     \u001b[38;5;28;01mexcept\u001b[39;00m \u001b[38;5;167;01mKeyError\u001b[39;00m \u001b[38;5;28;01mas\u001b[39;00m err:\n\u001b[0;32m-> 3363\u001b[0m         \u001b[38;5;28;01mraise\u001b[39;00m \u001b[38;5;167;01mKeyError\u001b[39;00m(key) \u001b[38;5;28;01mfrom\u001b[39;00m \u001b[38;5;21;01merr\u001b[39;00m\n\u001b[1;32m   3365\u001b[0m \u001b[38;5;28;01mif\u001b[39;00m is_scalar(key) \u001b[38;5;129;01mand\u001b[39;00m isna(key) \u001b[38;5;129;01mand\u001b[39;00m \u001b[38;5;129;01mnot\u001b[39;00m \u001b[38;5;28mself\u001b[39m\u001b[38;5;241m.\u001b[39mhasnans:\n\u001b[1;32m   3366\u001b[0m     \u001b[38;5;28;01mraise\u001b[39;00m \u001b[38;5;167;01mKeyError\u001b[39;00m(key)\n",
          "\u001b[0;31mKeyError\u001b[0m: 'clusters'"
         ]
        }
       ]
      }
     },
     "660f01ae2edb40b5b518f809d7a06953": {
      "model_module": "@jupyter-widgets/controls",
      "model_module_version": "1.5.0",
      "model_name": "DescriptionStyleModel",
      "state": {
       "description_width": ""
      }
     },
     "6aef7366f45c426fa80a27d9ede61913": {
      "model_module": "@jupyter-widgets/base",
      "model_module_version": "1.2.0",
      "model_name": "LayoutModel",
      "state": {}
     },
     "6e219e1392124bf5848405170af7f81d": {
      "model_module": "@jupyter-widgets/controls",
      "model_module_version": "1.5.0",
      "model_name": "DropdownModel",
      "state": {
       "_options_labels": [
        "main",
        "interaction"
       ],
       "description": "test_type",
       "index": 0,
       "layout": "IPY_MODEL_9261f45351c24dec840eb5c8da0ffa23",
       "style": "IPY_MODEL_660f01ae2edb40b5b518f809d7a06953"
      }
     },
     "6f16901b83964990a19c8df2d4c28630": {
      "model_module": "@jupyter-widgets/controls",
      "model_module_version": "1.5.0",
      "model_name": "DescriptionStyleModel",
      "state": {
       "description_width": ""
      }
     },
     "70de228d76d843f5924a0f2615d22adf": {
      "model_module": "@jupyter-widgets/base",
      "model_module_version": "1.2.0",
      "model_name": "LayoutModel",
      "state": {}
     },
     "71d4763177dd430e85a61a2d6846a0f6": {
      "model_module": "@jupyter-widgets/controls",
      "model_module_version": "1.5.0",
      "model_name": "DropdownModel",
      "state": {
       "_options_labels": [
        "cluster",
        "umap_1",
        "umap_2"
       ],
       "description": "cluster_type",
       "index": 0,
       "layout": "IPY_MODEL_cf3ae393617944629c8113c6cdfefc5f",
       "style": "IPY_MODEL_26e0c3dd243d41d9bf851d3215bcc6e6"
      }
     },
     "73c93766dc3c45feb47d9dd98cfb91da": {
      "model_module": "@jupyter-widgets/controls",
      "model_module_version": "1.5.0",
      "model_name": "DescriptionStyleModel",
      "state": {
       "description_width": ""
      }
     },
     "73c9f14f6a1445aaa7468332e91942b2": {
      "model_module": "@jupyter-widgets/controls",
      "model_module_version": "1.5.0",
      "model_name": "DropdownModel",
      "state": {
       "_options_labels": [
        "cluster",
        "umap_1",
        "umap_2"
       ],
       "description": "cluster_type",
       "index": 0,
       "layout": "IPY_MODEL_17c2a0b32dea427f8beddc8d9fc3f6aa",
       "style": "IPY_MODEL_bda68facffcd4d33a591cad85f10e324"
      }
     },
     "75f7d4f65a4049629bdd2f87332a5e82": {
      "model_module": "@jupyter-widgets/base",
      "model_module_version": "1.2.0",
      "model_name": "LayoutModel",
      "state": {}
     },
     "780afcdc79a24ea2ade4161a4a40d1e1": {
      "model_module": "@jupyter-widgets/controls",
      "model_module_version": "1.5.0",
      "model_name": "DescriptionStyleModel",
      "state": {
       "description_width": ""
      }
     },
     "7992e1049eaf454fbdc7837c2a444d50": {
      "model_module": "@jupyter-widgets/base",
      "model_module_version": "1.2.0",
      "model_name": "LayoutModel",
      "state": {}
     },
     "799a6bc8fcd343fb97cd260db50a768f": {
      "model_module": "@jupyter-widgets/controls",
      "model_module_version": "1.5.0",
      "model_name": "DropdownModel",
      "state": {
       "_options_labels": [
        "main",
        "interaction"
       ],
       "description": "test_type",
       "index": 0,
       "layout": "IPY_MODEL_e0e338388ca14cebb5980cd71c44fd49",
       "style": "IPY_MODEL_62ba8cf3f0a2448cbb5658b586cdca4f"
      }
     },
     "8344ee35ab64453384e16faac5074832": {
      "model_module": "@jupyter-widgets/controls",
      "model_module_version": "1.5.0",
      "model_name": "DropdownModel",
      "state": {
       "_options_labels": [
        "of_coef",
        "of_metrics",
        "tm_remap",
        "tm_enc_r2",
        "tm_enc_delta"
       ],
       "description": "score_group",
       "index": 0,
       "layout": "IPY_MODEL_75f7d4f65a4049629bdd2f87332a5e82",
       "style": "IPY_MODEL_1c9677f8932b40fab8b530d8d25db6e0"
      }
     },
     "874da39e1cbc4edb93aae40caf1b5b26": {
      "model_module": "@jupyter-widgets/base",
      "model_module_version": "1.2.0",
      "model_name": "LayoutModel",
      "state": {}
     },
     "8c0e33c75b724821a0bbbe2d08ad8b06": {
      "model_module": "@jupyter-widgets/controls",
      "model_module_version": "1.5.0",
      "model_name": "VBoxModel",
      "state": {
       "_dom_classes": [
        "widget-interact"
       ],
       "children": [
        "IPY_MODEL_c63de169219340b59d255a1d9b50a13e",
        "IPY_MODEL_22c59468c4214b68b8da19d480901dee",
        "IPY_MODEL_799a6bc8fcd343fb97cd260db50a768f",
        "IPY_MODEL_64ac974205f9462abbf3082ba03cdc37"
       ],
       "layout": "IPY_MODEL_f19f52a441cd4dbc903d1093004b497c"
      }
     },
     "8f228fc1fa394e3b8a497c1ca5a66892": {
      "model_module": "@jupyter-widgets/output",
      "model_module_version": "1.0.0",
      "model_name": "OutputModel",
      "state": {
       "layout": "IPY_MODEL_f749ae4cf9c9461dbe1cb44811351986",
       "outputs": [
        {
         "ename": "PatsyError",
         "evalue": "Error evaluating factor: NameError: name 'of_metrics' is not defined\n    score ~ 1 + of_metrics * cluster\n                ^^^^^^^^^^",
         "output_type": "error",
         "traceback": [
          "\u001b[0;31m---------------------------------------------------------------------------\u001b[0m",
          "\u001b[0;31mNameError\u001b[0m                                 Traceback (most recent call last)",
          "File \u001b[0;32m~/anaconda3/envs/tm_analyses/lib/python3.9/site-packages/patsy/compat.py:36\u001b[0m, in \u001b[0;36mcall_and_wrap_exc\u001b[0;34m(msg, origin, f, *args, **kwargs)\u001b[0m\n\u001b[1;32m     35\u001b[0m \u001b[38;5;28;01mtry\u001b[39;00m:\n\u001b[0;32m---> 36\u001b[0m     \u001b[38;5;28;01mreturn\u001b[39;00m \u001b[43mf\u001b[49m\u001b[43m(\u001b[49m\u001b[38;5;241;43m*\u001b[39;49m\u001b[43margs\u001b[49m\u001b[43m,\u001b[49m\u001b[43m \u001b[49m\u001b[38;5;241;43m*\u001b[39;49m\u001b[38;5;241;43m*\u001b[39;49m\u001b[43mkwargs\u001b[49m\u001b[43m)\u001b[49m\n\u001b[1;32m     37\u001b[0m \u001b[38;5;28;01mexcept\u001b[39;00m \u001b[38;5;167;01mException\u001b[39;00m \u001b[38;5;28;01mas\u001b[39;00m e:\n",
          "File \u001b[0;32m~/anaconda3/envs/tm_analyses/lib/python3.9/site-packages/patsy/eval.py:165\u001b[0m, in \u001b[0;36mEvalEnvironment.eval\u001b[0;34m(self, expr, source_name, inner_namespace)\u001b[0m\n\u001b[1;32m    164\u001b[0m code \u001b[38;5;241m=\u001b[39m \u001b[38;5;28mcompile\u001b[39m(expr, source_name, \u001b[38;5;124m\"\u001b[39m\u001b[38;5;124meval\u001b[39m\u001b[38;5;124m\"\u001b[39m, \u001b[38;5;28mself\u001b[39m\u001b[38;5;241m.\u001b[39mflags, \u001b[38;5;28;01mFalse\u001b[39;00m)\n\u001b[0;32m--> 165\u001b[0m \u001b[38;5;28;01mreturn\u001b[39;00m \u001b[38;5;28;43meval\u001b[39;49m\u001b[43m(\u001b[49m\u001b[43mcode\u001b[49m\u001b[43m,\u001b[49m\u001b[43m \u001b[49m\u001b[43m{\u001b[49m\u001b[43m}\u001b[49m\u001b[43m,\u001b[49m\u001b[43m \u001b[49m\u001b[43mVarLookupDict\u001b[49m\u001b[43m(\u001b[49m\u001b[43m[\u001b[49m\u001b[43minner_namespace\u001b[49m\u001b[43m]\u001b[49m\n\u001b[1;32m    166\u001b[0m \u001b[43m                                    \u001b[49m\u001b[38;5;241;43m+\u001b[39;49m\u001b[43m \u001b[49m\u001b[38;5;28;43mself\u001b[39;49m\u001b[38;5;241;43m.\u001b[39;49m\u001b[43m_namespaces\u001b[49m\u001b[43m)\u001b[49m\u001b[43m)\u001b[49m\n",
          "File \u001b[0;32m<string>:1\u001b[0m, in \u001b[0;36m<module>\u001b[0;34m\u001b[0m\n",
          "\u001b[0;31mNameError\u001b[0m: name 'of_metrics' is not defined",
          "\nThe above exception was the direct cause of the following exception:\n",
          "\u001b[0;31mPatsyError\u001b[0m                                Traceback (most recent call last)",
          "File \u001b[0;32m~/anaconda3/envs/tm_analyses/lib/python3.9/site-packages/ipywidgets/widgets/interaction.py:257\u001b[0m, in \u001b[0;36minteractive.update\u001b[0;34m(self, *args)\u001b[0m\n\u001b[1;32m    255\u001b[0m     value \u001b[38;5;241m=\u001b[39m widget\u001b[38;5;241m.\u001b[39mget_interact_value()\n\u001b[1;32m    256\u001b[0m     \u001b[38;5;28mself\u001b[39m\u001b[38;5;241m.\u001b[39mkwargs[widget\u001b[38;5;241m.\u001b[39m_kwarg] \u001b[38;5;241m=\u001b[39m value\n\u001b[0;32m--> 257\u001b[0m \u001b[38;5;28mself\u001b[39m\u001b[38;5;241m.\u001b[39mresult \u001b[38;5;241m=\u001b[39m \u001b[38;5;28;43mself\u001b[39;49m\u001b[38;5;241;43m.\u001b[39;49m\u001b[43mf\u001b[49m\u001b[43m(\u001b[49m\u001b[38;5;241;43m*\u001b[39;49m\u001b[38;5;241;43m*\u001b[39;49m\u001b[38;5;28;43mself\u001b[39;49m\u001b[38;5;241;43m.\u001b[39;49m\u001b[43mkwargs\u001b[49m\u001b[43m)\u001b[49m\n\u001b[1;32m    258\u001b[0m show_inline_matplotlib_plots()\n\u001b[1;32m    259\u001b[0m \u001b[38;5;28;01mif\u001b[39;00m \u001b[38;5;28mself\u001b[39m\u001b[38;5;241m.\u001b[39mauto_display \u001b[38;5;129;01mand\u001b[39;00m \u001b[38;5;28mself\u001b[39m\u001b[38;5;241m.\u001b[39mresult \u001b[38;5;129;01mis\u001b[39;00m \u001b[38;5;129;01mnot\u001b[39;00m \u001b[38;5;28;01mNone\u001b[39;00m:\n",
          "File \u001b[0;32m~/Documents/TreeMazeAnalyses2/Analyses/paper_stats.py:552\u001b[0m, in \u001b[0;36mLMM_Stats._of_cluster_TM_comps\u001b[0;34m(scores, cm_table, score_group, cluster_type, test_type)\u001b[0m\n\u001b[1;32m    549\u001b[0m     full_formula \u001b[38;5;241m=\u001b[39m \u001b[38;5;124mf\u001b[39m\u001b[38;5;124m\"\u001b[39m\u001b[38;5;124mscore ~ 1 + \u001b[39m\u001b[38;5;132;01m{\u001b[39;00mscore_group\u001b[38;5;132;01m}\u001b[39;00m\u001b[38;5;124m + \u001b[39m\u001b[38;5;132;01m{\u001b[39;00mcluster_type\u001b[38;5;132;01m}\u001b[39;00m\u001b[38;5;124m\"\u001b[39m\n\u001b[1;32m    550\u001b[0m     null_formula \u001b[38;5;241m=\u001b[39m \u001b[38;5;124mf\u001b[39m\u001b[38;5;124m\"\u001b[39m\u001b[38;5;124mscore ~ 1 + \u001b[39m\u001b[38;5;132;01m{\u001b[39;00mscore_group\u001b[38;5;132;01m}\u001b[39;00m\u001b[38;5;124m\"\u001b[39m\n\u001b[0;32m--> 552\u001b[0m m_full \u001b[38;5;241m=\u001b[39m \u001b[43msmf\u001b[49m\u001b[38;5;241;43m.\u001b[39;49m\u001b[43mmixedlm\u001b[49m\u001b[43m(\u001b[49m\u001b[43mformula\u001b[49m\u001b[38;5;241;43m=\u001b[39;49m\u001b[43mfull_formula\u001b[49m\u001b[43m,\u001b[49m\n\u001b[1;32m    553\u001b[0m \u001b[43m                     \u001b[49m\u001b[43mgroups\u001b[49m\u001b[38;5;241;43m=\u001b[39;49m\u001b[38;5;124;43m'\u001b[39;49m\u001b[38;5;124;43msubject\u001b[39;49m\u001b[38;5;124;43m'\u001b[39;49m\u001b[43m,\u001b[49m\u001b[43m \u001b[49m\u001b[43mre_formula\u001b[49m\u001b[38;5;241;43m=\u001b[39;49m\u001b[38;5;124;43m'\u001b[39;49m\u001b[38;5;124;43m1\u001b[39;49m\u001b[38;5;124;43m'\u001b[39;49m\u001b[43m,\u001b[49m\u001b[43m \u001b[49m\u001b[43mvc_formula\u001b[49m\u001b[38;5;241;43m=\u001b[39;49m\u001b[43mvc\u001b[49m\u001b[43m,\u001b[49m\u001b[43m \u001b[49m\u001b[43mdata\u001b[49m\u001b[38;5;241;43m=\u001b[39;49m\u001b[43mdf\u001b[49m\u001b[43m)\u001b[49m\u001b[38;5;241m.\u001b[39mfit()\n\u001b[1;32m    554\u001b[0m \u001b[38;5;28mprint\u001b[39m(m_full\u001b[38;5;241m.\u001b[39msummary())\n\u001b[1;32m    555\u001b[0m \u001b[38;5;28mprint\u001b[39m(m_full\u001b[38;5;241m.\u001b[39mwald_test_terms())\n",
          "File \u001b[0;32m~/anaconda3/envs/tm_analyses/lib/python3.9/site-packages/statsmodels/regression/mixed_linear_model.py:1046\u001b[0m, in \u001b[0;36mMixedLM.from_formula\u001b[0;34m(cls, formula, data, re_formula, vc_formula, subset, use_sparse, missing, *args, **kwargs)\u001b[0m\n\u001b[1;32m   1044\u001b[0m kwargs[\u001b[38;5;124m\"\u001b[39m\u001b[38;5;124mexog_vc\u001b[39m\u001b[38;5;124m\"\u001b[39m] \u001b[38;5;241m=\u001b[39m exog_vc\n\u001b[1;32m   1045\u001b[0m kwargs[\u001b[38;5;124m\"\u001b[39m\u001b[38;5;124mgroups\u001b[39m\u001b[38;5;124m\"\u001b[39m] \u001b[38;5;241m=\u001b[39m groups\n\u001b[0;32m-> 1046\u001b[0m mod \u001b[38;5;241m=\u001b[39m \u001b[38;5;28;43msuper\u001b[39;49m\u001b[43m(\u001b[49m\u001b[43mMixedLM\u001b[49m\u001b[43m,\u001b[49m\u001b[43m \u001b[49m\u001b[38;5;28;43mcls\u001b[39;49m\u001b[43m)\u001b[49m\u001b[38;5;241;43m.\u001b[39;49m\u001b[43mfrom_formula\u001b[49m\u001b[43m(\u001b[49m\n\u001b[1;32m   1047\u001b[0m \u001b[43m    \u001b[49m\u001b[43mformula\u001b[49m\u001b[43m,\u001b[49m\u001b[43m \u001b[49m\u001b[43mdata\u001b[49m\u001b[43m,\u001b[49m\u001b[43m \u001b[49m\u001b[38;5;241;43m*\u001b[39;49m\u001b[43margs\u001b[49m\u001b[43m,\u001b[49m\u001b[43m \u001b[49m\u001b[38;5;241;43m*\u001b[39;49m\u001b[38;5;241;43m*\u001b[39;49m\u001b[43mkwargs\u001b[49m\u001b[43m)\u001b[49m\n\u001b[1;32m   1049\u001b[0m \u001b[38;5;66;03m# expand re names to account for pairs of RE\u001b[39;00m\n\u001b[1;32m   1050\u001b[0m (param_names,\n\u001b[1;32m   1051\u001b[0m  exog_re_names,\n\u001b[1;32m   1052\u001b[0m  exog_re_names_full) \u001b[38;5;241m=\u001b[39m mod\u001b[38;5;241m.\u001b[39m_make_param_names(exog_re_names)\n",
          "File \u001b[0;32m~/anaconda3/envs/tm_analyses/lib/python3.9/site-packages/statsmodels/base/model.py:200\u001b[0m, in \u001b[0;36mModel.from_formula\u001b[0;34m(cls, formula, data, subset, drop_cols, *args, **kwargs)\u001b[0m\n\u001b[1;32m    197\u001b[0m \u001b[38;5;28;01mif\u001b[39;00m missing \u001b[38;5;241m==\u001b[39m \u001b[38;5;124m'\u001b[39m\u001b[38;5;124mnone\u001b[39m\u001b[38;5;124m'\u001b[39m:  \u001b[38;5;66;03m# with patsy it's drop or raise. let's raise.\u001b[39;00m\n\u001b[1;32m    198\u001b[0m     missing \u001b[38;5;241m=\u001b[39m \u001b[38;5;124m'\u001b[39m\u001b[38;5;124mraise\u001b[39m\u001b[38;5;124m'\u001b[39m\n\u001b[0;32m--> 200\u001b[0m tmp \u001b[38;5;241m=\u001b[39m \u001b[43mhandle_formula_data\u001b[49m\u001b[43m(\u001b[49m\u001b[43mdata\u001b[49m\u001b[43m,\u001b[49m\u001b[43m \u001b[49m\u001b[38;5;28;43;01mNone\u001b[39;49;00m\u001b[43m,\u001b[49m\u001b[43m \u001b[49m\u001b[43mformula\u001b[49m\u001b[43m,\u001b[49m\u001b[43m \u001b[49m\u001b[43mdepth\u001b[49m\u001b[38;5;241;43m=\u001b[39;49m\u001b[43meval_env\u001b[49m\u001b[43m,\u001b[49m\n\u001b[1;32m    201\u001b[0m \u001b[43m                          \u001b[49m\u001b[43mmissing\u001b[49m\u001b[38;5;241;43m=\u001b[39;49m\u001b[43mmissing\u001b[49m\u001b[43m)\u001b[49m\n\u001b[1;32m    202\u001b[0m ((endog, exog), missing_idx, design_info) \u001b[38;5;241m=\u001b[39m tmp\n\u001b[1;32m    203\u001b[0m max_endog \u001b[38;5;241m=\u001b[39m \u001b[38;5;28mcls\u001b[39m\u001b[38;5;241m.\u001b[39m_formula_max_endog\n",
          "File \u001b[0;32m~/anaconda3/envs/tm_analyses/lib/python3.9/site-packages/statsmodels/formula/formulatools.py:63\u001b[0m, in \u001b[0;36mhandle_formula_data\u001b[0;34m(Y, X, formula, depth, missing)\u001b[0m\n\u001b[1;32m     61\u001b[0m \u001b[38;5;28;01melse\u001b[39;00m:\n\u001b[1;32m     62\u001b[0m     \u001b[38;5;28;01mif\u001b[39;00m data_util\u001b[38;5;241m.\u001b[39m_is_using_pandas(Y, \u001b[38;5;28;01mNone\u001b[39;00m):\n\u001b[0;32m---> 63\u001b[0m         result \u001b[38;5;241m=\u001b[39m \u001b[43mdmatrices\u001b[49m\u001b[43m(\u001b[49m\u001b[43mformula\u001b[49m\u001b[43m,\u001b[49m\u001b[43m \u001b[49m\u001b[43mY\u001b[49m\u001b[43m,\u001b[49m\u001b[43m \u001b[49m\u001b[43mdepth\u001b[49m\u001b[43m,\u001b[49m\u001b[43m \u001b[49m\u001b[43mreturn_type\u001b[49m\u001b[38;5;241;43m=\u001b[39;49m\u001b[38;5;124;43m'\u001b[39;49m\u001b[38;5;124;43mdataframe\u001b[39;49m\u001b[38;5;124;43m'\u001b[39;49m\u001b[43m,\u001b[49m\n\u001b[1;32m     64\u001b[0m \u001b[43m                           \u001b[49m\u001b[43mNA_action\u001b[49m\u001b[38;5;241;43m=\u001b[39;49m\u001b[43mna_action\u001b[49m\u001b[43m)\u001b[49m\n\u001b[1;32m     65\u001b[0m     \u001b[38;5;28;01melse\u001b[39;00m:\n\u001b[1;32m     66\u001b[0m         result \u001b[38;5;241m=\u001b[39m dmatrices(formula, Y, depth, return_type\u001b[38;5;241m=\u001b[39m\u001b[38;5;124m'\u001b[39m\u001b[38;5;124mdataframe\u001b[39m\u001b[38;5;124m'\u001b[39m,\n\u001b[1;32m     67\u001b[0m                            NA_action\u001b[38;5;241m=\u001b[39mna_action)\n",
          "File \u001b[0;32m~/anaconda3/envs/tm_analyses/lib/python3.9/site-packages/patsy/highlevel.py:309\u001b[0m, in \u001b[0;36mdmatrices\u001b[0;34m(formula_like, data, eval_env, NA_action, return_type)\u001b[0m\n\u001b[1;32m    299\u001b[0m \u001b[38;5;124;03m\"\"\"Construct two design matrices given a formula_like and data.\u001b[39;00m\n\u001b[1;32m    300\u001b[0m \n\u001b[1;32m    301\u001b[0m \u001b[38;5;124;03mThis function is identical to :func:`dmatrix`, except that it requires\u001b[39;00m\n\u001b[0;32m   (...)\u001b[0m\n\u001b[1;32m    306\u001b[0m \u001b[38;5;124;03mSee :func:`dmatrix` for details.\u001b[39;00m\n\u001b[1;32m    307\u001b[0m \u001b[38;5;124;03m\"\"\"\u001b[39;00m\n\u001b[1;32m    308\u001b[0m eval_env \u001b[38;5;241m=\u001b[39m EvalEnvironment\u001b[38;5;241m.\u001b[39mcapture(eval_env, reference\u001b[38;5;241m=\u001b[39m\u001b[38;5;241m1\u001b[39m)\n\u001b[0;32m--> 309\u001b[0m (lhs, rhs) \u001b[38;5;241m=\u001b[39m \u001b[43m_do_highlevel_design\u001b[49m\u001b[43m(\u001b[49m\u001b[43mformula_like\u001b[49m\u001b[43m,\u001b[49m\u001b[43m \u001b[49m\u001b[43mdata\u001b[49m\u001b[43m,\u001b[49m\u001b[43m \u001b[49m\u001b[43meval_env\u001b[49m\u001b[43m,\u001b[49m\n\u001b[1;32m    310\u001b[0m \u001b[43m                                  \u001b[49m\u001b[43mNA_action\u001b[49m\u001b[43m,\u001b[49m\u001b[43m \u001b[49m\u001b[43mreturn_type\u001b[49m\u001b[43m)\u001b[49m\n\u001b[1;32m    311\u001b[0m \u001b[38;5;28;01mif\u001b[39;00m lhs\u001b[38;5;241m.\u001b[39mshape[\u001b[38;5;241m1\u001b[39m] \u001b[38;5;241m==\u001b[39m \u001b[38;5;241m0\u001b[39m:\n\u001b[1;32m    312\u001b[0m     \u001b[38;5;28;01mraise\u001b[39;00m PatsyError(\u001b[38;5;124m\"\u001b[39m\u001b[38;5;124mmodel is missing required outcome variables\u001b[39m\u001b[38;5;124m\"\u001b[39m)\n",
          "File \u001b[0;32m~/anaconda3/envs/tm_analyses/lib/python3.9/site-packages/patsy/highlevel.py:164\u001b[0m, in \u001b[0;36m_do_highlevel_design\u001b[0;34m(formula_like, data, eval_env, NA_action, return_type)\u001b[0m\n\u001b[1;32m    162\u001b[0m \u001b[38;5;28;01mdef\u001b[39;00m \u001b[38;5;21mdata_iter_maker\u001b[39m():\n\u001b[1;32m    163\u001b[0m     \u001b[38;5;28;01mreturn\u001b[39;00m \u001b[38;5;28miter\u001b[39m([data])\n\u001b[0;32m--> 164\u001b[0m design_infos \u001b[38;5;241m=\u001b[39m \u001b[43m_try_incr_builders\u001b[49m\u001b[43m(\u001b[49m\u001b[43mformula_like\u001b[49m\u001b[43m,\u001b[49m\u001b[43m \u001b[49m\u001b[43mdata_iter_maker\u001b[49m\u001b[43m,\u001b[49m\u001b[43m \u001b[49m\u001b[43meval_env\u001b[49m\u001b[43m,\u001b[49m\n\u001b[1;32m    165\u001b[0m \u001b[43m                                  \u001b[49m\u001b[43mNA_action\u001b[49m\u001b[43m)\u001b[49m\n\u001b[1;32m    166\u001b[0m \u001b[38;5;28;01mif\u001b[39;00m design_infos \u001b[38;5;129;01mis\u001b[39;00m \u001b[38;5;129;01mnot\u001b[39;00m \u001b[38;5;28;01mNone\u001b[39;00m:\n\u001b[1;32m    167\u001b[0m     \u001b[38;5;28;01mreturn\u001b[39;00m build_design_matrices(design_infos, data,\n\u001b[1;32m    168\u001b[0m                                  NA_action\u001b[38;5;241m=\u001b[39mNA_action,\n\u001b[1;32m    169\u001b[0m                                  return_type\u001b[38;5;241m=\u001b[39mreturn_type)\n",
          "File \u001b[0;32m~/anaconda3/envs/tm_analyses/lib/python3.9/site-packages/patsy/highlevel.py:66\u001b[0m, in \u001b[0;36m_try_incr_builders\u001b[0;34m(formula_like, data_iter_maker, eval_env, NA_action)\u001b[0m\n\u001b[1;32m     64\u001b[0m \u001b[38;5;28;01mif\u001b[39;00m \u001b[38;5;28misinstance\u001b[39m(formula_like, ModelDesc):\n\u001b[1;32m     65\u001b[0m     \u001b[38;5;28;01massert\u001b[39;00m \u001b[38;5;28misinstance\u001b[39m(eval_env, EvalEnvironment)\n\u001b[0;32m---> 66\u001b[0m     \u001b[38;5;28;01mreturn\u001b[39;00m \u001b[43mdesign_matrix_builders\u001b[49m\u001b[43m(\u001b[49m\u001b[43m[\u001b[49m\u001b[43mformula_like\u001b[49m\u001b[38;5;241;43m.\u001b[39;49m\u001b[43mlhs_termlist\u001b[49m\u001b[43m,\u001b[49m\n\u001b[1;32m     67\u001b[0m \u001b[43m                                   \u001b[49m\u001b[43mformula_like\u001b[49m\u001b[38;5;241;43m.\u001b[39;49m\u001b[43mrhs_termlist\u001b[49m\u001b[43m]\u001b[49m\u001b[43m,\u001b[49m\n\u001b[1;32m     68\u001b[0m \u001b[43m                                  \u001b[49m\u001b[43mdata_iter_maker\u001b[49m\u001b[43m,\u001b[49m\n\u001b[1;32m     69\u001b[0m \u001b[43m                                  \u001b[49m\u001b[43meval_env\u001b[49m\u001b[43m,\u001b[49m\n\u001b[1;32m     70\u001b[0m \u001b[43m                                  \u001b[49m\u001b[43mNA_action\u001b[49m\u001b[43m)\u001b[49m\n\u001b[1;32m     71\u001b[0m \u001b[38;5;28;01melse\u001b[39;00m:\n\u001b[1;32m     72\u001b[0m     \u001b[38;5;28;01mreturn\u001b[39;00m \u001b[38;5;28;01mNone\u001b[39;00m\n",
          "File \u001b[0;32m~/anaconda3/envs/tm_analyses/lib/python3.9/site-packages/patsy/build.py:693\u001b[0m, in \u001b[0;36mdesign_matrix_builders\u001b[0;34m(termlists, data_iter_maker, eval_env, NA_action)\u001b[0m\n\u001b[1;32m    689\u001b[0m factor_states \u001b[38;5;241m=\u001b[39m _factors_memorize(all_factors, data_iter_maker, eval_env)\n\u001b[1;32m    690\u001b[0m \u001b[38;5;66;03m# Now all the factors have working eval methods, so we can evaluate them\u001b[39;00m\n\u001b[1;32m    691\u001b[0m \u001b[38;5;66;03m# on some data to find out what type of data they return.\u001b[39;00m\n\u001b[1;32m    692\u001b[0m (num_column_counts,\n\u001b[0;32m--> 693\u001b[0m  cat_levels_contrasts) \u001b[38;5;241m=\u001b[39m \u001b[43m_examine_factor_types\u001b[49m\u001b[43m(\u001b[49m\u001b[43mall_factors\u001b[49m\u001b[43m,\u001b[49m\n\u001b[1;32m    694\u001b[0m \u001b[43m                                               \u001b[49m\u001b[43mfactor_states\u001b[49m\u001b[43m,\u001b[49m\n\u001b[1;32m    695\u001b[0m \u001b[43m                                               \u001b[49m\u001b[43mdata_iter_maker\u001b[49m\u001b[43m,\u001b[49m\n\u001b[1;32m    696\u001b[0m \u001b[43m                                               \u001b[49m\u001b[43mNA_action\u001b[49m\u001b[43m)\u001b[49m\n\u001b[1;32m    697\u001b[0m \u001b[38;5;66;03m# Now we need the factor infos, which encapsulate the knowledge of\u001b[39;00m\n\u001b[1;32m    698\u001b[0m \u001b[38;5;66;03m# how to turn any given factor into a chunk of data:\u001b[39;00m\n\u001b[1;32m    699\u001b[0m factor_infos \u001b[38;5;241m=\u001b[39m {}\n",
          "File \u001b[0;32m~/anaconda3/envs/tm_analyses/lib/python3.9/site-packages/patsy/build.py:443\u001b[0m, in \u001b[0;36m_examine_factor_types\u001b[0;34m(factors, factor_states, data_iter_maker, NA_action)\u001b[0m\n\u001b[1;32m    441\u001b[0m \u001b[38;5;28;01mfor\u001b[39;00m data \u001b[38;5;129;01min\u001b[39;00m data_iter_maker():\n\u001b[1;32m    442\u001b[0m     \u001b[38;5;28;01mfor\u001b[39;00m factor \u001b[38;5;129;01min\u001b[39;00m \u001b[38;5;28mlist\u001b[39m(examine_needed):\n\u001b[0;32m--> 443\u001b[0m         value \u001b[38;5;241m=\u001b[39m \u001b[43mfactor\u001b[49m\u001b[38;5;241;43m.\u001b[39;49m\u001b[43meval\u001b[49m\u001b[43m(\u001b[49m\u001b[43mfactor_states\u001b[49m\u001b[43m[\u001b[49m\u001b[43mfactor\u001b[49m\u001b[43m]\u001b[49m\u001b[43m,\u001b[49m\u001b[43m \u001b[49m\u001b[43mdata\u001b[49m\u001b[43m)\u001b[49m\n\u001b[1;32m    444\u001b[0m         \u001b[38;5;28;01mif\u001b[39;00m factor \u001b[38;5;129;01min\u001b[39;00m cat_sniffers \u001b[38;5;129;01mor\u001b[39;00m guess_categorical(value):\n\u001b[1;32m    445\u001b[0m             \u001b[38;5;28;01mif\u001b[39;00m factor \u001b[38;5;129;01mnot\u001b[39;00m \u001b[38;5;129;01min\u001b[39;00m cat_sniffers:\n",
          "File \u001b[0;32m~/anaconda3/envs/tm_analyses/lib/python3.9/site-packages/patsy/eval.py:564\u001b[0m, in \u001b[0;36mEvalFactor.eval\u001b[0;34m(self, memorize_state, data)\u001b[0m\n\u001b[1;32m    563\u001b[0m \u001b[38;5;28;01mdef\u001b[39;00m \u001b[38;5;21meval\u001b[39m(\u001b[38;5;28mself\u001b[39m, memorize_state, data):\n\u001b[0;32m--> 564\u001b[0m     \u001b[38;5;28;01mreturn\u001b[39;00m \u001b[38;5;28;43mself\u001b[39;49m\u001b[38;5;241;43m.\u001b[39;49m\u001b[43m_eval\u001b[49m\u001b[43m(\u001b[49m\u001b[43mmemorize_state\u001b[49m\u001b[43m[\u001b[49m\u001b[38;5;124;43m\"\u001b[39;49m\u001b[38;5;124;43meval_code\u001b[39;49m\u001b[38;5;124;43m\"\u001b[39;49m\u001b[43m]\u001b[49m\u001b[43m,\u001b[49m\n\u001b[1;32m    565\u001b[0m \u001b[43m                      \u001b[49m\u001b[43mmemorize_state\u001b[49m\u001b[43m,\u001b[49m\n\u001b[1;32m    566\u001b[0m \u001b[43m                      \u001b[49m\u001b[43mdata\u001b[49m\u001b[43m)\u001b[49m\n",
          "File \u001b[0;32m~/anaconda3/envs/tm_analyses/lib/python3.9/site-packages/patsy/eval.py:547\u001b[0m, in \u001b[0;36mEvalFactor._eval\u001b[0;34m(self, code, memorize_state, data)\u001b[0m\n\u001b[1;32m    545\u001b[0m \u001b[38;5;28;01mdef\u001b[39;00m \u001b[38;5;21m_eval\u001b[39m(\u001b[38;5;28mself\u001b[39m, code, memorize_state, data):\n\u001b[1;32m    546\u001b[0m     inner_namespace \u001b[38;5;241m=\u001b[39m VarLookupDict([data, memorize_state[\u001b[38;5;124m\"\u001b[39m\u001b[38;5;124mtransforms\u001b[39m\u001b[38;5;124m\"\u001b[39m]])\n\u001b[0;32m--> 547\u001b[0m     \u001b[38;5;28;01mreturn\u001b[39;00m \u001b[43mcall_and_wrap_exc\u001b[49m\u001b[43m(\u001b[49m\u001b[38;5;124;43m\"\u001b[39;49m\u001b[38;5;124;43mError evaluating factor\u001b[39;49m\u001b[38;5;124;43m\"\u001b[39;49m\u001b[43m,\u001b[49m\n\u001b[1;32m    548\u001b[0m \u001b[43m                             \u001b[49m\u001b[38;5;28;43mself\u001b[39;49m\u001b[43m,\u001b[49m\n\u001b[1;32m    549\u001b[0m \u001b[43m                             \u001b[49m\u001b[43mmemorize_state\u001b[49m\u001b[43m[\u001b[49m\u001b[38;5;124;43m\"\u001b[39;49m\u001b[38;5;124;43meval_env\u001b[39;49m\u001b[38;5;124;43m\"\u001b[39;49m\u001b[43m]\u001b[49m\u001b[38;5;241;43m.\u001b[39;49m\u001b[43meval\u001b[49m\u001b[43m,\u001b[49m\n\u001b[1;32m    550\u001b[0m \u001b[43m                             \u001b[49m\u001b[43mcode\u001b[49m\u001b[43m,\u001b[49m\n\u001b[1;32m    551\u001b[0m \u001b[43m                             \u001b[49m\u001b[43minner_namespace\u001b[49m\u001b[38;5;241;43m=\u001b[39;49m\u001b[43minner_namespace\u001b[49m\u001b[43m)\u001b[49m\n",
          "File \u001b[0;32m~/anaconda3/envs/tm_analyses/lib/python3.9/site-packages/patsy/compat.py:43\u001b[0m, in \u001b[0;36mcall_and_wrap_exc\u001b[0;34m(msg, origin, f, *args, **kwargs)\u001b[0m\n\u001b[1;32m     39\u001b[0m     new_exc \u001b[38;5;241m=\u001b[39m PatsyError(\u001b[38;5;124m\"\u001b[39m\u001b[38;5;132;01m%s\u001b[39;00m\u001b[38;5;124m: \u001b[39m\u001b[38;5;132;01m%s\u001b[39;00m\u001b[38;5;124m: \u001b[39m\u001b[38;5;132;01m%s\u001b[39;00m\u001b[38;5;124m\"\u001b[39m\n\u001b[1;32m     40\u001b[0m                          \u001b[38;5;241m%\u001b[39m (msg, e\u001b[38;5;241m.\u001b[39m\u001b[38;5;18m__class__\u001b[39m\u001b[38;5;241m.\u001b[39m\u001b[38;5;18m__name__\u001b[39m, e),\n\u001b[1;32m     41\u001b[0m                          origin)\n\u001b[1;32m     42\u001b[0m     \u001b[38;5;66;03m# Use 'exec' to hide this syntax from the Python 2 parser:\u001b[39;00m\n\u001b[0;32m---> 43\u001b[0m     \u001b[43mexec\u001b[49m\u001b[43m(\u001b[49m\u001b[38;5;124;43m\"\u001b[39;49m\u001b[38;5;124;43mraise new_exc from e\u001b[39;49m\u001b[38;5;124;43m\"\u001b[39;49m\u001b[43m)\u001b[49m\n\u001b[1;32m     44\u001b[0m \u001b[38;5;28;01melse\u001b[39;00m:\n\u001b[1;32m     45\u001b[0m     \u001b[38;5;66;03m# In python 2, we just let the original exception escape -- better\u001b[39;00m\n\u001b[1;32m     46\u001b[0m     \u001b[38;5;66;03m# than destroying the traceback. But if it's a PatsyError, we can\u001b[39;00m\n\u001b[1;32m     47\u001b[0m     \u001b[38;5;66;03m# at least set the origin properly.\u001b[39;00m\n\u001b[1;32m     48\u001b[0m     \u001b[38;5;28;01mif\u001b[39;00m \u001b[38;5;28misinstance\u001b[39m(e, PatsyError):\n",
          "File \u001b[0;32m<string>:1\u001b[0m, in \u001b[0;36m<module>\u001b[0;34m\u001b[0m\n",
          "\u001b[0;31mPatsyError\u001b[0m: Error evaluating factor: NameError: name 'of_metrics' is not defined\n    score ~ 1 + of_metrics * cluster\n                ^^^^^^^^^^"
         ]
        }
       ]
      }
     },
     "9063ea66b3e341a09dca32df904b4b1b": {
      "model_module": "@jupyter-widgets/base",
      "model_module_version": "1.2.0",
      "model_name": "LayoutModel",
      "state": {}
     },
     "9261f45351c24dec840eb5c8da0ffa23": {
      "model_module": "@jupyter-widgets/base",
      "model_module_version": "1.2.0",
      "model_name": "LayoutModel",
      "state": {}
     },
     "936a031b87f140459cd4f21f5fb651e8": {
      "model_module": "@jupyter-widgets/controls",
      "model_module_version": "1.5.0",
      "model_name": "DropdownModel",
      "state": {
       "_options_labels": [
        "of_coef",
        "of_metrics",
        "tm_remap",
        "tm_enc_r2",
        "tm_enc_delta"
       ],
       "description": "score_group",
       "index": 0,
       "layout": "IPY_MODEL_4da0905552734f41a4ddcf0cd1d469b1",
       "style": "IPY_MODEL_18b9bfe3a0f44e299538d64b6aa46163"
      }
     },
     "95cfce433c644995b4f73a9149814988": {
      "model_module": "@jupyter-widgets/base",
      "model_module_version": "1.2.0",
      "model_name": "LayoutModel",
      "state": {}
     },
     "9616116d640245a5af889b3800e0712e": {
      "model_module": "@jupyter-widgets/controls",
      "model_module_version": "1.5.0",
      "model_name": "VBoxModel",
      "state": {
       "_dom_classes": [
        "widget-interact"
       ],
       "children": [
        "IPY_MODEL_100e54b5e0c0446abe5c0d8f7669fb21",
        "IPY_MODEL_71d4763177dd430e85a61a2d6846a0f6",
        "IPY_MODEL_02354523337541b78b131bd0102475ab",
        "IPY_MODEL_4aae0dd5e76f4eaeaf0a26a3badde3f3"
       ],
       "layout": "IPY_MODEL_70de228d76d843f5924a0f2615d22adf"
      }
     },
     "9edecfe9f4434f4ca4ff03825a678de7": {
      "model_module": "@jupyter-widgets/controls",
      "model_module_version": "1.5.0",
      "model_name": "DescriptionStyleModel",
      "state": {
       "description_width": ""
      }
     },
     "b2eb4f7e692e47659278a305fe654489": {
      "model_module": "@jupyter-widgets/controls",
      "model_module_version": "1.5.0",
      "model_name": "DropdownModel",
      "state": {
       "_options_labels": [
        "of_coef",
        "of_metrics",
        "tm_remap",
        "tm_enc_r2",
        "tm_enc_delta"
       ],
       "description": "score_group",
       "index": 1,
       "layout": "IPY_MODEL_60aa285be4114d1fa9060032c81fdfa0",
       "style": "IPY_MODEL_19e44f16e23f468bb3b984729183bae6"
      }
     },
     "b4701b7b296f4a169a4605eb0d30af67": {
      "model_module": "@jupyter-widgets/controls",
      "model_module_version": "1.5.0",
      "model_name": "VBoxModel",
      "state": {
       "_dom_classes": [
        "widget-interact"
       ],
       "children": [
        "IPY_MODEL_f1194c82281c4d1cbd1fa59ab5b4e791",
        "IPY_MODEL_c7132caf304449b084c3f35edc40d70a",
        "IPY_MODEL_6e219e1392124bf5848405170af7f81d",
        "IPY_MODEL_59a2199c580748d3b2ae1282033283ce"
       ],
       "layout": "IPY_MODEL_283023280f5c47729fca7b91771a1e94"
      }
     },
     "b4762eab3f8d4698a669480857a32c6a": {
      "model_module": "@jupyter-widgets/base",
      "model_module_version": "1.2.0",
      "model_name": "LayoutModel",
      "state": {}
     },
     "b73c588e933243f493dd84353a2695a8": {
      "model_module": "@jupyter-widgets/base",
      "model_module_version": "1.2.0",
      "model_name": "LayoutModel",
      "state": {}
     },
     "b8e921b95a3f489db7c21bc717f8fbc1": {
      "model_module": "@jupyter-widgets/output",
      "model_module_version": "1.0.0",
      "model_name": "OutputModel",
      "state": {
       "layout": "IPY_MODEL_19694538271742e2a482b1c4df8e5cad",
       "outputs": [
        {
         "name": "stdout",
         "output_type": "stream",
         "text": "              Mixed Linear Model Regression Results\n==================================================================\nModel:                 MixedLM    Dependent Variable:    score    \nNo. Observations:      921        Method:                REML     \nNo. Groups:            6          Scale:                 0.2048   \nMin. group size:       3          Log-Likelihood:        -592.2315\nMax. group size:       480        Converged:             No       \nMean group size:       153.5                                      \n------------------------------------------------------------------\n                       Coef.  Std.Err.    z    P>|z| [0.025 0.975]\n------------------------------------------------------------------\nIntercept               0.303    0.667   0.455 0.649 -1.004  1.610\nof_coef[T.pos]          0.707    0.037  19.348 0.000  0.635  0.778\nof_coef[T.speed]       -0.582    0.037 -15.930 0.000 -0.653 -0.510\ncluster[T.-6.4734483]  -0.001    0.717  -0.002 0.999 -1.406  1.403\ncluster[T.-6.4620833]  -0.032    0.961  -0.033 0.974 -1.915  1.851\ncluster[T.-6.4503226]  -0.005    0.961  -0.005 0.996 -1.888  1.878\ncluster[T.-6.447477]   -0.009    0.961  -0.010 0.992 -1.892  1.874\ncluster[T.-6.4018965]   0.002    0.717   0.003 0.998 -1.402  1.406\ncluster[T.-6.3414254]  -0.005    0.961  -0.005 0.996 -1.888  1.878\ncluster[T.-6.310226]   -0.002    0.717  -0.002 0.998 -1.406  1.403\ncluster[T.-6.2845316]  -0.006    0.961  -0.006 0.995 -1.889  1.877\ncluster[T.-6.2835565]   0.016    0.961   0.017 0.987 -1.867  1.899\ncluster[T.-6.2072315]  -0.010    0.943  -0.011 0.991 -1.858  1.837\ncluster[T.-6.1916003]   0.026    0.943   0.028 0.978 -1.822  1.874\ncluster[T.-6.122789]    0.015    0.961   0.016 0.988 -1.868  1.898\ncluster[T.-6.0241013]  -0.128    0.961  -0.133 0.894 -2.011  1.755\ncluster[T.-5.962815]    0.001    0.943   0.001 0.999 -1.847  1.849\ncluster[T.-5.8358893]  -0.003    0.692  -0.004 0.997 -1.359  1.354\ncluster[T.-5.749613]    0.011    0.961   0.011 0.991 -1.872  1.893\ncluster[T.-5.745358]    0.009    0.961   0.010 0.992 -1.874  1.892\ncluster[T.-5.727312]    0.004    0.961   0.004 0.997 -1.879  1.887\ncluster[T.-5.6864204]   0.043    0.943   0.046 0.963 -1.804  1.891\ncluster[T.-5.678397]   -0.008    0.961  -0.009 0.993 -1.891  1.875\ncluster[T.-5.644916]    0.000    0.943   0.000 1.000 -1.847  1.847\ncluster[T.-5.6110377]   0.059    0.943   0.062 0.950 -1.789  1.906\ncluster[T.-5.594082]   -0.001    0.943  -0.001 0.999 -1.849  1.846\ncluster[T.-5.4614143]   0.010    0.716   0.013 0.989 -1.394  1.414\ncluster[T.-5.318629]    0.040    0.961   0.042 0.967 -1.843  1.923\ncluster[T.-5.309335]    0.012    0.930   0.013 0.990 -1.812  1.835\ncluster[T.-5.303226]   -0.003    0.961  -0.003 0.998 -1.886  1.880\ncluster[T.-5.279143]    0.002    0.717   0.002 0.998 -1.403  1.406\ncluster[T.-5.2360396]  -0.002    0.961  -0.002 0.998 -1.885  1.881\ncluster[T.-5.1755905]   0.008    0.961   0.008 0.994 -1.875  1.891\ncluster[T.-5.1655173]   0.003    0.961   0.003 0.997 -1.880  1.886\ncluster[T.-5.1553345]   0.036    0.961   0.038 0.970 -1.847  1.919\ncluster[T.-5.1377454]   0.013    0.961   0.013 0.989 -1.870  1.896\ncluster[T.-5.075183]    0.067    0.961   0.070 0.944 -1.816  1.950\ncluster[T.-5.0573378]   0.026    0.961   0.027 0.979 -1.857  1.908\ncluster[T.-5.0412016]  -0.009    0.961  -0.009 0.993 -1.891  1.874\ncluster[T.-4.984028]    0.009    0.717   0.013 0.990 -1.395  1.414\ncluster[T.-4.9106135]   0.029    0.961   0.030 0.976 -1.854  1.912\ncluster[T.-4.909164]   -0.007    0.961  -0.007 0.995 -1.889  1.876\ncluster[T.-4.8738966]   0.000    0.692   0.000 1.000 -1.356  1.357\ncluster[T.-4.7071147]   0.042    0.961   0.044 0.965 -1.841  1.925\ncluster[T.-4.6133795]   0.031    0.943   0.033 0.974 -1.817  1.878\ncluster[T.-4.5221853]   0.014    0.937   0.015 0.988 -1.822  1.850\ncluster[T.-4.5098634]   0.009    0.961   0.010 0.992 -1.874  1.892\ncluster[T.-4.4505258]  -0.009    0.961  -0.009 0.992 -1.892  1.874\ncluster[T.-4.356598]   -0.004    0.961  -0.005 0.996 -1.887  1.878\ncluster[T.-4.3134284]   0.046    0.961   0.047 0.962 -1.837  1.929\ncluster[T.-4.308327]   -0.010    0.717  -0.013 0.989 -1.414  1.395\ncluster[T.-4.280005]    0.000    0.717   0.000 1.000 -1.404  1.404\ncluster[T.-4.236138]    0.020    0.961   0.021 0.983 -1.863  1.903\ncluster[T.-4.1734138]   0.008    0.943   0.009 0.993 -1.839  1.856\ncluster[T.-3.9407327]   0.040    0.961   0.041 0.967 -1.843  1.923\ncluster[T.-3.897928]    0.011    0.692   0.015 0.988 -1.346  1.367\ncluster[T.-3.8546543]   0.009    0.943   0.010 0.992 -1.838  1.857\ncluster[T.-3.5498066]   0.000    0.717   0.000 1.000 -1.404  1.404\ncluster[T.-3.4198952]  -0.007    0.961  -0.007 0.995 -1.889  1.876\ncluster[T.-3.2834778]   0.019    0.961   0.020 0.984 -1.864  1.902\ncluster[T.-3.1711411]   0.000    0.716   0.000 1.000 -1.403  1.403\ncluster[T.-3.1668322]  -0.006    0.943  -0.006 0.995 -1.853  1.841\ncluster[T.-3.1584742]   0.030    0.933   0.032 0.974 -1.799  1.860\ncluster[T.-3.1224465]   0.029    0.961   0.030 0.976 -1.854  1.912\ncluster[T.-3.121387]    0.008    0.961   0.008 0.993 -1.875  1.891\ncluster[T.-3.0836935]  -0.015    0.961  -0.016 0.987 -1.898  1.868\ncluster[T.-3.0824854]   0.001    0.961   0.001 0.999 -1.882  1.884\ncluster[T.-3.0703297]   0.009    0.961   0.009 0.992 -1.874  1.892\ncluster[T.-3.011326]    0.015    0.961   0.016 0.987 -1.868  1.898\ncluster[T.-2.7795732]   0.036    0.961   0.038 0.970 -1.847  1.919\ncluster[T.-2.7641454]   0.014    0.961   0.014 0.989 -1.869  1.897\ncluster[T.-2.635686]    0.002    0.717   0.003 0.997 -1.402  1.407\ncluster[T.-2.5963333]   0.013    0.943   0.014 0.989 -1.834  1.860\ncluster[T.-2.5585165]   0.009    0.933   0.010 0.992 -1.820  1.839\ncluster[T.-2.5466626]   0.008    0.943   0.008 0.993 -1.839  1.855\ncluster[T.-2.5243142]   0.000    0.961   0.000 1.000 -1.883  1.883\ncluster[T.-2.3880184]   0.022    0.961   0.023 0.982 -1.861  1.905\ncluster[T.-2.3880165]  -0.006    0.961  -0.006 0.995 -1.888  1.877\ncluster[T.-2.381124]    0.011    0.961   0.011 0.991 -1.872  1.893\ncluster[T.-2.3773477]  -0.006    0.717  -0.009 0.993 -1.411  1.398\ncluster[T.-2.3721654]  -0.003    0.961  -0.003 0.997 -1.886  1.880\ncluster[T.-2.2562685]   0.012    0.961   0.013 0.990 -1.871  1.895\ncluster[T.-2.1330712]   0.005    0.961   0.005 0.996 -1.878  1.888\ncluster[T.-2.0449657]   0.045    0.961   0.047 0.962 -1.838  1.928\ncluster[T.-1.9781786]   0.026    0.961   0.027 0.979 -1.857  1.909\ncluster[T.-1.92037]     0.026    0.943   0.028 0.978 -1.821  1.874\ncluster[T.-1.5705166]  -0.004    0.943  -0.004 0.996 -1.852  1.844\ncluster[T.-1.3833613]   0.008    0.961   0.008 0.993 -1.875  1.891\ncluster[T.-1.21231]     0.016    0.961   0.016 0.987 -1.867  1.898\ncluster[T.-0.94155484]  0.018    0.943   0.019 0.985 -1.830  1.865\ncluster[T.-0.6326246]   0.039    0.943   0.041 0.967 -1.809  1.886\ncluster[T.-0.3331722]   0.000    0.961   0.000 1.000 -1.883  1.883\ncluster[T.-0.23662469]  0.028    0.961   0.029 0.977 -1.855  1.911\ncluster[T.-0.05849117] -0.001    0.961  -0.001 0.999 -1.884  1.882\ncluster[T.0.14547087]  -0.005    0.961  -0.005 0.996 -1.888  1.878\ncluster[T.0.1545162]   -0.007    0.961  -0.007 0.995 -1.889  1.876\ncluster[T.0.16654876]   0.031    0.961   0.033 0.974 -1.852  1.914\ncluster[T.0.3282807]    0.014    0.961   0.015 0.988 -1.869  1.897\ncluster[T.0.33193102]  -0.005    0.961  -0.005 0.996 -1.888  1.878\ncluster[T.0.35582253]  -0.005    0.961  -0.005 0.996 -1.888  1.878\ncluster[T.1.6675227]    0.014    0.943   0.015 0.988 -1.833  1.862\ncluster[T.1.6861435]   -0.020    0.961  -0.020 0.984 -1.903  1.863\ncluster[T.1.820777]     0.034    0.943   0.036 0.972 -1.814  1.881\ncluster[T.1.9117388]   -0.011    0.717  -0.015 0.988 -1.415  1.394\ncluster[T.2.20643]      0.014    0.961   0.014 0.989 -1.869  1.896\ncluster[T.2.4303071]    0.001    0.717   0.001 0.999 -1.404  1.405\ncluster[T.2.4307766]    0.003    0.930   0.004 0.997 -1.820  1.827\ncluster[T.2.4462295]   -0.010    0.943  -0.011 0.991 -1.858  1.837\ncluster[T.2.458657]    -0.001    0.717  -0.001 0.999 -1.405  1.403\ncluster[T.2.5077379]    0.009    0.943   0.009 0.993 -1.839  1.856\ncluster[T.2.5494208]   -0.006    0.961  -0.006 0.995 -1.889  1.877\ncluster[T.2.5586278]    0.015    0.943   0.015 0.988 -1.833  1.862\ncluster[T.2.5797687]   -0.005    0.943  -0.005 0.996 -1.852  1.843\ncluster[T.2.5971801]   -0.010    0.961  -0.011 0.991 -1.893  1.872\ncluster[T.2.610446]     0.009    0.692   0.013 0.990 -1.348  1.365\ncluster[T.2.663704]    -0.006    0.961  -0.007 0.995 -1.889  1.877\ncluster[T.2.8559935]    0.013    0.961   0.014 0.989 -1.869  1.896\ncluster[T.2.9514225]   -0.002    0.943  -0.003 0.998 -1.850  1.845\ncluster[T.2.992094]    -0.003    0.943  -0.003 0.998 -1.850  1.845\ncluster[T.3.1075146]   -0.002    0.943  -0.002 0.998 -1.850  1.846\ncluster[T.3.1193314]    0.005    0.961   0.005 0.996 -1.878  1.888\ncluster[T.3.1310875]    0.004    0.692   0.006 0.995 -1.351  1.360\ncluster[T.3.1625583]   -0.005    0.961  -0.005 0.996 -1.888  1.878\ncluster[T.3.2616308]   -0.006    0.961  -0.006 0.995 -1.889  1.877\ncluster[T.3.2848227]    0.012    0.961   0.013 0.990 -1.871  1.895\ncluster[T.3.4048014]    0.007    0.961   0.008 0.994 -1.876  1.890\ncluster[T.3.4704525]   -0.005    0.943  -0.005 0.996 -1.852  1.843\ncluster[T.3.4709396]   -0.002    0.937  -0.003 0.998 -1.838  1.833\ncluster[T.3.5092528]    0.008    0.943   0.009 0.993 -1.840  1.856\ncluster[T.3.5880415]    0.003    0.961   0.003 0.998 -1.880  1.886\ncluster[T.3.700218]     0.007    0.961   0.007 0.994 -1.876  1.890\ncluster[T.3.7580223]    0.039    0.961   0.040 0.968 -1.844  1.921\ncluster[T.3.767166]     0.007    0.961   0.008 0.994 -1.875  1.890\ncluster[T.3.9087102]   -0.004    0.961  -0.004 0.997 -1.887  1.879\ncluster[T.3.9889004]   -0.005    0.961  -0.005 0.996 -1.888  1.878\ncluster[T.4.094889]     0.024    0.961   0.025 0.980 -1.859  1.907\ncluster[T.4.135452]     0.014    0.692   0.020 0.984 -1.343  1.370\ncluster[T.4.310709]    -0.002    0.943  -0.002 0.998 -1.849  1.845\ncluster[T.4.504226]    -0.007    0.943  -0.008 0.994 -1.855  1.841\ncluster[T.4.519894]    -0.008    0.961  -0.009 0.993 -1.891  1.875\ncluster[T.4.5212502]   -0.001    0.961  -0.001 0.999 -1.884  1.882\ncluster[T.4.5772686]   -0.003    0.961  -0.003 0.997 -1.886  1.880\ncluster[T.4.6033626]    0.013    0.692   0.019 0.985 -1.343  1.370\ncluster[T.4.65933]     -0.002    0.961  -0.002 0.999 -1.884  1.881\ncluster[T.4.816121]     0.003    0.943   0.003 0.997 -1.844  1.851\ncluster[T.5.2087727]    0.000    0.936   0.000 1.000 -1.835  1.835\ncluster[T.5.2440906]   -0.003    0.943  -0.003 0.997 -1.851  1.844\ncluster[T.5.4113445]    0.006    0.717   0.009 0.993 -1.398  1.411\ncluster[T.5.4688115]    0.014    0.961   0.015 0.988 -1.869  1.897\ncluster[T.5.4701834]   -0.006    0.961  -0.006 0.995 -1.889  1.877\ncluster[T.5.4966316]    0.006    0.961   0.007 0.995 -1.877  1.889\ncluster[T.5.538037]     0.022    0.961   0.023 0.982 -1.861  1.905\ncluster[T.5.632749]     0.015    0.961   0.015 0.988 -1.868  1.897\ncluster[T.5.6966505]    0.025    0.943   0.026 0.979 -1.823  1.873\ncluster[T.5.7630634]   -0.000    0.692  -0.000 1.000 -1.356  1.356\ncluster[T.5.8723454]   -0.005    0.961  -0.005 0.996 -1.888  1.878\ncluster[T.5.875585]    -0.001    0.933  -0.001 0.999 -1.830  1.829\ncluster[T.5.987964]     0.004    0.961   0.004 0.996 -1.879  1.887\ncluster[T.6.2577686]   -0.002    0.692  -0.003 0.998 -1.358  1.354\ncluster[T.7.336684]     0.002    0.961   0.002 0.998 -1.881  1.885\ncluster[T.7.4420257]   -0.002    0.943  -0.002 0.998 -1.850  1.846\ncluster[T.7.6026816]    0.002    0.943   0.002 0.998 -1.845  1.849\ncluster[T.7.603564]    -0.007    0.961  -0.008 0.994 -1.890  1.876\ncluster[T.7.6092963]   -0.005    0.961  -0.005 0.996 -1.887  1.878\ncluster[T.7.612226]    -0.007    0.943  -0.008 0.994 -1.855  1.840\ncluster[T.7.677192]    -0.001    0.961  -0.001 0.999 -1.884  1.882\ncluster[T.7.6773767]    0.009    0.943   0.009 0.993 -1.839  1.856\ncluster[T.7.690498]     0.002    0.961   0.002 0.998 -1.881  1.885\ncluster[T.7.6939435]   -0.008    0.961  -0.008 0.993 -1.891  1.875\ncluster[T.7.7313485]   -0.015    0.943  -0.016 0.987 -1.863  1.832\ncluster[T.7.734221]    -0.001    0.961  -0.001 0.999 -1.884  1.882\ncluster[T.7.7603273]    0.067    0.961   0.070 0.945 -1.816  1.950\ncluster[T.7.7944746]    0.006    0.943   0.006 0.995 -1.842  1.854\ncluster[T.8.037321]     0.004    0.961   0.004 0.997 -1.879  1.887\ncluster[T.8.077193]    -0.000    0.692  -0.000 1.000 -1.357  1.356\ncluster[T.8.1520605]    0.001    0.943   0.002 0.999 -1.846  1.849\ncluster[T.8.187318]    -0.023    0.961  -0.024 0.981 -1.906  1.860\ncluster[T.8.429565]    -0.006    0.961  -0.006 0.995 -1.889  1.877\ncluster[T.8.703142]     0.001    0.961   0.001 0.999 -1.882  1.884\ncluster[T.8.884751]     0.003    0.943   0.003 0.998 -1.845  1.850\ncluster[T.8.912927]     0.004    0.943   0.004 0.997 -1.844  1.852\ncluster[T.9.045257]    -0.004    0.943  -0.004 0.997 -1.851  1.844\ncluster[T.9.055775]     0.002    0.943   0.002 0.998 -1.846  1.850\ncluster[T.9.10925]     -0.001    0.961  -0.001 0.999 -1.884  1.882\ncluster[T.9.266825]    -0.004    0.943  -0.004 0.997 -1.851  1.843\ncluster[T.9.334387]     0.012    0.961   0.013 0.990 -1.871  1.895\ncluster[T.9.537414]    -0.005    0.961  -0.005 0.996 -1.888  1.878\ncluster[T.9.828373]     0.005    0.961   0.005 0.996 -1.878  1.888\ncluster[T.10.037501]    0.006    0.943   0.007 0.995 -1.841  1.854\ncluster[T.10.092399]   -0.001    0.943  -0.001 1.000 -1.848  1.847\ncluster[T.10.100629]   -0.001    0.961  -0.001 0.999 -1.884  1.882\ncluster[T.10.138506]    0.010    0.961   0.011 0.991 -1.873  1.893\ncluster[T.10.180581]    0.006    0.961   0.006 0.995 -1.877  1.889\ncluster[T.10.181683]    0.004    0.943   0.004 0.997 -1.844  1.851\ncluster[T.10.260547]    0.015    0.961   0.016 0.987 -1.868  1.898\ncluster[T.10.314457]    0.004    0.961   0.004 0.997 -1.879  1.887\ncluster[T.10.358521]    0.005    0.943   0.006 0.996 -1.842  1.853\ncluster[T.10.359375]    0.006    0.961   0.006 0.995 -1.877  1.889\ncluster[T.10.37486]     0.007    0.961   0.007 0.994 -1.876  1.890\ncluster[T.10.376584]    0.004    0.943   0.004 0.997 -1.844  1.852\ncluster[T.10.4679985]   0.004    0.961   0.005 0.996 -1.879  1.887\ncluster[T.10.684013]    0.011    0.961   0.011 0.991 -1.872  1.894\ncluster[T.10.714795]    0.011    0.961   0.011 0.991 -1.872  1.894\ncluster[T.10.810437]    0.007    0.961   0.007 0.995 -1.876  1.889\ncluster[T.11.271812]    0.003    0.961   0.004 0.997 -1.880  1.886\ncluster[T.11.283292]   -0.094    0.961  -0.098 0.922 -1.977  1.789\ncluster[T.11.351172]   -0.026    0.943  -0.028 0.978 -1.874  1.821\ncluster[T.11.5184965]  -0.000    0.961  -0.000 1.000 -1.883  1.883\ncluster[T.11.548261]    0.001    0.961   0.001 0.999 -1.882  1.884\ncluster[T.11.592424]    0.002    0.961   0.002 0.998 -1.881  1.885\ncluster[T.11.676188]    0.000    0.961   0.000 1.000 -1.883  1.883\ncluster[T.11.710308]   -0.003    0.943  -0.003 0.998 -1.851  1.845\ncluster[T.11.840877]    0.009    0.961   0.010 0.992 -1.874  1.892\ncluster[T.11.873103]    0.003    0.961   0.003 0.997 -1.880  1.886\ncluster[T.11.875122]    0.009    0.943   0.009 0.993 -1.839  1.856\ncluster[T.11.972552]    0.005    0.961   0.006 0.995 -1.877  1.888\ncluster[T.11.973578]    0.008    0.961   0.008 0.994 -1.875  1.891\ncluster[T.12.017147]    0.009    0.961   0.010 0.992 -1.874  1.892\ncluster[T.12.068593]    0.010    0.943   0.011 0.991 -1.837  1.858\nsubject Var             0.205                                     \nmatch_id Var            0.205                                     \nsession_OF Var          0.001                                     \nsession_TM Var          0.000                                     \n==================================================================\n\n                  chi2         P>chi2  df constraint\nIntercept     0.206630   6.494219e-01              1\nof_coef    1248.462718  7.938992e-272              2\ncluster       0.268652   1.000000e+00            216\n\nLRT = 55.75; Chi2_p=1.00e+00\nFull Model ML converged = True\nNull Model ML converged = False\n"
        }
       ]
      }
     },
     "ba60e47b57344703a654c6a04bd6fbe3": {
      "model_module": "@jupyter-widgets/base",
      "model_module_version": "1.2.0",
      "model_name": "LayoutModel",
      "state": {}
     },
     "baa40a635a8648a3a245a250d556a4f9": {
      "model_module": "@jupyter-widgets/controls",
      "model_module_version": "1.5.0",
      "model_name": "VBoxModel",
      "state": {
       "_dom_classes": [
        "widget-interact"
       ],
       "layout": "IPY_MODEL_95cfce433c644995b4f73a9149814988"
      }
     },
     "bd1df1fec1924af58fdb088bc34a1983": {
      "model_module": "@jupyter-widgets/controls",
      "model_module_version": "1.5.0",
      "model_name": "DropdownModel",
      "state": {
       "_options_labels": [
        "cluster",
        "umap_1",
        "umap_2"
       ],
       "description": "cluster_type",
       "index": 0,
       "layout": "IPY_MODEL_d370c958bc28493188f9782ddc4c1dd0",
       "style": "IPY_MODEL_5bb9d89afe4b4874bce59f1779de423a"
      }
     },
     "bda68facffcd4d33a591cad85f10e324": {
      "model_module": "@jupyter-widgets/controls",
      "model_module_version": "1.5.0",
      "model_name": "DescriptionStyleModel",
      "state": {
       "description_width": ""
      }
     },
     "c63de169219340b59d255a1d9b50a13e": {
      "model_module": "@jupyter-widgets/controls",
      "model_module_version": "1.5.0",
      "model_name": "DropdownModel",
      "state": {
       "_options_labels": [
        "of_coef",
        "of_metrics",
        "tm_remap",
        "tm_enc_r2",
        "tm_enc_delta"
       ],
       "description": "score_group",
       "index": 0,
       "layout": "IPY_MODEL_23651f0621ee43ccabf37208d147e92c",
       "style": "IPY_MODEL_d167a7e2c0a64da899a2f652f6e2076c"
      }
     },
     "c7132caf304449b084c3f35edc40d70a": {
      "model_module": "@jupyter-widgets/controls",
      "model_module_version": "1.5.0",
      "model_name": "DropdownModel",
      "state": {
       "_options_labels": [
        "cluster",
        "umap_1",
        "umap_2"
       ],
       "description": "cluster_type",
       "index": 0,
       "layout": "IPY_MODEL_d4b5851d20fa401c909e93fec793bf63",
       "style": "IPY_MODEL_20f18709019249cb9b16669fbcf1c8de"
      }
     },
     "c904656b3c254fb0b7ef52d615e5ce13": {
      "model_module": "@jupyter-widgets/base",
      "model_module_version": "1.2.0",
      "model_name": "LayoutModel",
      "state": {}
     },
     "cc23280d10054201950be40575840763": {
      "model_module": "@jupyter-widgets/base",
      "model_module_version": "1.2.0",
      "model_name": "LayoutModel",
      "state": {}
     },
     "cc8c1211b99f4956929c74017efa67fc": {
      "model_module": "@jupyter-widgets/controls",
      "model_module_version": "1.5.0",
      "model_name": "DescriptionStyleModel",
      "state": {
       "description_width": ""
      }
     },
     "ce4ab45952a34032ae4abdbb965d85f8": {
      "model_module": "@jupyter-widgets/base",
      "model_module_version": "1.2.0",
      "model_name": "LayoutModel",
      "state": {}
     },
     "cf3ae393617944629c8113c6cdfefc5f": {
      "model_module": "@jupyter-widgets/base",
      "model_module_version": "1.2.0",
      "model_name": "LayoutModel",
      "state": {}
     },
     "d167a7e2c0a64da899a2f652f6e2076c": {
      "model_module": "@jupyter-widgets/controls",
      "model_module_version": "1.5.0",
      "model_name": "DescriptionStyleModel",
      "state": {
       "description_width": ""
      }
     },
     "d1d8343350d243ad8f336228a0975c54": {
      "model_module": "@jupyter-widgets/controls",
      "model_module_version": "1.5.0",
      "model_name": "VBoxModel",
      "state": {
       "_dom_classes": [
        "widget-interact"
       ],
       "children": [
        "IPY_MODEL_b2eb4f7e692e47659278a305fe654489",
        "IPY_MODEL_73c9f14f6a1445aaa7468332e91942b2",
        "IPY_MODEL_d375a425be714720b077a07034b3111b",
        "IPY_MODEL_8f228fc1fa394e3b8a497c1ca5a66892"
       ],
       "layout": "IPY_MODEL_ce4ab45952a34032ae4abdbb965d85f8"
      }
     },
     "d2d2b8b7c4604e57b6fec58e0a04f5e7": {
      "model_module": "@jupyter-widgets/base",
      "model_module_version": "1.2.0",
      "model_name": "LayoutModel",
      "state": {}
     },
     "d370c958bc28493188f9782ddc4c1dd0": {
      "model_module": "@jupyter-widgets/base",
      "model_module_version": "1.2.0",
      "model_name": "LayoutModel",
      "state": {}
     },
     "d375a425be714720b077a07034b3111b": {
      "model_module": "@jupyter-widgets/controls",
      "model_module_version": "1.5.0",
      "model_name": "DropdownModel",
      "state": {
       "_options_labels": [
        "main",
        "interaction"
       ],
       "description": "test_type",
       "index": 1,
       "layout": "IPY_MODEL_54afff21ae2245b08852742d6eafe7e5",
       "style": "IPY_MODEL_42b5e26b3dda414384cd19eac9aa9226"
      }
     },
     "d3de7fe892a14c4eb1cab634fb0c5c68": {
      "model_module": "@jupyter-widgets/base",
      "model_module_version": "1.2.0",
      "model_name": "LayoutModel",
      "state": {}
     },
     "d4b5851d20fa401c909e93fec793bf63": {
      "model_module": "@jupyter-widgets/base",
      "model_module_version": "1.2.0",
      "model_name": "LayoutModel",
      "state": {}
     },
     "e0e338388ca14cebb5980cd71c44fd49": {
      "model_module": "@jupyter-widgets/base",
      "model_module_version": "1.2.0",
      "model_name": "LayoutModel",
      "state": {}
     },
     "e6a7eb2ddbd04a0da8f7a701a78c4b15": {
      "model_module": "@jupyter-widgets/controls",
      "model_module_version": "1.5.0",
      "model_name": "DescriptionStyleModel",
      "state": {
       "description_width": ""
      }
     },
     "e7de8bc0451f4bffaa925333342ed36d": {
      "model_module": "@jupyter-widgets/controls",
      "model_module_version": "1.5.0",
      "model_name": "DescriptionStyleModel",
      "state": {
       "description_width": ""
      }
     },
     "eecbe0e25629465a9b0310bafdbbb06e": {
      "model_module": "@jupyter-widgets/controls",
      "model_module_version": "1.5.0",
      "model_name": "DropdownModel",
      "state": {
       "_options_labels": [
        "main",
        "interaction"
       ],
       "description": "test_type",
       "index": 0,
       "layout": "IPY_MODEL_cc23280d10054201950be40575840763",
       "style": "IPY_MODEL_73c93766dc3c45feb47d9dd98cfb91da"
      }
     },
     "f1194c82281c4d1cbd1fa59ab5b4e791": {
      "model_module": "@jupyter-widgets/controls",
      "model_module_version": "1.5.0",
      "model_name": "DropdownModel",
      "state": {
       "_options_labels": [
        "of_coef",
        "of_metrics",
        "tm_remap",
        "tm_enc_r2",
        "tm_enc_delta"
       ],
       "description": "score_group",
       "index": 2,
       "layout": "IPY_MODEL_1df99dd2afeb49d09b8cd197b660f6a1",
       "style": "IPY_MODEL_e6a7eb2ddbd04a0da8f7a701a78c4b15"
      }
     },
     "f19f52a441cd4dbc903d1093004b497c": {
      "model_module": "@jupyter-widgets/base",
      "model_module_version": "1.2.0",
      "model_name": "LayoutModel",
      "state": {}
     },
     "f64ac9a781f94074a712e0a79fd33988": {
      "model_module": "@jupyter-widgets/controls",
      "model_module_version": "1.5.0",
      "model_name": "VBoxModel",
      "state": {
       "_dom_classes": [
        "widget-interact"
       ],
       "children": [
        "IPY_MODEL_130efd3dc67a4f5a8b393c4e0b78c90b",
        "IPY_MODEL_bd1df1fec1924af58fdb088bc34a1983",
        "IPY_MODEL_544d64cd19b3438b86d95499f0b52a29",
        "IPY_MODEL_3509d4093f5c4a1299965aebeee50b1a"
       ],
       "layout": "IPY_MODEL_7992e1049eaf454fbdc7837c2a444d50"
      }
     },
     "f749ae4cf9c9461dbe1cb44811351986": {
      "model_module": "@jupyter-widgets/base",
      "model_module_version": "1.2.0",
      "model_name": "LayoutModel",
      "state": {}
     },
     "f8cb09fb1d1d41a0aa02333044ba5e01": {
      "model_module": "@jupyter-widgets/controls",
      "model_module_version": "1.5.0",
      "model_name": "VBoxModel",
      "state": {
       "_dom_classes": [
        "widget-interact"
       ],
       "children": [
        "IPY_MODEL_936a031b87f140459cd4f21f5fb651e8",
        "IPY_MODEL_3f256117b00e48b7b436c643dfb583e3",
        "IPY_MODEL_eecbe0e25629465a9b0310bafdbbb06e",
        "IPY_MODEL_63101c16eb564b64a3b91a88c1a0fc52"
       ],
       "layout": "IPY_MODEL_b4762eab3f8d4698a669480857a32c6a"
      }
     }
    },
    "version_major": 2,
    "version_minor": 0
   }
  }
 },
 "nbformat": 4,
 "nbformat_minor": 5
}
