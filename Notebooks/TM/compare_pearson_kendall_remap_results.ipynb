{
 "cells": [
  {
   "cell_type": "code",
   "execution_count": 6,
   "id": "6f8b9f27-4f93-4ff5-b3b4-4f1976297950",
   "metadata": {},
   "outputs": [],
   "source": [
    "%matplotlib inline\n",
    "import numpy as np\n",
    "import scipy.stats\n",
    "from scipy.stats import ttest_ind, ttest_1samp\n",
    "import pandas as pd\n",
    "from importlib import reload\n",
    "import matplotlib as mpl\n",
    "import matplotlib.pyplot as plt\n",
    "from matplotlib_venn import venn2, venn3\n",
    "import seaborn as sns\n",
    "\n",
    "\n",
    "import statsmodels.stats as stats\n",
    "import statsmodels.api as sm\n",
    "import statsmodels.formula.api as smf\n",
    "import scipy.stats\n",
    "\n",
    "import TreeMazeAnalyses2,Analyses.tree_maze_functions as tmf\n",
    "import TreeMazeAnalyses2.Analyses.experiment_info as ei\n",
    "import TreeMazeAnalyses2.Analyses.plot_functions as pf\n",
    "import TreeMazeAnalyses2.Utils.robust_stats as rs\n",
    "\n",
    "import ipywidgets as widgets\n",
    "from ipywidgets import interact, fixed, interact_manual\n",
    "\n",
    "from joblib import delayed, Parallel\n",
    "\n",
    "import warnings\n",
    "warnings.filterwarnings(\"ignore\", category=DeprecationWarning)\n",
    "warnings.filterwarnings(\"ignore\", category=UserWarning)"
   ]
  },
  {
   "cell_type": "code",
   "execution_count": 7,
   "id": "78b74418-85e4-432d-a194-e591cb22e13c",
   "metadata": {},
   "outputs": [],
   "source": [
    "ei = reload(ei)\n",
    "info = ei.SummaryInfo()"
   ]
  },
  {
   "cell_type": "code",
   "execution_count": 52,
   "id": "b55550ee-ba35-488f-9547-2c5a3705b417",
   "metadata": {
    "tags": []
   },
   "outputs": [
    {
     "name": "stdout",
     "output_type": "stream",
     "text": [
      "error getting the trial sets CR_bo\n",
      "Error Processing Session Cl_T3g_120118\n",
      "Traceback (most recent call last):\n",
      "  File \"/home/alexgonzalez/Documents/TreeMazeAnalyses2/Analyses/experiment_info.py\", line 400, in get_zone_rates_remap\n",
      "    session_zone_rate_comp_table = session_info.get_zone_rates_remap(overwrite=False,\n",
      "  File \"/home/alexgonzalez/Documents/TreeMazeAnalyses2/Analyses/experiment_info.py\", line 2826, in get_zone_rates_remap\n",
      "    df = trial_analyses.all_zone_remapping_analyses(corr_method=params['corr_method'],\n",
      "  File \"/home/alexgonzalez/Documents/TreeMazeAnalyses2/Analyses/tree_maze_functions.py\", line 2920, in all_zone_remapping_analyses\n",
      "    bcorrs = _inner_loop(parallel)\n",
      "  File \"/home/alexgonzalez/Documents/TreeMazeAnalyses2/Analyses/tree_maze_functions.py\", line 2907, in _inner_loop\n",
      "    bcorrs[cond_pair] = self.zone_rate_maps_bal_conds_boot_corr(bal_cond_pair=cond_pair,\n",
      "  File \"/home/alexgonzalez/Documents/TreeMazeAnalyses2/Analyses/tree_maze_functions.py\", line 2797, in zone_rate_maps_bal_conds_boot_corr\n",
      "    if (trial_sets[bal_cond].shape[0]) < min_valid_trials:\n",
      "KeyError: 'CR_bo'\n",
      "CPU times: user 11.8 s, sys: 154 ms, total: 11.9 s\n",
      "Wall time: 9.86 s\n"
     ]
    }
   ],
   "source": [
    "%%time\n",
    "overwrite=False\n",
    "\n",
    "zrc_exps = [2,5]\n",
    "def _get_task_from_session(session):\n",
    "    return session.split(\"_\")[1]\n",
    "\n",
    "zrc = []\n",
    "for zrc_exp in zrc_exps:\n",
    "    if zrc_exp == 0:\n",
    "        params = dict()\n",
    "        zrc_str = ''\n",
    "    elif zrc_exp==1:\n",
    "        params=dict(trial_end='tE_1')\n",
    "        zrc_str = 'tE_1'\n",
    "    elif zrc_exp==2:\n",
    "        params=dict(trial_end='tE_2')\n",
    "        zrc_str = 'tE_2'\n",
    "    elif zrc_exp==3:\n",
    "        params=dict(reward_blank=True)\n",
    "        zrc_str = 'rwb'\n",
    "    elif zrc_exp==4:\n",
    "        params=dict(trial_end='tD')\n",
    "        zrc_str = 'tD'\n",
    "    elif zrc_exp==5:\n",
    "        params=dict(corr_method='pearson')\n",
    "        zrc_str = 'pearson'\n",
    "        \n",
    "    temp =  info.get_zone_rates_remap(overwrite=overwrite, **params)\n",
    "    temp['task'] = temp.session.apply(_get_task_from_session)\n",
    "    zrc.append(temp)"
   ]
  },
  {
   "cell_type": "code",
   "execution_count": 54,
   "id": "2379bc94-18b8-4639-b990-ea2eec9f952c",
   "metadata": {},
   "outputs": [
    {
     "data": {
      "text/plain": [
       "[<matplotlib.lines.Line2D at 0x7f724daef820>]"
      ]
     },
     "execution_count": 54,
     "metadata": {},
     "output_type": "execute_result"
    },
    {
     "data": {
      "image/png": "[encoded data removed]",
      "text/plain": [
       "<Figure size 432x288 with 1 Axes>"
      ]
     },
     "metadata": {
      "needs_background": "light"
     },
     "output_type": "display_data"
    }
   ],
   "source": [
    "z_var = 'CR_bo-CL_bo-Even_bo-Odd_bo-corr_zm'\n",
    "#z_var = 'CR_bo-CL_bo-corr_m'\n",
    "plt.scatter(zrc[0][z_var], zrc[1][z_var])\n",
    "plt.plot([-4,3],[-4,3])"
   ]
  },
  {
   "cell_type": "code",
   "execution_count": 58,
   "id": "c4b426a8-6ecf-43a4-aa9c-a718dd029577",
   "metadata": {},
   "outputs": [
    {
     "data": {
      "text/plain": [
       "unit_id                                  1.000000\n",
       "session_pct_cov                               NaN\n",
       "session_valid                                 NaN\n",
       "session_unit_id                          1.000000\n",
       "CR-CL_corr                               0.905557\n",
       "CR-CL_t_m                                0.994270\n",
       "CR-CL_t_var                              0.991141\n",
       "Even-Odd_corr                            0.909159\n",
       "Even-Odd_t_m                             0.958994\n",
       "Even-Odd_t_var                           0.077923\n",
       "Co-Inco_corr                             0.911107\n",
       "Co-Inco_t_m                              0.992715\n",
       "Co-Inco_t_var                            0.990729\n",
       "Out-In_corr                              0.890608\n",
       "Out-In_t_m                               0.999732\n",
       "Out-In_t_var                             0.999544\n",
       "Left_corr                                0.903082\n",
       "Left_t_m                                 0.996871\n",
       "Left_t_var                               0.999188\n",
       "Right_corr                               0.907667\n",
       "Right_t_m                                0.993482\n",
       "Right_t_var                              0.984131\n",
       "CoSw-IncoSw_corr                         0.915819\n",
       "CoSw-IncoSw_t_m                          0.997877\n",
       "CoSw-IncoSw_t_var                        0.999999\n",
       "CR_bo-CL_bo-corr_m                       0.931132\n",
       "CR_bo-CL_bo-corr_z                       0.884599\n",
       "Co_bo-Inco_bo-corr_m                     0.935652\n",
       "Co_bo-Inco_bo-corr_z                     0.889095\n",
       "Co_bi-Inco_bi-corr_m                     0.929964\n",
       "Co_bi-Inco_bi-corr_z                     0.887374\n",
       "Even_bo-Odd_bo-corr_m                    0.934924\n",
       "Even_bo-Odd_bo-corr_z                    0.884591\n",
       "Even_bi-Odd_bi-corr_m                    0.936972\n",
       "Even_bi-Odd_bi-corr_z                    0.893739\n",
       "CR_bo-CL_bo-Even_bo-Odd_bo-corr_zm       0.816816\n",
       "CR_bo-CL_bo-Even_bo-Odd_bo-corr_zp       0.999996\n",
       "CR_bo-CL_bo-Even_bo-Odd_bo-corr_zt       0.864251\n",
       "CR_bo-CL_bo-Even_bo-Odd_bo-corr_ztp      0.311619\n",
       "Co_bo-Inco_bo-Even_bo-Odd_bo-corr_zm     0.816323\n",
       "Co_bo-Inco_bo-Even_bo-Odd_bo-corr_zp     0.999984\n",
       "Co_bo-Inco_bo-Even_bo-Odd_bo-corr_zt     0.861820\n",
       "Co_bo-Inco_bo-Even_bo-Odd_bo-corr_ztp    0.303832\n",
       "Co_bi-Inco_bi-Even_bi-Odd_bi-corr_zm     0.844066\n",
       "Co_bi-Inco_bi-Even_bi-Odd_bi-corr_zp     0.995533\n",
       "Co_bi-Inco_bi-Even_bi-Odd_bi-corr_zt     0.870316\n",
       "Co_bi-Inco_bi-Even_bi-Odd_bi-corr_ztp    0.280895\n",
       "tt                                            NaN\n",
       "tt_cl                                         NaN\n",
       "dtype: float64"
      ]
     },
     "execution_count": 58,
     "metadata": {},
     "output_type": "execute_result"
    }
   ],
   "source": [
    "zrc[0].corrwith(zrc[1])#[corr_measures]-zrc[1][corr_measures]"
   ]
  },
  {
   "cell_type": "code",
   "execution_count": 62,
   "id": "c0c8c5b4-52b8-4ad8-8037-c66ea2c86266",
   "metadata": {},
   "outputs": [
    {
     "data": {
      "text/html": [
       "<div>\n",
       "<style scoped>\n",
       "    .dataframe tbody tr th:only-of-type {\n",
       "        vertical-align: middle;\n",
       "    }\n",
       "\n",
       "    .dataframe tbody tr th {\n",
       "        vertical-align: top;\n",
       "    }\n",
       "\n",
       "    .dataframe thead th {\n",
       "        text-align: right;\n",
       "    }\n",
       "</style>\n",
       "<table border=\"1\" class=\"dataframe\">\n",
       "  <thead>\n",
       "    <tr style=\"text-align: right;\">\n",
       "      <th></th>\n",
       "      <th>CR-CL_corr</th>\n",
       "      <th>Even-Odd_corr</th>\n",
       "      <th>Co-Inco_corr</th>\n",
       "      <th>Out-In_corr</th>\n",
       "      <th>Left_corr</th>\n",
       "      <th>Right_corr</th>\n",
       "      <th>CoSw-IncoSw_corr</th>\n",
       "      <th>CR_bo-CL_bo-corr_m</th>\n",
       "      <th>CR_bo-CL_bo-corr_z</th>\n",
       "      <th>Co_bo-Inco_bo-corr_m</th>\n",
       "      <th>...</th>\n",
       "      <th>CR_bo-CL_bo-Even_bo-Odd_bo-corr_zt</th>\n",
       "      <th>CR_bo-CL_bo-Even_bo-Odd_bo-corr_ztp</th>\n",
       "      <th>Co_bo-Inco_bo-Even_bo-Odd_bo-corr_zm</th>\n",
       "      <th>Co_bo-Inco_bo-Even_bo-Odd_bo-corr_zp</th>\n",
       "      <th>Co_bo-Inco_bo-Even_bo-Odd_bo-corr_zt</th>\n",
       "      <th>Co_bo-Inco_bo-Even_bo-Odd_bo-corr_ztp</th>\n",
       "      <th>Co_bi-Inco_bi-Even_bi-Odd_bi-corr_zm</th>\n",
       "      <th>Co_bi-Inco_bi-Even_bi-Odd_bi-corr_zp</th>\n",
       "      <th>Co_bi-Inco_bi-Even_bi-Odd_bi-corr_zt</th>\n",
       "      <th>Co_bi-Inco_bi-Even_bi-Odd_bi-corr_ztp</th>\n",
       "    </tr>\n",
       "  </thead>\n",
       "  <tbody>\n",
       "    <tr>\n",
       "      <th>count</th>\n",
       "      <td>0.000000</td>\n",
       "      <td>0.000000</td>\n",
       "      <td>0.000000</td>\n",
       "      <td>0.000000</td>\n",
       "      <td>0.000000</td>\n",
       "      <td>0.000000</td>\n",
       "      <td>0.000000</td>\n",
       "      <td>0.000000</td>\n",
       "      <td>0.000000</td>\n",
       "      <td>0.000000</td>\n",
       "      <td>...</td>\n",
       "      <td>0.000000</td>\n",
       "      <td>0.000000e+00</td>\n",
       "      <td>0.000000</td>\n",
       "      <td>0.000000e+00</td>\n",
       "      <td>0.000000</td>\n",
       "      <td>0.000000e+00</td>\n",
       "      <td>0.000000</td>\n",
       "      <td>0.000000e+00</td>\n",
       "      <td>0.000000</td>\n",
       "      <td>0.000000e+00</td>\n",
       "    </tr>\n",
       "    <tr>\n",
       "      <th>mean</th>\n",
       "      <td>-0.168981</td>\n",
       "      <td>-0.175872</td>\n",
       "      <td>-0.171132</td>\n",
       "      <td>-0.053951</td>\n",
       "      <td>-0.156002</td>\n",
       "      <td>-0.159986</td>\n",
       "      <td>-0.145715</td>\n",
       "      <td>-0.157245</td>\n",
       "      <td>-0.057090</td>\n",
       "      <td>-0.155645</td>\n",
       "      <td>...</td>\n",
       "      <td>0.689226</td>\n",
       "      <td>1.047933e-02</td>\n",
       "      <td>0.090404</td>\n",
       "      <td>-2.955344e-05</td>\n",
       "      <td>0.685715</td>\n",
       "      <td>1.083786e-02</td>\n",
       "      <td>0.083086</td>\n",
       "      <td>-3.869883e-04</td>\n",
       "      <td>0.283161</td>\n",
       "      <td>3.075141e-03</td>\n",
       "    </tr>\n",
       "    <tr>\n",
       "      <th>std</th>\n",
       "      <td>-0.071157</td>\n",
       "      <td>-0.057754</td>\n",
       "      <td>-0.069301</td>\n",
       "      <td>-0.096889</td>\n",
       "      <td>-0.075688</td>\n",
       "      <td>-0.073896</td>\n",
       "      <td>-0.083205</td>\n",
       "      <td>-0.076995</td>\n",
       "      <td>-0.099908</td>\n",
       "      <td>-0.077464</td>\n",
       "      <td>...</td>\n",
       "      <td>-1.016395</td>\n",
       "      <td>1.030891e-02</td>\n",
       "      <td>-0.132565</td>\n",
       "      <td>2.640333e-06</td>\n",
       "      <td>-0.983508</td>\n",
       "      <td>1.643761e-02</td>\n",
       "      <td>-0.134043</td>\n",
       "      <td>-9.456590e-04</td>\n",
       "      <td>-0.792686</td>\n",
       "      <td>2.585223e-03</td>\n",
       "    </tr>\n",
       "    <tr>\n",
       "      <th>min</th>\n",
       "      <td>0.101268</td>\n",
       "      <td>0.016352</td>\n",
       "      <td>0.112178</td>\n",
       "      <td>0.138901</td>\n",
       "      <td>0.148858</td>\n",
       "      <td>0.127242</td>\n",
       "      <td>0.069223</td>\n",
       "      <td>0.137363</td>\n",
       "      <td>-0.019914</td>\n",
       "      <td>0.097984</td>\n",
       "      <td>...</td>\n",
       "      <td>6.429179</td>\n",
       "      <td>8.136803e-78</td>\n",
       "      <td>-0.598878</td>\n",
       "      <td>0.000000e+00</td>\n",
       "      <td>3.430165</td>\n",
       "      <td>8.328307e-73</td>\n",
       "      <td>1.105984</td>\n",
       "      <td>0.000000e+00</td>\n",
       "      <td>8.934025</td>\n",
       "      <td>5.307778e-71</td>\n",
       "    </tr>\n",
       "    <tr>\n",
       "      <th>25%</th>\n",
       "      <td>-0.132414</td>\n",
       "      <td>-0.178312</td>\n",
       "      <td>-0.139024</td>\n",
       "      <td>0.036760</td>\n",
       "      <td>-0.125535</td>\n",
       "      <td>-0.121047</td>\n",
       "      <td>-0.079925</td>\n",
       "      <td>-0.092788</td>\n",
       "      <td>0.032714</td>\n",
       "      <td>-0.093645</td>\n",
       "      <td>...</td>\n",
       "      <td>1.327119</td>\n",
       "      <td>3.493202e-16</td>\n",
       "      <td>0.190456</td>\n",
       "      <td>4.724342e-59</td>\n",
       "      <td>1.153544</td>\n",
       "      <td>1.650164e-17</td>\n",
       "      <td>0.123770</td>\n",
       "      <td>2.618605e-76</td>\n",
       "      <td>0.308443</td>\n",
       "      <td>4.864485e-24</td>\n",
       "    </tr>\n",
       "    <tr>\n",
       "      <th>50%</th>\n",
       "      <td>-0.219406</td>\n",
       "      <td>-0.240374</td>\n",
       "      <td>-0.220212</td>\n",
       "      <td>-0.054180</td>\n",
       "      <td>-0.215793</td>\n",
       "      <td>-0.224081</td>\n",
       "      <td>-0.174447</td>\n",
       "      <td>-0.184635</td>\n",
       "      <td>-0.009194</td>\n",
       "      <td>-0.179408</td>\n",
       "      <td>...</td>\n",
       "      <td>0.496819</td>\n",
       "      <td>3.420690e-07</td>\n",
       "      <td>0.072181</td>\n",
       "      <td>5.435127e-34</td>\n",
       "      <td>0.589230</td>\n",
       "      <td>1.956002e-07</td>\n",
       "      <td>0.055657</td>\n",
       "      <td>1.483637e-40</td>\n",
       "      <td>0.367050</td>\n",
       "      <td>4.500872e-11</td>\n",
       "    </tr>\n",
       "    <tr>\n",
       "      <th>75%</th>\n",
       "      <td>-0.233222</td>\n",
       "      <td>-0.225403</td>\n",
       "      <td>-0.236126</td>\n",
       "      <td>-0.121863</td>\n",
       "      <td>-0.232870</td>\n",
       "      <td>-0.233848</td>\n",
       "      <td>-0.238894</td>\n",
       "      <td>-0.240816</td>\n",
       "      <td>-0.087351</td>\n",
       "      <td>-0.244184</td>\n",
       "      <td>...</td>\n",
       "      <td>0.101467</td>\n",
       "      <td>1.321014e-02</td>\n",
       "      <td>-0.006135</td>\n",
       "      <td>1.324501e-19</td>\n",
       "      <td>-0.072159</td>\n",
       "      <td>6.511492e-03</td>\n",
       "      <td>-0.006704</td>\n",
       "      <td>3.933486e-23</td>\n",
       "      <td>-0.020339</td>\n",
       "      <td>6.125618e-04</td>\n",
       "    </tr>\n",
       "    <tr>\n",
       "      <th>max</th>\n",
       "      <td>-0.080519</td>\n",
       "      <td>-0.062942</td>\n",
       "      <td>-0.078068</td>\n",
       "      <td>-0.199971</td>\n",
       "      <td>-0.070302</td>\n",
       "      <td>-0.065024</td>\n",
       "      <td>-0.123710</td>\n",
       "      <td>-0.107285</td>\n",
       "      <td>-0.197491</td>\n",
       "      <td>-0.115777</td>\n",
       "      <td>...</td>\n",
       "      <td>-3.826249</td>\n",
       "      <td>-2.790248e-03</td>\n",
       "      <td>-0.769839</td>\n",
       "      <td>0.000000e+00</td>\n",
       "      <td>-5.807781</td>\n",
       "      <td>6.495550e-03</td>\n",
       "      <td>-0.074408</td>\n",
       "      <td>0.000000e+00</td>\n",
       "      <td>-1.048041</td>\n",
       "      <td>6.841004e-03</td>\n",
       "    </tr>\n",
       "  </tbody>\n",
       "</table>\n",
       "<p>8 rows × 29 columns</p>\n",
       "</div>"
      ],
      "text/plain": [
       "       CR-CL_corr  Even-Odd_corr  Co-Inco_corr  Out-In_corr  Left_corr  \\\n",
       "count    0.000000       0.000000      0.000000     0.000000   0.000000   \n",
       "mean    -0.168981      -0.175872     -0.171132    -0.053951  -0.156002   \n",
       "std     -0.071157      -0.057754     -0.069301    -0.096889  -0.075688   \n",
       "min      0.101268       0.016352      0.112178     0.138901   0.148858   \n",
       "25%     -0.132414      -0.178312     -0.139024     0.036760  -0.125535   \n",
       "50%     -0.219406      -0.240374     -0.220212    -0.054180  -0.215793   \n",
       "75%     -0.233222      -0.225403     -0.236126    -0.121863  -0.232870   \n",
       "max     -0.080519      -0.062942     -0.078068    -0.199971  -0.070302   \n",
       "\n",
       "       Right_corr  CoSw-IncoSw_corr  CR_bo-CL_bo-corr_m  CR_bo-CL_bo-corr_z  \\\n",
       "count    0.000000          0.000000            0.000000            0.000000   \n",
       "mean    -0.159986         -0.145715           -0.157245           -0.057090   \n",
       "std     -0.073896         -0.083205           -0.076995           -0.099908   \n",
       "min      0.127242          0.069223            0.137363           -0.019914   \n",
       "25%     -0.121047         -0.079925           -0.092788            0.032714   \n",
       "50%     -0.224081         -0.174447           -0.184635           -0.009194   \n",
       "75%     -0.233848         -0.238894           -0.240816           -0.087351   \n",
       "max     -0.065024         -0.123710           -0.107285           -0.197491   \n",
       "\n",
       "       Co_bo-Inco_bo-corr_m  ...  CR_bo-CL_bo-Even_bo-Odd_bo-corr_zt  \\\n",
       "count              0.000000  ...                            0.000000   \n",
       "mean              -0.155645  ...                            0.689226   \n",
       "std               -0.077464  ...                           -1.016395   \n",
       "min                0.097984  ...                            6.429179   \n",
       "25%               -0.093645  ...                            1.327119   \n",
       "50%               -0.179408  ...                            0.496819   \n",
       "75%               -0.244184  ...                            0.101467   \n",
       "max               -0.115777  ...                           -3.826249   \n",
       "\n",
       "       CR_bo-CL_bo-Even_bo-Odd_bo-corr_ztp  \\\n",
       "count                         0.000000e+00   \n",
       "mean                          1.047933e-02   \n",
       "std                           1.030891e-02   \n",
       "min                           8.136803e-78   \n",
       "25%                           3.493202e-16   \n",
       "50%                           3.420690e-07   \n",
       "75%                           1.321014e-02   \n",
       "max                          -2.790248e-03   \n",
       "\n",
       "       Co_bo-Inco_bo-Even_bo-Odd_bo-corr_zm  \\\n",
       "count                              0.000000   \n",
       "mean                               0.090404   \n",
       "std                               -0.132565   \n",
       "min                               -0.598878   \n",
       "25%                                0.190456   \n",
       "50%                                0.072181   \n",
       "75%                               -0.006135   \n",
       "max                               -0.769839   \n",
       "\n",
       "       Co_bo-Inco_bo-Even_bo-Odd_bo-corr_zp  \\\n",
       "count                          0.000000e+00   \n",
       "mean                          -2.955344e-05   \n",
       "std                            2.640333e-06   \n",
       "min                            0.000000e+00   \n",
       "25%                            4.724342e-59   \n",
       "50%                            5.435127e-34   \n",
       "75%                            1.324501e-19   \n",
       "max                            0.000000e+00   \n",
       "\n",
       "       Co_bo-Inco_bo-Even_bo-Odd_bo-corr_zt  \\\n",
       "count                              0.000000   \n",
       "mean                               0.685715   \n",
       "std                               -0.983508   \n",
       "min                                3.430165   \n",
       "25%                                1.153544   \n",
       "50%                                0.589230   \n",
       "75%                               -0.072159   \n",
       "max                               -5.807781   \n",
       "\n",
       "       Co_bo-Inco_bo-Even_bo-Odd_bo-corr_ztp  \\\n",
       "count                           0.000000e+00   \n",
       "mean                            1.083786e-02   \n",
       "std                             1.643761e-02   \n",
       "min                             8.328307e-73   \n",
       "25%                             1.650164e-17   \n",
       "50%                             1.956002e-07   \n",
       "75%                             6.511492e-03   \n",
       "max                             6.495550e-03   \n",
       "\n",
       "       Co_bi-Inco_bi-Even_bi-Odd_bi-corr_zm  \\\n",
       "count                              0.000000   \n",
       "mean                               0.083086   \n",
       "std                               -0.134043   \n",
       "min                                1.105984   \n",
       "25%                                0.123770   \n",
       "50%                                0.055657   \n",
       "75%                               -0.006704   \n",
       "max                               -0.074408   \n",
       "\n",
       "       Co_bi-Inco_bi-Even_bi-Odd_bi-corr_zp  \\\n",
       "count                          0.000000e+00   \n",
       "mean                          -3.869883e-04   \n",
       "std                           -9.456590e-04   \n",
       "min                            0.000000e+00   \n",
       "25%                            2.618605e-76   \n",
       "50%                            1.483637e-40   \n",
       "75%                            3.933486e-23   \n",
       "max                            0.000000e+00   \n",
       "\n",
       "       Co_bi-Inco_bi-Even_bi-Odd_bi-corr_zt  \\\n",
       "count                              0.000000   \n",
       "mean                               0.283161   \n",
       "std                               -0.792686   \n",
       "min                                8.934025   \n",
       "25%                                0.308443   \n",
       "50%                                0.367050   \n",
       "75%                               -0.020339   \n",
       "max                               -1.048041   \n",
       "\n",
       "       Co_bi-Inco_bi-Even_bi-Odd_bi-corr_ztp  \n",
       "count                           0.000000e+00  \n",
       "mean                            3.075141e-03  \n",
       "std                             2.585223e-03  \n",
       "min                             5.307778e-71  \n",
       "25%                             4.864485e-24  \n",
       "50%                             4.500872e-11  \n",
       "75%                             6.125618e-04  \n",
       "max                             6.841004e-03  \n",
       "\n",
       "[8 rows x 29 columns]"
      ]
     },
     "execution_count": 62,
     "metadata": {},
     "output_type": "execute_result"
    }
   ],
   "source": [
    "(zrc[0].describe()-zrc[1].describe())[corr_measures]"
   ]
  },
  {
   "cell_type": "code",
   "execution_count": 13,
   "id": "ad550875-d675-4029-8636-0dbdd9be6369",
   "metadata": {},
   "outputs": [
    {
     "data": {
      "application/vnd.jupyter.widget-view+json": {
       "model_id": "e60352a17c6d473783b39e546ad225a5",
       "version_major": 2,
       "version_minor": 0
      },
      "text/plain": [
       "interactive(children=(Dropdown(description='subject', options=('Li', 'Ne', 'Cl', 'Al', 'Ca', 'Mi'), value='Li'…"
      ]
     },
     "metadata": {},
     "output_type": "display_data"
    }
   ],
   "source": [
    "subject_widget = widgets.Dropdown(options=info.subjects)\n",
    "session_widget = widgets.Dropdown(options=info.sessions_by_subject[subject_widget.value])\n",
    "task_widget = widgets.Dropdown(options=['T3', 'OF'])\n",
    "\"\"\n",
    "def update_sessions(*args):\n",
    "    all_sessions = info.sessions_by_subject[subject_widget.value]\n",
    "    task_sessions = [session for session in all_sessions if task_widget.value in session]\n",
    "    session_widget.options = task_sessions\n",
    "\n",
    "def get_session(subject, task, session):\n",
    "    return ei.SubjectSessionInfo(subject, session)\n",
    "\n",
    "subject_widget.observe(update_sessions, names='value')\n",
    "task_widget.observe(update_sessions, names='value')\n",
    "o=widgets.interactive(get_session, subject=subject_widget, task=task_widget, session=session_widget)\n",
    "display(o)"
   ]
  },
  {
   "cell_type": "code",
   "execution_count": 42,
   "id": "508595d2-2e1e-4881-a57f-f5fcd7054879",
   "metadata": {},
   "outputs": [
    {
     "name": "stdout",
     "output_type": "stream",
     "text": [
      "\n",
      "Session Information for subject Ne, session NE_T3g_061218\n",
      "Number of curated units: 14\n",
      "Methods listed below can be executed with get_{method}(), eg. get_spikes():\n",
      "  -> track_data. Executed = True\n",
      "  -> spikes. Executed = True\n",
      "  -> binned_spikes. Executed = True\n",
      "  -> fr. Executed = True\n",
      "  -> pos_zones. Executed = True\n",
      "  -> event_table. Executed = True\n",
      "  -> trial_zone_rates. Executed = False\n",
      "  -> zone_rates_comps. Executed = True\n",
      "  -> zone_rates_remap. Executed = True\n",
      "  -> pop_zone_rates_remap. Executed = True\n",
      "  -> bal_conds_seg_rates. Executed = True\n",
      "  -> bal_conds_seg_boot_rates. Executed = nan\n",
      "  -> zone_encoder. Executed = True\n",
      "  -> zone_decoder. Executed = True\n",
      "\n",
      "To run all analyses use run_analyses().\n",
      "\n"
     ]
    }
   ],
   "source": [
    "session = session_widget.value\n",
    "session_info = o.result\n",
    "print(session_info)"
   ]
  },
  {
   "cell_type": "code",
   "execution_count": 40,
   "id": "490b9263-1c3c-4e75-81c5-fb74b1c430af",
   "metadata": {},
   "outputs": [],
   "source": [
    "r1 = session_info.get_zone_rates_remap()"
   ]
  },
  {
   "cell_type": "code",
   "execution_count": 41,
   "id": "f39498f6-9635-4f21-90b8-c144d3a1fe53",
   "metadata": {},
   "outputs": [
    {
     "data": {
      "text/plain": [
       "0    -1.294839\n",
       "1    -3.241607\n",
       "2    -0.318618\n",
       "3    -0.341375\n",
       "4     0.422427\n",
       "5    -1.491158\n",
       "6    -0.435803\n",
       "7    -1.291941\n",
       "8    -1.654557\n",
       "9     0.115094\n",
       "10    0.315392\n",
       "11   -0.441955\n",
       "12   -0.583545\n",
       "13   -1.564769\n",
       "14    0.178324\n",
       "15   -1.306168\n",
       "16   -1.321999\n",
       "17   -1.411239\n",
       "18   -1.349306\n",
       "19   -1.563319\n",
       "20   -1.962065\n",
       "21   -0.442950\n",
       "22   -0.573278\n",
       "23   -1.164492\n",
       "24    0.421323\n",
       "Name: CR_bo-CL_bo-Even_bo-Odd_bo-corr_zm, dtype: float64"
      ]
     },
     "execution_count": 41,
     "metadata": {},
     "output_type": "execute_result"
    }
   ],
   "source": [
    "r1[z_var]"
   ]
  },
  {
   "cell_type": "code",
   "execution_count": 42,
   "id": "5ad54fb0-840a-43f7-ba67-4492058bbb23",
   "metadata": {},
   "outputs": [],
   "source": [
    "r2=session_info.get_zone_rates_remap(**{'corr_method':'pearson'})"
   ]
  },
  {
   "cell_type": "code",
   "execution_count": 43,
   "id": "1cdddad8-cc1d-41d2-8d79-769f234d75a5",
   "metadata": {},
   "outputs": [
    {
     "data": {
      "text/plain": [
       "<matplotlib.collections.PathCollection at 0x7f82b9995190>"
      ]
     },
     "execution_count": 43,
     "metadata": {},
     "output_type": "execute_result"
    },
    {
     "data": {
      "image/png": "[encoded data removed]",
      "text/plain": [
       "<Figure size 432x288 with 1 Axes>"
      ]
     },
     "metadata": {
      "needs_background": "light"
     },
     "output_type": "display_data"
    }
   ],
   "source": [
    "plt.scatter(r1[z_var], r2[z_var])"
   ]
  },
  {
   "cell_type": "markdown",
   "id": "8d945270-be27-4831-bab5-8afd5dae2e01",
   "metadata": {},
   "source": [
    "### check method for correct parameters\n"
   ]
  },
  {
   "cell_type": "code",
   "execution_count": 43,
   "id": "e507ce4d-947e-4a61-aadd-a681eb5bfcac",
   "metadata": {},
   "outputs": [],
   "source": [
    "ei = reload(ei)\n",
    "info = ei.SummaryInfo()\n",
    "session_info = ei.SubjectSessionInfo(subject_widget.value, session_widget.value)"
   ]
  },
  {
   "cell_type": "code",
   "execution_count": 44,
   "id": "2d7d57dc-3709-4fe6-8bc0-bd87724a110f",
   "metadata": {
    "tags": []
   },
   "outputs": [
    {
     "name": "stdout",
     "output_type": "stream",
     "text": [
      "CPU times: user 5.02 ms, sys: 42 µs, total: 5.06 ms\n",
      "Wall time: 3.85 ms\n"
     ]
    }
   ],
   "source": [
    "%%time\n",
    "which = 'zone_rates_remap'\n",
    "overwrite = False\n",
    "params_1 = {'corr_method':'pearson'}\n",
    "session_info.run_analyses(which=which, overwrite=overwrite, **params_1)"
   ]
  },
  {
   "cell_type": "code",
   "execution_count": 45,
   "id": "18f9889d-0603-4fc7-82ee-7673de87e7e2",
   "metadata": {},
   "outputs": [
    {
     "name": "stdout",
     "output_type": "stream",
     "text": [
      "CPU times: user 1.13 ms, sys: 3.94 ms, total: 5.07 ms\n",
      "Wall time: 3.66 ms\n"
     ]
    }
   ],
   "source": [
    "%%time\n",
    "which = 'zone_rates_remap'\n",
    "overwrite = False\n",
    "params_2 = {'corr_method':'kendall'}\n",
    "session_info.run_analyses(which=which, overwrite=overwrite, **params_2)"
   ]
  },
  {
   "cell_type": "code",
   "execution_count": 46,
   "id": "7caf83cf-9dcc-4ccc-a4b3-9a0f535de7f0",
   "metadata": {},
   "outputs": [
    {
     "name": "stdout",
     "output_type": "stream",
     "text": [
      "CPU times: user 18.4 ms, sys: 0 ns, total: 18.4 ms\n",
      "Wall time: 15 ms\n"
     ]
    }
   ],
   "source": [
    "%%time\n",
    "r1=session_info.get_zone_rates_remap(**params_1)\n",
    "r2=session_info.get_zone_rates_remap(**params_2)"
   ]
  },
  {
   "cell_type": "code",
   "execution_count": 47,
   "id": "3abddbfc-f9fb-4fdc-bc22-f860dbcd6944",
   "metadata": {},
   "outputs": [
    {
     "data": {
      "text/plain": [
       "<AxesSubplot:>"
      ]
     },
     "execution_count": 47,
     "metadata": {},
     "output_type": "execute_result"
    },
    {
     "data": {
      "image/png": "[encoded data removed]",
      "text/plain": [
       "<Figure size 432x288 with 2 Axes>"
      ]
     },
     "metadata": {
      "needs_background": "light"
     },
     "output_type": "display_data"
    }
   ],
   "source": [
    "corr_measures = [c for c in zrc[0].columns if 'corr' in c]\n",
    "sns.heatmap((r1-r2)[corr_measures[:10]], robust=True, center=0)"
   ]
  },
  {
   "cell_type": "code",
   "execution_count": 48,
   "id": "90bea9f4-e165-402d-ae9a-b5c49c0b95b1",
   "metadata": {},
   "outputs": [
    {
     "data": {
      "text/plain": [
       "CR-CL_corr                               0.687972\n",
       "CR-CL_t_m                                0.999250\n",
       "CR-CL_t_var                              0.998782\n",
       "Even-Odd_corr                            0.903565\n",
       "Even-Odd_t_m                             0.994657\n",
       "Even-Odd_t_var                           0.995774\n",
       "Co-Inco_corr                             0.734895\n",
       "Co-Inco_t_m                              1.000000\n",
       "Co-Inco_t_var                            1.000000\n",
       "Out-In_corr                              0.823551\n",
       "Out-In_t_m                               0.999960\n",
       "Out-In_t_var                             0.999948\n",
       "Left_corr                                0.949824\n",
       "Left_t_m                                 1.000000\n",
       "Left_t_var                               1.000000\n",
       "Right_corr                               0.930515\n",
       "Right_t_m                                1.000000\n",
       "Right_t_var                              1.000000\n",
       "CoSw-IncoSw_corr                         0.854518\n",
       "CoSw-IncoSw_t_m                          1.000000\n",
       "CoSw-IncoSw_t_var                        1.000000\n",
       "CR_bo-CL_bo-corr_m                       0.790004\n",
       "CR_bo-CL_bo-corr_z                       0.764833\n",
       "Co_bo-Inco_bo-corr_m                     0.770134\n",
       "Co_bo-Inco_bo-corr_z                     0.748525\n",
       "Co_bi-Inco_bi-corr_m                     0.884627\n",
       "Co_bi-Inco_bi-corr_z                     0.717484\n",
       "Even_bo-Odd_bo-corr_m                    0.887023\n",
       "Even_bo-Odd_bo-corr_z                    0.856923\n",
       "Even_bi-Odd_bi-corr_m                    0.872216\n",
       "Even_bi-Odd_bi-corr_z                    0.629545\n",
       "CR_bo-CL_bo-Even_bo-Odd_bo-corr_zm       0.951149\n",
       "CR_bo-CL_bo-Even_bo-Odd_bo-corr_zp       0.998862\n",
       "CR_bo-CL_bo-Even_bo-Odd_bo-corr_zt       0.912588\n",
       "CR_bo-CL_bo-Even_bo-Odd_bo-corr_ztp      0.998054\n",
       "Co_bo-Inco_bo-Even_bo-Odd_bo-corr_zm     0.967457\n",
       "Co_bo-Inco_bo-Even_bo-Odd_bo-corr_zp     1.000000\n",
       "Co_bo-Inco_bo-Even_bo-Odd_bo-corr_zt     0.924160\n",
       "Co_bo-Inco_bo-Even_bo-Odd_bo-corr_ztp    0.999598\n",
       "Co_bi-Inco_bi-Even_bi-Odd_bi-corr_zm     0.922405\n",
       "Co_bi-Inco_bi-Even_bi-Odd_bi-corr_zp    -0.082687\n",
       "Co_bi-Inco_bi-Even_bi-Odd_bi-corr_zt     0.818709\n",
       "Co_bi-Inco_bi-Even_bi-Odd_bi-corr_ztp   -0.076941\n",
       "dtype: float64"
      ]
     },
     "execution_count": 48,
     "metadata": {},
     "output_type": "execute_result"
    }
   ],
   "source": [
    "r1.corrwith(r2)"
   ]
  },
  {
   "cell_type": "code",
   "execution_count": 49,
   "id": "9742024e-b3ec-420d-bc05-7c50e945d80b",
   "metadata": {},
   "outputs": [
    {
     "data": {
      "application/vnd.jupyter.widget-view+json": {
       "model_id": "eae4ee54996446328ddba26d6cb17546",
       "version_major": 2,
       "version_minor": 0
      },
      "text/plain": [
       "interactive(children=(Dropdown(description='var', options=('CR-CL_corr', 'CR-CL_t_m', 'CR-CL_t_var', 'Even-Odd…"
      ]
     },
     "metadata": {},
     "output_type": "display_data"
    }
   ],
   "source": [
    "remap_measures = zrc[0].columns[10:]\n",
    "# test_vars = [metric for metric in remap_measures if (('corr' in metric) & (len(metric.split('-'))<=3))]\n",
    "\n",
    "@interact\n",
    "def plot_correlation_relationships(var=remap_measures):\n",
    "    print(f\"Column idx = {np.where(remap_measures==var)[0][0]}\")\n",
    "    plt.scatter(r1[var], r2[var])\n",
    "    plt.xlabel('pearson')\n",
    "    plt.ylabel('kendall')"
   ]
  },
  {
   "cell_type": "code",
   "execution_count": 129,
   "id": "2cfb1b83-3618-4d0f-b95d-1515dd7e87f2",
   "metadata": {},
   "outputs": [],
   "source": [
    "tmf = reload(tmf)\n",
    "ta = tmf.TrialAnalyses(session_info)"
   ]
  },
  {
   "cell_type": "code",
   "execution_count": 137,
   "id": "317fa0d5-bbe8-4725-aa44-a8da44675971",
   "metadata": {},
   "outputs": [
    {
     "data": {
      "text/plain": [
       "[<matplotlib.lines.Line2D at 0x7f82b8c25220>]"
      ]
     },
     "execution_count": 137,
     "metadata": {},
     "output_type": "execute_result"
    },
    {
     "data": {
      "image/png": "[encoded data removed]",
      "text/plain": [
       "<Figure size 432x288 with 1 Axes>"
      ]
     },
     "metadata": {
      "needs_background": "light"
     },
     "output_type": "display_data"
    }
   ],
   "source": [
    "r1 = ta.zone_rate_maps_corr(cond1='CR', cond2='CL', corr_method='pearson')\n",
    "r2 = ta.zone_rate_maps_corr(cond1='CR', cond2='CL', )\n",
    "plt.scatter(r1,r2)\n",
    "plt.plot([0,1],[0,1])"
   ]
  },
  {
   "cell_type": "code",
   "execution_count": null,
   "id": "5c917d66-4e11-48d1-b6a9-e5164c6ef770",
   "metadata": {
    "collapsed": true,
    "jupyter": {
     "outputs_hidden": true
    },
    "tags": []
   },
   "outputs": [
    {
     "name": "stdout",
     "output_type": "stream",
     "text": [
      "Error on parallel step.\n",
      "Traceback (most recent call last):\n",
      "  File \"/home/alexgonzalez/anaconda3/envs/tm_analyses/lib/python3.9/site-packages/joblib/parallel.py\", line 935, in retrieve\n",
      "    self._output.extend(job.get(timeout=self.timeout))\n",
      "  File \"/home/alexgonzalez/anaconda3/envs/tm_analyses/lib/python3.9/site-packages/joblib/_parallel_backends.py\", line 542, in wrap_future_result\n",
      "    return future.result(timeout=timeout)\n",
      "  File \"/home/alexgonzalez/anaconda3/envs/tm_analyses/lib/python3.9/concurrent/futures/_base.py\", line 440, in result\n",
      "    self._condition.wait(timeout)\n",
      "  File \"/home/alexgonzalez/anaconda3/envs/tm_analyses/lib/python3.9/threading.py\", line 312, in wait\n",
      "    waiter.acquire()\n",
      "KeyboardInterrupt\n",
      "\n",
      "During handling of the above exception, another exception occurred:\n",
      "\n",
      "Traceback (most recent call last):\n",
      "  File \"/home/alexgonzalez/Documents/TreeMazeAnalyses2/Analyses/tree_maze_functions.py\", line 2812, in zone_rate_maps_bal_conds_boot_corr\n",
      "    corr = parallel(delayed(_worker)(boot) for boot in range(n_boot))\n",
      "  File \"/home/alexgonzalez/anaconda3/envs/tm_analyses/lib/python3.9/site-packages/joblib/parallel.py\", line 1056, in __call__\n",
      "    self.retrieve()\n",
      "  File \"/home/alexgonzalez/anaconda3/envs/tm_analyses/lib/python3.9/site-packages/joblib/parallel.py\", line 957, in retrieve\n",
      "    backend.abort_everything(ensure_ready=ensure_ready)\n",
      "  File \"/home/alexgonzalez/anaconda3/envs/tm_analyses/lib/python3.9/site-packages/joblib/_parallel_backends.py\", line 561, in abort_everything\n",
      "    self._workers.terminate(kill_workers=True)\n",
      "  File \"/home/alexgonzalez/anaconda3/envs/tm_analyses/lib/python3.9/site-packages/joblib/executor.py\", line 74, in terminate\n",
      "    self.shutdown(kill_workers=kill_workers)\n",
      "  File \"/home/alexgonzalez/anaconda3/envs/tm_analyses/lib/python3.9/site-packages/joblib/externals/loky/process_executor.py\", line 1185, in shutdown\n",
      "    executor_manager_thread.join()\n",
      "  File \"/home/alexgonzalez/anaconda3/envs/tm_analyses/lib/python3.9/threading.py\", line 1053, in join\n",
      "    self._wait_for_tstate_lock()\n",
      "  File \"/home/alexgonzalez/anaconda3/envs/tm_analyses/lib/python3.9/threading.py\", line 1069, in _wait_for_tstate_lock\n",
      "    elif lock.acquire(block, timeout):\n",
      "KeyboardInterrupt\n",
      "Error on parallel step.\n",
      "Traceback (most recent call last):\n",
      "  File \"/home/alexgonzalez/Documents/TreeMazeAnalyses2/Analyses/tree_maze_functions.py\", line 2812, in zone_rate_maps_bal_conds_boot_corr\n",
      "    corr = parallel(delayed(_worker)(boot) for boot in range(n_boot))\n",
      "  File \"/home/alexgonzalez/anaconda3/envs/tm_analyses/lib/python3.9/site-packages/joblib/parallel.py\", line 1043, in __call__\n",
      "    if self.dispatch_one_batch(iterator):\n",
      "  File \"/home/alexgonzalez/anaconda3/envs/tm_analyses/lib/python3.9/site-packages/joblib/parallel.py\", line 861, in dispatch_one_batch\n",
      "    self._dispatch(tasks)\n",
      "  File \"/home/alexgonzalez/anaconda3/envs/tm_analyses/lib/python3.9/site-packages/joblib/parallel.py\", line 779, in _dispatch\n",
      "    job = self._backend.apply_async(batch, callback=cb)\n",
      "  File \"/home/alexgonzalez/anaconda3/envs/tm_analyses/lib/python3.9/site-packages/joblib/_parallel_backends.py\", line 531, in apply_async\n",
      "    future = self._workers.submit(SafeFunction(func))\n",
      "  File \"/home/alexgonzalez/anaconda3/envs/tm_analyses/lib/python3.9/site-packages/joblib/externals/loky/reusable_executor.py\", line 177, in submit\n",
      "    return super(_ReusablePoolExecutor, self).submit(\n",
      "  File \"/home/alexgonzalez/anaconda3/envs/tm_analyses/lib/python3.9/site-packages/joblib/externals/loky/process_executor.py\", line 1117, in submit\n",
      "    raise ShutdownExecutorError(\n",
      "joblib.externals.loky.process_executor.ShutdownExecutorError: cannot schedule new futures after shutdown\n",
      "Keyboard Interrupt\n",
      ".Keyboard Interrupt\n",
      ".Keyboard Interrupt\n",
      ".Keyboard Interrupt\n",
      ".Keyboard Interrupt\n",
      ".Keyboard Interrupt\n",
      ".Keyboard Interrupt\n",
      ".Keyboard Interrupt\n",
      ".Keyboard Interrupt\n",
      "."
     ]
    },
    {
     "name": "stderr",
     "output_type": "stream",
     "text": [
      "Exception ignored in: <function BaseGeometry.__del__ at 0x7f82bf3a78b0>\n",
      "Traceback (most recent call last):\n",
      "  File \"/home/alexgonzalez/anaconda3/envs/tm_analyses/lib/python3.9/site-packages/shapely/geometry/base.py\", line 241, in __del__\n",
      "    def __del__(self):\n",
      "KeyboardInterrupt: \n"
     ]
    },
    {
     "name": "stdout",
     "output_type": "stream",
     "text": [
      "Keyboard Interrupt\n",
      "..Keyboard Interrupt\n",
      ".Keyboard Interrupt\n",
      ".Keyboard Interrupt\n",
      ".Keyboard Interrupt\n",
      ".Keyboard Interrupt\n",
      ".Keyboard Interrupt\n",
      ".Keyboard Interrupt\n",
      ".Keyboard Interrupt\n",
      ".Keyboard Interrupt\n",
      ".Keyboard Interrupt\n",
      ".Keyboard Interrupt\n",
      "."
     ]
    },
    {
     "name": "stderr",
     "output_type": "stream",
     "text": [
      "Exception in thread ExecutorManagerThread:\n",
      "Traceback (most recent call last):\n",
      "  File \"/home/alexgonzalez/anaconda3/envs/tm_analyses/lib/python3.9/threading.py\", line 973, in _bootstrap_inner\n",
      "    self.run()\n",
      "  File \"/home/alexgonzalez/anaconda3/envs/tm_analyses/lib/python3.9/site-packages/joblib/externals/loky/process_executor.py\", line 575, in run\n",
      "    self.flag_executor_shutting_down()\n",
      "  File \"/home/alexgonzalez/anaconda3/envs/tm_analyses/lib/python3.9/site-packages/joblib/externals/loky/process_executor.py\", line 770, in flag_executor_shutting_down\n",
      "    self.kill_workers(reason=\"executor shutting down\")\n",
      "  File \"/home/alexgonzalez/anaconda3/envs/tm_analyses/lib/python3.9/site-packages/joblib/externals/loky/process_executor.py\", line 781, in kill_workers\n",
      "    recursive_terminate(p)\n",
      "  File \"/home/alexgonzalez/anaconda3/envs/tm_analyses/lib/python3.9/site-packages/joblib/externals/loky/backend/utils.py\", line 28, in recursive_terminate\n",
      "    _recursive_terminate_without_psutil(process)\n",
      "  File \"/home/alexgonzalez/anaconda3/envs/tm_analyses/lib/python3.9/site-packages/joblib/externals/loky/backend/utils.py\", line 53, in _recursive_terminate_without_psutil\n",
      "    _recursive_terminate(process.pid)\n",
      "  File \"/home/alexgonzalez/anaconda3/envs/tm_analyses/lib/python3.9/site-packages/joblib/externals/loky/backend/utils.py\", line 92, in _recursive_terminate\n",
      "    children_pids = subprocess.check_output(\n",
      "  File \"/home/alexgonzalez/anaconda3/envs/tm_analyses/lib/python3.9/subprocess.py\", line 424, in check_output\n",
      "    return run(*popenargs, stdout=PIPE, timeout=timeout, check=True,\n",
      "  File \"/home/alexgonzalez/anaconda3/envs/tm_analyses/lib/python3.9/subprocess.py\", line 528, in run\n",
      "    raise CalledProcessError(retcode, process.args,\n",
      "subprocess.CalledProcessError: Command '['pgrep', '-P', '5355']' died with <Signals.SIGINT: 2>.\n"
     ]
    },
    {
     "name": "stdout",
     "output_type": "stream",
     "text": [
      "Error on parallel step.\n",
      "Traceback (most recent call last):\n",
      "  File \"/home/alexgonzalez/anaconda3/envs/tm_analyses/lib/python3.9/site-packages/joblib/parallel.py\", line 935, in retrieve\n",
      "    self._output.extend(job.get(timeout=self.timeout))\n",
      "  File \"/home/alexgonzalez/anaconda3/envs/tm_analyses/lib/python3.9/site-packages/joblib/_parallel_backends.py\", line 542, in wrap_future_result\n",
      "    return future.result(timeout=timeout)\n",
      "  File \"/home/alexgonzalez/anaconda3/envs/tm_analyses/lib/python3.9/concurrent/futures/_base.py\", line 440, in result\n",
      "    self._condition.wait(timeout)\n",
      "  File \"/home/alexgonzalez/anaconda3/envs/tm_analyses/lib/python3.9/threading.py\", line 312, in wait\n",
      "    waiter.acquire()\n",
      "KeyboardInterrupt\n",
      "\n",
      "During handling of the above exception, another exception occurred:\n",
      "\n",
      "Traceback (most recent call last):\n",
      "  File \"/home/alexgonzalez/Documents/TreeMazeAnalyses2/Analyses/tree_maze_functions.py\", line 2812, in zone_rate_maps_bal_conds_boot_corr\n",
      "    corr = parallel(delayed(_worker)(boot) for boot in range(n_boot))\n",
      "  File \"/home/alexgonzalez/anaconda3/envs/tm_analyses/lib/python3.9/site-packages/joblib/parallel.py\", line 1056, in __call__\n",
      "    self.retrieve()\n",
      "  File \"/home/alexgonzalez/anaconda3/envs/tm_analyses/lib/python3.9/site-packages/joblib/parallel.py\", line 957, in retrieve\n",
      "    backend.abort_everything(ensure_ready=ensure_ready)\n",
      "  File \"/home/alexgonzalez/anaconda3/envs/tm_analyses/lib/python3.9/site-packages/joblib/_parallel_backends.py\", line 561, in abort_everything\n",
      "    self._workers.terminate(kill_workers=True)\n",
      "  File \"/home/alexgonzalez/anaconda3/envs/tm_analyses/lib/python3.9/site-packages/joblib/executor.py\", line 74, in terminate\n",
      "    self.shutdown(kill_workers=kill_workers)\n",
      "  File \"/home/alexgonzalez/anaconda3/envs/tm_analyses/lib/python3.9/site-packages/joblib/externals/loky/process_executor.py\", line 1185, in shutdown\n",
      "    executor_manager_thread.join()\n",
      "  File \"/home/alexgonzalez/anaconda3/envs/tm_analyses/lib/python3.9/threading.py\", line 1053, in join\n",
      "    self._wait_for_tstate_lock()\n",
      "  File \"/home/alexgonzalez/anaconda3/envs/tm_analyses/lib/python3.9/threading.py\", line 1069, in _wait_for_tstate_lock\n",
      "    elif lock.acquire(block, timeout):\n",
      "KeyboardInterrupt\n",
      "Error on parallel step.\n",
      "Traceback (most recent call last):\n",
      "  File \"/home/alexgonzalez/Documents/TreeMazeAnalyses2/Analyses/tree_maze_functions.py\", line 2812, in zone_rate_maps_bal_conds_boot_corr\n",
      "    corr = parallel(delayed(_worker)(boot) for boot in range(n_boot))\n",
      "  File \"/home/alexgonzalez/anaconda3/envs/tm_analyses/lib/python3.9/site-packages/joblib/parallel.py\", line 1043, in __call__\n",
      "    if self.dispatch_one_batch(iterator):\n",
      "  File \"/home/alexgonzalez/anaconda3/envs/tm_analyses/lib/python3.9/site-packages/joblib/parallel.py\", line 861, in dispatch_one_batch\n",
      "    self._dispatch(tasks)\n",
      "  File \"/home/alexgonzalez/anaconda3/envs/tm_analyses/lib/python3.9/site-packages/joblib/parallel.py\", line 779, in _dispatch\n",
      "    job = self._backend.apply_async(batch, callback=cb)\n",
      "  File \"/home/alexgonzalez/anaconda3/envs/tm_analyses/lib/python3.9/site-packages/joblib/_parallel_backends.py\", line 531, in apply_async\n",
      "    future = self._workers.submit(SafeFunction(func))\n",
      "  File \"/home/alexgonzalez/anaconda3/envs/tm_analyses/lib/python3.9/site-packages/joblib/externals/loky/reusable_executor.py\", line 177, in submit\n",
      "    return super(_ReusablePoolExecutor, self).submit(\n",
      "  File \"/home/alexgonzalez/anaconda3/envs/tm_analyses/lib/python3.9/site-packages/joblib/externals/loky/process_executor.py\", line 1117, in submit\n",
      "    raise ShutdownExecutorError(\n",
      "joblib.externals.loky.process_executor.ShutdownExecutorError: cannot schedule new futures after shutdown\n",
      "Error on parallel step.\n",
      "Traceback (most recent call last):\n",
      "  File \"/home/alexgonzalez/Documents/TreeMazeAnalyses2/Analyses/tree_maze_functions.py\", line 2812, in zone_rate_maps_bal_conds_boot_corr\n",
      "    corr = parallel(delayed(_worker)(boot) for boot in range(n_boot))\n",
      "  File \"/home/alexgonzalez/anaconda3/envs/tm_analyses/lib/python3.9/site-packages/joblib/parallel.py\", line 1043, in __call__\n",
      "    if self.dispatch_one_batch(iterator):\n",
      "  File \"/home/alexgonzalez/anaconda3/envs/tm_analyses/lib/python3.9/site-packages/joblib/parallel.py\", line 861, in dispatch_one_batch\n",
      "    self._dispatch(tasks)\n",
      "  File \"/home/alexgonzalez/anaconda3/envs/tm_analyses/lib/python3.9/site-packages/joblib/parallel.py\", line 779, in _dispatch\n",
      "    job = self._backend.apply_async(batch, callback=cb)\n",
      "  File \"/home/alexgonzalez/anaconda3/envs/tm_analyses/lib/python3.9/site-packages/joblib/_parallel_backends.py\", line 531, in apply_async\n",
      "    future = self._workers.submit(SafeFunction(func))\n",
      "  File \"/home/alexgonzalez/anaconda3/envs/tm_analyses/lib/python3.9/site-packages/joblib/externals/loky/reusable_executor.py\", line 177, in submit\n",
      "    return super(_ReusablePoolExecutor, self).submit(\n",
      "  File \"/home/alexgonzalez/anaconda3/envs/tm_analyses/lib/python3.9/site-packages/joblib/externals/loky/process_executor.py\", line 1117, in submit\n",
      "    raise ShutdownExecutorError(\n",
      "joblib.externals.loky.process_executor.ShutdownExecutorError: cannot schedule new futures after shutdown\n",
      "Error on parallel step.\n",
      "Traceback (most recent call last):\n",
      "  File \"/home/alexgonzalez/Documents/TreeMazeAnalyses2/Analyses/tree_maze_functions.py\", line 2812, in zone_rate_maps_bal_conds_boot_corr\n",
      "    corr = parallel(delayed(_worker)(boot) for boot in range(n_boot))\n",
      "  File \"/home/alexgonzalez/anaconda3/envs/tm_analyses/lib/python3.9/site-packages/joblib/parallel.py\", line 1043, in __call__\n",
      "    if self.dispatch_one_batch(iterator):\n",
      "  File \"/home/alexgonzalez/anaconda3/envs/tm_analyses/lib/python3.9/site-packages/joblib/parallel.py\", line 861, in dispatch_one_batch\n",
      "    self._dispatch(tasks)\n",
      "  File \"/home/alexgonzalez/anaconda3/envs/tm_analyses/lib/python3.9/site-packages/joblib/parallel.py\", line 779, in _dispatch\n",
      "    job = self._backend.apply_async(batch, callback=cb)\n",
      "  File \"/home/alexgonzalez/anaconda3/envs/tm_analyses/lib/python3.9/site-packages/joblib/_parallel_backends.py\", line 531, in apply_async\n",
      "    future = self._workers.submit(SafeFunction(func))\n",
      "  File \"/home/alexgonzalez/anaconda3/envs/tm_analyses/lib/python3.9/site-packages/joblib/externals/loky/reusable_executor.py\", line 177, in submit\n",
      "    return super(_ReusablePoolExecutor, self).submit(\n",
      "  File \"/home/alexgonzalez/anaconda3/envs/tm_analyses/lib/python3.9/site-packages/joblib/externals/loky/process_executor.py\", line 1117, in submit\n",
      "    raise ShutdownExecutorError(\n",
      "joblib.externals.loky.process_executor.ShutdownExecutorError: cannot schedule new futures after shutdown\n",
      "Error on parallel step.\n",
      "Traceback (most recent call last):\n",
      "  File \"/home/alexgonzalez/Documents/TreeMazeAnalyses2/Analyses/tree_maze_functions.py\", line 2812, in zone_rate_maps_bal_conds_boot_corr\n",
      "    corr = parallel(delayed(_worker)(boot) for boot in range(n_boot))\n",
      "  File \"/home/alexgonzalez/anaconda3/envs/tm_analyses/lib/python3.9/site-packages/joblib/parallel.py\", line 1043, in __call__\n",
      "    if self.dispatch_one_batch(iterator):\n",
      "  File \"/home/alexgonzalez/anaconda3/envs/tm_analyses/lib/python3.9/site-packages/joblib/parallel.py\", line 861, in dispatch_one_batch\n",
      "    self._dispatch(tasks)\n",
      "  File \"/home/alexgonzalez/anaconda3/envs/tm_analyses/lib/python3.9/site-packages/joblib/parallel.py\", line 779, in _dispatch\n",
      "    job = self._backend.apply_async(batch, callback=cb)\n",
      "  File \"/home/alexgonzalez/anaconda3/envs/tm_analyses/lib/python3.9/site-packages/joblib/_parallel_backends.py\", line 531, in apply_async\n",
      "    future = self._workers.submit(SafeFunction(func))\n",
      "  File \"/home/alexgonzalez/anaconda3/envs/tm_analyses/lib/python3.9/site-packages/joblib/externals/loky/reusable_executor.py\", line 177, in submit\n",
      "    return super(_ReusablePoolExecutor, self).submit(\n",
      "  File \"/home/alexgonzalez/anaconda3/envs/tm_analyses/lib/python3.9/site-packages/joblib/externals/loky/process_executor.py\", line 1117, in submit\n",
      "    raise ShutdownExecutorError(\n",
      "joblib.externals.loky.process_executor.ShutdownExecutorError: cannot schedule new futures after shutdown\n",
      "Keyboard Interrupt\n",
      "..Keyboard Interrupt\n",
      ".Keyboard Interrupt\n",
      ".Keyboard Interrupt\n",
      "...Error on parallel step.\n",
      "Traceback (most recent call last):\n",
      "  File \"/home/alexgonzalez/Documents/TreeMazeAnalyses2/Analyses/tree_maze_functions.py\", line 2812, in zone_rate_maps_bal_conds_boot_corr\n",
      "    corr = parallel(delayed(_worker)(boot) for boot in range(n_boot))\n",
      "  File \"/home/alexgonzalez/anaconda3/envs/tm_analyses/lib/python3.9/site-packages/joblib/parallel.py\", line 1056, in __call__\n",
      "    self.retrieve()\n",
      "  File \"/home/alexgonzalez/anaconda3/envs/tm_analyses/lib/python3.9/site-packages/joblib/parallel.py\", line 935, in retrieve\n",
      "    self._output.extend(job.get(timeout=self.timeout))\n",
      "  File \"/home/alexgonzalez/anaconda3/envs/tm_analyses/lib/python3.9/site-packages/joblib/_parallel_backends.py\", line 542, in wrap_future_result\n",
      "    return future.result(timeout=timeout)\n",
      "  File \"/home/alexgonzalez/anaconda3/envs/tm_analyses/lib/python3.9/concurrent/futures/_base.py\", line 440, in result\n",
      "    self._condition.wait(timeout)\n",
      "  File \"/home/alexgonzalez/anaconda3/envs/tm_analyses/lib/python3.9/threading.py\", line 312, in wait\n",
      "    waiter.acquire()\n",
      "KeyboardInterrupt\n",
      "Error on parallel step.\n",
      "Traceback (most recent call last):\n",
      "  File \"/home/alexgonzalez/anaconda3/envs/tm_analyses/lib/python3.9/site-packages/joblib/parallel.py\", line 935, in retrieve\n",
      "    self._output.extend(job.get(timeout=self.timeout))\n",
      "  File \"/home/alexgonzalez/anaconda3/envs/tm_analyses/lib/python3.9/site-packages/joblib/_parallel_backends.py\", line 542, in wrap_future_result\n",
      "    return future.result(timeout=timeout)\n",
      "  File \"/home/alexgonzalez/anaconda3/envs/tm_analyses/lib/python3.9/concurrent/futures/_base.py\", line 440, in result\n",
      "    self._condition.wait(timeout)\n",
      "  File \"/home/alexgonzalez/anaconda3/envs/tm_analyses/lib/python3.9/threading.py\", line 312, in wait\n",
      "    waiter.acquire()\n",
      "KeyboardInterrupt\n",
      "\n",
      "During handling of the above exception, another exception occurred:\n",
      "\n",
      "Traceback (most recent call last):\n",
      "  File \"/home/alexgonzalez/Documents/TreeMazeAnalyses2/Analyses/tree_maze_functions.py\", line 2812, in zone_rate_maps_bal_conds_boot_corr\n",
      "    corr = parallel(delayed(_worker)(boot) for boot in range(n_boot))\n",
      "  File \"/home/alexgonzalez/anaconda3/envs/tm_analyses/lib/python3.9/site-packages/joblib/parallel.py\", line 1056, in __call__\n",
      "    self.retrieve()\n",
      "  File \"/home/alexgonzalez/anaconda3/envs/tm_analyses/lib/python3.9/site-packages/joblib/parallel.py\", line 957, in retrieve\n",
      "    backend.abort_everything(ensure_ready=ensure_ready)\n",
      "  File \"/home/alexgonzalez/anaconda3/envs/tm_analyses/lib/python3.9/site-packages/joblib/_parallel_backends.py\", line 561, in abort_everything\n",
      "    self._workers.terminate(kill_workers=True)\n",
      "  File \"/home/alexgonzalez/anaconda3/envs/tm_analyses/lib/python3.9/site-packages/joblib/executor.py\", line 74, in terminate\n",
      "    self.shutdown(kill_workers=kill_workers)\n",
      "  File \"/home/alexgonzalez/anaconda3/envs/tm_analyses/lib/python3.9/site-packages/joblib/externals/loky/process_executor.py\", line 1185, in shutdown\n",
      "    executor_manager_thread.join()\n",
      "  File \"/home/alexgonzalez/anaconda3/envs/tm_analyses/lib/python3.9/threading.py\", line 1053, in join\n",
      "    self._wait_for_tstate_lock()\n",
      "  File \"/home/alexgonzalez/anaconda3/envs/tm_analyses/lib/python3.9/threading.py\", line 1069, in _wait_for_tstate_lock\n",
      "    elif lock.acquire(block, timeout):\n",
      "KeyboardInterrupt\n",
      "Keyboard Interrupt\n",
      ".Keyboard Interrupt\n",
      ".Keyboard Interrupt\n",
      ".Keyboard Interrupt\n",
      "."
     ]
    }
   ],
   "source": [
    "%%time\n",
    "params = {\"corr_method\": \"pearson\"}\n",
    "overwrite=True\n",
    "info.run_analyses(which='zone_rates_remap', task='T3', verbose=False, overwrite=overwrite, **params)"
   ]
  },
  {
   "cell_type": "code",
   "execution_count": 1,
   "id": "bac6776f-0a58-410b-9d4d-e94b69010789",
   "metadata": {},
   "outputs": [
    {
     "data": {
      "text/plain": [
       "2"
      ]
     },
     "execution_count": 1,
     "metadata": {},
     "output_type": "execute_result"
    }
   ],
   "source": [
    "2"
   ]
  }
 ],
 "metadata": {
  "kernelspec": {
   "display_name": "Python 3 (ipykernel)",
   "language": "python",
   "name": "python3"
  },
  "language_info": {
   "codemirror_mode": {
    "name": "ipython",
    "version": 3
   },
   "file_extension": ".py",
   "mimetype": "text/x-python",
   "name": "python",
   "nbconvert_exporter": "python",
   "pygments_lexer": "ipython3",
   "version": "3.9.7"
  },
  "widgets": {
   "application/vnd.jupyter.widget-state+json": {
    "state": {},
    "version_major": 2,
    "version_minor": 0
   }
  }
 },
 "nbformat": 4,
 "nbformat_minor": 5
}
