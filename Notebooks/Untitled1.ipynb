{
 "cells": [
  {
   "cell_type": "code",
   "execution_count": 1,
   "metadata": {},
   "outputs": [],
   "source": [
    "import ipywidgets as widgets\n",
    "from ipywidgets import interact, fixed, interact_manual\n",
    "from ipywidgets import IntSlider, Output\n",
    "import asyncio\n"
   ]
  },
  {
   "cell_type": "code",
   "execution_count": 2,
   "metadata": {},
   "outputs": [],
   "source": [
    "%gui asyncio"
   ]
  },
  {
   "cell_type": "code",
   "execution_count": 3,
   "metadata": {},
   "outputs": [],
   "source": [
    "def wait_for_change(widget, value):\n",
    "    future = asyncio.Future()\n",
    "    def getvalue(change):\n",
    "        # make the new value available\n",
    "        future.set_result(change.new)\n",
    "        widget.unobserve(getvalue, value)\n",
    "    widget.observe(getvalue, value)\n",
    "    return future"
   ]
  },
  {
   "cell_type": "code",
   "execution_count": 5,
   "metadata": {},
   "outputs": [
    {
     "data": {
      "application/vnd.jupyter.widget-view+json": {
       "model_id": "0268cc58f52a4be294756aee75366c44",
       "version_major": 2,
       "version_minor": 0
      },
      "text/plain": [
       "IntSlider(value=0)"
      ]
     },
     "metadata": {},
     "output_type": "display_data"
    }
   ],
   "source": [
    "slider = IntSlider()\n",
    "out = Output()\n",
    "\n",
    "async def f():\n",
    "    for i in range(10):\n",
    "        out.append_stdout('did work ' + str(i) + '\\n')\n",
    "        x = await wait_for_change(slider, 'value')\n",
    "        out.append_stdout('async function continued with value ' + str(x) + '\\n')\n",
    "asyncio.ensure_future(f())\n",
    "\n",
    "slider"
   ]
  },
  {
   "cell_type": "code",
   "execution_count": 12,
   "metadata": {},
   "outputs": [
    {
     "data": {
      "application/vnd.jupyter.widget-view+json": {
       "model_id": "162be8a8079a42aab0c6268c4ea543c5",
       "version_major": 2,
       "version_minor": 0
      },
      "text/plain": [
       "Label(value='The values of slider1 and slider2 are synchronized')"
      ]
     },
     "metadata": {},
     "output_type": "display_data"
    },
    {
     "data": {
      "application/vnd.jupyter.widget-view+json": {
       "model_id": "fea66fbdec484cd7a66021d729040970",
       "version_major": 2,
       "version_minor": 0
      },
      "text/plain": [
       "IntSlider(value=0, description='Slider 1')"
      ]
     },
     "metadata": {},
     "output_type": "display_data"
    },
    {
     "data": {
      "application/vnd.jupyter.widget-view+json": {
       "model_id": "313d3c7f409f451e8220bb992abb5609",
       "version_major": 2,
       "version_minor": 0
      },
      "text/plain": [
       "IntSlider(value=0, description='Slider 2')"
      ]
     },
     "metadata": {},
     "output_type": "display_data"
    }
   ],
   "source": [
    "caption = widgets.Label(value='The values of slider1 and slider2 are synchronized')\n",
    "sliders1, slider2 = widgets.IntSlider(description='Slider 1'),\\\n",
    "                    widgets.IntSlider(description='Slider 2')\n",
    "l = widgets.link((sliders1, 'value'), (slider2, 'value'))\n",
    "display(caption, sliders1, slider2)"
   ]
  },
  {
   "cell_type": "code",
   "execution_count": 27,
   "metadata": {},
   "outputs": [
    {
     "data": {
      "application/vnd.jupyter.widget-view+json": {
       "model_id": "83bbe8ce54bb4cb7b81d3f748776c992",
       "version_major": 2,
       "version_minor": 0
      },
      "text/plain": [
       "Dropdown(description='analysis_num', options=(0, 1, 2, 3, 4, 5, 6, 7, 8, 9), value=0)"
      ]
     },
     "metadata": {},
     "output_type": "display_data"
    },
    {
     "data": {
      "application/vnd.jupyter.widget-view+json": {
       "model_id": "24e8a6d280b64935b6b859da9d46d518",
       "version_major": 2,
       "version_minor": 0
      },
      "text/plain": [
       "Dropdown(description='set_num', options=(0, 1), value=0)"
      ]
     },
     "metadata": {},
     "output_type": "display_data"
    }
   ],
   "source": [
    "xval = widgets.Dropdown(description='analysis_num', options=range(10), value=0)\n",
    "yval = widgets.Dropdown(description='set_num', options=range(2))\n",
    "\n",
    "def on_value_change(change):\n",
    "    yval.options = range(change.new*2)\n",
    "    \n",
    "xval.observe(on_value_change, names='value')\n",
    "    \n",
    "display(xval,yval)"
   ]
  },
  {
   "cell_type": "code",
   "execution_count": 21,
   "metadata": {},
   "outputs": [
    {
     "data": {
      "application/vnd.jupyter.widget-view+json": {
       "model_id": "a22cd4c152f64bd0bef0cc8672957f34",
       "version_major": 2,
       "version_minor": 0
      },
      "text/plain": [
       "Label(value='The values of range1 and range2 are synchronized')"
      ]
     },
     "metadata": {},
     "output_type": "display_data"
    },
    {
     "data": {
      "application/vnd.jupyter.widget-view+json": {
       "model_id": "5d4add484e7b42efabcb72c4bd86bc97",
       "version_major": 2,
       "version_minor": 0
      },
      "text/plain": [
       "IntSlider(value=1, description='Slider', max=5, min=-5)"
      ]
     },
     "metadata": {},
     "output_type": "display_data"
    }
   ],
   "source": [
    "caption = widgets.Label(value='The values of range1 and range2 are synchronized')\n",
    "slider = widgets.IntSlider(min=-5, max=5, value=1, description='Slider')\n",
    "\n",
    "def handle_slider_change(change):\n",
    "    caption.value = 'The slider value is ' + (\n",
    "        'negative' if change.new < 0 else 'nonnegative'\n",
    "    )\n",
    "\n",
    "slider.observe(handle_slider_change, names='value')\n",
    "\n",
    "display(caption, slider)"
   ]
  }
 ],
 "metadata": {
  "kernelspec": {
   "display_name": "Python 3",
   "language": "python",
   "name": "python3"
  },
  "language_info": {
   "codemirror_mode": {
    "name": "ipython",
    "version": 3
   },
   "file_extension": ".py",
   "mimetype": "text/x-python",
   "name": "python",
   "nbconvert_exporter": "python",
   "pygments_lexer": "ipython3",
   "version": "3.7.0"
  },
  "widgets": {
   "application/vnd.jupyter.widget-state+json": {
    "state": {
     "0268cc58f52a4be294756aee75366c44": {
      "model_module": "@jupyter-widgets/controls",
      "model_module_version": "1.5.0",
      "model_name": "IntSliderModel",
      "state": {
       "layout": "IPY_MODEL_645833c63cdd4d97a1702787dd934847",
       "style": "IPY_MODEL_ee7993a7cca4410b82f75c48ebb680f3",
       "value": 49
      }
     },
     "04677ec587d34d1db67effc0a98abb6a": {
      "model_module": "@jupyter-widgets/controls",
      "model_module_version": "1.5.0",
      "model_name": "DropdownModel",
      "state": {
       "_options_labels": [
        "0",
        "1",
        "2",
        "3",
        "4",
        "5",
        "6",
        "7",
        "8",
        "9"
       ],
       "description": "analysis_num",
       "index": 8,
       "layout": "IPY_MODEL_d979625dea094e5ba5487e3ea4f5f1d5",
       "style": "IPY_MODEL_660fb74a99594e8ca5f2c6499b01169a"
      }
     },
     "06c03591556a42e39a427de334db1143": {
      "model_module": "@jupyter-widgets/controls",
      "model_module_version": "1.5.0",
      "model_name": "DescriptionStyleModel",
      "state": {
       "description_width": ""
      }
     },
     "081e2d8179334b5f9913484f3bbe1cae": {
      "model_module": "@jupyter-widgets/base",
      "model_module_version": "1.2.0",
      "model_name": "LayoutModel",
      "state": {}
     },
     "12eccc8b271b4f03accf664f8f84a20b": {
      "model_module": "@jupyter-widgets/base",
      "model_module_version": "1.2.0",
      "model_name": "LayoutModel",
      "state": {}
     },
     "162be8a8079a42aab0c6268c4ea543c5": {
      "model_module": "@jupyter-widgets/controls",
      "model_module_version": "1.5.0",
      "model_name": "LabelModel",
      "state": {
       "layout": "IPY_MODEL_998f5d9e3db94ffa942ea6cc833eb3dc",
       "style": "IPY_MODEL_5857af534f764edfbf838ebbbe7ca167",
       "value": "The values of slider1 and slider2 are synchronized"
      }
     },
     "16cb2ab39a3146bcaf168013c9c33631": {
      "model_module": "@jupyter-widgets/controls",
      "model_module_version": "1.5.0",
      "model_name": "SliderStyleModel",
      "state": {
       "description_width": ""
      }
     },
     "1ab7f2c3488e40529f2ec104ff8cb673": {
      "model_module": "@jupyter-widgets/base",
      "model_module_version": "1.2.0",
      "model_name": "LayoutModel",
      "state": {}
     },
     "1aeb3c679cde4c8cb4c35d1523be8d07": {
      "model_module": "@jupyter-widgets/base",
      "model_module_version": "1.2.0",
      "model_name": "LayoutModel",
      "state": {}
     },
     "1af8e64681b242c69148293217525f2a": {
      "model_module": "@jupyter-widgets/controls",
      "model_module_version": "1.5.0",
      "model_name": "DropdownModel",
      "state": {
       "_options_labels": [
        "0",
        "1",
        "2",
        "3",
        "4",
        "5"
       ],
       "description": "set_num",
       "index": 0,
       "layout": "IPY_MODEL_898a9203cde2464e8496bb23e5638e0a",
       "style": "IPY_MODEL_f72a395693864eb0b5b43539f890496e"
      }
     },
     "1e59b4a23f8c44e1a6e154ff6c090082": {
      "model_module": "@jupyter-widgets/base",
      "model_module_version": "1.2.0",
      "model_name": "LayoutModel",
      "state": {}
     },
     "1f70eb6db3c34b48a7c9bb32bfeb1e38": {
      "model_module": "@jupyter-widgets/base",
      "model_module_version": "1.2.0",
      "model_name": "LayoutModel",
      "state": {}
     },
     "1fc1d8b9f6224bd48fb32222f778a0b3": {
      "model_module": "@jupyter-widgets/base",
      "model_module_version": "1.2.0",
      "model_name": "LayoutModel",
      "state": {}
     },
     "2126de092a5d4a7e86f51ec24ad54647": {
      "model_module": "@jupyter-widgets/controls",
      "model_module_version": "1.5.0",
      "model_name": "DropdownModel",
      "state": {
       "index": null,
       "layout": "IPY_MODEL_1aeb3c679cde4c8cb4c35d1523be8d07",
       "style": "IPY_MODEL_9f7b95aa94ca4037bf416842eeeb5c2d"
      }
     },
     "22d8c3e01fa34ec3bf73b52293d1d29e": {
      "model_module": "@jupyter-widgets/controls",
      "model_module_version": "1.5.0",
      "model_name": "IntSliderModel",
      "state": {
       "layout": "IPY_MODEL_fc040cca7d7c4041b1b277b6ad4622dd",
       "style": "IPY_MODEL_57c98ae8847246b899e97daef5b50dea",
       "value": 40
      }
     },
     "24395b8b588742e2bfe9447d6306a589": {
      "model_module": "@jupyter-widgets/output",
      "model_module_version": "1.0.0",
      "model_name": "OutputModel",
      "state": {
       "layout": "IPY_MODEL_081e2d8179334b5f9913484f3bbe1cae",
       "outputs": [
        {
         "name": "stdout",
         "output_type": "stream",
         "text": "6\n"
        }
       ]
      }
     },
     "24e8a6d280b64935b6b859da9d46d518": {
      "model_module": "@jupyter-widgets/controls",
      "model_module_version": "1.5.0",
      "model_name": "DropdownModel",
      "state": {
       "_options_labels": [
        "0",
        "1",
        "2",
        "3",
        "4",
        "5",
        "6",
        "7",
        "8",
        "9",
        "10",
        "11"
       ],
       "description": "set_num",
       "index": 10,
       "layout": "IPY_MODEL_12eccc8b271b4f03accf664f8f84a20b",
       "style": "IPY_MODEL_772d2bee73f54026a6242e6d89aac544"
      }
     },
     "313d3c7f409f451e8220bb992abb5609": {
      "model_module": "@jupyter-widgets/controls",
      "model_module_version": "1.5.0",
      "model_name": "IntSliderModel",
      "state": {
       "description": "Slider 2",
       "layout": "IPY_MODEL_b55370e15f4d42cc909e8e53a547c6b3",
       "style": "IPY_MODEL_16cb2ab39a3146bcaf168013c9c33631"
      }
     },
     "383225d193e24e999aaf7e102fcd3a93": {
      "model_module": "@jupyter-widgets/base",
      "model_module_version": "1.2.0",
      "model_name": "LayoutModel",
      "state": {}
     },
     "3a06312d0d5f4f20b481bc191d867e0b": {
      "model_module": "@jupyter-widgets/controls",
      "model_module_version": "1.5.0",
      "model_name": "DropdownModel",
      "state": {
       "description": "set_num",
       "index": null,
       "layout": "IPY_MODEL_1fc1d8b9f6224bd48fb32222f778a0b3",
       "style": "IPY_MODEL_06c03591556a42e39a427de334db1143"
      }
     },
     "449b17b738ea4d00a3e0ccd4f06828b2": {
      "model_module": "@jupyter-widgets/base",
      "model_module_version": "1.2.0",
      "model_name": "LayoutModel",
      "state": {}
     },
     "478ffa5123d3464ab5c67a7ddc456766": {
      "model_module": "@jupyter-widgets/controls",
      "model_module_version": "1.5.0",
      "model_name": "SliderStyleModel",
      "state": {
       "description_width": ""
      }
     },
     "4bff829af9484715ac91a6322e77ef01": {
      "model_module": "@jupyter-widgets/base",
      "model_module_version": "1.2.0",
      "model_name": "LayoutModel",
      "state": {}
     },
     "57c98ae8847246b899e97daef5b50dea": {
      "model_module": "@jupyter-widgets/controls",
      "model_module_version": "1.5.0",
      "model_name": "SliderStyleModel",
      "state": {
       "description_width": ""
      }
     },
     "5857af534f764edfbf838ebbbe7ca167": {
      "model_module": "@jupyter-widgets/controls",
      "model_module_version": "1.5.0",
      "model_name": "DescriptionStyleModel",
      "state": {
       "description_width": ""
      }
     },
     "5861867205b345f78ac7118ec90ca8ea": {
      "model_module": "@jupyter-widgets/base",
      "model_module_version": "1.2.0",
      "model_name": "LayoutModel",
      "state": {}
     },
     "5d4add484e7b42efabcb72c4bd86bc97": {
      "model_module": "@jupyter-widgets/controls",
      "model_module_version": "1.5.0",
      "model_name": "IntSliderModel",
      "state": {
       "description": "Slider",
       "layout": "IPY_MODEL_7933f47e6a894eb5b54285d33318fdce",
       "max": 5,
       "min": -5,
       "style": "IPY_MODEL_86bd192331854850a41eff8fd0605d0a",
       "value": 1
      }
     },
     "5fe1e7614ed44cfbb2051247b69e9b6a": {
      "model_module": "@jupyter-widgets/output",
      "model_module_version": "1.0.0",
      "model_name": "OutputModel",
      "state": {
       "layout": "IPY_MODEL_b0d2c601d5a445b99b362494e9ee2f30"
      }
     },
     "62cd247d064943088293605a7a4b324b": {
      "model_module": "@jupyter-widgets/controls",
      "model_module_version": "1.5.0",
      "model_name": "DropdownModel",
      "state": {
       "_options_labels": [
        "0",
        "1",
        "2",
        "3",
        "4",
        "5",
        "6",
        "7",
        "8",
        "9"
       ],
       "description": "analysis_num",
       "index": 1,
       "layout": "IPY_MODEL_df2a51d96d4d48aba9b47c5c20c75dcf",
       "style": "IPY_MODEL_d7e1ca41655e48d6aeb21ec6bd61e58d"
      }
     },
     "645833c63cdd4d97a1702787dd934847": {
      "model_module": "@jupyter-widgets/base",
      "model_module_version": "1.2.0",
      "model_name": "LayoutModel",
      "state": {}
     },
     "660fb74a99594e8ca5f2c6499b01169a": {
      "model_module": "@jupyter-widgets/controls",
      "model_module_version": "1.5.0",
      "model_name": "DescriptionStyleModel",
      "state": {
       "description_width": ""
      }
     },
     "6bb46e4a49434ff3b91023ff9453f397": {
      "model_module": "@jupyter-widgets/controls",
      "model_module_version": "1.5.0",
      "model_name": "DropdownModel",
      "state": {
       "_options_labels": [
        "0",
        "1",
        "2",
        "3",
        "4",
        "5",
        "6",
        "7",
        "8",
        "9"
       ],
       "index": 6,
       "layout": "IPY_MODEL_1ab7f2c3488e40529f2ec104ff8cb673",
       "style": "IPY_MODEL_e4094b0041714f4eae8baa219f7262bf"
      }
     },
     "772d2bee73f54026a6242e6d89aac544": {
      "model_module": "@jupyter-widgets/controls",
      "model_module_version": "1.5.0",
      "model_name": "DescriptionStyleModel",
      "state": {
       "description_width": ""
      }
     },
     "7933f47e6a894eb5b54285d33318fdce": {
      "model_module": "@jupyter-widgets/base",
      "model_module_version": "1.2.0",
      "model_name": "LayoutModel",
      "state": {}
     },
     "7935f193d3344537a9eb7f07274a2a68": {
      "model_module": "@jupyter-widgets/controls",
      "model_module_version": "1.5.0",
      "model_name": "DescriptionStyleModel",
      "state": {
       "description_width": ""
      }
     },
     "80d034fb80f94dd39dd4272424f9ec2e": {
      "model_module": "@jupyter-widgets/output",
      "model_module_version": "1.0.0",
      "model_name": "OutputModel",
      "state": {
       "layout": "IPY_MODEL_f1f149e45ae54e1392e3bc660d02992a",
       "outputs": [
        {
         "name": "stdout",
         "output_type": "stream",
         "text": "did work 0\n"
        },
        {
         "name": "stdout",
         "output_type": "stream",
         "text": "async function continued with value 1\n"
        },
        {
         "name": "stdout",
         "output_type": "stream",
         "text": "did work 1\n"
        },
        {
         "name": "stdout",
         "output_type": "stream",
         "text": "async function continued with value 2\n"
        },
        {
         "name": "stdout",
         "output_type": "stream",
         "text": "did work 2\n"
        },
        {
         "name": "stdout",
         "output_type": "stream",
         "text": "async function continued with value 5\n"
        },
        {
         "name": "stdout",
         "output_type": "stream",
         "text": "did work 3\n"
        },
        {
         "name": "stdout",
         "output_type": "stream",
         "text": "async function continued with value 6\n"
        },
        {
         "name": "stdout",
         "output_type": "stream",
         "text": "did work 4\n"
        },
        {
         "name": "stdout",
         "output_type": "stream",
         "text": "async function continued with value 7\n"
        },
        {
         "name": "stdout",
         "output_type": "stream",
         "text": "did work 5\n"
        },
        {
         "name": "stdout",
         "output_type": "stream",
         "text": "async function continued with value 8\n"
        },
        {
         "name": "stdout",
         "output_type": "stream",
         "text": "did work 6\n"
        },
        {
         "name": "stdout",
         "output_type": "stream",
         "text": "async function continued with value 9\n"
        },
        {
         "name": "stdout",
         "output_type": "stream",
         "text": "did work 7\n"
        },
        {
         "name": "stdout",
         "output_type": "stream",
         "text": "async function continued with value 10\n"
        },
        {
         "name": "stdout",
         "output_type": "stream",
         "text": "did work 8\n"
        },
        {
         "name": "stdout",
         "output_type": "stream",
         "text": "async function continued with value 11\n"
        },
        {
         "name": "stdout",
         "output_type": "stream",
         "text": "did work 9\n"
        },
        {
         "name": "stdout",
         "output_type": "stream",
         "text": "async function continued with value 12\n"
        }
       ]
      }
     },
     "83bbe8ce54bb4cb7b81d3f748776c992": {
      "model_module": "@jupyter-widgets/controls",
      "model_module_version": "1.5.0",
      "model_name": "DropdownModel",
      "state": {
       "_options_labels": [
        "0",
        "1",
        "2",
        "3",
        "4",
        "5",
        "6",
        "7",
        "8",
        "9"
       ],
       "description": "analysis_num",
       "index": 6,
       "layout": "IPY_MODEL_d3d247ede903443492aba6861e48dc54",
       "style": "IPY_MODEL_c737615e86f146fcbf628211b4209475"
      }
     },
     "86bd192331854850a41eff8fd0605d0a": {
      "model_module": "@jupyter-widgets/controls",
      "model_module_version": "1.5.0",
      "model_name": "SliderStyleModel",
      "state": {
       "description_width": ""
      }
     },
     "898a9203cde2464e8496bb23e5638e0a": {
      "model_module": "@jupyter-widgets/base",
      "model_module_version": "1.2.0",
      "model_name": "LayoutModel",
      "state": {}
     },
     "8a541cfd4415494ca9d3f697615cfbcc": {
      "model_module": "@jupyter-widgets/controls",
      "model_module_version": "1.5.0",
      "model_name": "DescriptionStyleModel",
      "state": {
       "description_width": ""
      }
     },
     "96ca3230f3bc41ec817c0ad53b2f4dc2": {
      "model_module": "@jupyter-widgets/controls",
      "model_module_version": "1.5.0",
      "model_name": "DescriptionStyleModel",
      "state": {
       "description_width": ""
      }
     },
     "974be843126249ad9ee9e5cc36e584ae": {
      "model_module": "@jupyter-widgets/controls",
      "model_module_version": "1.5.0",
      "model_name": "DropdownModel",
      "state": {
       "_options_labels": [
        "0",
        "1",
        "2",
        "3",
        "4",
        "5",
        "6",
        "7",
        "8",
        "9"
       ],
       "description": "analysis_num",
       "index": 3,
       "layout": "IPY_MODEL_faa8b5bc002e4a90969e5c4130797bbe",
       "style": "IPY_MODEL_b61cf0f4587d495b908fb3c6ba82b8cf"
      }
     },
     "998f5d9e3db94ffa942ea6cc833eb3dc": {
      "model_module": "@jupyter-widgets/base",
      "model_module_version": "1.2.0",
      "model_name": "LayoutModel",
      "state": {}
     },
     "9f7b95aa94ca4037bf416842eeeb5c2d": {
      "model_module": "@jupyter-widgets/controls",
      "model_module_version": "1.5.0",
      "model_name": "DescriptionStyleModel",
      "state": {
       "description_width": ""
      }
     },
     "a22cd4c152f64bd0bef0cc8672957f34": {
      "model_module": "@jupyter-widgets/controls",
      "model_module_version": "1.5.0",
      "model_name": "LabelModel",
      "state": {
       "layout": "IPY_MODEL_e480b0a6bb8f4dccb8a6eb64abc394b2",
       "style": "IPY_MODEL_96ca3230f3bc41ec817c0ad53b2f4dc2",
       "value": "The slider value is nonnegative"
      }
     },
     "a33cbd3c0a4b497b8c794ce11e669db9": {
      "model_module": "@jupyter-widgets/base",
      "model_module_version": "1.2.0",
      "model_name": "LayoutModel",
      "state": {}
     },
     "b06a50a865484e089e5f62302068d923": {
      "model_module": "@jupyter-widgets/controls",
      "model_module_version": "1.5.0",
      "model_name": "DropdownModel",
      "state": {
       "_options_labels": [
        "0",
        "1",
        "2",
        "3",
        "4",
        "5",
        "6",
        "7",
        "8",
        "9"
       ],
       "description": "analysis_num",
       "index": 3,
       "layout": "IPY_MODEL_1e59b4a23f8c44e1a6e154ff6c090082",
       "style": "IPY_MODEL_b3d4a0afeb5d427fb7344cd3d11572c3"
      }
     },
     "b0d2c601d5a445b99b362494e9ee2f30": {
      "model_module": "@jupyter-widgets/base",
      "model_module_version": "1.2.0",
      "model_name": "LayoutModel",
      "state": {}
     },
     "b3d4a0afeb5d427fb7344cd3d11572c3": {
      "model_module": "@jupyter-widgets/controls",
      "model_module_version": "1.5.0",
      "model_name": "DescriptionStyleModel",
      "state": {
       "description_width": ""
      }
     },
     "b55370e15f4d42cc909e8e53a547c6b3": {
      "model_module": "@jupyter-widgets/base",
      "model_module_version": "1.2.0",
      "model_name": "LayoutModel",
      "state": {}
     },
     "b61cf0f4587d495b908fb3c6ba82b8cf": {
      "model_module": "@jupyter-widgets/controls",
      "model_module_version": "1.5.0",
      "model_name": "DescriptionStyleModel",
      "state": {
       "description_width": ""
      }
     },
     "c23ead05008043c3b7b48ed70238aa1a": {
      "model_module": "@jupyter-widgets/controls",
      "model_module_version": "1.5.0",
      "model_name": "DropdownModel",
      "state": {
       "description": "set_num",
       "index": null,
       "layout": "IPY_MODEL_449b17b738ea4d00a3e0ccd4f06828b2",
       "style": "IPY_MODEL_d4c2c951e95e4654bcb48e9fd26237a8"
      }
     },
     "c737615e86f146fcbf628211b4209475": {
      "model_module": "@jupyter-widgets/controls",
      "model_module_version": "1.5.0",
      "model_name": "DescriptionStyleModel",
      "state": {
       "description_width": ""
      }
     },
     "cdede0934a2b43febaf77c6683fe2b68": {
      "model_module": "@jupyter-widgets/base",
      "model_module_version": "1.2.0",
      "model_name": "LayoutModel",
      "state": {}
     },
     "d116704b386a44da92a7dfe64d1a8f76": {
      "model_module": "@jupyter-widgets/controls",
      "model_module_version": "1.5.0",
      "model_name": "IntSliderModel",
      "state": {
       "layout": "IPY_MODEL_383225d193e24e999aaf7e102fcd3a93",
       "style": "IPY_MODEL_478ffa5123d3464ab5c67a7ddc456766",
       "value": 51
      }
     },
     "d2bd32f4337443f1a7c548335d080d24": {
      "model_module": "@jupyter-widgets/controls",
      "model_module_version": "1.5.0",
      "model_name": "DropdownModel",
      "state": {
       "_options_labels": [
        "0",
        "1",
        "2",
        "3",
        "4",
        "5",
        "6",
        "7",
        "8",
        "9"
       ],
       "description": "analysis_num",
       "index": 0,
       "layout": "IPY_MODEL_4bff829af9484715ac91a6322e77ef01",
       "style": "IPY_MODEL_d5bc592897cf49a1bf815a5e22b3c51b"
      }
     },
     "d3d247ede903443492aba6861e48dc54": {
      "model_module": "@jupyter-widgets/base",
      "model_module_version": "1.2.0",
      "model_name": "LayoutModel",
      "state": {}
     },
     "d4c2c951e95e4654bcb48e9fd26237a8": {
      "model_module": "@jupyter-widgets/controls",
      "model_module_version": "1.5.0",
      "model_name": "DescriptionStyleModel",
      "state": {
       "description_width": ""
      }
     },
     "d5325b8bfa5c47d7b635dfacacefde86": {
      "model_module": "@jupyter-widgets/output",
      "model_module_version": "1.0.0",
      "model_name": "OutputModel",
      "state": {
       "layout": "IPY_MODEL_fb9a39a429f04568ac57a4eca5af6291",
       "outputs": [
        {
         "name": "stdout",
         "output_type": "stream",
         "text": "1\n2\n3\n4\n5\n7\n8\n9\n10\n11\n12\n13\n14\n15\n16\n17\n18\n28\n37\n40\n44\n50\n51\n"
        }
       ]
      }
     },
     "d5bc592897cf49a1bf815a5e22b3c51b": {
      "model_module": "@jupyter-widgets/controls",
      "model_module_version": "1.5.0",
      "model_name": "DescriptionStyleModel",
      "state": {
       "description_width": ""
      }
     },
     "d7e1ca41655e48d6aeb21ec6bd61e58d": {
      "model_module": "@jupyter-widgets/controls",
      "model_module_version": "1.5.0",
      "model_name": "DescriptionStyleModel",
      "state": {
       "description_width": ""
      }
     },
     "d979625dea094e5ba5487e3ea4f5f1d5": {
      "model_module": "@jupyter-widgets/base",
      "model_module_version": "1.2.0",
      "model_name": "LayoutModel",
      "state": {}
     },
     "dee2ecd290af4afd884138f9ba5c407d": {
      "model_module": "@jupyter-widgets/output",
      "model_module_version": "1.0.0",
      "model_name": "OutputModel",
      "state": {
       "layout": "IPY_MODEL_1f70eb6db3c34b48a7c9bb32bfeb1e38",
       "outputs": [
        {
         "name": "stdout",
         "output_type": "stream",
         "text": "did work 0\n"
        },
        {
         "name": "stdout",
         "output_type": "stream",
         "text": "async function continued with value 1\n"
        },
        {
         "name": "stdout",
         "output_type": "stream",
         "text": "did work 1\n"
        },
        {
         "name": "stdout",
         "output_type": "stream",
         "text": "async function continued with value 2\n"
        },
        {
         "name": "stdout",
         "output_type": "stream",
         "text": "did work 2\n"
        },
        {
         "name": "stdout",
         "output_type": "stream",
         "text": "async function continued with value 3\n"
        },
        {
         "name": "stdout",
         "output_type": "stream",
         "text": "did work 3\n"
        },
        {
         "name": "stdout",
         "output_type": "stream",
         "text": "async function continued with value 5\n"
        },
        {
         "name": "stdout",
         "output_type": "stream",
         "text": "did work 4\n"
        },
        {
         "name": "stdout",
         "output_type": "stream",
         "text": "async function continued with value 6\n"
        },
        {
         "name": "stdout",
         "output_type": "stream",
         "text": "did work 5\n"
        },
        {
         "name": "stdout",
         "output_type": "stream",
         "text": "async function continued with value 7\n"
        },
        {
         "name": "stdout",
         "output_type": "stream",
         "text": "did work 6\n"
        },
        {
         "name": "stdout",
         "output_type": "stream",
         "text": "async function continued with value 8\n"
        },
        {
         "name": "stdout",
         "output_type": "stream",
         "text": "did work 7\n"
        },
        {
         "name": "stdout",
         "output_type": "stream",
         "text": "async function continued with value 9\n"
        },
        {
         "name": "stdout",
         "output_type": "stream",
         "text": "did work 8\n"
        },
        {
         "name": "stdout",
         "output_type": "stream",
         "text": "async function continued with value 10\n"
        },
        {
         "name": "stdout",
         "output_type": "stream",
         "text": "did work 9\n"
        },
        {
         "name": "stdout",
         "output_type": "stream",
         "text": "async function continued with value 12\n"
        }
       ]
      }
     },
     "df2a51d96d4d48aba9b47c5c20c75dcf": {
      "model_module": "@jupyter-widgets/base",
      "model_module_version": "1.2.0",
      "model_name": "LayoutModel",
      "state": {}
     },
     "e4094b0041714f4eae8baa219f7262bf": {
      "model_module": "@jupyter-widgets/controls",
      "model_module_version": "1.5.0",
      "model_name": "DescriptionStyleModel",
      "state": {
       "description_width": ""
      }
     },
     "e480b0a6bb8f4dccb8a6eb64abc394b2": {
      "model_module": "@jupyter-widgets/base",
      "model_module_version": "1.2.0",
      "model_name": "LayoutModel",
      "state": {}
     },
     "ee4cefbd4ecd4143bfcd83f12e1b7345": {
      "model_module": "@jupyter-widgets/controls",
      "model_module_version": "1.5.0",
      "model_name": "DropdownModel",
      "state": {
       "description": "set_num",
       "index": null,
       "layout": "IPY_MODEL_5861867205b345f78ac7118ec90ca8ea",
       "style": "IPY_MODEL_8a541cfd4415494ca9d3f697615cfbcc"
      }
     },
     "ee7993a7cca4410b82f75c48ebb680f3": {
      "model_module": "@jupyter-widgets/controls",
      "model_module_version": "1.5.0",
      "model_name": "SliderStyleModel",
      "state": {
       "description_width": ""
      }
     },
     "f1f149e45ae54e1392e3bc660d02992a": {
      "model_module": "@jupyter-widgets/base",
      "model_module_version": "1.2.0",
      "model_name": "LayoutModel",
      "state": {}
     },
     "f1f7dc6121b44189a4b7d78fb0f478c8": {
      "model_module": "@jupyter-widgets/controls",
      "model_module_version": "1.5.0",
      "model_name": "DropdownModel",
      "state": {
       "description": "set_num",
       "index": null,
       "layout": "IPY_MODEL_a33cbd3c0a4b497b8c794ce11e669db9",
       "style": "IPY_MODEL_7935f193d3344537a9eb7f07274a2a68"
      }
     },
     "f72a395693864eb0b5b43539f890496e": {
      "model_module": "@jupyter-widgets/controls",
      "model_module_version": "1.5.0",
      "model_name": "DescriptionStyleModel",
      "state": {
       "description_width": ""
      }
     },
     "f8e6dc61f2904c88b35eda2c23bf1e85": {
      "model_module": "@jupyter-widgets/controls",
      "model_module_version": "1.5.0",
      "model_name": "SliderStyleModel",
      "state": {
       "description_width": ""
      }
     },
     "faa8b5bc002e4a90969e5c4130797bbe": {
      "model_module": "@jupyter-widgets/base",
      "model_module_version": "1.2.0",
      "model_name": "LayoutModel",
      "state": {}
     },
     "fb9a39a429f04568ac57a4eca5af6291": {
      "model_module": "@jupyter-widgets/base",
      "model_module_version": "1.2.0",
      "model_name": "LayoutModel",
      "state": {}
     },
     "fc040cca7d7c4041b1b277b6ad4622dd": {
      "model_module": "@jupyter-widgets/base",
      "model_module_version": "1.2.0",
      "model_name": "LayoutModel",
      "state": {}
     },
     "fea66fbdec484cd7a66021d729040970": {
      "model_module": "@jupyter-widgets/controls",
      "model_module_version": "1.5.0",
      "model_name": "IntSliderModel",
      "state": {
       "description": "Slider 1",
       "layout": "IPY_MODEL_cdede0934a2b43febaf77c6683fe2b68",
       "style": "IPY_MODEL_f8e6dc61f2904c88b35eda2c23bf1e85"
      }
     }
    },
    "version_major": 2,
    "version_minor": 0
   }
  }
 },
 "nbformat": 4,
 "nbformat_minor": 4
}
