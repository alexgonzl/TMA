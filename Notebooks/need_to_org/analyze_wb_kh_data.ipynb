{
 "cells": [
  {
   "cell_type": "code",
   "execution_count": 1,
   "metadata": {},
   "outputs": [],
   "source": [
    "%matplotlib inline\n",
    "\n",
    "from pathlib import Path\n",
    "import h5py\n",
    "from types import SimpleNamespace\n",
    "from joblib import delayed, Parallel\n",
    "\n",
    "import numpy as np\n",
    "import pandas as pd\n",
    "from scipy import signal\n",
    "pd.set_option('display.max_rows', 30)\n",
    "\n",
    "import matplotlib.pyplot as plt\n",
    "import seaborn as sns\n",
    "sns.set(style='whitegrid', palette='muted')\n",
    "\n",
    "## added TreeMazeanalyses folder using the following command\n",
    "## conda develop /home/alexgonzalez/Documents/TreeMazeAnalyses2\n",
    "import TreeMazeAnalyses2.Utils.robust_stats as rs\n",
    "\n",
    "from TreeMazeAnalyses2.Analyses.subject_info import SubjectInfo, SubjectSessionInfo\n",
    "from TreeMazeAnalyses2.Analyses import spatial_functions as spatial_funcs\n",
    "import TreeMazeAnalyses2.Analyses.open_field_functions as of_funcs\n",
    "\n",
    "from importlib import reload\n",
    "\n",
    "import ipywidgets as widgets\n",
    "from ipywidgets import interact, fixed, interact_manual"
   ]
  },
  {
   "cell_type": "markdown",
   "metadata": {},
   "source": [
    "Load data"
   ]
  },
  {
   "cell_type": "code",
   "execution_count": 3,
   "metadata": {},
   "outputs": [
    {
     "name": "stdout",
     "output_type": "stream",
     "text": [
      "Number of sessions in data = 48\n",
      "Number of neurons = 94\n"
     ]
    }
   ],
   "source": [
    "data_path = Path('/home/alexgonzalez/Documents/data/butler_hardcastle')\n",
    "file_name = 'grid_cell_data.h5'\n",
    "\n",
    "f = h5py.File(data_path / file_name, \"r\")\n",
    "n_sessions = len(f)\n",
    "print(f'Number of sessions in data = {n_sessions}')    \n",
    "\n",
    "n_neuron_counter = 0\n",
    "neural_data = {}\n",
    "behav_data ={}\n",
    "spikes = {}\n",
    "for session_id in range(n_sessions):\n",
    "    behav_data[session_id] = f[f'session_{session_id+1}/behavioral_data'][:]\n",
    "    spikes[session_id] = f[f'session_{session_id+1}/neural_data'][:].T\n",
    "    n_neuron_counter += spikes[session_id].shape[0]\n",
    "\n",
    "# close h5 file\n",
    "f.close()\n",
    "n_neurons = n_neuron_counter\n",
    "print(f'Number of neurons = {n_neurons}')"
   ]
  },
  {
   "cell_type": "markdown",
   "metadata": {},
   "source": [
    "Two main variables: \n",
    "\n",
    "1. `behav_data` that contains all the behavioral variables for each session:\n",
    "    a. time, x, y, ha\n",
    "    b. for accessing x on session 1: `behav_data[1][:,1]` \n",
    "2. `neural_data` that contains the neurons for that session.\n",
    "    a. for accessing neuron 1 of session 3: `neural_data[3][1,:]`"
   ]
  },
  {
   "cell_type": "markdown",
   "metadata": {},
   "source": [
    "### Explore behavior for each session"
   ]
  },
  {
   "cell_type": "code",
   "execution_count": 4,
   "metadata": {},
   "outputs": [
    {
     "data": {
      "application/vnd.jupyter.widget-view+json": {
       "model_id": "1cc9888d5a6b46bda6eab3724b3b3565",
       "version_major": 2,
       "version_minor": 0
      },
      "text/plain": [
       "interactive(children=(IntSlider(value=23, description='session_id', max=47), Output()), _dom_classes=('widget-…"
      ]
     },
     "metadata": {},
     "output_type": "display_data"
    }
   ],
   "source": [
    "@interact(session_id=(0,n_sessions-1))\n",
    "def explore_behavior(session_id):\n",
    "    x = behav_data[session_id][:,1]\n",
    "    y = behav_data[session_id][:,2]\n",
    "    \n",
    "    f,ax = plt.subplots()\n",
    "    ax.plot(x, y)"
   ]
  },
  {
   "cell_type": "markdown",
   "metadata": {},
   "source": [
    "### Define task parameters"
   ]
  },
  {
   "cell_type": "markdown",
   "metadata": {},
   "source": [
    "These are mostly imported from the subject_info.py parameter structure, and adapted to this specific data set."
   ]
  },
  {
   "cell_type": "code",
   "execution_count": 5,
   "metadata": {},
   "outputs": [],
   "source": [
    "time_step = 0.02\n",
    "task_params = {\n",
    "                'time_step': time_step,     # time step\n",
    "\n",
    "                # pixel params\n",
    "                'x_pix_lims': [0, 150],  # camera field of view x limits [pixels]\n",
    "                'y_pix_lims': [0, 150],  # camera field of view y limits [pixels]\n",
    "                'x_pix_bias': 0,  # factor for centering the x pixel position\n",
    "                'y_pix_bias': 0,  # factor for centering the y pixel position\n",
    "                'vt_rate': 1.0 / 30.0,  # video acquisition frame rate\n",
    "                'xy_pix_rot_rad': 0,  # rotation of original xy pix camera to experimenter xy\n",
    "\n",
    "                # conversion params\n",
    "                'x_pix_mm': 10,  # pixels to mm for the x axis [pix/mm]\n",
    "                'y_pix_mm': 10,  # pixels to mm for the y axis [pix/mm]\n",
    "                'x_mm_bias': 0,  # factor for centering the x mm position\n",
    "                'y_mm_bias': 0,  # factor for centering the y mm position\n",
    "                'x_mm_lims': [0, 1500],  # limits on the x axis of the maze [mm]\n",
    "                'y_mm_lims': [0, 1500],  # limits on the y axis of the maze [mm]\n",
    "                'x_cm_lims': [0, 150],  # limits on the x axis of the maze [cm]\n",
    "                'y_cm_lims': [0, 150],  # limits on the y axis of the maze [cm]\n",
    "\n",
    "                # binning parameters\n",
    "                'mm_bin': 30,  # millimeters per bin [mm]\n",
    "                'cm_bin': 3,  # cm per bin [cm]\n",
    "                'max_speed_thr': 80,  # max speed threshold for allowing valid movement [cm/s]\n",
    "                'min_speed_thr': 2,  # min speed threshold for allowing valid movement [cm/s]\n",
    "                'rad_bin': np.deg2rad(10),  # angle radians per bin [rad]\n",
    "                'occ_num_thr': 3,           # number of occupation times threshold [bins\n",
    "                'occ_time_thr': time_step * 3,  # time occupation threshold [sec]\n",
    "                'speed_bin': 2,                # speed bin size [cm/s]\n",
    "\n",
    "                # filtering parameters\n",
    "                'spatial_sigma': 2,  # spatial smoothing sigma factor [au]\n",
    "                'spatial_window_size': 5,  # number of spatial position bins to smooth [bins]\n",
    "                'temporal_window_size': 11,  # smoothing temporal window for filtering [bins]\n",
    "                'temporal_angle_window_size': 11,  # smoothing temporal window for angles [bins]\n",
    "                'temporal_window_type': 'hann',  # window type for temporal window smoothing\n",
    "}\n",
    "\n",
    "# derived parameters\n",
    "task_params['filter_coef_'] = signal.get_window(task_params['temporal_window_type'],\n",
    "                                                            task_params['temporal_window_size'],\n",
    "                                                            fftbins=False)\n",
    "task_params['filter_coef_'] /= task_params['filter_coef_'].sum()\n",
    "\n",
    "task_params['filter_coef_angle_'] = signal.get_window(task_params['temporal_window_type'],\n",
    "                                                      task_params['temporal_angle_window_size'],\n",
    "                                                      fftbins=False)\n",
    "task_params['filter_coef_angle_'] /= task_params['filter_coef_angle_'].sum()\n",
    "\n",
    "# -- bins --\n",
    "task_params['ang_bin_edges_'] = np.arange(0, 2*np.pi+task_params['rad_bin'], task_params['rad_bin'])\n",
    "task_params['ang_bin_centers_'] = task_params['ang_bin_edges_'][:-1] + task_params['rad_bin']/2\n",
    "task_params['n_ang_bins'] = len(task_params['ang_bin_centers_'])\n",
    "\n",
    "task_params['sp_bin_edges_'] = np.arange(task_params['min_speed_thr'],\n",
    "                                         task_params['max_speed_thr'] + task_params['speed_bin'],\n",
    "                                         task_params['speed_bin'])\n",
    "task_params['sp_bin_centers_'] = task_params['sp_bin_edges_'][:-1]+task_params['speed_bin']/2\n",
    "task_params['n_sp_bins'] = len(task_params['sp_bin_centers_'])\n",
    "\n",
    "task_params['x_bin_edges_'] = np.arange(task_params['x_cm_lims'][0],\n",
    "                                        task_params['x_cm_lims'][1]+task_params['cm_bin'],\n",
    "                                        task_params['cm_bin'])\n",
    "task_params['x_bin_centers_'] = task_params['x_bin_edges_'][:-1] + task_params['cm_bin']/2\n",
    "task_params['n_x_bins'] = len(task_params['x_bin_centers_'])\n",
    "task_params['n_width_bins'] = task_params['n_x_bins']\n",
    "\n",
    "task_params['y_bin_edges_'] = np.arange(task_params['y_cm_lims'][0],\n",
    "                                        task_params['y_cm_lims'][1] + task_params['cm_bin'],\n",
    "                                        task_params['cm_bin'])\n",
    "task_params['y_bin_centers_'] = task_params['y_bin_edges_'][:-1] + task_params['cm_bin']/2\n",
    "task_params['n_y_bins'] = len(task_params['y_bin_centers_'])\n",
    "task_params['n_height_bins'] = task_params['n_y_bins']\n",
    "\n",
    "task_params = SimpleNamespace(**task_params)"
   ]
  },
  {
   "cell_type": "markdown",
   "metadata": {},
   "source": [
    "## Process all behavioral data. \n",
    "-- this takes a bit of time"
   ]
  },
  {
   "cell_type": "code",
   "execution_count": 169,
   "metadata": {},
   "outputs": [],
   "source": [
    "of_funcs = reload(of_funcs)\n",
    "def _pworker(session_id):   \n",
    "    x = behav_data[session_id][:,1]\n",
    "    y = behav_data[session_id][:,2]\n",
    "    ha = behav_data[session_id][:,3]\n",
    "    \n",
    "    x2,y2,ha2 = of_funcs._process_track_data(x,y,ha,task_params)\n",
    "    \n",
    "    x2 /= 10  # convert to cm\n",
    "    y2 /= 10  # convert to cm\n",
    "    speed, hd = spatial_funcs.compute_velocity(x2, y2, task_params.time_step)\n",
    "    hd = np.mod(hd, 2 * np.pi)  # convert to 0 to 2pi\n",
    "\n",
    "    return x2, y2, ha2, hd, speed\n",
    "\n",
    "res = Parallel(n_jobs=8)(delayed(_pworker)(session_id) for session_id in range(n_sessions))"
   ]
  },
  {
   "cell_type": "code",
   "execution_count": 170,
   "metadata": {},
   "outputs": [],
   "source": [
    "# conver to behavioral data time series to a pandas df\n",
    "behav_ts = {}\n",
    "for session_id in range(n_sessions):\n",
    "    behav_ts[session_id] = pd.DataFrame(np.array(res[session_id]).T, columns=['x','y','ha', 'hd','speed'])\n"
   ]
  },
  {
   "cell_type": "code",
   "execution_count": 171,
   "metadata": {},
   "outputs": [],
   "source": [
    "# create map function\n",
    "def get_position_maps(x,y,x_bins,y_bins, time_step=0.02, window_size=5, spatial_sigma=2, occ_num_thr=3):\n",
    "    \"\"\"\n",
    "        Generates 2 d maps of occupation from x,y time series.\n",
    "    \"\"\"\n",
    "    \n",
    "    pos_map_counts = spatial_funcs.histogram_2d(x, y, x_bins, y_bins)\n",
    "    pos_map_sm = spatial_funcs.smooth_2d_map(pos_map_counts, window_size, spatial_sigma)\n",
    "    \n",
    "    pos_valid_maks = pos_map_counts >= occ_num_thr\n",
    "    \n",
    "    pos_map_secs = pos_map_counts*time_step\n",
    "    pos_map_secs = spatial_funcs.smooth_2d_map(pos_map_secs, window_size, spatial_sigma)\n",
    "    \n",
    "    maps = {'counts': pos_map_counts,\n",
    "            'counts_sm': pos_map_sm,\n",
    "            'valid_mask': pos_valid_maks,\n",
    "            'secs': pos_map_secs}\n",
    "    return maps\n",
    "\n",
    "# run on all sessions\n",
    "behav_maps = {}\n",
    "for session_id in range(n_sessions):\n",
    "    behav_maps[session_id] = get_position_maps(behav_ts[session_id]['x'], behav_ts[session_id]['y'], \n",
    "                                               task_params.x_bin_edges_, \n",
    "                                               task_params.y_bin_edges_, \n",
    "                                               time_step=task_params.time_step,\n",
    "                                               window_size=task_params.spatial_window_size, \n",
    "                                               spatial_sigma=task_params.spatial_sigma, \n",
    "                                               occ_num_thr=task_params.occ_num_thr)\n",
    "      "
   ]
  },
  {
   "cell_type": "markdown",
   "metadata": {},
   "source": [
    "### compare traces to original"
   ]
  },
  {
   "cell_type": "code",
   "execution_count": 172,
   "metadata": {},
   "outputs": [
    {
     "data": {
      "application/vnd.jupyter.widget-view+json": {
       "model_id": "e9fc351176f74a3bb4ceffd2244c6a8d",
       "version_major": 2,
       "version_minor": 0
      },
      "text/plain": [
       "interactive(children=(IntSlider(value=23, description='session_id', max=47), Output()), _dom_classes=('widget-…"
      ]
     },
     "metadata": {},
     "output_type": "display_data"
    }
   ],
   "source": [
    "@interact(session_id=(0,n_sessions-1))\n",
    "def comp_traces(session_id):\n",
    "    x = behav_data[session_id][:,1]\n",
    "    y = behav_data[session_id][:,2]\n",
    "    \n",
    "    x2 = behav_ts[session_id]['x']\n",
    "    y2 = behav_ts[session_id]['y']\n",
    "    \n",
    "    f,ax = plt.subplots(1,3,figsize=(15,5))\n",
    "    ax[0].plot(x, y, linewidth=0.5)\n",
    "    ax[0].set_title('Original Samps')\n",
    "    \n",
    "    ax[1].plot(x2, y2, linewidth=0.5)\n",
    "    ax[1].set_title('Processed Samps')\n",
    "    \n",
    "    ax[2].scatter(x, x2, 2, alpha=0.25, label='x')\n",
    "    ax[2].scatter(y, y2, 2, alpha=0.25, label='y')\n",
    "    ax[2].set_title('Relationship')\n",
    "    ax[2].legend()\n"
   ]
  },
  {
   "cell_type": "code",
   "execution_count": 179,
   "metadata": {},
   "outputs": [
    {
     "data": {
      "application/vnd.jupyter.widget-view+json": {
       "model_id": "70f355ef988046a3a8caced57ea8f881",
       "version_major": 2,
       "version_minor": 0
      },
      "text/plain": [
       "interactive(children=(IntSlider(value=23, description='session_id', max=47), Dropdown(description='key', optio…"
      ]
     },
     "metadata": {},
     "output_type": "display_data"
    }
   ],
   "source": [
    "def plot_map(map_, ax=None):\n",
    "    if ax is None:\n",
    "        f, ax = plt.subplots()\n",
    "    ax = sns.heatmap(map_, ax=ax)\n",
    "    ax.invert_yaxis()\n",
    "    ax.axis('equal')\n",
    "    return ax.figure, ax\n",
    "\n",
    "@interact(session_id=(0,n_sessions-1), key=behav_maps[0].keys())\n",
    "def _maps(session_id, key):\n",
    "    x = behav_ts[session_id]['x']\n",
    "    y = behav_ts[session_id]['y']\n",
    "    \n",
    "    f,ax = plt.subplots(1,2,figsize=(12,5))\n",
    "    \n",
    "    ax[0].plot(x,y, linewidth=0.5)\n",
    "    plot_map(behav_maps[session_id][key], ax=ax[1])\n",
    "    "
   ]
  },
  {
   "cell_type": "markdown",
   "metadata": {},
   "source": [
    "### Process spikes\n",
    "`neural_data` contains the binned spike time series at 20ms increments, for an effective sampling rate of 50 samples per second. firing rate is a smoothed version of binned spikes and easier to use for most analyses."
   ]
  },
  {
   "cell_type": "code",
   "execution_count": 209,
   "metadata": {},
   "outputs": [
    {
     "data": {
      "text/plain": [
       "(1, 75157)"
      ]
     },
     "execution_count": 209,
     "metadata": {},
     "output_type": "execute_result"
    }
   ],
   "source": [
    "neural_data[0].shape"
   ]
  },
  {
   "cell_type": "code",
   "execution_count": 217,
   "metadata": {},
   "outputs": [],
   "source": [
    "def get_fr(bin_spikes, time_step=0.02, temporal_smoothing=0.125):\n",
    "    \n",
    "    # define filter.\n",
    "    filter_len = np.round(temporal_smoothing / time_step).astype(int)\n",
    "    filt_coeff = signal.windows.hann(filter_len)  # banishing filter\n",
    "    filt_coeff /= filt_coeff.sum()  # normalize to conserve signal energy\n",
    "    \n",
    "    n_units, n_timebins = bin_spikes.shape\n",
    "    fr = np.zeros((n_units, n_timebins))\n",
    "    for unit in range(n_units):\n",
    "        fr[unit] = signal.filtfilt(filt_coeff, 1, bin_spikes[unit] / time_step)\n",
    "        \n",
    "    return fr\n",
    "\n",
    "# get fr\n",
    "fr = {}\n",
    "for session_id in range(n_sessions):\n",
    "    fr[session_id] = get_fr(spikes[session_id], \n",
    "                            time_step=task_params.time_step, \n",
    "                            temporal_smoothing=0.125\n",
    "                           )\n",
    "\n",
    "# get fr maps\n",
    "neural_maps = {}\n",
    "map_dims = behav_maps[0]['counts'].shape\n",
    "for session_id in range(n_sessions):\n",
    "    n_session_neurons = fr[session_id].shape[0]\n",
    "    neural_maps[session_id] = np.zeros((n_session_neurons,map_dims[0], map_dims[1]))\n",
    "    for neuron_id in range(n_session_neurons):\n",
    "        neural_maps[session_id][neuron_id] = \\\n",
    "            spatial_funcs.firing_rate_2_rate_map(fr[session_id][neuron_id], \n",
    "                                                 x=behav_ts[session_id]['x'], \n",
    "                                                 y=behav_ts[session_id]['y'], \n",
    "                                                 x_edges=task_params.x_bin_edges_,\n",
    "                                                 y_edges=task_params.y_bin_edges_,\n",
    "                                                )"
   ]
  },
  {
   "cell_type": "code",
   "execution_count": 213,
   "metadata": {},
   "outputs": [
    {
     "data": {
      "application/vnd.jupyter.widget-view+json": {
       "model_id": "6709b039337c4882966effd4c4889ae2",
       "version_major": 2,
       "version_minor": 0
      },
      "text/plain": [
       "interactive(children=(IntSlider(value=23, description='session_id', max=47), IntSlider(value=0, description='n…"
      ]
     },
     "metadata": {},
     "output_type": "display_data"
    }
   ],
   "source": [
    "@interact(session_id=(0,n_sessions-1), neuron_id=widgets.IntSlider(min=0, max=5, step=1, value=0))\n",
    "def _maps(session_id, neuron_id):\n",
    "    n_session_neurons = neural_maps[session_id].shape[0]\n",
    "    print(f'num neurons = {n_session_neurons}')\n",
    "    if neuron_id < n_session_neurons:\n",
    "        f,ax = plt.subplots(figsize=(7,6))\n",
    "        plot_map(neural_maps[session_id][neuron_id], ax=ax)\n",
    "        ax.set_title('Rate Map')"
   ]
  },
  {
   "cell_type": "markdown",
   "metadata": {},
   "source": [
    "### Save Data"
   ]
  },
  {
   "cell_type": "code",
   "execution_count": 218,
   "metadata": {},
   "outputs": [],
   "source": [
    "import pickle\n",
    "data_path = Path('/home/alexgonzalez/Documents/data/butler_hardcastle')\n",
    "file_name = 'grid_cell_data.pickle'\n",
    "\n",
    "data = {'behav_ts':behav_ts, 'behav_maps': behav_maps, 'neural_maps':neural_maps, 'spikes': spikes, 'fr':fr}\n",
    "with (data_path/file_name).open(mode='wb') as f:\n",
    "    pickle.dump(data, f, protocol=pickle.HIGHEST_PROTOCOL)\n"
   ]
  },
  {
   "cell_type": "code",
   "execution_count": 219,
   "metadata": {
    "collapsed": true,
    "jupyter": {
     "outputs_hidden": true
    }
   },
   "outputs": [
    {
     "data": {
      "text/plain": [
       "{0: array([[0., 0., 0., ..., 0., 0., 0.]]),\n",
       " 1: array([[50.        , 23.45491503,  6.90983006, ...,  0.        ,\n",
       "          0.        ,  0.        ]]),\n",
       " 2: array([[0., 0., 0., ..., 0., 0., 0.],\n",
       "        [0., 0., 0., ..., 0., 0., 0.]]),\n",
       " 3: array([[0., 0., 0., ..., 0., 0., 0.],\n",
       "        [0., 0., 0., ..., 0., 0., 0.]]),\n",
       " 4: array([[0., 0., 0., ..., 0., 0., 0.],\n",
       "        [0., 0., 0., ..., 0., 0., 0.]]),\n",
       " 5: array([[0.        , 0.        , 0.        , ..., 0.95491503, 0.        ,\n",
       "         0.        ],\n",
       "        [0.        , 0.        , 0.95491503, ..., 0.        , 0.        ,\n",
       "         0.        ],\n",
       "        [0.        , 0.        , 0.        , ..., 0.        , 0.        ,\n",
       "         0.        ],\n",
       "        [0.        , 0.        , 0.        , ..., 0.        , 0.        ,\n",
       "         0.        ]]),\n",
       " 6: array([[0., 0., 0., ..., 0., 0., 0.],\n",
       "        [0., 0., 0., ..., 0., 0., 0.]]),\n",
       " 7: array([[0.        , 0.        , 0.95491503, ..., 0.        , 0.        ,\n",
       "         0.        ]]),\n",
       " 8: array([[0., 0., 0., ..., 0., 0., 0.],\n",
       "        [0., 0., 0., ..., 0., 0., 0.]]),\n",
       " 9: array([[0., 0., 0., ..., 0., 0., 0.],\n",
       "        [0., 0., 0., ..., 0., 0., 0.],\n",
       "        [0., 0., 0., ..., 0., 0., 0.],\n",
       "        [0., 0., 0., ..., 0., 0., 0.]]),\n",
       " 10: array([[0., 0., 0., ..., 0., 0., 0.]]),\n",
       " 11: array([[0., 0., 0., ..., 0., 0., 0.],\n",
       "        [0., 0., 0., ..., 0., 0., 0.]]),\n",
       " 12: array([[ 0.        , 10.59016994, 15.        , ...,  5.        ,\n",
       "          0.95491503,  0.        ],\n",
       "        [ 0.        ,  0.        ,  0.        , ...,  0.        ,\n",
       "          0.        ,  0.        ]]),\n",
       " 13: array([[ 0.        , 10.        , 10.59016994, ...,  0.        ,\n",
       "          0.        ,  0.        ],\n",
       "        [ 0.        ,  0.        ,  0.        , ...,  0.        ,\n",
       "          0.        ,  0.        ],\n",
       "        [ 0.        ,  0.        ,  0.        , ...,  0.        ,\n",
       "          0.        ,  0.        ]]),\n",
       " 14: array([[0., 0., 0., ..., 0., 0., 0.]]),\n",
       " 15: array([[0., 0., 0., ..., 0., 0., 0.]]),\n",
       " 16: array([[ 0.        ,  0.        ,  0.        , ..., 11.54508497,\n",
       "          5.        ,  0.        ],\n",
       "        [ 0.        ,  0.        ,  0.        , ...,  0.        ,\n",
       "          0.        ,  0.        ],\n",
       "        [ 0.        ,  0.        ,  0.        , ...,  5.        ,\n",
       "          0.95491503,  0.        ]]),\n",
       " 17: array([[0.        , 0.        , 0.95491503, ..., 0.        , 0.        ,\n",
       "         0.        ]]),\n",
       " 18: array([[0., 0., 0., ..., 0., 0., 0.],\n",
       "        [0., 0., 0., ..., 0., 0., 0.]]),\n",
       " 19: array([[50.        , 28.45491503, 18.45491503, ..., 49.04508497,\n",
       "         27.5       ,  0.        ]]),\n",
       " 20: array([[ 0.,  0.,  0., ..., 50., 50., 50.]]),\n",
       " 21: array([[0., 0., 0., ..., 0., 0., 0.]]),\n",
       " 22: array([[0., 0., 0., ..., 0., 0., 0.]]),\n",
       " 23: array([[0., 0., 0., ..., 0., 0., 0.]]),\n",
       " 24: array([[0.00000000e+00, 0.00000000e+00, 0.00000000e+00, ...,\n",
       "         0.00000000e+00, 0.00000000e+00, 0.00000000e+00],\n",
       "        [4.44089210e-16, 1.55901699e+01, 2.65450850e+01, ...,\n",
       "         1.50000000e+01, 1.05901699e+01, 0.00000000e+00]]),\n",
       " 25: array([[0., 0., 0., ..., 0., 0., 0.],\n",
       "        [0., 0., 0., ..., 0., 0., 0.],\n",
       "        [0., 0., 0., ..., 0., 0., 0.]]),\n",
       " 26: array([[0., 0., 0., ..., 0., 0., 0.],\n",
       "        [0., 0., 0., ..., 0., 0., 0.]]),\n",
       " 27: array([[ 0.        ,  0.        ,  0.        , ...,  0.        ,\n",
       "          0.        ,  0.        ],\n",
       "        [ 0.        ,  0.        ,  0.        , ..., 10.59016994,\n",
       "         10.        ,  0.        ],\n",
       "        [ 0.        ,  0.        ,  0.        , ...,  0.        ,\n",
       "          0.        ,  0.        ],\n",
       "        [ 0.        ,  0.        ,  0.        , ...,  0.        ,\n",
       "          0.        ,  0.        ]]),\n",
       " 28: array([[0., 0., 0., ..., 0., 0., 0.],\n",
       "        [0., 0., 0., ..., 0., 0., 0.]]),\n",
       " 29: array([[ 0.        ,  0.        ,  0.        , ...,  0.        ,\n",
       "          0.        ,  0.        ],\n",
       "        [ 0.        ,  0.        ,  0.        , ...,  0.        ,\n",
       "          0.        ,  0.        ],\n",
       "        [ 0.        , 10.        , 10.59016994, ...,  0.        ,\n",
       "          0.        ,  0.        ]]),\n",
       " 30: array([[ 0.        ,  0.        ,  0.        , ..., 16.54508497,\n",
       "          5.95491503,  0.        ],\n",
       "        [ 0.        ,  0.        ,  0.        , ...,  0.        ,\n",
       "          0.        ,  0.        ],\n",
       "        [ 0.        ,  0.        ,  0.        , ...,  0.        ,\n",
       "          0.        ,  0.        ]]),\n",
       " 31: array([[0.        , 0.        , 0.95491503, ..., 0.        , 0.        ,\n",
       "         0.        ],\n",
       "        [0.        , 0.        , 0.        , ..., 0.        , 0.        ,\n",
       "         0.        ],\n",
       "        [0.        , 0.        , 0.        , ..., 0.        , 0.        ,\n",
       "         0.        ]]),\n",
       " 32: array([[0., 0., 0., ..., 0., 0., 0.],\n",
       "        [0., 0., 0., ..., 0., 0., 0.],\n",
       "        [0., 0., 0., ..., 0., 0., 0.]]),\n",
       " 33: array([[0., 0., 0., ..., 0., 0., 0.]]),\n",
       " 34: array([[0., 0., 0., ..., 0., 0., 0.],\n",
       "        [0., 0., 0., ..., 0., 0., 0.],\n",
       "        [0., 0., 0., ..., 0., 0., 0.]]),\n",
       " 35: array([[ 0.        , 30.59016994, 37.13525492, ...,  0.        ,\n",
       "          0.        ,  0.        ],\n",
       "        [ 0.        ,  0.        ,  0.        , ...,  0.        ,\n",
       "          0.        ,  0.        ]]),\n",
       " 36: array([[ 0.        ,  0.        ,  0.        , ...,  0.        ,\n",
       "          0.        ,  0.        ],\n",
       "        [ 0.        ,  5.        , 11.54508497, ...,  0.        ,\n",
       "          0.        ,  0.        ]]),\n",
       " 37: array([[0., 0., 0., ..., 0., 0., 0.]]),\n",
       " 38: array([[0., 0., 0., ..., 0., 0., 0.]]),\n",
       " 39: array([[0., 0., 0., ..., 0., 0., 0.]]),\n",
       " 40: array([[0., 0., 0., ..., 0., 0., 0.],\n",
       "        [0., 0., 0., ..., 0., 0., 0.]]),\n",
       " 41: array([[0., 0., 0., ..., 0., 0., 0.],\n",
       "        [0., 0., 0., ..., 0., 0., 0.]]),\n",
       " 42: array([[0., 0., 0., ..., 0., 0., 0.],\n",
       "        [0., 0., 0., ..., 0., 0., 0.]]),\n",
       " 43: array([[0., 0., 0., ..., 0., 0., 0.],\n",
       "        [0., 0., 0., ..., 0., 0., 0.],\n",
       "        [0., 0., 0., ..., 0., 0., 0.]]),\n",
       " 44: array([[0., 0., 0., ..., 0., 0., 0.]]),\n",
       " 45: array([[0., 0., 0., ..., 0., 0., 0.],\n",
       "        [0., 0., 0., ..., 0., 0., 0.]]),\n",
       " 46: array([[0.        , 0.        , 0.        , ..., 0.        , 0.        ,\n",
       "         0.        ],\n",
       "        [0.        , 0.        , 0.        , ..., 5.95491503, 0.95491503,\n",
       "         0.        ],\n",
       "        [0.        , 0.        , 0.        , ..., 0.        , 0.        ,\n",
       "         0.        ]]),\n",
       " 47: array([[0., 0., 0., ..., 0., 0., 0.]])}"
      ]
     },
     "execution_count": 219,
     "metadata": {},
     "output_type": "execute_result"
    }
   ],
   "source": [
    "fr"
   ]
  }
 ],
 "metadata": {
  "kernelspec": {
   "display_name": "Python 3",
   "language": "python",
   "name": "python3"
  },
  "language_info": {
   "codemirror_mode": {
    "name": "ipython",
    "version": 3
   },
   "file_extension": ".py",
   "mimetype": "text/x-python",
   "name": "python",
   "nbconvert_exporter": "python",
   "pygments_lexer": "ipython3",
   "version": "3.7.0"
  },
  "widgets": {
   "application/vnd.jupyter.widget-state+json": {
    "state": {},
    "version_major": 2,
    "version_minor": 0
   }
  }
 },
 "nbformat": 4,
 "nbformat_minor": 4
}
