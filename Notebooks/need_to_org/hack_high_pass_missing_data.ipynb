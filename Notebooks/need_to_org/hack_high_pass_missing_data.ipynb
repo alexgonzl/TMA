{
 "cells": [
  {
   "cell_type": "markdown",
   "metadata": {},
   "source": [
    "# Missing Recording Data hack\n",
    "For multiple sessions the 'recording.dat' file that contains a tetrodes high pass channels is missing. This file is necessary for clustering. This hack is a way to either recreate these files anew, or found a way to bypass them by recalculating the high pass data for only the missing channels. This later strategy would be merge in the get_session_tt_wf method from the subject info  class. "
   ]
  },
  {
   "cell_type": "code",
   "execution_count": 1,
   "metadata": {},
   "outputs": [
    {
     "name": "stderr",
     "output_type": "stream",
     "text": [
      "/home/alexgonzalez/anaconda3/envs/spk_phy2/lib/python3.7/site-packages/umap/__init__.py:9: UserWarning: Tensorflow not installed; ParametricUMAP will be unavailable\n",
      "  warn(\"Tensorflow not installed; ParametricUMAP will be unavailable\")\n"
     ]
    }
   ],
   "source": [
    "%matplotlib inline\n",
    "\n",
    "from pathlib import Path\n",
    "import time, traceback\n",
    "from importlib import reload\n",
    "\n",
    "import numpy as np\n",
    "import pandas as pd\n",
    "\n",
    "import matplotlib.pyplot as plt\n",
    "\n",
    "from TreeMazeAnalyses2.Analyses import subject_info as si\n",
    "from TreeMazeAnalyses2.Analyses import cluster_match_functions as cmf\n",
    "from TreeMazeAnalyses2.Pre_Processing import pre_process_functions as pp\n",
    "from TreeMazeAnalyses2.Sorting import sort_functions as sort_funcs\n"
   ]
  },
  {
   "cell_type": "code",
   "execution_count": 10,
   "metadata": {},
   "outputs": [],
   "source": [
    "si = reload(si)\n",
    "subjects = ['Li','Ne', 'Cl', 'Al', 'C'\n",
    "for subject in subjects:\n",
    "    subject_info = si.SubjectInfo(subject)\n",
    "    cd = subject_info.get_cluster_dists(overwrite=True)"
   ]
  },
  {
   "cell_type": "code",
   "execution_count": 3,
   "metadata": {},
   "outputs": [],
   "source": [
    "\n",
    "matching_analysis = subject_info.get_session_match_analysis()"
   ]
  },
  {
   "cell_type": "code",
   "execution_count": 13,
   "metadata": {},
   "outputs": [],
   "source": [
    "tt, d, sessions, n_cl, n_session_cl = matching_analysis[0]"
   ]
  },
  {
   "cell_type": "code",
   "execution_count": 11,
   "metadata": {
    "collapsed": true,
    "jupyter": {
     "outputs_hidden": true
    }
   },
   "outputs": [
    {
     "name": "stderr",
     "output_type": "stream",
     "text": [
      "/home/alexgonzalez/Documents/TreeMazeAnalyses2/Utils/robust_stats.py:126: RuntimeWarning: invalid value encountered in subtract\n",
      "  mad = np.nanmedian(np.abs(x - m))\n",
      "/home/alexgonzalez/Documents/TreeMazeAnalyses2/Utils/robust_stats.py:128: RuntimeWarning: invalid value encountered in subtract\n",
      "  return (x - m) / (mad * 1.4826)\n"
     ]
    },
    {
     "name": "stdout",
     "output_type": "stream",
     "text": [
      ".."
     ]
    },
    {
     "name": "stderr",
     "output_type": "stream",
     "text": [
      "/home/alexgonzalez/Documents/TreeMazeAnalyses2/Utils/robust_stats.py:126: RuntimeWarning: invalid value encountered in subtract\n",
      "  mad = np.nanmedian(np.abs(x - m))\n",
      "/home/alexgonzalez/Documents/TreeMazeAnalyses2/Utils/robust_stats.py:128: RuntimeWarning: invalid value encountered in subtract\n",
      "  return (x - m) / (mad * 1.4826)\n",
      "/home/alexgonzalez/Documents/TreeMazeAnalyses2/Analyses/cluster_match_functions.py:387: RuntimeWarning: invalid value encountered in sqrt\n",
      "  h = np.sqrt(h2)\n"
     ]
    },
    {
     "name": "stdout",
     "output_type": "stream",
     "text": [
      "."
     ]
    },
    {
     "name": "stderr",
     "output_type": "stream",
     "text": [
      "/home/alexgonzalez/Documents/TreeMazeAnalyses2/Utils/robust_stats.py:126: RuntimeWarning: invalid value encountered in subtract\n",
      "  mad = np.nanmedian(np.abs(x - m))\n",
      "/home/alexgonzalez/Documents/TreeMazeAnalyses2/Utils/robust_stats.py:128: RuntimeWarning: invalid value encountered in subtract\n",
      "  return (x - m) / (mad * 1.4826)\n",
      "/home/alexgonzalez/Documents/TreeMazeAnalyses2/Analyses/cluster_match_functions.py:387: RuntimeWarning: invalid value encountered in sqrt\n",
      "  h = np.sqrt(h2)\n"
     ]
    },
    {
     "name": "stdout",
     "output_type": "stream",
     "text": [
      "."
     ]
    },
    {
     "name": "stderr",
     "output_type": "stream",
     "text": [
      "/home/alexgonzalez/Documents/TreeMazeAnalyses2/Utils/robust_stats.py:126: RuntimeWarning: invalid value encountered in subtract\n",
      "  mad = np.nanmedian(np.abs(x - m))\n",
      "/home/alexgonzalez/Documents/TreeMazeAnalyses2/Utils/robust_stats.py:128: RuntimeWarning: invalid value encountered in subtract\n",
      "  return (x - m) / (mad * 1.4826)\n"
     ]
    },
    {
     "name": "stdout",
     "output_type": "stream",
     "text": [
      "."
     ]
    },
    {
     "name": "stderr",
     "output_type": "stream",
     "text": [
      "/home/alexgonzalez/Documents/TreeMazeAnalyses2/Utils/robust_stats.py:126: RuntimeWarning: invalid value encountered in subtract\n",
      "  mad = np.nanmedian(np.abs(x - m))\n",
      "/home/alexgonzalez/Documents/TreeMazeAnalyses2/Utils/robust_stats.py:128: RuntimeWarning: invalid value encountered in subtract\n",
      "  return (x - m) / (mad * 1.4826)\n"
     ]
    },
    {
     "name": "stdout",
     "output_type": "stream",
     "text": [
      "."
     ]
    },
    {
     "name": "stderr",
     "output_type": "stream",
     "text": [
      "/home/alexgonzalez/Documents/TreeMazeAnalyses2/Utils/robust_stats.py:126: RuntimeWarning: invalid value encountered in subtract\n",
      "  mad = np.nanmedian(np.abs(x - m))\n",
      "/home/alexgonzalez/Documents/TreeMazeAnalyses2/Utils/robust_stats.py:128: RuntimeWarning: invalid value encountered in subtract\n",
      "  return (x - m) / (mad * 1.4826)\n"
     ]
    },
    {
     "name": "stdout",
     "output_type": "stream",
     "text": [
      "."
     ]
    },
    {
     "name": "stderr",
     "output_type": "stream",
     "text": [
      "/home/alexgonzalez/Documents/TreeMazeAnalyses2/Utils/robust_stats.py:126: RuntimeWarning: invalid value encountered in subtract\n",
      "  mad = np.nanmedian(np.abs(x - m))\n",
      "/home/alexgonzalez/Documents/TreeMazeAnalyses2/Utils/robust_stats.py:128: RuntimeWarning: invalid value encountered in subtract\n",
      "  return (x - m) / (mad * 1.4826)\n",
      "/home/alexgonzalez/Documents/TreeMazeAnalyses2/Analyses/cluster_match_functions.py:387: RuntimeWarning: invalid value encountered in sqrt\n",
      "  h = np.sqrt(h2)\n"
     ]
    },
    {
     "name": "stdout",
     "output_type": "stream",
     "text": [
      "."
     ]
    },
    {
     "name": "stderr",
     "output_type": "stream",
     "text": [
      "/home/alexgonzalez/Documents/TreeMazeAnalyses2/Utils/robust_stats.py:126: RuntimeWarning: invalid value encountered in subtract\n",
      "  mad = np.nanmedian(np.abs(x - m))\n",
      "/home/alexgonzalez/Documents/TreeMazeAnalyses2/Utils/robust_stats.py:128: RuntimeWarning: invalid value encountered in subtract\n",
      "  return (x - m) / (mad * 1.4826)\n",
      "/home/alexgonzalez/Documents/TreeMazeAnalyses2/Analyses/cluster_match_functions.py:387: RuntimeWarning: invalid value encountered in sqrt\n",
      "  h = np.sqrt(h2)\n"
     ]
    },
    {
     "name": "stdout",
     "output_type": "stream",
     "text": [
      "."
     ]
    },
    {
     "name": "stderr",
     "output_type": "stream",
     "text": [
      "/home/alexgonzalez/Documents/TreeMazeAnalyses2/Utils/robust_stats.py:126: RuntimeWarning: invalid value encountered in subtract\n",
      "  mad = np.nanmedian(np.abs(x - m))\n",
      "/home/alexgonzalez/Documents/TreeMazeAnalyses2/Utils/robust_stats.py:128: RuntimeWarning: invalid value encountered in subtract\n",
      "  return (x - m) / (mad * 1.4826)\n"
     ]
    },
    {
     "name": "stdout",
     "output_type": "stream",
     "text": [
      "."
     ]
    },
    {
     "name": "stderr",
     "output_type": "stream",
     "text": [
      "/home/alexgonzalez/Documents/TreeMazeAnalyses2/Utils/robust_stats.py:126: RuntimeWarning: invalid value encountered in subtract\n",
      "  mad = np.nanmedian(np.abs(x - m))\n",
      "/home/alexgonzalez/Documents/TreeMazeAnalyses2/Utils/robust_stats.py:128: RuntimeWarning: invalid value encountered in subtract\n",
      "  return (x - m) / (mad * 1.4826)\n",
      "/home/alexgonzalez/Documents/TreeMazeAnalyses2/Analyses/cluster_match_functions.py:387: RuntimeWarning: invalid value encountered in sqrt\n",
      "  h = np.sqrt(h2)\n"
     ]
    },
    {
     "name": "stdout",
     "output_type": "stream",
     "text": [
      "."
     ]
    },
    {
     "name": "stderr",
     "output_type": "stream",
     "text": [
      "/home/alexgonzalez/Documents/TreeMazeAnalyses2/Utils/robust_stats.py:126: RuntimeWarning: invalid value encountered in subtract\n",
      "  mad = np.nanmedian(np.abs(x - m))\n",
      "/home/alexgonzalez/Documents/TreeMazeAnalyses2/Utils/robust_stats.py:128: RuntimeWarning: invalid value encountered in subtract\n",
      "  return (x - m) / (mad * 1.4826)\n"
     ]
    },
    {
     "name": "stdout",
     "output_type": "stream",
     "text": [
      "."
     ]
    },
    {
     "name": "stderr",
     "output_type": "stream",
     "text": [
      "/home/alexgonzalez/Documents/TreeMazeAnalyses2/Utils/robust_stats.py:126: RuntimeWarning: invalid value encountered in subtract\n",
      "  mad = np.nanmedian(np.abs(x - m))\n",
      "/home/alexgonzalez/Documents/TreeMazeAnalyses2/Utils/robust_stats.py:128: RuntimeWarning: invalid value encountered in subtract\n",
      "  return (x - m) / (mad * 1.4826)\n"
     ]
    },
    {
     "name": "stdout",
     "output_type": "stream",
     "text": [
      "."
     ]
    },
    {
     "name": "stderr",
     "output_type": "stream",
     "text": [
      "/home/alexgonzalez/Documents/TreeMazeAnalyses2/Utils/robust_stats.py:126: RuntimeWarning: invalid value encountered in subtract\n",
      "  mad = np.nanmedian(np.abs(x - m))\n",
      "/home/alexgonzalez/Documents/TreeMazeAnalyses2/Utils/robust_stats.py:128: RuntimeWarning: invalid value encountered in subtract\n",
      "  return (x - m) / (mad * 1.4826)\n"
     ]
    },
    {
     "name": "stdout",
     "output_type": "stream",
     "text": [
      "."
     ]
    },
    {
     "name": "stderr",
     "output_type": "stream",
     "text": [
      "/home/alexgonzalez/Documents/TreeMazeAnalyses2/Analyses/cluster_match_functions.py:387: RuntimeWarning: invalid value encountered in sqrt\n",
      "  h = np.sqrt(h2)\n"
     ]
    },
    {
     "name": "stdout",
     "output_type": "stream",
     "text": [
      "."
     ]
    },
    {
     "name": "stderr",
     "output_type": "stream",
     "text": [
      "/home/alexgonzalez/Documents/TreeMazeAnalyses2/Utils/robust_stats.py:126: RuntimeWarning: invalid value encountered in subtract\n",
      "  mad = np.nanmedian(np.abs(x - m))\n",
      "/home/alexgonzalez/Documents/TreeMazeAnalyses2/Utils/robust_stats.py:128: RuntimeWarning: invalid value encountered in subtract\n",
      "  return (x - m) / (mad * 1.4826)\n"
     ]
    },
    {
     "name": "stdout",
     "output_type": "stream",
     "text": [
      "."
     ]
    },
    {
     "name": "stderr",
     "output_type": "stream",
     "text": [
      "/home/alexgonzalez/Documents/TreeMazeAnalyses2/Utils/robust_stats.py:126: RuntimeWarning: invalid value encountered in subtract\n",
      "  mad = np.nanmedian(np.abs(x - m))\n",
      "/home/alexgonzalez/Documents/TreeMazeAnalyses2/Utils/robust_stats.py:128: RuntimeWarning: invalid value encountered in subtract\n",
      "  return (x - m) / (mad * 1.4826)\n",
      "/home/alexgonzalez/Documents/TreeMazeAnalyses2/Analyses/cluster_match_functions.py:387: RuntimeWarning: invalid value encountered in sqrt\n",
      "  h = np.sqrt(h2)\n"
     ]
    },
    {
     "name": "stdout",
     "output_type": "stream",
     "text": [
      "."
     ]
    },
    {
     "name": "stderr",
     "output_type": "stream",
     "text": [
      "/home/alexgonzalez/Documents/TreeMazeAnalyses2/Utils/robust_stats.py:126: RuntimeWarning: invalid value encountered in subtract\n",
      "  mad = np.nanmedian(np.abs(x - m))\n",
      "/home/alexgonzalez/Documents/TreeMazeAnalyses2/Utils/robust_stats.py:128: RuntimeWarning: invalid value encountered in subtract\n",
      "  return (x - m) / (mad * 1.4826)\n"
     ]
    },
    {
     "name": "stdout",
     "output_type": "stream",
     "text": [
      "."
     ]
    },
    {
     "name": "stderr",
     "output_type": "stream",
     "text": [
      "/home/alexgonzalez/Documents/TreeMazeAnalyses2/Utils/robust_stats.py:126: RuntimeWarning: invalid value encountered in subtract\n",
      "  mad = np.nanmedian(np.abs(x - m))\n",
      "/home/alexgonzalez/Documents/TreeMazeAnalyses2/Utils/robust_stats.py:128: RuntimeWarning: invalid value encountered in subtract\n",
      "  return (x - m) / (mad * 1.4826)\n"
     ]
    },
    {
     "name": "stdout",
     "output_type": "stream",
     "text": [
      "."
     ]
    },
    {
     "name": "stderr",
     "output_type": "stream",
     "text": [
      "/home/alexgonzalez/Documents/TreeMazeAnalyses2/Utils/robust_stats.py:126: RuntimeWarning: invalid value encountered in subtract\n",
      "  mad = np.nanmedian(np.abs(x - m))\n",
      "/home/alexgonzalez/Documents/TreeMazeAnalyses2/Utils/robust_stats.py:128: RuntimeWarning: invalid value encountered in subtract\n",
      "  return (x - m) / (mad * 1.4826)\n"
     ]
    },
    {
     "name": "stdout",
     "output_type": "stream",
     "text": [
      "."
     ]
    },
    {
     "name": "stderr",
     "output_type": "stream",
     "text": [
      "/home/alexgonzalez/Documents/TreeMazeAnalyses2/Utils/robust_stats.py:126: RuntimeWarning: invalid value encountered in subtract\n",
      "  mad = np.nanmedian(np.abs(x - m))\n",
      "/home/alexgonzalez/Documents/TreeMazeAnalyses2/Utils/robust_stats.py:128: RuntimeWarning: invalid value encountered in subtract\n",
      "  return (x - m) / (mad * 1.4826)\n"
     ]
    },
    {
     "name": "stdout",
     "output_type": "stream",
     "text": [
      "..."
     ]
    },
    {
     "name": "stderr",
     "output_type": "stream",
     "text": [
      "/home/alexgonzalez/Documents/TreeMazeAnalyses2/Utils/robust_stats.py:126: RuntimeWarning: invalid value encountered in subtract\n",
      "  mad = np.nanmedian(np.abs(x - m))\n",
      "/home/alexgonzalez/Documents/TreeMazeAnalyses2/Utils/robust_stats.py:128: RuntimeWarning: invalid value encountered in subtract\n",
      "  return (x - m) / (mad * 1.4826)\n",
      "/home/alexgonzalez/Documents/TreeMazeAnalyses2/Analyses/cluster_match_functions.py:387: RuntimeWarning: invalid value encountered in sqrt\n",
      "  h = np.sqrt(h2)\n"
     ]
    },
    {
     "name": "stdout",
     "output_type": "stream",
     "text": [
      "."
     ]
    },
    {
     "name": "stderr",
     "output_type": "stream",
     "text": [
      "/home/alexgonzalez/Documents/TreeMazeAnalyses2/Utils/robust_stats.py:126: RuntimeWarning: invalid value encountered in subtract\n",
      "  mad = np.nanmedian(np.abs(x - m))\n",
      "/home/alexgonzalez/Documents/TreeMazeAnalyses2/Utils/robust_stats.py:128: RuntimeWarning: invalid value encountered in subtract\n",
      "  return (x - m) / (mad * 1.4826)\n"
     ]
    },
    {
     "name": "stdout",
     "output_type": "stream",
     "text": [
      "."
     ]
    },
    {
     "name": "stderr",
     "output_type": "stream",
     "text": [
      "/home/alexgonzalez/Documents/TreeMazeAnalyses2/Utils/robust_stats.py:126: RuntimeWarning: invalid value encountered in subtract\n",
      "  mad = np.nanmedian(np.abs(x - m))\n",
      "/home/alexgonzalez/Documents/TreeMazeAnalyses2/Utils/robust_stats.py:128: RuntimeWarning: invalid value encountered in subtract\n",
      "  return (x - m) / (mad * 1.4826)\n"
     ]
    },
    {
     "name": "stdout",
     "output_type": "stream",
     "text": [
      "."
     ]
    },
    {
     "name": "stderr",
     "output_type": "stream",
     "text": [
      "/home/alexgonzalez/Documents/TreeMazeAnalyses2/Utils/robust_stats.py:126: RuntimeWarning: invalid value encountered in subtract\n",
      "  mad = np.nanmedian(np.abs(x - m))\n",
      "/home/alexgonzalez/Documents/TreeMazeAnalyses2/Utils/robust_stats.py:128: RuntimeWarning: invalid value encountered in subtract\n",
      "  return (x - m) / (mad * 1.4826)\n"
     ]
    },
    {
     "name": "stdout",
     "output_type": "stream",
     "text": [
      "."
     ]
    },
    {
     "name": "stderr",
     "output_type": "stream",
     "text": [
      "/home/alexgonzalez/Documents/TreeMazeAnalyses2/Utils/robust_stats.py:126: RuntimeWarning: invalid value encountered in subtract\n",
      "  mad = np.nanmedian(np.abs(x - m))\n",
      "/home/alexgonzalez/Documents/TreeMazeAnalyses2/Utils/robust_stats.py:128: RuntimeWarning: invalid value encountered in subtract\n",
      "  return (x - m) / (mad * 1.4826)\n"
     ]
    },
    {
     "name": "stdout",
     "output_type": "stream",
     "text": [
      "."
     ]
    },
    {
     "name": "stderr",
     "output_type": "stream",
     "text": [
      "/home/alexgonzalez/Documents/TreeMazeAnalyses2/Utils/robust_stats.py:126: RuntimeWarning: invalid value encountered in subtract\n",
      "  mad = np.nanmedian(np.abs(x - m))\n",
      "/home/alexgonzalez/Documents/TreeMazeAnalyses2/Utils/robust_stats.py:128: RuntimeWarning: invalid value encountered in subtract\n",
      "  return (x - m) / (mad * 1.4826)\n"
     ]
    },
    {
     "name": "stdout",
     "output_type": "stream",
     "text": [
      "."
     ]
    }
   ],
   "source": [
    "cd = subject_info.get_cluster_dists()"
   ]
  },
  {
   "cell_type": "code",
   "execution_count": 76,
   "metadata": {
    "collapsed": true,
    "jupyter": {
     "outputs_hidden": true
    }
   },
   "outputs": [
    {
     "name": "stderr",
     "output_type": "stream",
     "text": [
      "/home/alexgonzalez/anaconda3/envs/spk_phy2/lib/python3.7/site-packages/numpy/core/fromnumeric.py:87: RuntimeWarning: invalid value encountered in reduce\n",
      "  return ufunc.reduce(obj, axis, dtype, out, **passkwargs)\n"
     ]
    },
    {
     "ename": "ValueError",
     "evalue": "Input contains NaN, infinity or a value too large for dtype('float32').",
     "output_type": "error",
     "traceback": [
      "\u001b[0;31m---------------------------------------------------------------------------\u001b[0m",
      "\u001b[0;31mValueError\u001b[0m                                Traceback (most recent call last)",
      "\u001b[0;32m<ipython-input-76-74e5d0d19294>\u001b[0m in \u001b[0;36m<module>\u001b[0;34m\u001b[0m\n\u001b[1;32m     27\u001b[0m \u001b[0;34m\u001b[0m\u001b[0m\n\u001b[1;32m     28\u001b[0m     \u001b[0;31m# Reduce dims\u001b[0m\u001b[0;34m\u001b[0m\u001b[0;34m\u001b[0m\u001b[0m\n\u001b[0;32m---> 29\u001b[0;31m     \u001b[0mX_2d\u001b[0m \u001b[0;34m=\u001b[0m \u001b[0mcmf\u001b[0m\u001b[0;34m.\u001b[0m\u001b[0mdim_reduction\u001b[0m\u001b[0;34m(\u001b[0m\u001b[0mX\u001b[0m\u001b[0;34m.\u001b[0m\u001b[0mreshape\u001b[0m\u001b[0;34m(\u001b[0m\u001b[0;34m-\u001b[0m\u001b[0;36m1\u001b[0m\u001b[0;34m,\u001b[0m \u001b[0mX\u001b[0m\u001b[0;34m.\u001b[0m\u001b[0mshape\u001b[0m\u001b[0;34m[\u001b[0m\u001b[0;34m-\u001b[0m\u001b[0;36m1\u001b[0m\u001b[0;34m]\u001b[0m\u001b[0;34m)\u001b[0m\u001b[0;34m,\u001b[0m \u001b[0mmethod\u001b[0m\u001b[0;34m=\u001b[0m\u001b[0mdim_reduc_method\u001b[0m\u001b[0;34m)\u001b[0m\u001b[0;34m\u001b[0m\u001b[0m\n\u001b[0m\u001b[1;32m     30\u001b[0m \u001b[0;34m\u001b[0m\u001b[0m\n\u001b[1;32m     31\u001b[0m     \u001b[0;31m# compute covariance and location\u001b[0m\u001b[0;34m\u001b[0m\u001b[0;34m\u001b[0m\u001b[0m\n",
      "\u001b[0;32m~/Documents/TreeMazeAnalyses2/Analyses/cluster_match_functions.py\u001b[0m in \u001b[0;36mdim_reduction\u001b[0;34m(data, method, random_seed, **method_kwargs)\u001b[0m\n\u001b[1;32m     72\u001b[0m         \u001b[0;32mreturn\u001b[0m\u001b[0;34m\u001b[0m\u001b[0m\n\u001b[1;32m     73\u001b[0m \u001b[0;34m\u001b[0m\u001b[0m\n\u001b[0;32m---> 74\u001b[0;31m     \u001b[0;32mreturn\u001b[0m \u001b[0mmodel\u001b[0m\u001b[0;34m.\u001b[0m\u001b[0mfit_transform\u001b[0m\u001b[0;34m(\u001b[0m\u001b[0mdata\u001b[0m\u001b[0;34m)\u001b[0m\u001b[0;34m\u001b[0m\u001b[0m\n\u001b[0m\u001b[1;32m     75\u001b[0m \u001b[0;34m\u001b[0m\u001b[0m\n\u001b[1;32m     76\u001b[0m \u001b[0;34m\u001b[0m\u001b[0m\n",
      "\u001b[0;32m~/anaconda3/envs/spk_phy2/lib/python3.7/site-packages/umap/umap_.py\u001b[0m in \u001b[0;36mfit_transform\u001b[0;34m(self, X, y)\u001b[0m\n\u001b[1;32m   2633\u001b[0m             \u001b[0mLocal\u001b[0m \u001b[0mradii\u001b[0m \u001b[0mof\u001b[0m \u001b[0mdata\u001b[0m \u001b[0mpoints\u001b[0m \u001b[0;32min\u001b[0m \u001b[0mthe\u001b[0m \u001b[0membedding\u001b[0m \u001b[0;34m(\u001b[0m\u001b[0mlog\u001b[0m\u001b[0;34m-\u001b[0m\u001b[0mtransformed\u001b[0m\u001b[0;34m)\u001b[0m\u001b[0;34m.\u001b[0m\u001b[0;34m\u001b[0m\u001b[0m\n\u001b[1;32m   2634\u001b[0m         \"\"\"\n\u001b[0;32m-> 2635\u001b[0;31m         \u001b[0mself\u001b[0m\u001b[0;34m.\u001b[0m\u001b[0mfit\u001b[0m\u001b[0;34m(\u001b[0m\u001b[0mX\u001b[0m\u001b[0;34m,\u001b[0m \u001b[0my\u001b[0m\u001b[0;34m)\u001b[0m\u001b[0;34m\u001b[0m\u001b[0m\n\u001b[0m\u001b[1;32m   2636\u001b[0m         \u001b[0;32mif\u001b[0m \u001b[0mself\u001b[0m\u001b[0;34m.\u001b[0m\u001b[0mtransform_mode\u001b[0m \u001b[0;34m==\u001b[0m \u001b[0;34m\"embedding\"\u001b[0m\u001b[0;34m:\u001b[0m\u001b[0;34m\u001b[0m\u001b[0m\n\u001b[1;32m   2637\u001b[0m             \u001b[0;32mif\u001b[0m \u001b[0mself\u001b[0m\u001b[0;34m.\u001b[0m\u001b[0moutput_dens\u001b[0m\u001b[0;34m:\u001b[0m\u001b[0;34m\u001b[0m\u001b[0m\n",
      "\u001b[0;32m~/anaconda3/envs/spk_phy2/lib/python3.7/site-packages/umap/umap_.py\u001b[0m in \u001b[0;36mfit\u001b[0;34m(self, X, y)\u001b[0m\n\u001b[1;32m   2141\u001b[0m         \"\"\"\n\u001b[1;32m   2142\u001b[0m \u001b[0;34m\u001b[0m\u001b[0m\n\u001b[0;32m-> 2143\u001b[0;31m         \u001b[0mX\u001b[0m \u001b[0;34m=\u001b[0m \u001b[0mcheck_array\u001b[0m\u001b[0;34m(\u001b[0m\u001b[0mX\u001b[0m\u001b[0;34m,\u001b[0m \u001b[0mdtype\u001b[0m\u001b[0;34m=\u001b[0m\u001b[0mnp\u001b[0m\u001b[0;34m.\u001b[0m\u001b[0mfloat32\u001b[0m\u001b[0;34m,\u001b[0m \u001b[0maccept_sparse\u001b[0m\u001b[0;34m=\u001b[0m\u001b[0;34m\"csr\"\u001b[0m\u001b[0;34m,\u001b[0m \u001b[0morder\u001b[0m\u001b[0;34m=\u001b[0m\u001b[0;34m\"C\"\u001b[0m\u001b[0;34m)\u001b[0m\u001b[0;34m\u001b[0m\u001b[0m\n\u001b[0m\u001b[1;32m   2144\u001b[0m         \u001b[0mself\u001b[0m\u001b[0;34m.\u001b[0m\u001b[0m_raw_data\u001b[0m \u001b[0;34m=\u001b[0m \u001b[0mX\u001b[0m\u001b[0;34m\u001b[0m\u001b[0m\n\u001b[1;32m   2145\u001b[0m \u001b[0;34m\u001b[0m\u001b[0m\n",
      "\u001b[0;32m~/anaconda3/envs/spk_phy2/lib/python3.7/site-packages/sklearn/utils/validation.py\u001b[0m in \u001b[0;36minner_f\u001b[0;34m(*args, **kwargs)\u001b[0m\n\u001b[1;32m     70\u001b[0m                           FutureWarning)\n\u001b[1;32m     71\u001b[0m         \u001b[0mkwargs\u001b[0m\u001b[0;34m.\u001b[0m\u001b[0mupdate\u001b[0m\u001b[0;34m(\u001b[0m\u001b[0;34m{\u001b[0m\u001b[0mk\u001b[0m\u001b[0;34m:\u001b[0m \u001b[0marg\u001b[0m \u001b[0;32mfor\u001b[0m \u001b[0mk\u001b[0m\u001b[0;34m,\u001b[0m \u001b[0marg\u001b[0m \u001b[0;32min\u001b[0m \u001b[0mzip\u001b[0m\u001b[0;34m(\u001b[0m\u001b[0msig\u001b[0m\u001b[0;34m.\u001b[0m\u001b[0mparameters\u001b[0m\u001b[0;34m,\u001b[0m \u001b[0margs\u001b[0m\u001b[0;34m)\u001b[0m\u001b[0;34m}\u001b[0m\u001b[0;34m)\u001b[0m\u001b[0;34m\u001b[0m\u001b[0m\n\u001b[0;32m---> 72\u001b[0;31m         \u001b[0;32mreturn\u001b[0m \u001b[0mf\u001b[0m\u001b[0;34m(\u001b[0m\u001b[0;34m**\u001b[0m\u001b[0mkwargs\u001b[0m\u001b[0;34m)\u001b[0m\u001b[0;34m\u001b[0m\u001b[0m\n\u001b[0m\u001b[1;32m     73\u001b[0m     \u001b[0;32mreturn\u001b[0m \u001b[0minner_f\u001b[0m\u001b[0;34m\u001b[0m\u001b[0m\n\u001b[1;32m     74\u001b[0m \u001b[0;34m\u001b[0m\u001b[0m\n",
      "\u001b[0;32m~/anaconda3/envs/spk_phy2/lib/python3.7/site-packages/sklearn/utils/validation.py\u001b[0m in \u001b[0;36mcheck_array\u001b[0;34m(array, accept_sparse, accept_large_sparse, dtype, order, copy, force_all_finite, ensure_2d, allow_nd, ensure_min_samples, ensure_min_features, estimator)\u001b[0m\n\u001b[1;32m    643\u001b[0m         \u001b[0;32mif\u001b[0m \u001b[0mforce_all_finite\u001b[0m\u001b[0;34m:\u001b[0m\u001b[0;34m\u001b[0m\u001b[0m\n\u001b[1;32m    644\u001b[0m             _assert_all_finite(array,\n\u001b[0;32m--> 645\u001b[0;31m                                allow_nan=force_all_finite == 'allow-nan')\n\u001b[0m\u001b[1;32m    646\u001b[0m \u001b[0;34m\u001b[0m\u001b[0m\n\u001b[1;32m    647\u001b[0m     \u001b[0;32mif\u001b[0m \u001b[0mensure_min_samples\u001b[0m \u001b[0;34m>\u001b[0m \u001b[0;36m0\u001b[0m\u001b[0;34m:\u001b[0m\u001b[0;34m\u001b[0m\u001b[0m\n",
      "\u001b[0;32m~/anaconda3/envs/spk_phy2/lib/python3.7/site-packages/sklearn/utils/validation.py\u001b[0m in \u001b[0;36m_assert_all_finite\u001b[0;34m(X, allow_nan, msg_dtype)\u001b[0m\n\u001b[1;32m     97\u001b[0m                     \u001b[0mmsg_err\u001b[0m\u001b[0;34m.\u001b[0m\u001b[0mformat\u001b[0m\u001b[0;34m\u001b[0m\u001b[0m\n\u001b[1;32m     98\u001b[0m                     (type_err,\n\u001b[0;32m---> 99\u001b[0;31m                      msg_dtype if msg_dtype is not None else X.dtype)\n\u001b[0m\u001b[1;32m    100\u001b[0m             )\n\u001b[1;32m    101\u001b[0m     \u001b[0;31m# for object dtype data, we only check for NaNs (GH-13254)\u001b[0m\u001b[0;34m\u001b[0m\u001b[0;34m\u001b[0m\u001b[0m\n",
      "\u001b[0;31mValueError\u001b[0m: Input contains NaN, infinity or a value too large for dtype('float32')."
     ]
    }
   ],
   "source": [
    "matching_analyses = subject_info.get_session_match_analysis()\n",
    "n_wf = 1000\n",
    "dim_reduc_method = 'umap'\n",
    "n_samps = 32 * 4\n",
    "cluster_dists = {k: {} for k in np.arange(len(matching_analyses))}\n",
    "\n",
    "for analysis_id, analysis in enumerate(matching_analyses):\n",
    "    tt, d, sessions, n_clusters, n_session_units = analysis\n",
    "\n",
    "    X = np.empty((0, n_wf, n_samps), dtype=np.float16)\n",
    "    for session in sessions:\n",
    "        cluster_ids = subject_info.session_clusters[session]['cell_IDs'][tt]\n",
    "        session_cell_wf = subject_info.get_session_tt_wf(session, tt, cluster_ids=cluster_ids, n_wf=n_wf)\n",
    "        X = np.concatenate((X, session_cell_wf), axis=0)\n",
    "\n",
    "    X[np.isnan(X)]=0\n",
    "    X[np.isinf(X)]=0\n",
    "\n",
    "    # Obtain cluster label namess\n",
    "    cluster_labels = np.arange(n_clusters).repeat(n_wf)\n",
    "\n",
    "    # Obtain cluster labels & mapping between labels [this part can be improved]\n",
    "    cl_names = []\n",
    "    for session_num, session in enumerate(sessions):\n",
    "        cluster_ids = subject_info.session_clusters[session]['cell_IDs'][tt]\n",
    "        for cl_num, cl_id in enumerate(cluster_ids):\n",
    "            cl_name = f\"{session}-tt{tt}_d{d}_cl{cl_id}\"\n",
    "            cl_names.append(cl_name)\n",
    "\n",
    "    # Reduce dims\n",
    "    X_2d = cmf.dim_reduction(X.reshape(-1, X.shape[-1]), method=dim_reduc_method)\n",
    "\n",
    "    # compute covariance and location\n",
    "    clusters_loc, clusters_cov = cmf.get_clusters_moments(data=X_2d, labels=cluster_labels)\n",
    "\n",
    "    # compute distance metrics\n",
    "    dist_mats = cmf.get_clusters_all_dists(clusters_loc, clusters_cov, data=X_2d, labels=cluster_labels)\n",
    "\n",
    "    # create data frames with labeled cluster names\n",
    "    dists_mats_df = {}\n",
    "    for metric, dist_mat in dist_mats.items():\n",
    "        dists_mats_df[metric] = pd.DataFrame(dist_mat, index=cl_names, columns=cl_names)"
   ]
  },
  {
   "cell_type": "code",
   "execution_count": 66,
   "metadata": {},
   "outputs": [],
   "source": [
    "bad_wf_idx = np.where(np.isnan(X))"
   ]
  },
  {
   "cell_type": "code",
   "execution_count": 8,
   "metadata": {},
   "outputs": [
    {
     "data": {
      "text/plain": [
       "array([ 0.,  1.,  2., nan,  4., inf,  6.,  7.,  8.,  9.])"
      ]
     },
     "execution_count": 8,
     "metadata": {},
     "output_type": "execute_result"
    }
   ],
   "source": [
    "x = np.arange(10, dtype=float)\n",
    "x[5] = np.inf\n",
    "x[3] = np.nan\n",
    "x"
   ]
  },
  {
   "cell_type": "code",
   "execution_count": 9,
   "metadata": {},
   "outputs": [
    {
     "data": {
      "text/plain": [
       "6.0"
      ]
     },
     "execution_count": 9,
     "metadata": {},
     "output_type": "execute_result"
    }
   ],
   "source": [
    "np.nanmedian(x)"
   ]
  },
  {
   "cell_type": "code",
   "execution_count": 12,
   "metadata": {},
   "outputs": [
    {
     "name": "stderr",
     "output_type": "stream",
     "text": [
      "/home/alexgonzalez/anaconda3/envs/spk_phy2/lib/python3.7/site-packages/ipykernel/ipkernel.py:287: DeprecationWarning: `should_run_async` will not call `transform_cell` automatically in the future. Please pass the result to `transformed_cell` argument and any exception that happen during thetransform in `preprocessing_exc_tuple` in IPython 7.17 and above.\n",
      "  and should_run_async(code)\n"
     ]
    },
    {
     "ename": "NameError",
     "evalue": "name 'session_info' is not defined",
     "output_type": "error",
     "traceback": [
      "\u001b[0;31m---------------------------------------------------------------------------\u001b[0m",
      "\u001b[0;31mNameError\u001b[0m                                 Traceback (most recent call last)",
      "\u001b[0;32m<ipython-input-12-64d3371e341f>\u001b[0m in \u001b[0;36m<module>\u001b[0;34m\u001b[0m\n\u001b[0;32m----> 1\u001b[0;31m \u001b[0msession_info\u001b[0m\u001b[0;34m\u001b[0m\u001b[0m\n\u001b[0m",
      "\u001b[0;31mNameError\u001b[0m: name 'session_info' is not defined"
     ]
    }
   ],
   "source": [
    "session_info"
   ]
  }
 ],
 "metadata": {
  "kernelspec": {
   "display_name": "Python 3",
   "language": "python",
   "name": "python3"
  },
  "language_info": {
   "codemirror_mode": {
    "name": "ipython",
    "version": 3
   },
   "file_extension": ".py",
   "mimetype": "text/x-python",
   "name": "python",
   "nbconvert_exporter": "python",
   "pygments_lexer": "ipython3",
   "version": "3.7.0"
  },
  "widgets": {
   "application/vnd.jupyter.widget-state+json": {
    "state": {},
    "version_major": 2,
    "version_minor": 0
   }
  }
 },
 "nbformat": 4,
 "nbformat_minor": 4
}
