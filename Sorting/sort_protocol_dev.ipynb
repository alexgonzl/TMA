{
 "cells": [
  {
   "cell_type": "code",
   "execution_count": 40,
   "metadata": {},
   "outputs": [],
   "source": [
    "import sys\n",
    "import os\n",
    "import shutil\n",
    "import time\n",
    "\n",
    "import traceback\n",
    "import signal as sg\n",
    "\n",
    "from pathlib import Path\n",
    "import h5py\n",
    "import json\n",
    "import pickle\n",
    "\n",
    "import scipy\n",
    "import numpy as np\n",
    "import pandas as pd\n",
    "\n",
    "import seaborn as sns\n",
    "sns.set(style='whitegrid', palette='muted')\n",
    "\n",
    "## added TreeMazeanalyses folder using the following command\n",
    "## conda develop /home/alexgonzalez/Documents/TreeMazeAnalyses2\n",
    "import TreeMazeAnalyses2.Utils.robust_stats as rs\n",
    "import TreeMazeAnalyses2.Pre_Processing.pre_process_functions as pp\n",
    "import TreeMazeAnalyses2.Sorting.sort_functions as sf\n",
    "\n",
    "import spikeextractors as se\n",
    "import spikesorters as ss\n",
    "\n",
    "sns.set(style= 'whitegrid', palette= 'muted')\n",
    "\n",
    "import signal as sg\n",
    "\n",
    "from importlib import reload\n",
    "\n",
    "class timeout:\n",
    "    def __init__(self, seconds=1, error_message='Timeout'):\n",
    "        self.seconds = seconds\n",
    "        self.error_message = error_message\n",
    "    def handle_timeout(self, signum, frame):\n",
    "        raise TimeoutError(self.error_message)\n",
    "    def __enter__(self):\n",
    "        sg.signal(sg.SIGALRM, self.handle_timeout)\n",
    "        sg.alarm(self.seconds)\n",
    "    def __exit__(self, type, value, traceback):\n",
    "        sg.alarm(0)\n"
   ]
  },
  {
   "cell_type": "code",
   "execution_count": 14,
   "metadata": {},
   "outputs": [
    {
     "name": "stdout",
     "output_type": "stream",
     "text": [
      "/home/alexgonzalez/Documents\n",
      "/home/alexgonzalez/Documents\n"
     ]
    }
   ],
   "source": [
    "print(os.path.dirname(os.path.abspath('__file__')))\n",
    "print(os.getcwd())\n"
   ]
  },
  {
   "cell_type": "code",
   "execution_count": 15,
   "metadata": {},
   "outputs": [],
   "source": [
    "subject_id = 'Li'\n",
    "sorter = 'KS2'\n",
    "data_folder = Path('/Data_SSD2T/Data/PreProcessed/', subject_id)\n",
    "\n",
    "task_table_file = data_folder / 'TasksDir' / ('sort_{}_{}.json'.format(subject_id,sorter))\n",
    "with task_table_file.open(mode='r') as f:\n",
    "    task_table = json.load(f)\n",
    "    "
   ]
  },
  {
   "cell_type": "code",
   "execution_count": 17,
   "metadata": {},
   "outputs": [
    {
     "data": {
      "text/plain": [
       "{'session_name': 'Li_T3g_052818',\n",
       " 'session_path': '/Data_SSD2T/Data/PreProcessed/Li/Li_T3g_052818',\n",
       " 'files': {'1': {'session': 'Li_T3g_052818',\n",
       "   'task_type': 'KS2',\n",
       "   'file_path': '/Data_SSD2T/Data/PreProcessed/Li/Li_T3g_052818/tt_2.npy',\n",
       "   'file_header_path': '/Data_SSD2T/Data/PreProcessed/Li/Li_T3g_052818/tt_2_info.pickle',\n",
       "   'tt_id': '2',\n",
       "   'save_path': '/Data_SSD2T/Data/Sorted/Li/Li_T3g_052818/tt_2'},\n",
       "  '2': {'session': 'Li_T3g_052818',\n",
       "   'task_type': 'KS2',\n",
       "   'file_path': '/Data_SSD2T/Data/PreProcessed/Li/Li_T3g_052818/tt_5.npy',\n",
       "   'file_header_path': '/Data_SSD2T/Data/PreProcessed/Li/Li_T3g_052818/tt_5_info.pickle',\n",
       "   'tt_id': '5',\n",
       "   'save_path': '/Data_SSD2T/Data/Sorted/Li/Li_T3g_052818/tt_5'},\n",
       "  '3': {'session': 'Li_T3g_052818',\n",
       "   'task_type': 'KS2',\n",
       "   'file_path': '/Data_SSD2T/Data/PreProcessed/Li/Li_T3g_052818/tt_6.npy',\n",
       "   'file_header_path': '/Data_SSD2T/Data/PreProcessed/Li/Li_T3g_052818/tt_6_info.pickle',\n",
       "   'tt_id': '6',\n",
       "   'save_path': '/Data_SSD2T/Data/Sorted/Li/Li_T3g_052818/tt_6'}},\n",
       " 'n_files': 3,\n",
       " 'save_path': '/Data_SSD2T/Data/Sorted/Li/Li_T3g_052818'}"
      ]
     },
     "execution_count": 17,
     "metadata": {},
     "output_type": "execute_result"
    }
   ],
   "source": [
    "task_table['1'][]\n",
    "    "
   ]
  },
  {
   "cell_type": "code",
   "execution_count": 18,
   "metadata": {},
   "outputs": [
    {
     "name": "stdout",
     "output_type": "stream",
     "text": [
      "Processing Session Li_T3g_052818\n"
     ]
    }
   ],
   "source": [
    "task_num = 1\n",
    "task_num_str=str(task_num)\n",
    "tasks_info = task_table[task_num_str]\n",
    "session_name = tasks_info['session_name']\n",
    "n_files = tasks_info['n_files']\n",
    "task_list = tasks_info['files']\n",
    "print(\"Processing Session {}\".format(session_name))"
   ]
  },
  {
   "cell_type": "code",
   "execution_count": 23,
   "metadata": {},
   "outputs": [],
   "source": [
    "# load task data\n",
    "data = np.load(task['file_path'])\n",
    "with open(task['file_header_path'],'rb') as f:\n",
    "    data_info = pickle.load(f)"
   ]
  },
  {
   "cell_type": "code",
   "execution_count": 35,
   "metadata": {},
   "outputs": [
    {
     "name": "stdout",
     "output_type": "stream",
     "text": [
      "Data Information Fields:\n",
      "['data_dir', 'session', 'fs', 'tt_num', 'n_chans', 'chan_files', 'a_ds', 'ref_chan', 'chan_ids', 'input_range', 'tt_geom', 'bad_chan_thr', 'n_samps', 'tB', 'tE', 'Raw', 'chan_code', 'bad_chans']\n"
     ]
    }
   ],
   "source": [
    "print('Data Information Fields:')\n",
    "print(list(data_info.keys()))\n"
   ]
  },
  {
   "cell_type": "code",
   "execution_count": 22,
   "metadata": {},
   "outputs": [
    {
     "name": "stdout",
     "output_type": "stream",
     "text": [
      "....\n",
      "Time to spk filter data 4.16s\n"
     ]
    }
   ],
   "source": [
    "# filter data to correct range and save\n",
    "SOS,_ = pp.get_sos_filter_bank(['Sp'],fs=info['fs'])\n",
    "spk_data = np.zeros_like(data)\n",
    "\n",
    "assert info['n_chans']==spk_data.shape[0], \"Inconsistent formating in the data files. Aborting.\"\n",
    "\n",
    "t0 = time.time()\n",
    "for ch in range(info['n_chans']):\n",
    "    spk_data[ch] = scipy.signal.sosfiltfilt(SOS, data[ch])\n",
    "    print('',end='.')\n",
    "t1 = time.time()\n",
    "\n",
    "print('\\nTime to spk filter data {0:0.2f}s'.format(t1-t0))"
   ]
  },
  {
   "cell_type": "code",
   "execution_count": 36,
   "metadata": {},
   "outputs": [
    {
     "name": "stdout",
     "output_type": "stream",
     "text": [
      "Channels Median Absolute Deviation in the Spike Frequency Range:\n",
      "[7.21095753 2.83736539 2.82375073 2.82144165]\n"
     ]
    }
   ],
   "source": [
    "pp = reload(pp)\n",
    "chan_masks = pp.create_chan_masks(data_info['Raw']['ClippedSegs'],data_info['n_samps'])\n",
    "chan_mad = pp.get_signals_mad(spk_data,chan_masks)\n",
    "print('Channels Median Absolute Deviation in the Spike Frequency Range:')\n",
    "print(chan_mad)"
   ]
  },
  {
   "cell_type": "code",
   "execution_count": 42,
   "metadata": {},
   "outputs": [],
   "source": [
    "spk_masked_signals = se.NumpyRecordingExtractor(timeseries=spk_data*chan_masks, geom=data_info['tt_geom'], sampling_frequency=data_info['fs'])"
   ]
  },
  {
   "cell_type": "code",
   "execution_count": null,
   "metadata": {},
   "outputs": [],
   "source": []
  }
 ],
 "metadata": {
  "kernelspec": {
   "display_name": "Python 3",
   "language": "python",
   "name": "python3"
  },
  "language_info": {
   "codemirror_mode": {
    "name": "ipython",
    "version": 3
   },
   "file_extension": ".py",
   "mimetype": "text/x-python",
   "name": "python",
   "nbconvert_exporter": "python",
   "pygments_lexer": "ipython3",
   "version": "3.7.0"
  }
 },
 "nbformat": 4,
 "nbformat_minor": 4
}
