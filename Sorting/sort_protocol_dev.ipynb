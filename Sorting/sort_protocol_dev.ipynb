{
 "cells": [
  {
   "cell_type": "code",
   "execution_count": 1,
   "metadata": {},
   "outputs": [],
   "source": [
    "import sys\n",
    "import os\n",
    "import shutil\n",
    "import time\n",
    "\n",
    "import traceback\n",
    "import signal as sg\n",
    "\n",
    "from pathlib import Path\n",
    "import h5py\n",
    "import json\n",
    "import pickle\n",
    "\n",
    "import scipy\n",
    "import numpy as np\n",
    "import pandas as pd\n",
    "\n",
    "import seaborn as sns\n",
    "sns.set(style='whitegrid', palette='muted')\n",
    "\n",
    "## added TreeMazeanalyses folder using the following command\n",
    "## conda develop /home/alexgonzalez/Documents/TreeMazeAnalyses2\n",
    "import TreeMazeAnalyses2.Utils.robust_stats as rs\n",
    "import TreeMazeAnalyses2.Pre_Processing.pre_process_functions as pp\n",
    "import TreeMazeAnalyses2.Sorting.sort_functions as sf\n",
    "\n",
    "import spikeextractors as se\n",
    "import spikesorters as ss\n",
    "import spiketoolkit as st\n",
    "\n",
    "sns.set(style= 'whitegrid', palette= 'muted')\n",
    "\n",
    "import signal as sg\n",
    "\n",
    "from importlib import reload\n",
    "\n",
    "class timeout:\n",
    "    def __init__(self, seconds=1, error_message='Timeout'):\n",
    "        self.seconds = seconds\n",
    "        self.error_message = error_message\n",
    "    def handle_timeout(self, signum, frame):\n",
    "        raise TimeoutError(self.error_message)\n",
    "    def __enter__(self):\n",
    "        sg.signal(sg.SIGALRM, self.handle_timeout)\n",
    "        sg.alarm(self.seconds)\n",
    "    def __exit__(self, type, value, traceback):\n",
    "        sg.alarm(0)\n"
   ]
  },
  {
   "cell_type": "code",
   "execution_count": 2,
   "metadata": {},
   "outputs": [
    {
     "name": "stdout",
     "output_type": "stream",
     "text": [
      "/home/alexgonzalez/Documents\n",
      "/home/alexgonzalez/Documents\n"
     ]
    }
   ],
   "source": [
    "print(os.path.dirname(os.path.abspath('__file__')))\n",
    "print(os.getcwd())\n"
   ]
  },
  {
   "cell_type": "code",
   "execution_count": 3,
   "metadata": {},
   "outputs": [],
   "source": [
    "subject_id = 'Li'\n",
    "sorter = 'KS2'\n",
    "data_folder = Path('/Data_SSD2T/Data/PreProcessed/', subject_id)\n",
    "\n",
    "task_table_file = data_folder / 'TasksDir' / ('sort_{}_{}.json'.format(subject_id,sorter))\n",
    "with task_table_file.open(mode='r') as f:\n",
    "    task_table = json.load(f)\n",
    "\n"
   ]
  },
  {
   "cell_type": "code",
   "execution_count": 5,
   "metadata": {},
   "outputs": [
    {
     "data": {
      "text/plain": [
       "{'session_name': 'Li_T3g_052818',\n",
       " 'session_path': '/Data_SSD2T/Data/PreProcessed/Li/Li_T3g_052818',\n",
       " 'files': {'1': {'session': 'Li_T3g_052818',\n",
       "   'task_type': 'KS2',\n",
       "   'file_path': '/Data_SSD2T/Data/PreProcessed/Li/Li_T3g_052818/tt_2.npy',\n",
       "   'file_header_path': '/Data_SSD2T/Data/PreProcessed/Li/Li_T3g_052818/tt_2_info.pickle',\n",
       "   'tt_id': '2',\n",
       "   'save_path': '/Data_SSD2T/Data/Sorted/Li/Li_T3g_052818/tt_2'},\n",
       "  '2': {'session': 'Li_T3g_052818',\n",
       "   'task_type': 'KS2',\n",
       "   'file_path': '/Data_SSD2T/Data/PreProcessed/Li/Li_T3g_052818/tt_5.npy',\n",
       "   'file_header_path': '/Data_SSD2T/Data/PreProcessed/Li/Li_T3g_052818/tt_5_info.pickle',\n",
       "   'tt_id': '5',\n",
       "   'save_path': '/Data_SSD2T/Data/Sorted/Li/Li_T3g_052818/tt_5'},\n",
       "  '3': {'session': 'Li_T3g_052818',\n",
       "   'task_type': 'KS2',\n",
       "   'file_path': '/Data_SSD2T/Data/PreProcessed/Li/Li_T3g_052818/tt_6.npy',\n",
       "   'file_header_path': '/Data_SSD2T/Data/PreProcessed/Li/Li_T3g_052818/tt_6_info.pickle',\n",
       "   'tt_id': '6',\n",
       "   'save_path': '/Data_SSD2T/Data/Sorted/Li/Li_T3g_052818/tt_6'}},\n",
       " 'n_files': 3,\n",
       " 'save_path': '/Data_SSD2T/Data/Sorted/Li/Li_T3g_052818'}"
      ]
     },
     "execution_count": 5,
     "metadata": {},
     "output_type": "execute_result"
    }
   ],
   "source": [
    "task_table['1']    "
   ]
  },
  {
   "cell_type": "code",
   "execution_count": 6,
   "metadata": {},
   "outputs": [
    {
     "name": "stdout",
     "output_type": "stream",
     "text": [
      "Processing Session Li_T3g_052818\n",
      " -- Task KS2 on tt 2\n"
     ]
    }
   ],
   "source": [
    "task_num = 1\n",
    "task_num_str=str(task_num)\n",
    "tasks_info = task_table[task_num_str]\n",
    "session_name = tasks_info['session_name']\n",
    "n_files = tasks_info['n_files']\n",
    "subtask_list = tasks_info['files']\n",
    "print(\"Processing Session {}\".format(session_name))\n",
    "\n",
    "subtask_num = 1\n",
    "subtask_num_str = str(subtask_num)\n",
    "active_subtask = subtask_list[subtask_num_str]\n",
    "\n",
    "print(\" -- Task {} on tt {}\".format(active_subtask['task_type'], active_subtask['tt_id']))"
   ]
  },
  {
   "cell_type": "code",
   "execution_count": 7,
   "metadata": {},
   "outputs": [],
   "source": [
    "# load task data\n",
    "data = np.load(active_subtask['file_path'])\n",
    "with open(active_subtask['file_header_path'],'rb') as f:\n",
    "    data_info = pickle.load(f)"
   ]
  },
  {
   "cell_type": "code",
   "execution_count": 8,
   "metadata": {},
   "outputs": [
    {
     "name": "stdout",
     "output_type": "stream",
     "text": [
      "Data Information Fields:\n",
      "['data_dir', 'session', 'fs', 'tt_num', 'n_chans', 'chan_files', 'a_ds', 'ref_chan', 'chan_ids', 'input_range', 'tt_geom', 'bad_chan_thr', 'n_samps', 'tB', 'tE', 'Raw', 'chan_code', 'bad_chans']\n"
     ]
    }
   ],
   "source": [
    "print('Data Information Fields:')\n",
    "print(list(data_info.keys()))\n"
   ]
  },
  {
   "cell_type": "code",
   "execution_count": 11,
   "metadata": {},
   "outputs": [
    {
     "data": {
      "text/plain": [
       "{'session': 'Li_T3g_052818',\n",
       " 'task_type': 'KS2',\n",
       " 'file_path': '/Data_SSD2T/Data/PreProcessed/Li/Li_T3g_052818/tt_2.npy',\n",
       " 'file_header_path': '/Data_SSD2T/Data/PreProcessed/Li/Li_T3g_052818/tt_2_info.pickle',\n",
       " 'tt_id': '2',\n",
       " 'save_path': '/Data_SSD2T/Data/Sorted/Li/Li_T3g_052818/tt_2'}"
      ]
     },
     "execution_count": 11,
     "metadata": {},
     "output_type": "execute_result"
    }
   ],
   "source": [
    "active_subtask\n"
   ]
  },
  {
   "cell_type": "code",
   "execution_count": 15,
   "metadata": {},
   "outputs": [
    {
     "name": "stdout",
     "output_type": "stream",
     "text": [
      "....\n",
      "Time to spk filter data 4.22s\n"
     ]
    }
   ],
   "source": [
    "# filter data to correct range and save\n",
    "SOS,_ = pp.get_sos_filter_bank(['Sp'],fs=data_info['fs'])\n",
    "spk_data = np.zeros_like(data)\n",
    "\n",
    "assert data_info['n_chans']==spk_data.shape[0], \"Inconsistent formating in the data files. Aborting.\"\n",
    "\n",
    "t0 = time.time()\n",
    "for ch in range(data_info['n_chans']):\n",
    "    spk_data[ch] = scipy.signal.sosfiltfilt(SOS, data[ch])\n",
    "    print('',end='.')\n",
    "t1 = time.time()\n",
    "\n",
    "print('\\nTime to spk filter data {0:0.2f}s'.format(t1-t0))"
   ]
  },
  {
   "cell_type": "code",
   "execution_count": 16,
   "metadata": {},
   "outputs": [
    {
     "name": "stdout",
     "output_type": "stream",
     "text": [
      "Channels Median Absolute Deviation in the Spike Frequency Range:\n",
      "[2.75488281 2.66661787 7.86177588 7.71271038]\n"
     ]
    }
   ],
   "source": [
    "pp = reload(pp)\n",
    "chan_masks = pp.create_chan_masks(data_info['Raw']['ClippedSegs'],data_info['n_samps'])\n",
    "chan_mad = pp.get_signals_mad(spk_data,chan_masks)\n",
    "data_info['Spk'] = {'mad':chan_mad}\n",
    "print('Channels Median Absolute Deviation in the Spike Frequency Range:')\n",
    "print(chan_mad)\n",
    "\n",
    "\n",
    "updated_file_header_path = Path(active_subtask['save_path'], Path(active_subtask['file_header_path']).name)\n",
    "with updated_file_header_path.open(mode='wb') as file_handle:\n",
    "    pickle.dump(data_info, file_handle, protocol = pickle.HIGHEST_PROTOCOL )\n",
    "    "
   ]
  },
  {
   "cell_type": "code",
   "execution_count": 74,
   "metadata": {},
   "outputs": [
    {
     "data": {
      "text/plain": [
       "PosixPath('/Data_SSD2T/Data/Sorted/Li/Li_T3g_052818/tt_2/tt_2_info.pickle')"
      ]
     },
     "execution_count": 74,
     "metadata": {},
     "output_type": "execute_result"
    }
   ],
   "source": []
  },
  {
   "cell_type": "code",
   "execution_count": 73,
   "metadata": {},
   "outputs": [
    {
     "data": {
      "text/plain": [
       "'/Data_SSD2T/Data/Sorted/Li/Li_T3g_052818/tt_2'"
      ]
     },
     "execution_count": 73,
     "metadata": {},
     "output_type": "execute_result"
    }
   ],
   "source": []
  },
  {
   "cell_type": "code",
   "execution_count": 17,
   "metadata": {},
   "outputs": [],
   "source": [
    "spk_data_masked = se.NumpyRecordingExtractor(timeseries=spk_data*chan_masks, geom=data_info['tt_geom'], sampling_frequency=data_info['fs'])"
   ]
  },
  {
   "cell_type": "code",
   "execution_count": 264,
   "metadata": {},
   "outputs": [
    {
     "name": "stdout",
     "output_type": "stream",
     "text": [
      "Setting KILOSORT2_PATH environment variable for subprocess calls to: /home/alexgonzalez/Documents/MATLAB/Kilosort2\n",
      "\n",
      "Sorting with KS2\n",
      "RUNNING SHELL SCRIPT: /Data_SSD2T/Data/Sorted/Li/Li_T3g_052818/tt_2/KS2/tmp_KS2/run_kilosort2.sh\n",
      "\n",
      "Permission Error. Trying to run algorithm locally.\n",
      "Time to sort using KS2 = 55.41s\n",
      "Found 16 clusters\n"
     ]
    }
   ],
   "source": [
    "pp = reload(pp)\n",
    "sf = reload(sf)\n",
    "save_path = Path(active_subtask['save_path'], sorter)\n",
    "out = sf.sort_data(spk_data_masked, save_path, sorter = active_subtask['task_type'])\n"
   ]
  },
  {
   "cell_type": "code",
   "execution_count": 265,
   "metadata": {},
   "outputs": [
    {
     "name": "stdout",
     "output_type": "stream",
     "text": [
      "Warning: recording is not filtered! It's recommended to filter the recording before exporting to phy.You can run spiketoolkit.preprocessing.bandpass_filter(recording, cache_to_file=True)\n",
      "RecordingExtractor is not dumpable and can't be processed in parallel\n"
     ]
    }
   ],
   "source": [
    "import spiketoolkit as st\n",
    "st = reload(st)\n",
    "st.postprocessing.export_to_phy(recording=spk_data_masked,sorting=out, output_folder=str(save_path), compute_pc_features=False, compute_amplitudes=False,max_channels_per_template=4, n_jobs=10)"
   ]
  },
  {
   "cell_type": "code",
   "execution_count": 268,
   "metadata": {},
   "outputs": [],
   "source": [
    "updated_file_header_path = Path(active_subtask['save_path'], Path(active_subtask['file_header_path']).name)\n",
    "with updated_file_header_path.open(mode='wb') as file_handle:\n",
    "    pickle.dump(data_info, file_handle, protocol = pickle.HIGHEST_PROTOCOL )"
   ]
  },
  {
   "cell_type": "code",
   "execution_count": 267,
   "metadata": {},
   "outputs": [
    {
     "data": {
      "text/plain": [
       "PosixPath('/Data_SSD2T/Data/Sorted/Li/Li_T3g_052818/tt_2/tt_2_info.pickle')"
      ]
     },
     "execution_count": 267,
     "metadata": {},
     "output_type": "execute_result"
    }
   ],
   "source": [
    "updated_file_header_path"
   ]
  },
  {
   "cell_type": "code",
   "execution_count": 271,
   "metadata": {},
   "outputs": [],
   "source": [
    "sf = reload(sf)\n",
    "cluster_stats = sf.get_cluster_stats(out, spk_data_masked.get_traces(), data_info)\n",
    "cluster_stats_file_path = Path(save_path,'cluster_stats.csv')\n",
    "cluster_stats.to_csv( cluster_stats_file_path)"
   ]
  },
  {
   "cell_type": "code",
   "execution_count": 262,
   "metadata": {},
   "outputs": [
    {
     "data": {
      "text/html": [
       "<div>\n",
       "<style scoped>\n",
       "    .dataframe tbody tr th:only-of-type {\n",
       "        vertical-align: middle;\n",
       "    }\n",
       "\n",
       "    .dataframe tbody tr th {\n",
       "        vertical-align: top;\n",
       "    }\n",
       "\n",
       "    .dataframe thead th {\n",
       "        text-align: right;\n",
       "    }\n",
       "</style>\n",
       "<table border=\"1\" class=\"dataframe\">\n",
       "  <thead>\n",
       "    <tr style=\"text-align: right;\">\n",
       "      <th></th>\n",
       "      <th>cl_num</th>\n",
       "      <th>sorter</th>\n",
       "      <th>fr</th>\n",
       "      <th>isi_viol_rate</th>\n",
       "      <th>n_spikes</th>\n",
       "      <th>n_isi_viol</th>\n",
       "      <th>snr</th>\n",
       "      <th>amp_ch</th>\n",
       "      <th>amp_med_ch</th>\n",
       "      <th>amp_mad_ch</th>\n",
       "      <th>valid</th>\n",
       "      <th>tt</th>\n",
       "    </tr>\n",
       "  </thead>\n",
       "  <tbody>\n",
       "    <tr>\n",
       "      <th>KS2_0</th>\n",
       "      <td>0.0</td>\n",
       "      <td>KS2</td>\n",
       "      <td>3.438736</td>\n",
       "      <td>0.055465</td>\n",
       "      <td>5243.0</td>\n",
       "      <td>2.0</td>\n",
       "      <td>3.026040</td>\n",
       "      <td>0.0</td>\n",
       "      <td>8.336386</td>\n",
       "      <td>2.318708</td>\n",
       "      <td>False</td>\n",
       "      <td>2</td>\n",
       "    </tr>\n",
       "    <tr>\n",
       "      <th>KS2_1</th>\n",
       "      <td>1.0</td>\n",
       "      <td>KS2</td>\n",
       "      <td>3.414469</td>\n",
       "      <td>0.028128</td>\n",
       "      <td>5206.0</td>\n",
       "      <td>1.0</td>\n",
       "      <td>2.057627</td>\n",
       "      <td>2.0</td>\n",
       "      <td>16.176605</td>\n",
       "      <td>7.001418</td>\n",
       "      <td>False</td>\n",
       "      <td>2</td>\n",
       "    </tr>\n",
       "    <tr>\n",
       "      <th>KS2_2</th>\n",
       "      <td>2.0</td>\n",
       "      <td>KS2</td>\n",
       "      <td>1.964992</td>\n",
       "      <td>0.339725</td>\n",
       "      <td>2996.0</td>\n",
       "      <td>4.0</td>\n",
       "      <td>1.057455</td>\n",
       "      <td>0.0</td>\n",
       "      <td>2.913165</td>\n",
       "      <td>2.897693</td>\n",
       "      <td>False</td>\n",
       "      <td>2</td>\n",
       "    </tr>\n",
       "    <tr>\n",
       "      <th>KS2_3</th>\n",
       "      <td>3.0</td>\n",
       "      <td>KS2</td>\n",
       "      <td>3.150809</td>\n",
       "      <td>0.066066</td>\n",
       "      <td>4804.0</td>\n",
       "      <td>2.0</td>\n",
       "      <td>1.927785</td>\n",
       "      <td>2.0</td>\n",
       "      <td>15.155817</td>\n",
       "      <td>7.086122</td>\n",
       "      <td>False</td>\n",
       "      <td>2</td>\n",
       "    </tr>\n",
       "    <tr>\n",
       "      <th>KS2_4</th>\n",
       "      <td>4.0</td>\n",
       "      <td>KS2</td>\n",
       "      <td>3.409878</td>\n",
       "      <td>0.028204</td>\n",
       "      <td>5199.0</td>\n",
       "      <td>1.0</td>\n",
       "      <td>1.769928</td>\n",
       "      <td>3.0</td>\n",
       "      <td>13.650940</td>\n",
       "      <td>7.030299</td>\n",
       "      <td>False</td>\n",
       "      <td>2</td>\n",
       "    </tr>\n",
       "    <tr>\n",
       "      <th>KS2_5</th>\n",
       "      <td>5.0</td>\n",
       "      <td>KS2</td>\n",
       "      <td>2.526419</td>\n",
       "      <td>0.154134</td>\n",
       "      <td>3852.0</td>\n",
       "      <td>3.0</td>\n",
       "      <td>0.923358</td>\n",
       "      <td>3.0</td>\n",
       "      <td>7.121590</td>\n",
       "      <td>7.121590</td>\n",
       "      <td>False</td>\n",
       "      <td>2</td>\n",
       "    </tr>\n",
       "    <tr>\n",
       "      <th>KS2_6</th>\n",
       "      <td>6.0</td>\n",
       "      <td>KS2</td>\n",
       "      <td>2.552653</td>\n",
       "      <td>0.050327</td>\n",
       "      <td>3892.0</td>\n",
       "      <td>1.0</td>\n",
       "      <td>2.854847</td>\n",
       "      <td>2.0</td>\n",
       "      <td>22.444164</td>\n",
       "      <td>6.671808</td>\n",
       "      <td>False</td>\n",
       "      <td>2</td>\n",
       "    </tr>\n",
       "    <tr>\n",
       "      <th>KS2_7</th>\n",
       "      <td>7.0</td>\n",
       "      <td>KS2</td>\n",
       "      <td>3.241319</td>\n",
       "      <td>0.031214</td>\n",
       "      <td>4942.0</td>\n",
       "      <td>1.0</td>\n",
       "      <td>3.175373</td>\n",
       "      <td>3.0</td>\n",
       "      <td>24.490730</td>\n",
       "      <td>6.639705</td>\n",
       "      <td>False</td>\n",
       "      <td>2</td>\n",
       "    </tr>\n",
       "    <tr>\n",
       "      <th>KS2_8</th>\n",
       "      <td>8.0</td>\n",
       "      <td>KS2</td>\n",
       "      <td>4.074276</td>\n",
       "      <td>0.000000</td>\n",
       "      <td>6212.0</td>\n",
       "      <td>0.0</td>\n",
       "      <td>2.570149</td>\n",
       "      <td>2.0</td>\n",
       "      <td>20.205933</td>\n",
       "      <td>6.879059</td>\n",
       "      <td>False</td>\n",
       "      <td>2</td>\n",
       "    </tr>\n",
       "    <tr>\n",
       "      <th>KS2_9</th>\n",
       "      <td>9.0</td>\n",
       "      <td>KS2</td>\n",
       "      <td>4.844270</td>\n",
       "      <td>0.000000</td>\n",
       "      <td>7386.0</td>\n",
       "      <td>0.0</td>\n",
       "      <td>2.136969</td>\n",
       "      <td>3.0</td>\n",
       "      <td>16.481819</td>\n",
       "      <td>6.253567</td>\n",
       "      <td>False</td>\n",
       "      <td>2</td>\n",
       "    </tr>\n",
       "    <tr>\n",
       "      <th>KS2_10</th>\n",
       "      <td>10.0</td>\n",
       "      <td>KS2</td>\n",
       "      <td>2.589382</td>\n",
       "      <td>0.097820</td>\n",
       "      <td>3948.0</td>\n",
       "      <td>2.0</td>\n",
       "      <td>3.183231</td>\n",
       "      <td>3.0</td>\n",
       "      <td>24.551338</td>\n",
       "      <td>6.243221</td>\n",
       "      <td>False</td>\n",
       "      <td>2</td>\n",
       "    </tr>\n",
       "    <tr>\n",
       "      <th>KS2_11</th>\n",
       "      <td>11.0</td>\n",
       "      <td>KS2</td>\n",
       "      <td>6.179625</td>\n",
       "      <td>0.000000</td>\n",
       "      <td>9422.0</td>\n",
       "      <td>0.0</td>\n",
       "      <td>2.565986</td>\n",
       "      <td>3.0</td>\n",
       "      <td>19.790710</td>\n",
       "      <td>6.444196</td>\n",
       "      <td>False</td>\n",
       "      <td>2</td>\n",
       "    </tr>\n",
       "    <tr>\n",
       "      <th>KS2_12</th>\n",
       "      <td>12.0</td>\n",
       "      <td>KS2</td>\n",
       "      <td>2.652346</td>\n",
       "      <td>0.046615</td>\n",
       "      <td>4044.0</td>\n",
       "      <td>1.0</td>\n",
       "      <td>1.914467</td>\n",
       "      <td>3.0</td>\n",
       "      <td>14.765728</td>\n",
       "      <td>6.704118</td>\n",
       "      <td>False</td>\n",
       "      <td>2</td>\n",
       "    </tr>\n",
       "    <tr>\n",
       "      <th>KS2_13</th>\n",
       "      <td>13.0</td>\n",
       "      <td>KS2</td>\n",
       "      <td>6.748922</td>\n",
       "      <td>0.021599</td>\n",
       "      <td>10290.0</td>\n",
       "      <td>3.0</td>\n",
       "      <td>2.253090</td>\n",
       "      <td>3.0</td>\n",
       "      <td>17.377434</td>\n",
       "      <td>6.599036</td>\n",
       "      <td>False</td>\n",
       "      <td>2</td>\n",
       "    </tr>\n",
       "    <tr>\n",
       "      <th>KS2_14</th>\n",
       "      <td>14.0</td>\n",
       "      <td>KS2</td>\n",
       "      <td>2.799261</td>\n",
       "      <td>0.083701</td>\n",
       "      <td>4268.0</td>\n",
       "      <td>2.0</td>\n",
       "      <td>2.559399</td>\n",
       "      <td>3.0</td>\n",
       "      <td>19.739904</td>\n",
       "      <td>6.378033</td>\n",
       "      <td>False</td>\n",
       "      <td>2</td>\n",
       "    </tr>\n",
       "    <tr>\n",
       "      <th>KS2_15</th>\n",
       "      <td>15.0</td>\n",
       "      <td>KS2</td>\n",
       "      <td>3.249189</td>\n",
       "      <td>0.093188</td>\n",
       "      <td>4954.0</td>\n",
       "      <td>3.0</td>\n",
       "      <td>3.182204</td>\n",
       "      <td>3.0</td>\n",
       "      <td>24.543419</td>\n",
       "      <td>6.669811</td>\n",
       "      <td>False</td>\n",
       "      <td>2</td>\n",
       "    </tr>\n",
       "  </tbody>\n",
       "</table>\n",
       "</div>"
      ],
      "text/plain": [
       "        cl_num sorter        fr  isi_viol_rate  n_spikes  n_isi_viol  \\\n",
       "KS2_0      0.0    KS2  3.438736       0.055465    5243.0         2.0   \n",
       "KS2_1      1.0    KS2  3.414469       0.028128    5206.0         1.0   \n",
       "KS2_2      2.0    KS2  1.964992       0.339725    2996.0         4.0   \n",
       "KS2_3      3.0    KS2  3.150809       0.066066    4804.0         2.0   \n",
       "KS2_4      4.0    KS2  3.409878       0.028204    5199.0         1.0   \n",
       "KS2_5      5.0    KS2  2.526419       0.154134    3852.0         3.0   \n",
       "KS2_6      6.0    KS2  2.552653       0.050327    3892.0         1.0   \n",
       "KS2_7      7.0    KS2  3.241319       0.031214    4942.0         1.0   \n",
       "KS2_8      8.0    KS2  4.074276       0.000000    6212.0         0.0   \n",
       "KS2_9      9.0    KS2  4.844270       0.000000    7386.0         0.0   \n",
       "KS2_10    10.0    KS2  2.589382       0.097820    3948.0         2.0   \n",
       "KS2_11    11.0    KS2  6.179625       0.000000    9422.0         0.0   \n",
       "KS2_12    12.0    KS2  2.652346       0.046615    4044.0         1.0   \n",
       "KS2_13    13.0    KS2  6.748922       0.021599   10290.0         3.0   \n",
       "KS2_14    14.0    KS2  2.799261       0.083701    4268.0         2.0   \n",
       "KS2_15    15.0    KS2  3.249189       0.093188    4954.0         3.0   \n",
       "\n",
       "             snr  amp_ch  amp_med_ch  amp_mad_ch  valid  tt  \n",
       "KS2_0   3.026040     0.0    8.336386    2.318708  False   2  \n",
       "KS2_1   2.057627     2.0   16.176605    7.001418  False   2  \n",
       "KS2_2   1.057455     0.0    2.913165    2.897693  False   2  \n",
       "KS2_3   1.927785     2.0   15.155817    7.086122  False   2  \n",
       "KS2_4   1.769928     3.0   13.650940    7.030299  False   2  \n",
       "KS2_5   0.923358     3.0    7.121590    7.121590  False   2  \n",
       "KS2_6   2.854847     2.0   22.444164    6.671808  False   2  \n",
       "KS2_7   3.175373     3.0   24.490730    6.639705  False   2  \n",
       "KS2_8   2.570149     2.0   20.205933    6.879059  False   2  \n",
       "KS2_9   2.136969     3.0   16.481819    6.253567  False   2  \n",
       "KS2_10  3.183231     3.0   24.551338    6.243221  False   2  \n",
       "KS2_11  2.565986     3.0   19.790710    6.444196  False   2  \n",
       "KS2_12  1.914467     3.0   14.765728    6.704118  False   2  \n",
       "KS2_13  2.253090     3.0   17.377434    6.599036  False   2  \n",
       "KS2_14  2.559399     3.0   19.739904    6.378033  False   2  \n",
       "KS2_15  3.182204     3.0   24.543419    6.669811  False   2  "
      ]
     },
     "execution_count": 262,
     "metadata": {},
     "output_type": "execute_result"
    }
   ],
   "source": [
    "cluster_stats['tt']=2\n",
    "cluster_stats\n"
   ]
  },
  {
   "cell_type": "code",
   "execution_count": 259,
   "metadata": {},
   "outputs": [
    {
     "data": {
      "text/plain": [
       "'2'"
      ]
     },
     "execution_count": 259,
     "metadata": {},
     "output_type": "execute_result"
    }
   ],
   "source": [
    "data_info['tt_num']"
   ]
  },
  {
   "cell_type": "code",
   "execution_count": null,
   "metadata": {},
   "outputs": [],
   "source": [
    "n_tt = 16\n",
    "n_tt_ch = 4\n",
    "\n",
    "channel_groups = {}\n",
    "    for tt in np.arange"
   ]
  },
  {
   "cell_type": "code",
   "execution_count": 83,
   "metadata": {},
   "outputs": [
    {
     "data": {
      "text/plain": [
       "<matplotlib.collections.PathCollection at 0x7f050f8e7fd0>"
      ]
     },
     "execution_count": 83,
     "metadata": {},
     "output_type": "execute_result"
    },
    {
     "data": {
      "image/png": "[encoded data removed]",
      "text/plain": [
       "<Figure size 432x288 with 1 Axes>"
      ]
     },
     "metadata": {
      "needs_background": "light"
     },
     "output_type": "display_data"
    }
   ],
   "source": [
    "%matplotlib inline\n",
    "import matplotlib.pyplot as plt\n",
    "a = 1.5\n",
    "b = -2.4\n",
    "t = np.linspace(0,20*np.pi,500)\n",
    "x = (a + b*t) * np.cos(t)\n",
    "y = (a + b*t) * np.sin(t)\n",
    "plt.plot(x, y)#, col=2, lwd=3)\n",
    "\n",
    "locs = np.arange(0,n,np.int(n/16))\n",
    "\n",
    "plt.scatter(x[locs],y[locs])\n",
    "\n",
    "#abline(h=0, v=0, col=\"grey\")"
   ]
  },
  {
   "cell_type": "code",
   "execution_count": 130,
   "metadata": {},
   "outputs": [],
   "source": [
    "def circ_points(r, n_points):\n",
    "    \n",
    "    n_samps = 1000\n",
    "    interval = np.int(np.floor(n_samps/n_points))\n",
    "    samps = np.mod(np.arange(n_samps)+np.random.randint(n_samps),n_samps)[::interval]\n",
    "    samps = samps[:n_points]\n",
    "    \n",
    "    th = np.linspace(0,2*np.pi,n_samps)\n",
    "    x = r*np.cos(th)\n",
    "    y = r*np.sin(th)\n",
    "    \n",
    "    return x[samps], y[samps]"
   ]
  },
  {
   "cell_type": "code",
   "execution_count": 219,
   "metadata": {},
   "outputs": [
    {
     "data": {
      "text/plain": [
       "(-674.9283587427475, 974.0829580122748, -878.9126484473348, 833.6475351203056)"
      ]
     },
     "execution_count": 219,
     "metadata": {},
     "output_type": "execute_result"
    },
    {
     "data": {
      "image/png": "[encoded data removed]",
      "text/plain": [
       "<Figure size 432x288 with 1 Axes>"
      ]
     },
     "metadata": {
      "needs_background": "light"
     },
     "output_type": "display_data"
    }
   ],
   "source": [
    "n_tt = 16\n",
    "n_points = [1,4,8,3]\n",
    "n_radii = 4\n",
    "scale = 300\n",
    "radii = np.arange(n_radii)*scale\n",
    "tt_centers = np.zeros((n_tt,2))\n",
    "\n",
    "x_points = []\n",
    "y_points = []\n",
    "idx_e = np.cumsum(np.array(n_points)).astype(int)\n",
    "idx_s = np.concatenate((np.zeros(1),idx_e[:-1])).astype(int)\n",
    "for ii,r in enumerate(radii):\n",
    "    x,y = circ_points(r,n_points[ii])\n",
    "    tt_centers[idx_s[ii]:idx_e[ii],0] = x\n",
    "    tt_centers[idx_s[ii]:idx_e[ii],1] = y\n",
    "    \n",
    "\n",
    "    \n",
    "#plt.scatter(tt_centers)\n",
    "# plt.scatter(*circ_points(1,4))\n",
    "# plt.scatter(*circ_points(2,8))\n",
    "# plt.scatter(*circ_points(3,3))\n",
    "plt.scatter(tt_centers[:,0],tt_centers[:,1])\n",
    "plt.axis('equal')\n",
    "\n"
   ]
  },
  {
   "cell_type": "code",
   "execution_count": 171,
   "metadata": {},
   "outputs": [
    {
     "name": "stdout",
     "output_type": "stream",
     "text": [
      "8 13\n"
     ]
    },
    {
     "data": {
      "text/plain": [
       "array([ 7,  8,  9, 10, 11, 12])"
      ]
     },
     "execution_count": 171,
     "metadata": {},
     "output_type": "execute_result"
    }
   ],
   "source": [
    "ii=2\n",
    "print(n_points[ii],np.sum(n_points[:ii+1]))\n",
    "np.arange(n_points[ii],np.sum(n_points[:ii+1]))"
   ]
  },
  {
   "cell_type": "code",
   "execution_count": 199,
   "metadata": {},
   "outputs": [
    {
     "data": {
      "text/plain": [
       "(array([ 202.32162335,   99.39595115, -202.01104708,  -98.76067972]),\n",
       " array([ -98.44267735,  201.85500959,   99.07843791, -202.16658513]))"
      ]
     },
     "execution_count": 199,
     "metadata": {},
     "output_type": "execute_result"
    }
   ],
   "source": [
    "circ_points(scale*0.75,4)"
   ]
  },
  {
   "cell_type": "code",
   "execution_count": 242,
   "metadata": {},
   "outputs": [],
   "source": [
    "chan_locs = {}\n",
    "for tt in range(n_tt):\n",
    "    x,y = circ_points(scale*0.1,4)\n",
    "    x+=tt_centers[tt][0]\n",
    "    y+=tt_centers[tt][1]\n",
    "    z=np.stack((x,y)).T\n",
    "    chan_locs[tt] = [ list(xy.astype(int)) for xy in z]\n"
   ]
  },
  {
   "cell_type": "code",
   "execution_count": 243,
   "metadata": {},
   "outputs": [
    {
     "data": {
      "text/plain": [
       "{0: [[-29, -2], [2, -29], [29, 2], [-2, 29]],\n",
       " 1: [[198, 246], [177, 209], [214, 188], [235, 225]],\n",
       " 2: [[-188, 199], [-211, 235], [-247, 212], [-224, 176]],\n",
       " 3: [[-202, -247], [-176, -214], [-209, -188], [-235, -221]],\n",
       " 4: [[197, -184], [197, -226], [239, -226], [239, -184]],\n",
       " 5: [[-442, 408], [-400, 405], [-397, 448], [-439, 451]],\n",
       " 6: [[-571, -5], [-589, 33], [-627, 16], [-610, -22]],\n",
       " 7: [[-425, -450], [-397, -418], [-430, -390], [-457, -422]],\n",
       " 8: [[12, -624], [20, -583], [-21, -575], [-29, -616]],\n",
       " 9: [[446, -443], [437, -402], [396, -410], [404, -452]],\n",
       " 10: [[588, 23], [572, -15], [612, -31], [627, 8]],\n",
       " 11: [[418, 447], [401, 408], [440, 391], [457, 429]],\n",
       " 12: [[10, 629], [-23, 603], [2, 570], [36, 596]],\n",
       " 13: [[-466, 735], [-468, 777], [-510, 776], [-508, 733]],\n",
       " 14: [[-380, -805], [-405, -771], [-439, -796], [-415, -830]],\n",
       " 15: [[870, 32], [906, 10], [928, 46], [891, 68]]}"
      ]
     },
     "execution_count": 243,
     "metadata": {},
     "output_type": "execute_result"
    }
   ],
   "source": [
    "chan_locs"
   ]
  },
  {
   "cell_type": "code",
   "execution_count": 249,
   "metadata": {},
   "outputs": [
    {
     "data": {
      "text/plain": [
       "{0: {'channels': [0, 1, 2, 3],\n",
       "  'label': ['ch_0', 'ch_1', 'ch_2', 'ch_3'],\n",
       "  'geometry': [[-29, -2], [2, -29], [29, 2], [-2, 29]]},\n",
       " 1: {'channels': [4, 5, 6, 7],\n",
       "  'label': ['ch_4', 'ch_5', 'ch_6', 'ch_7'],\n",
       "  'geometry': [[198, 246], [177, 209], [214, 188], [235, 225]]},\n",
       " 2: {'channels': [8, 9, 10, 11],\n",
       "  'label': ['ch_8', 'ch_9', 'ch_10', 'ch_11'],\n",
       "  'geometry': [[-188, 199], [-211, 235], [-247, 212], [-224, 176]]},\n",
       " 3: {'channels': [12, 13, 14, 15],\n",
       "  'label': ['ch_12', 'ch_13', 'ch_14', 'ch_15'],\n",
       "  'geometry': [[-202, -247], [-176, -214], [-209, -188], [-235, -221]]},\n",
       " 4: {'channels': [16, 17, 18, 19],\n",
       "  'label': ['ch_16', 'ch_17', 'ch_18', 'ch_19'],\n",
       "  'geometry': [[197, -184], [197, -226], [239, -226], [239, -184]]},\n",
       " 5: {'channels': [20, 21, 22, 23],\n",
       "  'label': ['ch_20', 'ch_21', 'ch_22', 'ch_23'],\n",
       "  'geometry': [[-442, 408], [-400, 405], [-397, 448], [-439, 451]]},\n",
       " 6: {'channels': [24, 25, 26, 27],\n",
       "  'label': ['ch_24', 'ch_25', 'ch_26', 'ch_27'],\n",
       "  'geometry': [[-571, -5], [-589, 33], [-627, 16], [-610, -22]]},\n",
       " 7: {'channels': [28, 29, 30, 31],\n",
       "  'label': ['ch_28', 'ch_29', 'ch_30', 'ch_31'],\n",
       "  'geometry': [[-425, -450], [-397, -418], [-430, -390], [-457, -422]]},\n",
       " 8: {'channels': [32, 33, 34, 35],\n",
       "  'label': ['ch_32', 'ch_33', 'ch_34', 'ch_35'],\n",
       "  'geometry': [[12, -624], [20, -583], [-21, -575], [-29, -616]]},\n",
       " 9: {'channels': [36, 37, 38, 39],\n",
       "  'label': ['ch_36', 'ch_37', 'ch_38', 'ch_39'],\n",
       "  'geometry': [[446, -443], [437, -402], [396, -410], [404, -452]]},\n",
       " 10: {'channels': [40, 41, 42, 43],\n",
       "  'label': ['ch_40', 'ch_41', 'ch_42', 'ch_43'],\n",
       "  'geometry': [[588, 23], [572, -15], [612, -31], [627, 8]]},\n",
       " 11: {'channels': [44, 45, 46, 47],\n",
       "  'label': ['ch_44', 'ch_45', 'ch_46', 'ch_47'],\n",
       "  'geometry': [[418, 447], [401, 408], [440, 391], [457, 429]]},\n",
       " 12: {'channels': [48, 49, 50, 51],\n",
       "  'label': ['ch_48', 'ch_49', 'ch_50', 'ch_51'],\n",
       "  'geometry': [[10, 629], [-23, 603], [2, 570], [36, 596]]},\n",
       " 13: {'channels': [52, 53, 54, 55],\n",
       "  'label': ['ch_52', 'ch_53', 'ch_54', 'ch_55'],\n",
       "  'geometry': [[-466, 735], [-468, 777], [-510, 776], [-508, 733]]},\n",
       " 14: {'channels': [56, 57, 58, 59],\n",
       "  'label': ['ch_56', 'ch_57', 'ch_58', 'ch_59'],\n",
       "  'geometry': [[-380, -805], [-405, -771], [-439, -796], [-415, -830]]},\n",
       " 15: {'channels': [60, 61, 62, 63],\n",
       "  'label': ['ch_60', 'ch_61', 'ch_62', 'ch_63'],\n",
       "  'geometry': [[870, 32], [906, 10], [928, 46], [891, 68]]}}"
      ]
     },
     "execution_count": 249,
     "metadata": {},
     "output_type": "execute_result"
    }
   ],
   "source": [
    "channel_groups = {}\n",
    "for tt in range(n_tt):\n",
    "    channels = np.arange(4,dtype=int)+4*tt\n",
    "    channel_groups[tt] = {'channels':[],'label':[],'geometry':[]}\n",
    "    channel_groups[tt]['channels'] = list(channels)\n",
    "    channel_groups[tt]['label'] = ['ch_{}'.format(ch) for ch in channels]\n",
    "    channel_groups[tt]['geometry'] = chan_locs[tt]\n",
    "    \n",
    "    \n",
    "channel_groups"
   ]
  },
  {
   "cell_type": "code",
   "execution_count": null,
   "metadata": {},
   "outputs": [],
   "source": []
  }
 ],
 "metadata": {
  "kernelspec": {
   "display_name": "Python 3",
   "language": "python",
   "name": "python3"
  },
  "language_info": {
   "codemirror_mode": {
    "name": "ipython",
    "version": 3
   },
   "file_extension": ".py",
   "mimetype": "text/x-python",
   "name": "python",
   "nbconvert_exporter": "python",
   "pygments_lexer": "ipython3",
   "version": "3.7.0"
  }
 },
 "nbformat": 4,
 "nbformat_minor": 4
}
