{
 "cells": [
  {
   "cell_type": "code",
   "execution_count": 23,
   "metadata": {},
   "outputs": [],
   "source": [
    "import numpy as np\n",
    "import json\n",
    "\n",
    "\n",
    "class NpEncoder(json.JSONEncoder):\n",
    "    def default(self, obj):\n",
    "        if isinstance(obj, np.integer):\n",
    "            return int(obj)\n",
    "        elif isinstance(obj, np.floating):\n",
    "            return float(obj)\n",
    "        elif isinstance(obj, np.ndarray):\n",
    "            return obj.tolist()\n",
    "        else:\n",
    "            return super(NpEncoder, self).default(obj)\n"
   ]
  },
  {
   "cell_type": "code",
   "execution_count": 2,
   "metadata": {},
   "outputs": [],
   "source": [
    "def circ_points(r, n_points):\n",
    "    \n",
    "    n_samps = 1000\n",
    "    interval = np.int(np.floor(n_samps/n_points))\n",
    "    samps = np.mod(np.arange(n_samps)+np.random.randint(n_samps),n_samps)[::interval]\n",
    "    samps = samps[:n_points]\n",
    "    \n",
    "    th = np.linspace(0,2*np.pi,n_samps)\n",
    "    x = r*np.cos(th)\n",
    "    y = r*np.sin(th)\n",
    "    \n",
    "    return x[samps], y[samps]"
   ]
  },
  {
   "cell_type": "code",
   "execution_count": 19,
   "metadata": {},
   "outputs": [],
   "source": [
    "n_tt = 16\n",
    "n_points = [1,4,8,3]\n",
    "n_radii = 4\n",
    "scale = 300\n",
    "radii = np.arange(n_radii)*scale\n",
    "tt_centers = np.zeros((n_tt,2))\n",
    "\n",
    "x_points = []\n",
    "y_points = []\n",
    "idx_e = np.cumsum(np.array(n_points)).astype(int)\n",
    "idx_s = np.concatenate((np.zeros(1),idx_e[:-1])).astype(int)\n",
    "for ii,r in enumerate(radii):\n",
    "    x,y = circ_points(r,n_points[ii])\n",
    "    tt_centers[idx_s[ii]:idx_e[ii],0] = x\n",
    "    tt_centers[idx_s[ii]:idx_e[ii],1] = y\n",
    "    \n",
    "chan_locs = {}\n",
    "for tt in range(n_tt):\n",
    "    x,y = circ_points(scale*0.1,4)\n",
    "    x+=tt_centers[tt][0]\n",
    "    y+=tt_centers[tt][1]\n",
    "    z=np.stack((x,y)).T\n",
    "    chan_locs[tt] = [ list(xy.astype(int)) for xy in z]\n",
    "    \n"
   ]
  },
  {
   "cell_type": "code",
   "execution_count": 28,
   "metadata": {},
   "outputs": [
    {
     "name": "stdout",
     "output_type": "stream",
     "text": [
      "{0: {'channels': [0, 1, 2, 3], 'label': ['ch_0', 'ch_1', 'ch_2', 'ch_3'], 'geometry': [[4, 29], [-29, 4], [-4, -29], [29, -4]]}, 1: {'channels': [4, 5, 6, 7], 'label': ['ch_4', 'ch_5', 'ch_6', 'ch_7'], 'geometry': [[250, 209], [210, 194], [225, 155], [265, 170]]}, 2: {'channels': [8, 9, 10, 11], 'label': ['ch_8', 'ch_9', 'ch_10', 'ch_11'], 'geometry': [[-175, 266], [-212, 244], [-189, 208], [-153, 230]]}, 3: {'channels': [12, 13, 14, 15], 'label': ['ch_12', 'ch_13', 'ch_14', 'ch_15'], 'geometry': [[-267, -186], [-233, -213], [-207, -179], [-240, -153]]}, 4: {'channels': [16, 17, 18, 19], 'label': ['ch_16', 'ch_17', 'ch_18', 'ch_19'], 'geometry': [[213, -231], [177, -207], [154, -243], [189, -266]]}, 5: {'channels': [20, 21, 22, 23], 'label': ['ch_20', 'ch_21', 'ch_22', 'ch_23'], 'geometry': [[-306, 531], [-348, 521], [-338, 480], [-297, 490]]}, 6: {'channels': [24, 25, 26, 27], 'label': ['ch_24', 'ch_25', 'ch_26', 'ch_27'], 'geometry': [[-593, 100], [-557, 121], [-577, 158], [-614, 137]]}, 7: {'channels': [28, 29, 30, 31], 'label': ['ch_28', 'ch_29', 'ch_30', 'ch_31'], 'geometry': [[-529, -340], [-487, -347], [-481, -305], [-522, -299]]}, 8: {'channels': [32, 33, 34, 35], 'label': ['ch_32', 'ch_33', 'ch_34', 'ch_35'], 'geometry': [[-129, -556], [-158, -587], [-126, -616], [-98, -584]]}, 9: {'channels': [36, 37, 38, 39], 'label': ['ch_36', 'ch_37', 'ch_38', 'ch_39'], 'geometry': [[305, -528], [347, -523], [342, -481], [300, -486]]}, 10: {'channels': [40, 41, 42, 43], 'label': ['ch_40', 'ch_41', 'ch_42', 'ch_43'], 'geometry': [[591, -156], [615, -122], [581, -97], [556, -132]]}, 11: {'channels': [44, 45, 46, 47], 'label': ['ch_44', 'ch_45', 'ch_46', 'ch_47'], 'geometry': [[480, 337], [490, 296], [531, 306], [522, 347]]}, 12: {'channels': [48, 49, 50, 51], 'label': ['ch_48', 'ch_49', 'ch_50', 'ch_51'], 'geometry': [[102, 573], [142, 558], [157, 597], [118, 613]]}, 13: {'channels': [52, 53, 54, 55], 'label': ['ch_52', 'ch_53', 'ch_54', 'ch_55'], 'geometry': [[147, 857], [180, 884], [153, 917], [120, 890]]}, 14: {'channels': [56, 57, 58, 59], 'label': ['ch_56', 'ch_57', 'ch_58', 'ch_59'], 'geometry': [[-866, -294], [-862, -336], [-820, -332], [-824, -289]]}, 15: {'channels': [60, 61, 62, 63], 'label': ['ch_60', 'ch_61', 'ch_62', 'ch_63'], 'geometry': [[663, -580], [699, -603], [722, -567], [686, -544]]}}\n"
     ]
    }
   ],
   "source": [
    "channel_groups = {}\n",
    "for tt in range(n_tt):\n",
    "    channels = np.arange(4,dtype=int)+4*tt\n",
    "    channel_groups[tt] = {'channels':[],'label':[],'geometry':[]}\n",
    "    channel_groups[tt]['channels'] = list(channels)\n",
    "    channel_groups[tt]['label'] = ['ch_{}'.format(ch) for ch in channels]\n",
    "    channel_groups[tt]['geometry'] = chan_locs[tt]\n",
    "    \n",
    "    \n",
    "with open('tetrode_16.prb','w') as f:\n",
    "    json.dump(channel_groups,f,indent=4, cls=NpEncoder)\n",
    "             \n",
    "print(channel_groups)"
   ]
  },
  {
   "cell_type": "code",
   "execution_count": 22,
   "metadata": {},
   "outputs": [
    {
     "data": {
      "text/plain": [
       "{'0': {'channels': [0, 1, 2, 3],\n",
       "  'label': ['ch_0', 'ch_1', 'ch_2', 'ch_3'],\n",
       "  'geometry': [[4, 29], [-29, 4], [-4, -29], [29, -4]]},\n",
       " '1': {'channels': [4, 5, 6, 7],\n",
       "  'label': ['ch_4', 'ch_5', 'ch_6', 'ch_7'],\n",
       "  'geometry': [[250, 209], [210, 194], [225, 155], [265, 170]]},\n",
       " '2': {'channels': [8, 9, 10, 11],\n",
       "  'label': ['ch_8', 'ch_9', 'ch_10', 'ch_11'],\n",
       "  'geometry': [[-175, 266], [-212, 244], [-189, 208], [-153, 230]]},\n",
       " '3': {'channels': [12, 13, 14, 15],\n",
       "  'label': ['ch_12', 'ch_13', 'ch_14', 'ch_15'],\n",
       "  'geometry': [[-267, -186], [-233, -213], [-207, -179], [-240, -153]]},\n",
       " '4': {'channels': [16, 17, 18, 19],\n",
       "  'label': ['ch_16', 'ch_17', 'ch_18', 'ch_19'],\n",
       "  'geometry': [[213, -231], [177, -207], [154, -243], [189, -266]]},\n",
       " '5': {'channels': [20, 21, 22, 23],\n",
       "  'label': ['ch_20', 'ch_21', 'ch_22', 'ch_23'],\n",
       "  'geometry': [[-306, 531], [-348, 521], [-338, 480], [-297, 490]]},\n",
       " '6': {'channels': [24, 25, 26, 27],\n",
       "  'label': ['ch_24', 'ch_25', 'ch_26', 'ch_27'],\n",
       "  'geometry': [[-593, 100], [-557, 121], [-577, 158], [-614, 137]]},\n",
       " '7': {'channels': [28, 29, 30, 31],\n",
       "  'label': ['ch_28', 'ch_29', 'ch_30', 'ch_31'],\n",
       "  'geometry': [[-529, -340], [-487, -347], [-481, -305], [-522, -299]]},\n",
       " '8': {'channels': [32, 33, 34, 35],\n",
       "  'label': ['ch_32', 'ch_33', 'ch_34', 'ch_35'],\n",
       "  'geometry': [[-129, -556], [-158, -587], [-126, -616], [-98, -584]]},\n",
       " '9': {'channels': [36, 37, 38, 39],\n",
       "  'label': ['ch_36', 'ch_37', 'ch_38', 'ch_39'],\n",
       "  'geometry': [[305, -528], [347, -523], [342, -481], [300, -486]]},\n",
       " '10': {'channels': [40, 41, 42, 43],\n",
       "  'label': ['ch_40', 'ch_41', 'ch_42', 'ch_43'],\n",
       "  'geometry': [[591, -156], [615, -122], [581, -97], [556, -132]]},\n",
       " '11': {'channels': [44, 45, 46, 47],\n",
       "  'label': ['ch_44', 'ch_45', 'ch_46', 'ch_47'],\n",
       "  'geometry': [[480, 337], [490, 296], [531, 306], [522, 347]]},\n",
       " '12': {'channels': [48, 49, 50, 51],\n",
       "  'label': ['ch_48', 'ch_49', 'ch_50', 'ch_51'],\n",
       "  'geometry': [[102, 573], [142, 558], [157, 597], [118, 613]]},\n",
       " '13': {'channels': [52, 53, 54, 55],\n",
       "  'label': ['ch_52', 'ch_53', 'ch_54', 'ch_55'],\n",
       "  'geometry': [[147, 857], [180, 884], [153, 917], [120, 890]]},\n",
       " '14': {'channels': [56, 57, 58, 59],\n",
       "  'label': ['ch_56', 'ch_57', 'ch_58', 'ch_59'],\n",
       "  'geometry': [[-866, -294], [-862, -336], [-820, -332], [-824, -289]]},\n",
       " '15': {'channels': [60, 61, 62, 63],\n",
       "  'label': ['ch_60', 'ch_61', 'ch_62', 'ch_63'],\n",
       "  'geometry': [[663, -580], [699, -603], [722, -567], [686, -544]]}}"
      ]
     },
     "execution_count": 22,
     "metadata": {},
     "output_type": "execute_result"
    }
   ],
   "source": [
    "channel_groups"
   ]
  },
  {
   "cell_type": "code",
   "execution_count": 7,
   "metadata": {},
   "outputs": [],
   "source": [
    "import matplotlib.pyplot as plt\n",
    "%matplotlib inline"
   ]
  },
  {
   "cell_type": "code",
   "execution_count": 12,
   "metadata": {},
   "outputs": [
    {
     "data": {
      "image/png": "[encoded data removed]",
      "text/plain": [
       "<Figure size 432x288 with 1 Axes>"
      ]
     },
     "metadata": {
      "needs_background": "light"
     },
     "output_type": "display_data"
    }
   ],
   "source": [
    "for tt in range(n_tt):\n",
    "    plt.scatter(*tt_centers[tt])\n",
    "plt.axis('square')\n",
    "plt.grid()"
   ]
  },
  {
   "cell_type": "code",
   "execution_count": 14,
   "metadata": {},
   "outputs": [
    {
     "data": {
      "image/png": "[encoded data removed]",
      "text/plain": [
       "<Figure size 432x288 with 1 Axes>"
      ]
     },
     "metadata": {
      "needs_background": "light"
     },
     "output_type": "display_data"
    }
   ],
   "source": [
    "for tt in range(n_tt):\n",
    "    for xy in chan_locs[tt]:\n",
    "        plt.scatter(*xy)\n",
    "plt.axis('square')\n",
    "plt.grid()"
   ]
  }
 ],
 "metadata": {
  "kernelspec": {
   "display_name": "Python 3",
   "language": "python",
   "name": "python3"
  },
  "language_info": {
   "codemirror_mode": {
    "name": "ipython",
    "version": 3
   },
   "file_extension": ".py",
   "mimetype": "text/x-python",
   "name": "python",
   "nbconvert_exporter": "python",
   "pygments_lexer": "ipython3",
   "version": "3.7.0"
  }
 },
 "nbformat": 4,
 "nbformat_minor": 4
}
